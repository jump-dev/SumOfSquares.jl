{
 "cells": [
  {
   "cell_type": "markdown",
   "source": [
    "# Certificate"
   ],
   "metadata": {}
  },
  {
   "cell_type": "markdown",
   "source": [
    "**Contributed by**: Benoît Legat"
   ],
   "metadata": {}
  },
  {
   "cell_type": "markdown",
   "source": [
    "## Introduction"
   ],
   "metadata": {}
  },
  {
   "cell_type": "markdown",
   "source": [
    "Consider the polynomial optimization problem (a variation from [L09, Example 2.2]) of\n",
    "minimizing the polynomial $x^3 - x^2 + 2xy - y^2 + y^3$\n",
    "over the polyhedron defined by the inequalities $x \\ge 0, y \\ge 0$ and $x + y \\geq 1$."
   ],
   "metadata": {}
  },
  {
   "cell_type": "markdown",
   "source": [
    "[L09] Lasserre, J. B.\n",
    "*Moments, positive polynomials and their applications*.\n",
    "World Scientific, **2009**."
   ],
   "metadata": {}
  },
  {
   "outputs": [
    {
     "output_type": "execute_result",
     "data": {
      "text/plain": "Basic semialgebraic Set defined by no equality\n3 inequalities\n x ≥ 0\n y ≥ 0\n -2 + y^2 + x^2 ≥ 0\n"
     },
     "metadata": {},
     "execution_count": 1
    }
   ],
   "cell_type": "code",
   "source": [
    "using DynamicPolynomials\n",
    "@polyvar x y\n",
    "p = x^3 - x^2 + 2x*y - y^2 + y^3 + x^3 * y\n",
    "using SumOfSquares\n",
    "S = @set x >= 0 && y >= 0 && x^2 + y^2 >= 2"
   ],
   "metadata": {},
   "execution_count": 1
  },
  {
   "cell_type": "markdown",
   "source": [
    "We will now see how to find the optimal solution using Sum of Squares Programming.\n",
    "We first need to pick an SDP solver, see [here](https://jump.dev/JuMP.jl/v1.12/installation/#Supported-solvers) for a list of the available choices.\n",
    "Note that SumOfSquares generates a *standard form* SDP (i.e., SDP variables\n",
    "and equality constraints) while SCS expects a *geometric form* SDP (i.e.,\n",
    "free variables and symmetric matrices depending affinely on these variables\n",
    "constrained to belong to the PSD cone).\n",
    "JuMP will transform the standard from to the geometric form will create the PSD\n",
    "variables as free variables and then constrain then to be PSD.\n",
    "While this will work, since the dual of a standard from is in in geometric form,\n",
    "dualizing the problem will generate a smaller SDP.\n",
    "We use therefore `Dualization.dual_optimizer` so that SCS solves the dual problem."
   ],
   "metadata": {}
  },
  {
   "outputs": [
    {
     "output_type": "execute_result",
     "data": {
      "text/plain": "#11 (generic function with 1 method)"
     },
     "metadata": {},
     "execution_count": 2
    }
   ],
   "cell_type": "code",
   "source": [
    "import SCS\n",
    "using Dualization\n",
    "solver = dual_optimizer(SCS.Optimizer)"
   ],
   "metadata": {},
   "execution_count": 2
  },
  {
   "cell_type": "markdown",
   "source": [
    "A Sum-of-Squares certificate that $p \\ge \\alpha$ over the domain `S`, ensures that $\\alpha$ is a lower bound to the polynomial optimization problem.\n",
    "The following program searches for the largest lower bound."
   ],
   "metadata": {}
  },
  {
   "outputs": [
    {
     "name": "stdout",
     "output_type": "stream",
     "text": [
      "Iter:  9 Ap: 9.68e-01 Pobj: -1.0000000e+00 Ad: 1.00e+00 Dobj: -1.0000000e+00 \n",
      "Success: SDP solved\n",
      "Primal objective value: -1.0000000e+00 \n",
      "Dual objective value: -1.0000000e+00 \n",
      "Relative primal infeasibility: 7.80e-16 \n",
      "Relative dual infeasibility: 7.52e-09 \n",
      "Real Relative Gap: -9.81e-09 \n",
      "XZ Relative Gap: 6.28e-09 \n",
      "DIMACS error measures: 1.49e-15 0.00e+00 1.79e-08 0.00e+00 -9.81e-09 6.28e-09\n",
      "------------------------------------------------------------------\n",
      "\t       SCS v3.2.3 - Splitting Conic Solver\n",
      "\t(c) Brendan O'Donoghue, Stanford University, 2012\n",
      "------------------------------------------------------------------\n",
      "problem:  variables n: 11, constraints m: 20\n",
      "cones: \t  z: primal zero / dual free vars: 1\n",
      "\t  l: linear vars: 1\n",
      "\t  s: psd vars: 18, ssize: 3\n",
      "settings: eps_abs: 1.0e-04, eps_rel: 1.0e-04, eps_infeas: 1.0e-07\n",
      "\t  alpha: 1.50, scale: 1.00e-01, adaptive_scale: 1\n",
      "\t  max_iters: 100000, normalize: 1, rho_x: 1.00e-06\n",
      "\t  acceleration_lookback: 10, acceleration_interval: 10\n",
      "lin-sys:  sparse-direct-amd-qdldl\n",
      "\t  nnz(A): 22, nnz(P): 0\n",
      "------------------------------------------------------------------\n",
      " iter | pri res | dua res |   gap   |   obj   |  scale  | time (s)\n",
      "------------------------------------------------------------------\n",
      "     0| 2.57e+01  1.01e+00  2.00e+06 -1.00e+06  1.00e-01  1.20e-04 \n",
      "    25| 1.30e+11  4.45e+10  8.00e+18 -4.00e+18  1.00e-01  2.70e-04 \n",
      "------------------------------------------------------------------\n",
      "status:  unbounded\n",
      "timings: total: 2.71e-04s = setup: 7.56e-05s + solve: 1.96e-04s\n",
      "\t lin-sys: 1.44e-05s, cones: 1.49e-04s, accel: 1.60e-06s\n",
      "------------------------------------------------------------------\n",
      "objective = -inf\n",
      "------------------------------------------------------------------\n"
     ]
    }
   ],
   "cell_type": "code",
   "source": [
    "model = SOSModel(solver)\n",
    "@variable(model, α)\n",
    "@objective(model, Max, α)\n",
    "@constraint(model, c, p >= α, domain = S)\n",
    "optimize!(model)"
   ],
   "metadata": {},
   "execution_count": 3
  },
  {
   "cell_type": "markdown",
   "source": [
    "We can see that the problem is infeasible, meaning that no lower bound was found."
   ],
   "metadata": {}
  },
  {
   "outputs": [
    {
     "output_type": "execute_result",
     "data": {
      "text/plain": "* Solver : Dual model with SCS attached\n\n* Status\n  Result count       : 1\n  Termination status : INFEASIBLE\n  Message from the solver:\n  \"unbounded\"\n\n* Candidate solution (result #1)\n  Primal status      : INFEASIBLE_POINT\n  Dual status        : INFEASIBILITY_CERTIFICATE\n  Objective value    : NaN\n  Dual objective value : -1.00000e+00\n\n* Work counters\n  Solve time (sec)   : 2.71401e-04\n"
     },
     "metadata": {},
     "execution_count": 4
    }
   ],
   "cell_type": "code",
   "source": [
    "solution_summary(model)"
   ],
   "metadata": {},
   "execution_count": 4
  },
  {
   "cell_type": "markdown",
   "source": [
    "We now define the Schmüdgen's certificate:"
   ],
   "metadata": {}
  },
  {
   "outputs": [],
   "cell_type": "code",
   "source": [
    "import MultivariateBases as MB\n",
    "const SOS = SumOfSquares\n",
    "const SOSC = SOS.Certificate\n",
    "struct Schmüdgen{IC <: SOSC.AbstractIdealCertificate, CT <: SOS.SOSLikeCone, BT <: SOS.AbstractPolynomialBasis} <: SOSC.AbstractPreorderCertificate\n",
    "    ideal_certificate::IC\n",
    "    cone::CT\n",
    "    basis::Type{BT}\n",
    "    maxdegree::Int\n",
    "end\n",
    "\n",
    "SOSC.cone(certificate::Schmüdgen) = certificate.cone\n",
    "\n",
    "function SOSC.preprocessed_domain(::Schmüdgen, domain::BasicSemialgebraicSet, p)\n",
    "    return SOSC.with_variables(domain, p)\n",
    "end\n",
    "\n",
    "function SOSC.preorder_indices(::Schmüdgen, domain::SOSC.WithVariables)\n",
    "    n = length(domain.inner.p)\n",
    "    if n >= Sys.WORD_SIZE\n",
    "        error(\"There are $(2^n - 1) products in Schmüdgen's certificate, they cannot even be indexed with `$Int`.\")\n",
    "    end\n",
    "    return map(SOSC.PreorderIndex, 1:(2^n-1))\n",
    "end\n",
    "\n",
    "function SOSC.multiplier_basis(certificate::Schmüdgen, index::SOSC.PreorderIndex, domain::SOSC.WithVariables)\n",
    "    q = SOSC.generator(certificate, index, domain)\n",
    "    return SOSC.maxdegree_gram_basis(certificate.basis, variables(domain), SOSC.multiplier_maxdegree(certificate.maxdegree, q))\n",
    "end\n",
    "function SOSC.multiplier_basis_type(::Type{Schmüdgen{IC, CT, BT}}) where {IC, CT, BT}\n",
    "    return BT\n",
    "end\n",
    "\n",
    "function SOSC.generator(::Schmüdgen, index::SOSC.PreorderIndex, domain::SOSC.WithVariables)\n",
    "    I = [i for i in eachindex(domain.inner.p) if !iszero(index.value & (1 << (i - 1)))]\n",
    "    return prod([domain.inner.p[i] for i in eachindex(domain.inner.p) if !iszero(index.value & (1 << (i - 1)))])\n",
    "end\n",
    "\n",
    "SOSC.ideal_certificate(certificate::Schmüdgen) = certificate.ideal_certificate\n",
    "SOSC.ideal_certificate(::Type{<:Schmüdgen{IC}}) where {IC} = IC\n",
    "\n",
    "SOS.matrix_cone_type(::Type{<:Schmüdgen{IC, CT}}) where {IC, CT} = SOS.matrix_cone_type(CT)"
   ],
   "metadata": {},
   "execution_count": 5
  },
  {
   "cell_type": "markdown",
   "source": [
    "Let's try again with our the Schmüdgen certificate:"
   ],
   "metadata": {}
  },
  {
   "outputs": [
    {
     "name": "stdout",
     "output_type": "stream",
     "text": [
      "------------------------------------------------------------------\n",
      "\t       SCS v3.2.3 - Splitting Conic Solver\n",
      "\t(c) Brendan O'Donoghue, Stanford University, 2012\n",
      "------------------------------------------------------------------\n",
      "problem:  variables n: 15, constraints m: 49\n",
      "cones: \t  z: primal zero / dual free vars: 1\n",
      "\t  l: linear vars: 3\n",
      "\t  s: psd vars: 45, ssize: 5\n",
      "settings: eps_abs: 1.0e-04, eps_rel: 1.0e-04, eps_infeas: 1.0e-07\n",
      "\t  alpha: 1.50, scale: 1.00e-01, adaptive_scale: 1\n",
      "\t  max_iters: 100000, normalize: 1, rho_x: 1.00e-06\n",
      "\t  acceleration_lookback: 10, acceleration_interval: 10\n",
      "lin-sys:  sparse-direct-amd-qdldl\n",
      "\t  nnz(A): 67, nnz(P): 0\n",
      "------------------------------------------------------------------\n",
      " iter | pri res | dua res |   gap   |   obj   |  scale  | time (s)\n",
      "------------------------------------------------------------------\n",
      "     0| 8.53e+00  5.66e-01  3.99e+01 -2.00e+01  1.00e-01  2.15e-04 \n",
      "   250| 1.40e-03  5.14e-05  7.85e-06  8.28e-01  1.00e-01  4.16e-03 \n",
      "------------------------------------------------------------------\n",
      "status:  solved\n",
      "timings: total: 4.16e-03s = setup: 1.15e-04s + solve: 4.05e-03s\n",
      "\t lin-sys: 2.45e-04s, cones: 3.59e-03s, accel: 5.97e-05s\n",
      "------------------------------------------------------------------\n",
      "objective = 0.828440\n",
      "------------------------------------------------------------------\n"
     ]
    },
    {
     "output_type": "execute_result",
     "data": {
      "text/plain": "* Solver : Dual model with SCS attached\n\n* Status\n  Result count       : 1\n  Termination status : OPTIMAL\n  Message from the solver:\n  \"solved\"\n\n* Candidate solution (result #1)\n  Primal status      : FEASIBLE_POINT\n  Dual status        : FEASIBLE_POINT\n  Objective value    : 8.28436e-01\n  Dual objective value : 8.28444e-01\n\n* Work counters\n  Solve time (sec)   : 4.16063e-03\n"
     },
     "metadata": {},
     "execution_count": 6
    }
   ],
   "cell_type": "code",
   "source": [
    "model = SOSModel(solver)\n",
    "@variable(model, α)\n",
    "@objective(model, Max, α)\n",
    "ideal_certificate = SOSC.Newton(SOSCone(), MB.MonomialBasis, tuple())\n",
    "certificate = Schmüdgen(ideal_certificate, SOSCone(), MB.MonomialBasis, maxdegree(p))\n",
    "@constraint(model, c, p >= α, domain = S, certificate = certificate)\n",
    "optimize!(model)\n",
    "solution_summary(model)"
   ],
   "metadata": {},
   "execution_count": 6
  },
  {
   "cell_type": "markdown",
   "source": [
    "---\n",
    "\n",
    "*This notebook was generated using [Literate.jl](https://github.com/fredrikekre/Literate.jl).*"
   ],
   "metadata": {}
  }
 ],
 "nbformat_minor": 3,
 "metadata": {
  "language_info": {
   "file_extension": ".jl",
   "mimetype": "application/julia",
   "name": "julia",
   "version": "1.9.1"
  },
  "kernelspec": {
   "name": "julia-1.9",
   "display_name": "Julia 1.9.1",
   "language": "julia"
  }
 },
 "nbformat": 4
}

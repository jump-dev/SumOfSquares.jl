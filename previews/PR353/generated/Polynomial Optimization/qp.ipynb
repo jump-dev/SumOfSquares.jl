{
 "cells": [
  {
   "cell_type": "markdown",
   "source": [
    "# Nonconvex QP"
   ],
   "metadata": {}
  },
  {
   "cell_type": "markdown",
   "source": [
    "**Adapted from**:  of [Floudas1999; Section 2.2](@cite), [Lasserre2009; Table 5.1](@cite)"
   ],
   "metadata": {}
  },
  {
   "cell_type": "markdown",
   "source": [
    "## Introduction"
   ],
   "metadata": {}
  },
  {
   "cell_type": "markdown",
   "source": [
    "Consider the nonconvex Quadratic Program (QP) from [Floudas1999; Section 2.2](@cite)\n",
    "that minimizes the *concave* function $c^\\top x - x^\\top Qx / 2$\n",
    "over the polyhedron obtained by intersecting the hypercube $[0, 1]^5$\n",
    "with the halfspace $10x_1 + 12x_2 + 11x_3 + 7x_4 + 4x_5 \\le 40$."
   ],
   "metadata": {}
  },
  {
   "outputs": [
    {
     "output_type": "execute_result",
     "data": {
      "text/plain": "Basic semialgebraic Set defined by no equality\n11 inequalities\n x[1] ≥ 0\n 1 - x[1] ≥ 0\n x[2] ≥ 0\n 1 - x[2] ≥ 0\n x[3] ≥ 0\n 1 - x[3] ≥ 0\n x[4] ≥ 0\n 1 - x[4] ≥ 0\n x[5] ≥ 0\n 1 - x[5] ≥ 0\n 40 - 4*x[5] - 7*x[4] - 11*x[3] - 12*x[2] - 10*x[1] ≥ 0\n"
     },
     "metadata": {},
     "execution_count": 1
    }
   ],
   "cell_type": "code",
   "source": [
    "using LinearAlgebra\n",
    "c = [42, 44, 45, 47, 47.5]\n",
    "Q = 100I\n",
    "\n",
    "using DynamicPolynomials\n",
    "@polyvar x[1:5]\n",
    "p = c'x - x' * Q * x / 2\n",
    "using SumOfSquares\n",
    "K = @set x[1] >= 0 && x[1] <= 1 &&\n",
    "         x[2] >= 0 && x[2] <= 1 &&\n",
    "         x[3] >= 0 && x[3] <= 1 &&\n",
    "         x[4] >= 0 && x[4] <= 1 &&\n",
    "         x[5] >= 0 && x[5] <= 1 &&\n",
    "         10x[1] + 12x[2] + 11x[3] + 7x[4] + 4x[5] <= 40"
   ],
   "metadata": {},
   "execution_count": 1
  },
  {
   "cell_type": "markdown",
   "source": [
    "We will now see how to find the optimal solution using Sum of Squares Programming.\n",
    "We first need to pick an SDP solver, see [here](https://jump.dev/JuMP.jl/v1.12/installation/#Supported-solvers) for a list of the available choices."
   ],
   "metadata": {}
  },
  {
   "outputs": [
    {
     "output_type": "execute_result",
     "data": {
      "text/plain": "Clarabel.MOIwrapper.Optimizer"
     },
     "metadata": {},
     "execution_count": 2
    }
   ],
   "cell_type": "code",
   "source": [
    "import Clarabel\n",
    "solver = Clarabel.Optimizer"
   ],
   "metadata": {},
   "execution_count": 2
  },
  {
   "cell_type": "markdown",
   "source": [
    "A Sum-of-Squares certificate that $p \\ge \\alpha$ over the domain `S`, ensures that $\\alpha$ is a lower bound to the polynomial optimization problem.\n",
    "The following function searches for the largest lower bound and finds zero using the `d`th level of the hierarchy`."
   ],
   "metadata": {}
  },
  {
   "outputs": [
    {
     "output_type": "execute_result",
     "data": {
      "text/plain": "solve (generic function with 1 method)"
     },
     "metadata": {},
     "execution_count": 3
    }
   ],
   "cell_type": "code",
   "source": [
    "function solve(d)\n",
    "    model = SOSModel(solver)\n",
    "    @variable(model, α)\n",
    "    @objective(model, Max, α)\n",
    "    @constraint(model, c, p >= α, domain = K, maxdegree = d)\n",
    "    optimize!(model)\n",
    "    println(solution_summary(model))\n",
    "    return model\n",
    "end"
   ],
   "metadata": {},
   "execution_count": 3
  },
  {
   "cell_type": "markdown",
   "source": [
    "The first level of the hierarchy does not give any lower bound:"
   ],
   "metadata": {}
  },
  {
   "outputs": [
    {
     "name": "stdout",
     "output_type": "stream",
     "text": [
      "-------------------------------------------------------------\n",
      "           Clarabel.jl v0.9.0  -  Clever Acronym              \n",
      "                   (c) Paul Goulart                          \n",
      "                University of Oxford, 2022                   \n",
      "-------------------------------------------------------------\n",
      "\n",
      "problem:\n",
      "  variables     = 33\n",
      "  constraints   = 53\n",
      "  nnz(P)        = 0\n",
      "  nnz(A)        = 75\n",
      "  cones (total) = 3\n",
      "    : Zero        = 1,  numel = 21\n",
      "    : Nonnegative = 1,  numel = 11\n",
      "    : PSDTriangle = 1,  numel = 21\n",
      "\n",
      "settings:\n",
      "  linear algebra: direct / qdldl, precision: Float64\n",
      "  max iter = 200, time limit = Inf,  max step = 0.990\n",
      "  tol_feas = 1.0e-08, tol_gap_abs = 1.0e-08, tol_gap_rel = 1.0e-08,\n",
      "  static reg : on, ϵ1 = 1.0e-08, ϵ2 = 4.9e-32\n",
      "  dynamic reg: on, ϵ = 1.0e-13, δ = 2.0e-07\n",
      "  iter refine: on, reltol = 1.0e-13, abstol = 1.0e-12, \n",
      "               max iter = 10, stop ratio = 5.0\n",
      "  equilibrate: on, min_scale = 1.0e-04, max_scale = 1.0e+04\n",
      "               max iter = 10\n",
      "\n",
      "iter    pcost        dcost       gap       pres      dres      k/t        μ       step      \n",
      "---------------------------------------------------------------------------------------------\n",
      "  0  -1.5207e+02  -1.5207e+02  0.00e+00  5.27e-01  7.37e-02  1.00e+00  9.59e+01   ------   \n",
      "  1   2.4388e+04   2.5071e+04  2.80e-02  7.15e-02  1.04e-02  6.91e+02  1.14e+01  9.66e-01  \n",
      "  2   1.6512e+05   1.7080e+05  3.44e-02  3.79e-03  5.18e-04  5.68e+03  6.86e-01  9.47e-01  \n",
      "  3   1.6216e+07   1.7985e+07  1.09e-01  7.36e-04  1.00e-04  1.77e+06  1.34e-01  8.78e-01  \n",
      "  4   1.6199e+09   1.8067e+09  1.15e-01  1.41e-05  1.91e-06  1.87e+08  2.55e-03  9.81e-01  \n",
      "  5   1.8390e+10   2.0786e+10  1.30e-01  2.05e-07  2.78e-08  2.40e+09  3.71e-05  9.86e-01  \n",
      "---------------------------------------------------------------------------------------------\n",
      "Terminated with status = primal infeasible\n",
      "solve time = 1.56ms\n",
      "* Solver : Clarabel\n",
      "\n",
      "* Status\n",
      "  Result count       : 1\n",
      "  Termination status : INFEASIBLE\n",
      "  Message from the solver:\n",
      "  \"PRIMAL_INFEASIBLE\"\n",
      "\n",
      "* Candidate solution (result #1)\n",
      "  Primal status      : INFEASIBLE_POINT\n",
      "  Dual status        : INFEASIBILITY_CERTIFICATE\n",
      "  Objective value    : -1.83898e+10\n",
      "  Dual objective value : -2.07856e+10\n",
      "\n",
      "* Work counters\n",
      "  Solve time (sec)   : 1.56455e-03\n",
      "  Barrier iterations : 5\n",
      "\n"
     ]
    }
   ],
   "cell_type": "code",
   "source": [
    "model2 = solve(2)\n",
    "nothing # hide"
   ],
   "metadata": {},
   "execution_count": 4
  },
  {
   "cell_type": "markdown",
   "source": [
    "Indeed, as the constraints have degree 1 and their multipliers are SOS\n",
    "so they have an even degree, with `maxdegree` 2 we can only use degree 0\n",
    "multipliers hence constants. The terms of maximal degree in resulting\n",
    "sum will therefore only be in `-x' * Q * x/2` hence it is not SOS whatever\n",
    "is the value of the multipliers. Let's try with `maxdegree` 3 so that the\n",
    "multipliers can be quadratic.\n",
    "This second level is now feasible and gives a lower bound of `-22`."
   ],
   "metadata": {}
  },
  {
   "outputs": [
    {
     "name": "stdout",
     "output_type": "stream",
     "text": [
      "-------------------------------------------------------------\n",
      "           Clarabel.jl v0.9.0  -  Clever Acronym              \n",
      "                   (c) Paul Goulart                          \n",
      "                University of Oxford, 2022                   \n",
      "-------------------------------------------------------------\n",
      "\n",
      "problem:\n",
      "  variables     = 253\n",
      "  constraints   = 308\n",
      "  nnz(P)        = 0\n",
      "  nnz(A)        = 715\n",
      "  cones (total) = 13\n",
      "    : Zero        = 1,  numel = 56\n",
      "    : PSDTriangle = 12,  numel = (21,21,21,21,...,21)\n",
      "\n",
      "settings:\n",
      "  linear algebra: direct / qdldl, precision: Float64\n",
      "  max iter = 200, time limit = Inf,  max step = 0.990\n",
      "  tol_feas = 1.0e-08, tol_gap_abs = 1.0e-08, tol_gap_rel = 1.0e-08,\n",
      "  static reg : on, ϵ1 = 1.0e-08, ϵ2 = 4.9e-32\n",
      "  dynamic reg: on, ϵ = 1.0e-13, δ = 2.0e-07\n",
      "  iter refine: on, reltol = 1.0e-13, abstol = 1.0e-12, \n",
      "               max iter = 10, stop ratio = 5.0\n",
      "  equilibrate: on, min_scale = 1.0e-04, max_scale = 1.0e+04\n",
      "               max iter = 10\n",
      "\n",
      "iter    pcost        dcost       gap       pres      dres      k/t        μ       step      \n",
      "---------------------------------------------------------------------------------------------\n",
      "  0  -1.3991e+01  -1.3991e+01  6.35e-16  3.32e-01  9.13e-02  1.00e+00  9.46e+00   ------   \n",
      "  1   2.4255e+02   2.4996e+02  3.06e-02  1.45e-01  3.32e-02  8.38e+00  2.67e+00  9.00e-01  \n",
      "  2   7.3705e+01   7.9821e+01  8.30e-02  5.20e-02  1.50e-02  6.48e+00  1.52e+00  6.49e-01  \n",
      "  3   3.6450e+01   3.8243e+01  4.92e-02  1.15e-02  3.41e-03  1.86e+00  4.41e-01  7.97e-01  \n",
      "  4   3.1397e+01   3.2740e+01  4.28e-02  6.37e-03  1.91e-03  1.39e+00  2.70e-01  6.34e-01  \n",
      "  5   2.1768e+01   2.2034e+01  1.22e-02  1.23e-03  3.40e-04  2.75e-01  5.65e-02  8.06e-01  \n",
      "  6   2.2259e+01   2.2326e+01  2.99e-03  4.09e-04  1.03e-04  6.95e-02  1.91e-02  8.17e-01  \n",
      "  7   2.1905e+01   2.1925e+01  9.14e-04  1.28e-04  3.24e-05  2.10e-02  6.08e-03  7.38e-01  \n",
      "  8   2.1973e+01   2.1978e+01  1.91e-04  4.09e-05  1.02e-05  4.52e-03  1.97e-03  9.90e-01  \n",
      "  9   2.2000e+01   2.2000e+01  2.57e-06  5.82e-07  1.41e-07  6.11e-05  2.82e-05  9.90e-01  \n",
      " 10   2.2000e+01   2.2000e+01  2.82e-08  6.39e-09  1.55e-09  6.70e-07  3.09e-07  9.89e-01  \n",
      " 11   2.2000e+01   2.2000e+01  3.49e-10  7.90e-11  1.92e-11  8.30e-09  3.83e-09  9.88e-01  \n",
      "---------------------------------------------------------------------------------------------\n",
      "Terminated with status = solved\n",
      "solve time = 12.6ms\n",
      "* Solver : Clarabel\n",
      "\n",
      "* Status\n",
      "  Result count       : 1\n",
      "  Termination status : OPTIMAL\n",
      "  Message from the solver:\n",
      "  \"SOLVED\"\n",
      "\n",
      "* Candidate solution (result #1)\n",
      "  Primal status      : FEASIBLE_POINT\n",
      "  Dual status        : FEASIBLE_POINT\n",
      "  Objective value    : -2.20000e+01\n",
      "  Dual objective value : -2.20000e+01\n",
      "\n",
      "* Work counters\n",
      "  Solve time (sec)   : 1.25981e-02\n",
      "  Barrier iterations : 11\n",
      "\n"
     ]
    }
   ],
   "cell_type": "code",
   "source": [
    "model3 = solve(3)\n",
    "nothing # hide"
   ],
   "metadata": {},
   "execution_count": 5
  },
  {
   "cell_type": "markdown",
   "source": [
    "---\n",
    "\n",
    "*This notebook was generated using [Literate.jl](https://github.com/fredrikekre/Literate.jl).*"
   ],
   "metadata": {}
  }
 ],
 "nbformat_minor": 3,
 "metadata": {
  "language_info": {
   "file_extension": ".jl",
   "mimetype": "application/julia",
   "name": "julia",
   "version": "1.10.4"
  },
  "kernelspec": {
   "name": "julia-1.10",
   "display_name": "Julia 1.10.4",
   "language": "julia"
  }
 },
 "nbformat": 4
}

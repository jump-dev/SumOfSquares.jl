{
 "cells": [
  {
   "cell_type": "markdown",
   "source": [
    "# Multivariate polynomials implementations"
   ],
   "metadata": {}
  },
  {
   "cell_type": "markdown",
   "source": [
    "**Contributed by**: Benoît Legat"
   ],
   "metadata": {}
  },
  {
   "cell_type": "markdown",
   "source": [
    "The SumOfSquares package is built on top of the [MultivariatePolynomials](https://github.com/JuliaAlgebra/MultivariatePolynomials.jl)\n",
    "abstract interface. [DynamicPolynomials](https://github.com/JuliaAlgebra/DynamicPolynomials.jl/)\n",
    "is an implementation of this abstract interface so it can be used with\n",
    "SumOfSquares. Moreover, any other implementation can be used as well. To\n",
    "illustrate, we solve Examples 3.38 of [BPT12] with\n",
    "[TypedPolynomials](https://github.com/JuliaAlgebra/TypedPolynomials.jl),\n",
    "another implementation of [MultivariatePolynomials](https://github.com/JuliaAlgebra/MultivariatePolynomials.jl).\n",
    "\n",
    "[BPT12] Blekherman, G. & Parrilo, P. A. & Thomas, R. R.\n",
    "*Semidefinite Optimization and Convex Algebraic Geometry*.\n",
    "Society for Industrial and Applied Mathematics, **2012**."
   ],
   "metadata": {}
  },
  {
   "outputs": [
    {
     "name": "stdout",
     "output_type": "stream",
     "text": [
      "CSDP 6.2.0\n",
      "This is a pure primal feasibility problem.\n",
      "Iter:  0 Ap: 0.00e+00 Pobj:  0.0000000e+00 Ad: 0.00e+00 Dobj:  0.0000000e+00 \n",
      "Iter:  1 Ap: 7.39e-01 Pobj:  0.0000000e+00 Ad: 1.00e+00 Dobj:  9.2771541e+01 \n",
      "Iter:  2 Ap: 1.00e+00 Pobj:  0.0000000e+00 Ad: 1.00e+00 Dobj:  5.3405022e+01 \n"
     ]
    },
    {
     "output_type": "execute_result",
     "data": {
      "text/plain": "* Solver : CSDP\n\n* Status\n  Result count       : 1\n  Termination status : OPTIMAL\n  Message from the solver:\n  \"Problem solved to optimality.\"\n\n* Candidate solution (result #1)\n  Primal status      : FEASIBLE_POINT\n  Dual status        : FEASIBLE_POINT\n  Objective value    : 0.00000e+00\n  Dual objective value : 0.00000e+00\n\n* Work counters\n  Solve time (sec)   : 1.87271e-02\n"
     },
     "metadata": {},
     "execution_count": 1
    }
   ],
   "cell_type": "code",
   "source": [
    "import TypedPolynomials\n",
    "TypedPolynomials.@polyvar x y\n",
    "using SumOfSquares\n",
    "import CSDP\n",
    "model = SOSModel(CSDP.Optimizer)\n",
    "con_ref = @constraint(model, 2x^4 + 5y^4 - x^2*y^2 >= -2(x^3*y + x + 1))\n",
    "optimize!(model)\n",
    "solution_summary(model)"
   ],
   "metadata": {},
   "execution_count": 1
  },
  {
   "cell_type": "markdown",
   "source": [
    "We see that the problem is feasible. The Sum-of-Squares decomposition can be\n",
    "obtained as follows:"
   ],
   "metadata": {}
  },
  {
   "outputs": [
    {
     "output_type": "execute_result",
     "data": {
      "text/plain": "(-0.6797539388882385 - 0.09754482372919099*y - 0.4175945425725994*x + 2.1931519300021907*y^2 - 0.1269608752480834*x*y - 0.802586870770147*x^2)^2 + (0.9043585861943051 - 0.645497549386868*y + 0.27421735002417896*x - 0.10770166105288262*y^2 - 1.2293131412594318*x*y - 0.930017043547299*x^2)^2 + (-0.5739156167209172 - 1.385351263217042*y - 0.6219655290929103*x - 0.20409240982196936*y^2 - 0.1518243547747602*x*y + 0.4443814867923303*x^2)^2 + (0.5703017871356982 - 0.5184102408490358*y + 0.34367412466167074*x + 0.2555951335437903*y^2 + 0.7618448416641994*x*y - 0.020905670851165445*x^2)^2 + (0.0414029820781276 + 0.049110899408320925*y - 0.49990900774527297*x - 0.24792082949867678*y^2 + 0.29724484396646367*x*y - 0.5054176772471581*x^2)^2 + (-0.25245328219549723 - 0.06336616977802398*y + 0.25394133757830034*x - 0.10018803519680755*y^2 + 0.059602155796650916*x*y - 0.19381339537687217*x^2)^2"
     },
     "metadata": {},
     "execution_count": 2
    }
   ],
   "cell_type": "code",
   "source": [
    "sos_decomposition(con_ref)"
   ],
   "metadata": {},
   "execution_count": 2
  },
  {
   "cell_type": "markdown",
   "source": [
    "Why is there several implementations ?\n",
    "Depending in the use-case, one implementation may be more appropriate than\n",
    "another one. [TypedPolynomials](https://github.com/JuliaAlgebra/TypedPolynomials.jl)\n",
    "is faster than [DynamicPolynomials](https://github.com/JuliaAlgebra/DynamicPolynomials.jl/)\n",
    "but it requires new compilation whenever the list of variables changes.\n",
    "This means that [TypedPolynomials](https://github.com/JuliaAlgebra/TypedPolynomials.jl)\n",
    "is not appropriate when the number of variables is dynamic or too large.\n",
    "However, for a small number of variables, it can be faster.\n",
    "When solving Sum-of-Squares programs, the time is mostly taken by the Semidefinite programming solver.\n",
    "The time taken by SumOfSquares/JuMP/MathOptInterface are usually negligible\n",
    "or it time is taken by manipulation of JuMP or MathOptInterface functions\n",
    "therefore using TypedPolynomials over DynamicPolynomials may not make much difference in most cases."
   ],
   "metadata": {}
  },
  {
   "cell_type": "markdown",
   "source": [
    "One case for which using TypedPolynomials might be adequate is when\n",
    "using domain defined by equalities (possibly also with inequalities).\n",
    "Indeed, in that case, SumOfSquares computes the corresponding Gröbner basis which\n",
    "may take a non-negligible amount of time for large systems of equalities."
   ],
   "metadata": {}
  },
  {
   "cell_type": "markdown",
   "source": [
    "To illustrate this, consider the computation of Gröbner basis for the\n",
    "following system from [CLO05, p. 17].\n",
    "The time taken by TypedPolynomials is below:\n",
    "\n",
    "[CLO05] Cox, A. David & Little, John & O'Shea, Donal\n",
    "*Using Algebraic Geometry*.\n",
    "Graduate Texts in Mathematics, **2005**.\n",
    "https://doi.org/10.1007/b138611"
   ],
   "metadata": {}
  },
  {
   "outputs": [
    {
     "name": "stdout",
     "output_type": "stream",
     "text": [
      "  684.214 μs (6611 allocations: 1.34 MiB)\n"
     ]
    },
    {
     "output_type": "execute_result",
     "data": {
      "text/plain": "true"
     },
     "metadata": {},
     "execution_count": 3
    }
   ],
   "cell_type": "code",
   "source": [
    "using BenchmarkTools\n",
    "@btime let\n",
    "    TypedPolynomials.@polyvar x y\n",
    "    S = @set x^3 * y + x == 2x^2 * y^2 && 3x^4 == y\n",
    "    SemialgebraicSets.compute_gröbner_basis!(S.I)\n",
    "end"
   ],
   "metadata": {},
   "execution_count": 3
  },
  {
   "cell_type": "markdown",
   "source": [
    "The time taken by DynamicPolynomials is as follows:"
   ],
   "metadata": {}
  },
  {
   "outputs": [
    {
     "name": "stdout",
     "output_type": "stream",
     "text": [
      "  995.216 μs (9987 allocations: 1.26 MiB)\n"
     ]
    },
    {
     "output_type": "execute_result",
     "data": {
      "text/plain": "true"
     },
     "metadata": {},
     "execution_count": 4
    }
   ],
   "cell_type": "code",
   "source": [
    "import DynamicPolynomials\n",
    "@btime let\n",
    "    DynamicPolynomials.@polyvar x y\n",
    "    S = @set x^3 * y + x == 2x^2 * y^2 && 3x^4 == y\n",
    "    SemialgebraicSets.compute_gröbner_basis!(S.I)\n",
    "end"
   ],
   "metadata": {},
   "execution_count": 4
  },
  {
   "cell_type": "markdown",
   "source": [
    "We see that TypedPolynomials is faster.\n",
    "The time is still negligible for this small system but for larger systems, choosing TypedPolynomials may be helpful.\n",
    "We can use this system in a Sum-of-Squares constraint as follows:"
   ],
   "metadata": {}
  },
  {
   "outputs": [
    {
     "name": "stdout",
     "output_type": "stream",
     "text": [
      "Success: SDP solved\n",
      "Primal objective value: 0.0000000e+00 \n",
      "Dual objective value: 0.0000000e+00 \n",
      "Relative primal infeasibility: 1.44e-16 \n",
      "Relative dual infeasibility: 5.00e-11 \n",
      "Real Relative Gap: 0.00e+00 \n",
      "XZ Relative Gap: 3.04e-10 \n",
      "DIMACS error measures: 1.79e-16 0.00e+00 5.00e-11 0.00e+00 0.00e+00 3.04e-10\n",
      "CSDP 6.2.0\n",
      "This is a pure primal feasibility problem.\n",
      "Iter:  0 Ap: 0.00e+00 Pobj:  0.0000000e+00 Ad: 0.00e+00 Dobj:  0.0000000e+00 \n",
      "Iter:  1 Ap: 7.64e-01 Pobj:  0.0000000e+00 Ad: 8.07e-01 Dobj:  2.6104524e+00 \n",
      "Iter:  2 Ap: 7.71e-01 Pobj:  0.0000000e+00 Ad: 7.40e-01 Dobj: -5.9092654e-02 \n",
      "Iter:  3 Ap: 8.08e-01 Pobj:  0.0000000e+00 Ad: 7.65e-01 Dobj:  5.5549062e-01 \n",
      "Iter:  4 Ap: 7.56e-01 Pobj:  0.0000000e+00 Ad: 7.79e-01 Dobj:  4.8506840e-01 \n",
      "Iter:  5 Ap: 6.95e-01 Pobj:  0.0000000e+00 Ad: 6.77e-01 Dobj:  4.3029645e-01 \n",
      "Iter:  6 Ap: 6.35e-01 Pobj:  0.0000000e+00 Ad: 6.83e-01 Dobj:  2.2137529e-01 \n",
      "Iter:  7 Ap: 6.21e-01 Pobj:  0.0000000e+00 Ad: 6.43e-01 Dobj:  1.2986447e-01 \n",
      "Iter:  8 Ap: 7.42e-01 Pobj:  0.0000000e+00 Ad: 6.82e-01 Dobj:  6.1463997e-02 \n",
      "Iter:  9 Ap: 7.31e-01 Pobj:  0.0000000e+00 Ad: 7.05e-01 Dobj:  2.6276742e-02 \n",
      "Iter: 10 Ap: 6.92e-01 Pobj:  0.0000000e+00 Ad: 7.09e-01 Dobj:  1.1328630e-02 \n",
      "Iter: 11 Ap: 6.62e-01 Pobj:  0.0000000e+00 Ad: 6.68e-01 Dobj:  5.1233888e-03 \n",
      "Iter: 12 Ap: 7.09e-01 Pobj:  0.0000000e+00 Ad: 6.82e-01 Dobj:  2.3589393e-03 \n",
      "Iter: 13 Ap: 7.23e-01 Pobj:  0.0000000e+00 Ad: 6.78e-01 Dobj:  1.0697246e-03 \n",
      "Iter: 14 Ap: 7.14e-01 Pobj:  0.0000000e+00 Ad: 7.18e-01 Dobj:  4.1893891e-04 \n",
      "Iter: 15 Ap: 6.78e-01 Pobj:  0.0000000e+00 Ad: 6.29e-01 Dobj:  2.1662312e-04 \n",
      "Iter: 16 Ap: 7.27e-01 Pobj:  0.0000000e+00 Ad: 6.95e-01 Dobj:  8.2623421e-05 \n"
     ]
    },
    {
     "output_type": "execute_result",
     "data": {
      "text/plain": "* Solver : CSDP\n\n* Status\n  Result count       : 1\n  Termination status : OPTIMAL\n  Message from the solver:\n  \"Problem solved to optimality.\"\n\n* Candidate solution (result #1)\n  Primal status      : FEASIBLE_POINT\n  Dual status        : FEASIBLE_POINT\n  Objective value    : 0.00000e+00\n  Dual objective value : 0.00000e+00\n\n* Work counters\n  Solve time (sec)   : 1.84589e-01\n"
     },
     "metadata": {},
     "execution_count": 5
    }
   ],
   "cell_type": "code",
   "source": [
    "TypedPolynomials.@polyvar x y\n",
    "S = @set x^3 * y + x == 2x^2 * y^2 && 3x^4 == y\n",
    "poly = -6x - 4y^3 + 2x*y^2 + 6x^3 - 3y^4 + 13x^2 * y^2\n",
    "model = Model(CSDP.Optimizer)\n",
    "con_ref = @constraint(model, poly in SOSCone(), domain = S)\n",
    "optimize!(model)\n",
    "solution_summary(model)"
   ],
   "metadata": {},
   "execution_count": 5
  },
  {
   "cell_type": "markdown",
   "source": [
    "We obtain the following decomposition:"
   ],
   "metadata": {}
  },
  {
   "outputs": [
    {
     "output_type": "execute_result",
     "data": {
      "text/plain": "(-6.84182741269261e-5 + 0.0006523762499047102*y - 0.00014179820285655732*x + 7.044759133483462*y^2 - 28.22908576786016*x*y + 25.36311206441547*x^2)^2 + (-1.4194958144543974e-5 + 0.0004276176113941165*y + 0.0008133609682906672*x + 22.478867347382973*y^2 - 13.864614651970733*x*y - 21.674926995277897*x^2)^2 + (-3.844627497275628e-5 - 0.0007282386100283765*y + 0.0005526974366361142*x + 0.12019410198039554*y^2 + 0.09016974474187112*x*y + 0.06697409634825505*x^2)^2 + (-6.124508498073891e-7 - 0.03996514972007246*y + 0.053405171968541894*x - 0.00026070294513364894*y^2 - 0.00019564294781865244*x*y - 0.0001440117861211223*x^2)^2"
     },
     "metadata": {},
     "execution_count": 6
    }
   ],
   "cell_type": "code",
   "source": [
    "dec = sos_decomposition(con_ref, 1e-6)"
   ],
   "metadata": {},
   "execution_count": 6
  },
  {
   "cell_type": "markdown",
   "source": [
    "We can verify that it is correct as follows:"
   ],
   "metadata": {}
  },
  {
   "outputs": [
    {
     "output_type": "execute_result",
     "data": {
      "text/plain": "6.3610482265567761674591418480199933593866035153041593730449676513671875e-09 - 1.984495180153670773513842691689224313933710875109029121887989533253176783857045e-07y - 1.585727418775316157105128065897868229792668269230769230769230769230762428125679e-07x - 1.3043421811635876050861071462350082583725452423095703125e-05y² - 1.953301070667205763253804207124630920588970184326171875e-05xy - 7.30144730937999641984248455628403462469577789306640625e-06x² - 4.620111315745134561439044773578643798828125e-08y³ - 4.9722494122050875375862233340740203857421875e-08xy² - 4.1542469012887761441177314480910354177467525005340576171875e-08x²y + 6.495471237800442255460298978365384615384615384615384615384615384609942500553748e-09y⁴",
      "text/latex": "$$ 6.3610482265567761674591418480199933593866035153041593730449676513671875 \\cdot 10^{-09} - 1.984495180153670773513842691689224313933710875109029121887989533253176783857045 \\cdot 10^{-07}y - 1.585727418775316157105128065897868229792668269230769230769230769230762428125679 \\cdot 10^{-07}x - 1.3043421811635876050861071462350082583725452423095703125 \\cdot 10^{-05}y^{2} - 1.953301070667205763253804207124630920588970184326171875 \\cdot 10^{-05}xy - 7.30144730937999641984248455628403462469577789306640625 \\cdot 10^{-06}x^{2} - 4.620111315745134561439044773578643798828125 \\cdot 10^{-08}y^{3} - 4.9722494122050875375862233340740203857421875 \\cdot 10^{-08}xy^{2} - 4.1542469012887761441177314480910354177467525005340576171875 \\cdot 10^{-08}x^{2}y + 6.495471237800442255460298978365384615384615384615384615384615384609942500553748 \\cdot 10^{-09}y^{4} $$"
     },
     "metadata": {},
     "execution_count": 7
    }
   ],
   "cell_type": "code",
   "source": [
    "rem(dec - poly, S.I)"
   ],
   "metadata": {},
   "execution_count": 7
  },
  {
   "cell_type": "markdown",
   "source": [
    "Note that the difference between `dec` and `poly` is larger\n",
    "than between the full gram matrix because `dec` is obtained by dropping\n",
    "the lowest eigenvalues with the threshold `1e-6`; see `sos_decomposition`."
   ],
   "metadata": {}
  },
  {
   "outputs": [
    {
     "output_type": "execute_result",
     "data": {
      "text/plain": "7.415334118042492821353990086440111095811289487755857408046722412109375e-09 + 1.794282224365083054771052935152158971149196403507047738784398788061192748573992e-08y + 3.381695265694326315916931399932274451622596153846153846153846153846156503436558e-09x + 7.41535164153726833458080136551870964467525482177734375e-09y² - 1.558649043165161174329114146530628204345703125e-14xy + 7.4153217138710203482077076841960661113262176513671875e-09x² - 7.01364892089865558470288912455240885416666666666666666666666666712726232293837e-13y³ + 1.530627476616549150397380193074544270833333333333333333333333333563631161469185e-13xy² - 3.91249532771809072073665447533130645751953125e-14x²y + 6.552970542263490362809254572941706730769230769230769230769230769230747972507539e-09y⁴",
      "text/latex": "$$ 7.415334118042492821353990086440111095811289487755857408046722412109375 \\cdot 10^{-09} + 1.794282224365083054771052935152158971149196403507047738784398788061192748573992 \\cdot 10^{-08}y + 3.381695265694326315916931399932274451622596153846153846153846153846156503436558 \\cdot 10^{-09}x + 7.41535164153726833458080136551870964467525482177734375 \\cdot 10^{-09}y^{2} - 1.558649043165161174329114146530628204345703125 \\cdot 10^{-14}xy + 7.4153217138710203482077076841960661113262176513671875 \\cdot 10^{-09}x^{2} - 7.01364892089865558470288912455240885416666666666666666666666666712726232293837 \\cdot 10^{-13}y^{3} + 1.530627476616549150397380193074544270833333333333333333333333333563631161469185 \\cdot 10^{-13}xy^{2} - 3.91249532771809072073665447533130645751953125 \\cdot 10^{-14}x^{2}y + 6.552970542263490362809254572941706730769230769230769230769230769230747972507539 \\cdot 10^{-09}y^{4} $$"
     },
     "metadata": {},
     "execution_count": 8
    }
   ],
   "cell_type": "code",
   "source": [
    "rem(gram_matrix(con_ref) - poly, S.I)"
   ],
   "metadata": {},
   "execution_count": 8
  },
  {
   "cell_type": "markdown",
   "source": [
    "---\n",
    "\n",
    "*This notebook was generated using [Literate.jl](https://github.com/fredrikekre/Literate.jl).*"
   ],
   "metadata": {}
  }
 ],
 "nbformat_minor": 3,
 "metadata": {
  "language_info": {
   "file_extension": ".jl",
   "mimetype": "application/julia",
   "name": "julia",
   "version": "1.9.1"
  },
  "kernelspec": {
   "name": "julia-1.9",
   "display_name": "Julia 1.9.1",
   "language": "julia"
  }
 },
 "nbformat": 4
}

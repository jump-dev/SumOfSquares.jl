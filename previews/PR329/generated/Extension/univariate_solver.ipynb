{
 "cells": [
  {
   "cell_type": "markdown",
   "source": [
    "# Univariate Solver"
   ],
   "metadata": {}
  },
  {
   "cell_type": "markdown",
   "source": [
    "**Contributed by**: Benoît Legat"
   ],
   "metadata": {}
  },
  {
   "cell_type": "markdown",
   "source": [
    "When using an SDP solver, the Sum-of-Squares constraint is bridged\n",
    "into a semidefinite constraint. This reformulation is done only if the\n",
    "solver does not support the Sum-of-Squares constraint. We show in this tutorial how to define a solver that supports such constraint.\n",
    "The *same* model with be then solved with or without reformulation depending on the solver."
   ],
   "metadata": {}
  },
  {
   "cell_type": "markdown",
   "source": [
    "We consider a solver that would support finding the SOS decomposition\n",
    "of nonnegative univariate polynomials."
   ],
   "metadata": {}
  },
  {
   "outputs": [
    {
     "output_type": "execute_result",
     "data": {
      "text/plain": "Main.var\"##14165\".MyUnivariateSolver"
     },
     "metadata": {},
     "execution_count": 1
    }
   ],
   "cell_type": "code",
   "source": [
    "module MyUnivariateSolver\n",
    "\n",
    "import LinearAlgebra\n",
    "import MathOptInterface as MOI\n",
    "import MultivariatePolynomials as MP\n",
    "import SumOfSquares as SOS\n",
    "\n",
    "function decompose(p::MP.AbstractPolynomial, tol=1e-6)\n",
    "    vars = MP.effective_variables(p)\n",
    "    if length(vars) != 1\n",
    "        error(\"$p is not univariate\")\n",
    "    end\n",
    "    x = first(vars)\n",
    "    lead = MP.leading_coefficient(p)\n",
    "    if !isone(lead)\n",
    "        p = p / lead\n",
    "    end\n",
    "    deg = MP.maxdegree(p)\n",
    "    if isodd(deg)\n",
    "        return\n",
    "    end\n",
    "    d = div(deg, 2)\n",
    "    companion = zeros(2d, 2d)\n",
    "    for i in 0:(2d-1)\n",
    "        if i > 0\n",
    "            companion[i + 1, i] = 1.0\n",
    "        end\n",
    "        companion[i + 1, end] = -MP.coefficient(p, x^i)\n",
    "    end\n",
    "    F = LinearAlgebra.schur(complex(companion))\n",
    "    q = one(p)\n",
    "    i = 1\n",
    "    while i <= length(F.values)\n",
    "        root = F.values[i]\n",
    "        q *= (x - root)\n",
    "        if !isapprox(real(root), real(F.values[i+1]), rtol=tol, atol=tol)\n",
    "            return # Cannot happen for complex conjugate root so it means that we have a root which does not have an even multiplicity This means that the polynomial is not nonnegative\n",
    "        end\n",
    "        i += 2\n",
    "    end\n",
    "    q1 = MP.map_coefficients(real, q)\n",
    "    q2 = MP.map_coefficients(imag, q)\n",
    "    return SOS.SOSDecomposition([q1, q2])\n",
    "end\n",
    "\n",
    "mutable struct Optimizer <: MOI.AbstractOptimizer\n",
    "    p::Union{Nothing,MP.AbstractPolynomial}\n",
    "    decomposition::Union{Nothing,SOS.SOSDecomposition}\n",
    "    tol::Float64\n",
    "    function Optimizer()\n",
    "        return new(nothing, nothing, 1e-6)\n",
    "    end\n",
    "end\n",
    "\n",
    "MOI.is_empty(optimizer::Optimizer) = optimizer.p === nothing\n",
    "function MOI.empty!(optimizer::Optimizer)\n",
    "    optimizer.p = nothing\n",
    "    return\n",
    "end\n",
    "\n",
    "function MOI.supports_constraint(::Optimizer, ::Type{<:MOI.VectorAffineFunction}, ::Type{<:SOS.SOSPolynomialSet{SOS.FullSpace}})\n",
    "    return true\n",
    "end\n",
    "function MOI.add_constraint(optimizer::Optimizer, func::MOI.VectorAffineFunction, set::SOS.SOSPolynomialSet{SOS.FullSpace})\n",
    "    if optimizer.p !== nothing\n",
    "        error(\"Only one constraint is supported\")\n",
    "    end\n",
    "    if !isempty(func.terms)\n",
    "        error(\"Only supports constant polynomials\")\n",
    "    end\n",
    "    optimizer.p = MP.polynomial(func.constants, set.monomials)\n",
    "    return MOI.ConstraintIndex{typeof(func),typeof(set)}(1) # There will be only ever one constraint so the index does not matter.\n",
    "end\n",
    "\n",
    "MOI.supports_incremental_interface(::Optimizer) = true\n",
    "function MOI.copy_to(optimizer::Optimizer, model::MOI.ModelLike)\n",
    "    return MOI.Utilities.default_copy_to(optimizer, model)\n",
    "end\n",
    "function MOI.optimize!(optimizer::Optimizer)\n",
    "    optimizer.decomposition = decompose(optimizer.p, optimizer.tol)\n",
    "end\n",
    "\n",
    "function MOI.get(optimizer::Optimizer, ::MOI.TerminationStatus)\n",
    "    if optimizer.decomposition === nothing\n",
    "        return MOI.INFEASIBLE\n",
    "    else\n",
    "        return MOI.OPTIMAL\n",
    "    end\n",
    "end\n",
    "\n",
    "function MOI.get(optimizer::Optimizer, ::MOI.PrimalStatus)\n",
    "    if optimizer.decomposition === nothing\n",
    "        return MOI.NO_SOLUTION\n",
    "    else\n",
    "        return MOI.FEASIBLE_POINT\n",
    "    end\n",
    "end\n",
    "\n",
    "function MOI.get(optimizer::Optimizer, ::SOS.SOSDecompositionAttribute, ::MOI.ConstraintIndex)\n",
    "    return optimizer.decomposition\n",
    "end\n",
    "\n",
    "end"
   ],
   "metadata": {},
   "execution_count": 1
  },
  {
   "cell_type": "markdown",
   "source": [
    "We define the same function both for our new solver and SDP solvers."
   ],
   "metadata": {}
  },
  {
   "outputs": [
    {
     "output_type": "execute_result",
     "data": {
      "text/plain": "decompose (generic function with 1 method)"
     },
     "metadata": {},
     "execution_count": 2
    }
   ],
   "cell_type": "code",
   "source": [
    "using SumOfSquares\n",
    "function decompose(p, solver)\n",
    "    model = Model(solver)\n",
    "    con = @constraint(model, p in SOSCone())\n",
    "    optimize!(model)\n",
    "    @assert primal_status(model) == MOI.FEASIBLE_POINT\n",
    "    return sos_decomposition(con)\n",
    "end"
   ],
   "metadata": {},
   "execution_count": 2
  },
  {
   "cell_type": "markdown",
   "source": [
    "We consider the following univariate polynomial from\n",
    "Example 3.35 of [BPT12].\n",
    "\n",
    "[BPT12] Blekherman, G.; Parrilo, P. A. & Thomas, R. R.\n",
    "*Semidefinite Optimization and Convex Algebraic Geometry*.\n",
    "Society for Industrial and Applied Mathematics, **2012**."
   ],
   "metadata": {}
  },
  {
   "cell_type": "markdown",
   "source": [
    "Using our solver we find the following decomposition in two squares."
   ],
   "metadata": {}
  },
  {
   "outputs": [
    {
     "output_type": "execute_result",
     "data": {
      "text/plain": "(-0.9999999999999989 + 2.0000000000000018*x + x^2)^2 + (-2.000000000000003 - 2.0*x)^2"
     },
     "metadata": {},
     "execution_count": 3
    }
   ],
   "cell_type": "code",
   "source": [
    "using DynamicPolynomials\n",
    "@polyvar x\n",
    "p = x^4 + 4x^3 + 6x^2 + 4x + 5\n",
    "dec = decompose(p, MyUnivariateSolver.Optimizer)"
   ],
   "metadata": {},
   "execution_count": 3
  },
  {
   "cell_type": "markdown",
   "source": [
    "We can verify as follows that it gives a correct decomposition:"
   ],
   "metadata": {}
  },
  {
   "outputs": [
    {
     "output_type": "execute_result",
     "data": {
      "text/plain": "5.000000000000011 + 4.000000000000013x + 6.000000000000009x² + 4.0000000000000036x³ + x⁴",
      "text/latex": "$$ 5.000000000000011 + 4.000000000000013x + 6.000000000000009x^{2} + 4.0000000000000036x^{3} + x^{4} $$"
     },
     "metadata": {},
     "execution_count": 4
    }
   ],
   "cell_type": "code",
   "source": [
    "polynomial(dec)"
   ],
   "metadata": {},
   "execution_count": 4
  },
  {
   "cell_type": "markdown",
   "source": [
    "We can also use a semidefinite solver:"
   ],
   "metadata": {}
  },
  {
   "outputs": [
    {
     "name": "stdout",
     "output_type": "stream",
     "text": [
      "Iter: 17 Ap: 5.20e-01 Pobj:  0.0000000e+00 Ad: 6.52e-01 Dobj:  2.9487530e-05 \n",
      "Success: SDP solved\n",
      "Primal objective value: 0.0000000e+00 \n",
      "Dual objective value: 0.0000000e+00 \n",
      "Relative primal infeasibility: 6.05e-09 \n",
      "Relative dual infeasibility: 1.89e-47 \n",
      "Real Relative Gap: 0.00e+00 \n",
      "XZ Relative Gap: 3.58e-44 \n",
      "DIMACS error measures: 7.31e-09 0.00e+00 1.89e-47 0.00e+00 0.00e+00 3.58e-44\n",
      "CSDP 6.2.0\n",
      "This is a pure primal feasibility problem.\n",
      "Iter:  0 Ap: 0.00e+00 Pobj:  0.0000000e+00 Ad: 0.00e+00 Dobj:  0.0000000e+00 \n",
      "Iter:  1 Ap: 9.00e-01 Pobj:  0.0000000e+00 Ad: 1.00e+00 Dobj:  2.6555556e+01 \n",
      "Iter:  2 Ap: 1.00e+00 Pobj:  0.0000000e+00 Ad: 1.00e+00 Dobj:  4.6844813e+00 \n"
     ]
    },
    {
     "output_type": "execute_result",
     "data": {
      "text/plain": "(-1.427129363465496 - 2.4208468386942927*x - 0.6086796827684929*x^2)^2 + (1.7193818199786148 - 0.8390365176838649*x - 0.694291912281399*x^2)^2 + (0.08383279228081496 - 0.14597477689220884*x + 0.3840153438672542*x^2)^2"
     },
     "metadata": {},
     "execution_count": 5
    }
   ],
   "cell_type": "code",
   "source": [
    "import CSDP\n",
    "dec = decompose(p, CSDP.Optimizer)"
   ],
   "metadata": {},
   "execution_count": 5
  },
  {
   "cell_type": "markdown",
   "source": [
    "The decomposition is different, it is the sum of 3 squares.\n",
    "However, it is also valid:"
   ],
   "metadata": {}
  },
  {
   "outputs": [
    {
     "output_type": "execute_result",
     "data": {
      "text/plain": "5.000000000000004 + 3.999999999999997x + 5.9999999999999964x² + 4.000000000000001x³ + 1.0000000000000004x⁴",
      "text/latex": "$$ 5.000000000000004 + 3.999999999999997x + 5.9999999999999964x^{2} + 4.000000000000001x^{3} + 1.0000000000000004x^{4} $$"
     },
     "metadata": {},
     "execution_count": 6
    }
   ],
   "cell_type": "code",
   "source": [
    "polynomial(dec)"
   ],
   "metadata": {},
   "execution_count": 6
  },
  {
   "cell_type": "markdown",
   "source": [
    "---\n",
    "\n",
    "*This notebook was generated using [Literate.jl](https://github.com/fredrikekre/Literate.jl).*"
   ],
   "metadata": {}
  }
 ],
 "nbformat_minor": 3,
 "metadata": {
  "language_info": {
   "file_extension": ".jl",
   "mimetype": "application/julia",
   "name": "julia",
   "version": "1.9.4"
  },
  "kernelspec": {
   "name": "julia-1.9",
   "display_name": "Julia 1.9.4",
   "language": "julia"
  }
 },
 "nbformat": 4
}

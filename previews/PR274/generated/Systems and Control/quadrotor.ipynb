{
 "cells": [
  {
   "cell_type": "markdown",
   "source": [
    "# Viability tube for quadrotor"
   ],
   "metadata": {}
  },
  {
   "cell_type": "markdown",
   "source": [
    "**Adapted from**: [YAP21, Section V.D] for the model defined in [B12], [M16, Section IV] and [M19, Section 6.1]\n",
    "\n",
    "[B12] Bouffard, Patrick.\n",
    "*On-board model predictive control of a quadrotor helicopter: Design, implementation, and experiments.*\n",
    "CALIFORNIA UNIV BERKELEY DEPT OF COMPUTER SCIENCES, 2012.\n",
    "\n",
    "[M16] Mitchell, Ian M., et al.\n",
    "*Ensuring safety for sampled data systems: An efficient algorithm for filtering potentially unsafe input signals.*\n",
    "2016 IEEE 55th Conference on Decision and Control (CDC). IEEE, 2016.\n",
    "\n",
    "[M19] Mitchell, Ian M., Jacob Budzis, and Andriy Bolyachevets.\n",
    "*Invariant, viability and discriminating kernel under-approximation via zonotope scaling.*\n",
    "Proceedings of the 22nd ACM International Conference on Hybrid Systems: Computation and Control. 2019.\n",
    "\n",
    "[YAP21] Yin, H., Arcak, M., Packard, A., & Seiler, P. (2021).\n",
    "*Backward reachability for polynomial systems on a finite horizon.*\n",
    "IEEE Transactions on Automatic Control, 66(12), 6025-6032."
   ],
   "metadata": {}
  },
  {
   "outputs": [
    {
     "output_type": "execute_result",
     "data": {
      "text/plain": "2"
     },
     "metadata": {},
     "execution_count": 1
    }
   ],
   "cell_type": "code",
   "source": [
    "using DynamicPolynomials\n",
    "@polyvar x[1:6]\n",
    "@polyvar u[1:2]\n",
    "sinx5 = -0.166 * x[5]^3 + x[5]\n",
    "cosx5 = -0.498 * x[5]^2 + 1\n",
    "gn = 9.8\n",
    "K = 0.89 / 1.4\n",
    "d0 = 70\n",
    "d1 = 17\n",
    "n0 = 55\n",
    "f = [\n",
    "    x[3],\n",
    "    x[4],\n",
    "    0,\n",
    "    -gn,\n",
    "    x[6],\n",
    "    -d0 * x[5] - d1 * x[6],\n",
    "]\n",
    "n_x = length(f)\n",
    "g = [\n",
    "    0         0\n",
    "    0         0\n",
    "    K * sinx5 0\n",
    "    K * cosx5 0\n",
    "    0         0\n",
    "    0         n0\n",
    "]\n",
    "n_u = size(g, 2)"
   ],
   "metadata": {},
   "execution_count": 1
  },
  {
   "cell_type": "markdown",
   "source": [
    "The constraints below are the same as [YAP21, M16, M19] except\n",
    "[M16, M19] uses different bounds for `x[2]` and\n",
    "[M16] uses different bounds for `x[5]`"
   ],
   "metadata": {}
  },
  {
   "outputs": [
    {
     "output_type": "execute_result",
     "data": {
      "text/plain": "Basic semialgebraic Set defined by no equality\n12 inequalities\n x[1] + 1.7 ≥ 0\n -x[1] + 1.7 ≥ 0\n x[2] + 0.85 ≥ 0\n -x[2] + 0.85 ≥ 0\n x[3] + 0.8 ≥ 0\n -x[3] + 0.8 ≥ 0\n x[4] + 1.0 ≥ 0\n -x[4] + 1.0 ≥ 0\n x[5] + 0.2617993877991494 ≥ 0\n -x[5] + 0.2617993877991494 ≥ 0\n x[6] + 1.5707963267948966 ≥ 0\n -x[6] + 1.5707963267948966 ≥ 0\n"
     },
     "metadata": {},
     "execution_count": 2
    }
   ],
   "cell_type": "code",
   "source": [
    "using SumOfSquares\n",
    "rectangle = [1.7, 0.85, 0.8, 1, π/12, π/2, 1.5, π/12]\n",
    "X = BasicSemialgebraicSet(FullSpace(), typeof(x[1] + 1.0)[])\n",
    "for i in eachindex(x)\n",
    "    addinequality!(X, x[i] + rectangle[i]) # x[i] >= -rectangle[i]\n",
    "    addinequality!(X, rectangle[i] - x[i]) # x[i] <= rectangle[i]\n",
    "end\n",
    "X"
   ],
   "metadata": {},
   "execution_count": 2
  },
  {
   "cell_type": "markdown",
   "source": [
    "The starting value for `k` is the following linear state-feedback\n",
    "that maintains the quadrotor at the origin [YAP21, Remark 3].\n",
    "\n",
    "For this, we compute an ellipsoidal control invariant set using [LJ21, Corollary 9]\n",
    "For this, we first compute the descriptor system described in [LJ21, Proposition 5].\n",
    "\n",
    "[LJ21] Legat, Benoît, and Jungers, Raphaël M.\n",
    "*Geometric control of algebraic systems.*\n",
    "IFAC-PapersOnLine 54.5 (2021): 79-84."
   ],
   "metadata": {}
  },
  {
   "outputs": [
    {
     "output_type": "execute_result",
     "data": {
      "text/plain": "2-element Vector{Float64}:\n 15.415730337078651\n  0.0"
     },
     "metadata": {},
     "execution_count": 3
    }
   ],
   "cell_type": "code",
   "source": [
    "using SparseArrays\n",
    "x0 = zeros(n_x)\n",
    "u0 = [gn/K, 0.0]"
   ],
   "metadata": {},
   "execution_count": 3
  },
  {
   "cell_type": "markdown",
   "source": [
    "The linearization of `f` is given by"
   ],
   "metadata": {}
  },
  {
   "outputs": [
    {
     "output_type": "execute_result",
     "data": {
      "text/plain": "6×6 Matrix{Float64}:\n 0.0  0.0  1.0  0.0    0.0    0.0\n 0.0  0.0  0.0  1.0    0.0    0.0\n 0.0  0.0  0.0  0.0    0.0    0.0\n 0.0  0.0  0.0  0.0    0.0    0.0\n 0.0  0.0  0.0  0.0    0.0    1.0\n 0.0  0.0  0.0  0.0  -70.0  -17.0"
     },
     "metadata": {},
     "execution_count": 4
    }
   ],
   "cell_type": "code",
   "source": [
    "A = map(differentiate(f, x)) do f\n",
    "    f(x => x0)\n",
    "end"
   ],
   "metadata": {},
   "execution_count": 4
  },
  {
   "cell_type": "markdown",
   "source": [
    "The linearization of `g` is given by:"
   ],
   "metadata": {}
  },
  {
   "outputs": [
    {
     "output_type": "execute_result",
     "data": {
      "text/plain": "6×2 Matrix{Float64}:\n 0.0        0.0\n 0.0        0.0\n 0.0        0.0\n 0.635714   0.0\n 0.0        0.0\n 0.0       55.0"
     },
     "metadata": {},
     "execution_count": 5
    }
   ],
   "cell_type": "code",
   "source": [
    "B = map(g) do g\n",
    "    g(x => x0)\n",
    "end"
   ],
   "metadata": {},
   "execution_count": 5
  },
  {
   "cell_type": "markdown",
   "source": [
    "We can see that the equilibrium is not stabilizable.\n",
    "Indeed, if `x3` is nonzero then `x1` will grow indefinitely\n",
    "while we have no control over either `x1` nor `x3`.\n",
    "Let's find a Lyapunov function for the rest of the states\n",
    "and compute a linear state feedback for these."
   ],
   "metadata": {}
  },
  {
   "outputs": [
    {
     "output_type": "execute_result",
     "data": {
      "text/plain": "4×6 Matrix{Float64}:\n 0.0  1.0    0.0    0.0  0.0        0.0\n 0.0  0.0    0.0    0.0  0.635714   0.0\n 0.0  0.0    0.0    1.0  0.0        0.0\n 0.0  0.0  -70.0  -17.0  0.0       55.0"
     },
     "metadata": {},
     "execution_count": 6
    }
   ],
   "cell_type": "code",
   "source": [
    "J = setdiff(1:n_x, [1, 3])\n",
    "nJ = length(J)\n",
    "nD = nJ + n_u\n",
    "E = sparse(1:nJ, 1:nJ, ones(nJ), nJ, nD)\n",
    "AJ = A[J, J]\n",
    "BJ = B[J, :]\n",
    "C = [AJ BJ]"
   ],
   "metadata": {},
   "execution_count": 6
  },
  {
   "cell_type": "markdown",
   "source": [
    "We know solve [LJ21, (13)]"
   ],
   "metadata": {}
  },
  {
   "outputs": [
    {
     "output_type": "execute_result",
     "data": {
      "text/plain": "* Solver : SCS\n\n* Status\n  Result count       : 1\n  Termination status : OPTIMAL\n  Message from the solver:\n  \"solved\"\n\n* Candidate solution (result #1)\n  Primal status      : FEASIBLE_POINT\n  Dual status        : FEASIBLE_POINT\n  Objective value    : 6.24704e-01\n  Dual objective value : 6.24693e-01\n\n* Work counters\n  Solve time (sec)   : 6.10355e-02\n"
     },
     "metadata": {},
     "execution_count": 7
    }
   ],
   "cell_type": "code",
   "source": [
    "using LinearAlgebra\n",
    "import SCS\n",
    "solver = optimizer_with_attributes(SCS.Optimizer, MOI.Silent() => true)\n",
    "model = Model(solver)\n",
    "@variable(model, Q[1:nD, 1:nD] in PSDCone())\n",
    "cref = @constraint(model, Symmetric(-C * Q * E' - E * Q * C') in PSDCone())\n",
    "rectangle_J = rectangle[[J; nJ .+ (1:n_u)]]\n",
    "@constraint(model, rect_ref[i in 1:nD], Q[i, i] <= rectangle[i])\n",
    "@variable(model, volume)\n",
    "q = [Q[i, j] for j in 1:nD for i in 1:j]\n",
    "@constraint(model, [volume; q] in MOI.RootDetConeTriangle(nD))\n",
    "@objective(model, Max, volume)\n",
    "optimize!(model)\n",
    "solution_summary(model)"
   ],
   "metadata": {},
   "execution_count": 7
  },
  {
   "cell_type": "markdown",
   "source": [
    "We now have the control-Lyapunov function `V(x, u) = [x, u]' inv(Q) [x, u]`.\n",
    "In other words, The 1-sublevel set of `V(x, u)` is an invariant subset of `rectangle`\n",
    "with any state-feedback `κ(x)` such that `V(x, κ(x)) ≤ 1` for any `x` such that\n",
    "`min_u V(x, u) ≤ 1`.\n",
    "Such candidate `κ(x)` can therefore be chosen as `argmin_u V(x, u)`.\n",
    "Let `inv(Q) = U' * U` where `U = [Ux Uu]`. We have `V(x, u) = ||Ux * x + Uu * u||_2`.\n",
    "`κ(x)` is therefore the least-square solution of `Uu * κ(x) = -Ux * x`.\n",
    "This we find the linear state-feedback `κ(x) = K * x` where `K = -Uu \\ Ux`."
   ],
   "metadata": {}
  },
  {
   "outputs": [
    {
     "output_type": "execute_result",
     "data": {
      "text/plain": "2-element Vector{DynamicPolynomials.Polynomial{true, Float64}}:\n -0.19622653627237438x₂ - 0.39287266922367087x₄ - 3.930388471170766e-16x₅ - 2.5763934158713317e-16x₆\n 2.6828640723569464e-15x₂ - 6.523042058279634e-15x₄ + 0.9534429382637486x₅ - 0.11396000421436397x₆"
     },
     "metadata": {},
     "execution_count": 8
    }
   ],
   "cell_type": "code",
   "source": [
    "P = inv(Symmetric(value.(Q)))\n",
    "using LinearAlgebra\n",
    "F = cholesky(P)\n",
    "K = -F.U[:, (nJ + 1):(nD)] \\ F.U[:, 1:nJ] # That gives the following state feedback in polynomial form:\n",
    "\n",
    "k = K * x[J]"
   ],
   "metadata": {},
   "execution_count": 8
  },
  {
   "cell_type": "markdown",
   "source": [
    "We now have two equivalent ways to obtain the Lyapunov function.\n",
    "Because `{V(x) ≤ 1} = {min_u V(x, u) ≤ 1}`,\n",
    "see the left-hand side as the projection of the ellipsoid on `x, u`.\n",
    "As the projection on the polar becomes simply cutting with the hyperplane `u = 0`,\n",
    "the polar of the projection is simply `Q[1:6, 1:6]` ! So"
   ],
   "metadata": {}
  },
  {
   "outputs": [
    {
     "output_type": "execute_result",
     "data": {
      "text/plain": "4×4 LinearAlgebra.Symmetric{Float64, Matrix{Float64}}:\n 0.661753      0.441601      2.86668e-15   2.29212e-15\n 0.441601      2.65257      -5.85708e-15  -1.691e-15\n 2.86668e-15  -5.85708e-15   1.69023       0.449148\n 2.29212e-15  -1.691e-15     0.449148      1.11935"
     },
     "metadata": {},
     "execution_count": 9
    }
   ],
   "cell_type": "code",
   "source": [
    "Px = inv(Symmetric(value.(Q[1:nJ, 1:nJ])))"
   ],
   "metadata": {},
   "execution_count": 9
  },
  {
   "cell_type": "markdown",
   "source": [
    "An alternative way is to use our linear state feedback.\n",
    "We know that `min_u V(x, u) = V(x, Kx)` so"
   ],
   "metadata": {}
  },
  {
   "outputs": [
    {
     "output_type": "execute_result",
     "data": {
      "text/plain": "4×4 Matrix{Float64}:\n 0.661753      0.441601      2.86668e-15   2.29212e-15\n 0.441601      2.65257      -5.85708e-15  -1.691e-15\n 2.86668e-15  -5.85708e-15   1.69023       0.449148\n 2.29212e-15  -1.691e-15     0.449148      1.11935"
     },
     "metadata": {},
     "execution_count": 10
    }
   ],
   "cell_type": "code",
   "source": [
    "Px = [I; K]' * P * [I; K]"
   ],
   "metadata": {},
   "execution_count": 10
  },
  {
   "cell_type": "markdown",
   "source": [
    "We can double check that this matrix is negative definite:"
   ],
   "metadata": {}
  },
  {
   "outputs": [
    {
     "output_type": "execute_result",
     "data": {
      "text/plain": "4-element Vector{Float64}:\n -66.96611787243293\n  -0.5519161080356569\n  -4.058120947211065e-5\n  -1.1635183326520363e-5"
     },
     "metadata": {},
     "execution_count": 11
    }
   ],
   "cell_type": "code",
   "source": [
    "eigen(Symmetric(Px * (AJ + BJ * K) + (AJ + BJ * K)' * Px)).values"
   ],
   "metadata": {},
   "execution_count": 11
  },
  {
   "cell_type": "markdown",
   "source": [
    "Let's now find a valid Lyapunov function for the nonlinear system\n",
    "using that linear state feedback.\n",
    "That corresponds to the V-step of [YAP21, Algorithm 1]:"
   ],
   "metadata": {}
  },
  {
   "outputs": [
    {
     "output_type": "execute_result",
     "data": {
      "text/plain": "* Solver : SCS\n\n* Status\n  Result count       : 1\n  Termination status : OPTIMAL\n  Message from the solver:\n  \"solved\"\n\n* Candidate solution (result #1)\n  Primal status      : FEASIBLE_POINT\n  Dual status        : FEASIBLE_POINT\n  Objective value    : 0.00000e+00\n  Dual objective value : -7.48602e-12\n\n* Work counters\n  Solve time (sec)   : 6.83004e-03\n"
     },
     "metadata": {},
     "execution_count": 12
    }
   ],
   "cell_type": "code",
   "source": [
    "function _create(model, d, P)\n",
    "    if d isa Int\n",
    "        return @variable(model, variable_type = P(monomials(x, 0:d)))\n",
    "        #return @variable(model, variable_type = P(monomials([t; x], 0:d)))\n",
    "    else\n",
    "        return d\n",
    "    end\n",
    "end\n",
    "function base_model(solver, V, k, s3, γ)\n",
    "    model = SOSModel(solver)\n",
    "    V = _create(model, V, Poly)\n",
    "    k = _create.(model, k, Poly)\n",
    "    s3 = _create(model, s3, SOSPoly)\n",
    "    ∂ = differentiate # Let's use a fancy shortcut\n",
    "    @constraint(model, ∂(V, x) ⋅ (f + g * k) <= s3 * (V - γ)) # [YAP21, (E.2)]\n",
    "    for r in inequalities(X)\n",
    "        @constraint(model, V >= γ, domain = @set(r >= 0)) # [YAP21, (E.3)]\n",
    "    end\n",
    "    return model, V, k, s3\n",
    "end\n",
    "\n",
    "_degree(d::Int) = d\n",
    "_degree(V) = maxdegree(V)\n",
    "\n",
    "function V_step(solver, V0, γ, k, s3)\n",
    "    model, V, k, s3 = base_model(solver, _degree(V0), k, s3, γ)\n",
    "    if !(V0 isa Int)\n",
    "        @constraint(model, V >= γ, domain = @set(V0 >= γ)) # [YAP21, (E.6)]\n",
    "    end\n",
    "    optimize!(model)\n",
    "    return model, value(V)\n",
    "end\n",
    "\n",
    "γ = 1.0\n",
    "s3 = 1.0\n",
    "model, V = V_step(solver, 2, γ, k, s3)\n",
    "solution_summary(model)"
   ],
   "metadata": {},
   "execution_count": 12
  },
  {
   "cell_type": "markdown",
   "source": [
    "The Lyapunov obtained is as follows"
   ],
   "metadata": {}
  },
  {
   "outputs": [
    {
     "output_type": "execute_result",
     "data": {
      "text/plain": "3.270918395732398e-8x₁² + 3.167809298034239e-23x₁x₂ - 2.530765421021385e-12x₁x₃ - 1.6957568763743917e-24x₁x₄ - 4.046968102637713e-12x₁x₅ + 7.155764089773019e-13x₁x₆ + 1.3704656436223044e-7x₂² - 1.700600017936993e-23x₂x₃ - 1.745266763178922e-7x₂x₄ - 6.349598762228351e-22x₂x₅ + 3.751457724049311e-22x₂x₆ + 6.917050716923042e-12x₃² + 9.069404342588527e-25x₃x₄ + 1.4704199201121313e-13x₃x₅ - 2.3070604887078734e-15x₃x₆ + 1.5612394153649966e-7x₄² + 3.8838925942527625e-21x₄x₅ + 2.0809806260551552e-22x₄x₆ + 3.631738895961291e-7x₅² - 1.2963928636526255e-9x₅x₆ + 7.072583336286186e-8x₆² - 2.906254993885284e-21x₁ + 5.081950998123909e-7x₂ - 8.725723805070821e-22x₃ - 4.1379474225663187e-7x₄ - 1.2636023067916625e-20x₅ - 1.9387032398637226e-21x₆ + 1.0000068335029546",
      "text/latex": "$$ 3.270918395732398e-8x_{1}^{2} + 3.167809298034239e-23x_{1}x_{2} - 2.530765421021385e-12x_{1}x_{3} - 1.6957568763743917e-24x_{1}x_{4} - 4.046968102637713e-12x_{1}x_{5} + 7.155764089773019e-13x_{1}x_{6} + 1.3704656436223044e-7x_{2}^{2} - 1.700600017936993e-23x_{2}x_{3} - 1.745266763178922e-7x_{2}x_{4} - 6.349598762228351e-22x_{2}x_{5} + 3.751457724049311e-22x_{2}x_{6} + 6.917050716923042e-12x_{3}^{2} + 9.069404342588527e-25x_{3}x_{4} + 1.4704199201121313e-13x_{3}x_{5} - 2.3070604887078734e-15x_{3}x_{6} + 1.5612394153649966e-7x_{4}^{2} + 3.8838925942527625e-21x_{4}x_{5} + 2.0809806260551552e-22x_{4}x_{6} + 3.631738895961291e-7x_{5}^{2} - 1.2963928636526255e-9x_{5}x_{6} + 7.072583336286186e-8x_{6}^{2} - 2.906254993885284e-21x_{1} + 5.081950998123909e-7x_{2} - 8.725723805070821e-22x_{3} - 4.1379474225663187e-7x_{4} - 1.2636023067916625e-20x_{5} - 1.9387032398637226e-21x_{6} + 1.0000068335029546 $$"
     },
     "metadata": {},
     "execution_count": 13
    }
   ],
   "cell_type": "code",
   "source": [
    "V"
   ],
   "metadata": {},
   "execution_count": 13
  },
  {
   "cell_type": "markdown",
   "source": [
    "We now try to find a state feedback that would improve γ"
   ],
   "metadata": {}
  },
  {
   "outputs": [
    {
     "name": "stdout",
     "output_type": "stream",
     "text": [
      "[ Info: Iteration 1/10 : solving...\n",
      "[ Info: Solved in 0.092617425 : γ ∈ ]1.0, 3.0]\n",
      "[ Info: Iteration 2/10 : solving...\n",
      "[ Info: Solved in 0.09151751899999999 : γ ∈ ]1.0, 2.0]\n",
      "[ Info: Iteration 3/10 : solving...\n",
      "[ Info: Solved in 0.087750497 : γ ∈ ]1.0, 1.5]\n",
      "[ Info: Iteration 4/10 : solving...\n",
      "[ Info: Solved in 0.088683104 : γ ∈ ]1.0, 1.25]\n",
      "[ Info: Iteration 5/10 : solving...\n",
      "[ Info: Solved in 0.11490145199999999 : γ ∈ ]1.0, 1.125]\n",
      "[ Info: Iteration 6/10 : solving...\n",
      "[ Info: Solved in 0.086079088 : γ ∈ ]1.0, 1.0625]\n",
      "[ Info: Iteration 7/10 : solving...\n",
      "[ Info: Solved in 0.087819998 : γ ∈ ]1.0, 1.03125]\n",
      "[ Info: Iteration 8/10 : solving...\n",
      "[ Info: Solved in 0.08938420700000001 : γ ∈ ]1.0, 1.015625]\n",
      "[ Info: Iteration 9/10 : solving...\n",
      "[ Info: Solved in 0.08630818999999999 : γ ∈ ]1.0, 1.0078125]\n",
      "[ Info: Iteration 10/10 : solving...\n",
      "[ Info: Solved in 0.08896680500000001 : γ ∈ ]1.0, 1.00390625]\n"
     ]
    },
    {
     "output_type": "execute_result",
     "data": {
      "text/plain": "(1.0, DynamicPolynomials.Polynomial{true, Float64}[-0.19622653627237438x₂ - 0.39287266922367087x₄ - 3.930388471170766e-16x₅ - 2.5763934158713317e-16x₆, 2.6828640723569464e-15x₂ - 6.523042058279634e-15x₄ + 0.9534429382637486x₅ - 0.11396000421436397x₆], 1.0)"
     },
     "metadata": {},
     "execution_count": 14
    }
   ],
   "cell_type": "code",
   "source": [
    "using MutableArithmetics\n",
    "function γ_step(solver, V, γ_min, k_best, s3_best, degree_k, degree_s3, γ_tol, max_iters)\n",
    "    γ0_min = γ_min\n",
    "    γ_max = Inf\n",
    "    num_iters = 0\n",
    "    while γ_max - γ_min > γ_tol && num_iters < max_iters\n",
    "        if isfinite(γ_max)\n",
    "            γ = (γ_min + γ_max) / 2\n",
    "        else\n",
    "            γ = γ0_min + (γ_min - γ0_min + 1) * 2\n",
    "        end\n",
    "        model, V, k, s3 = base_model(solver, V, degree_k, degree_s3, γ)\n",
    "        num_iters += 1\n",
    "        @info(\"Iteration $num_iters/$max_iters : solving...\")\n",
    "        optimize!(model)\n",
    "        if primal_status(model) == MOI.FEASIBLE_POINT\n",
    "            γ_min = γ\n",
    "            k_best = value.(k)\n",
    "            s3_best = value(s3)\n",
    "        elseif dual_status(model) == MOI.INFEASIBILITY_CERTIFICATE\n",
    "            γ_max = γ\n",
    "        else\n",
    "            @warn(\"Giving up $(raw_status(model)), $(termination_status(model)), $(primal_status(model)), $(dual_status(model))\")\n",
    "            break\n",
    "        end\n",
    "        @info(\"Solved in $(solve_time(model)) : γ ∈ ]$γ_min, $γ_max]\")\n",
    "    end\n",
    "    if !isfinite(γ_max)\n",
    "        error(\"Cannot find any infeasible γ\")\n",
    "    end\n",
    "    return γ_min, k_best, s3_best\n",
    "end\n",
    "\n",
    "γ, k, s3 = γ_step(solver, V, γ, k, s3, [2, 2], 2, 1e-3, 10)"
   ],
   "metadata": {},
   "execution_count": 14
  },
  {
   "cell_type": "markdown",
   "source": [
    "We now try to find a new Lyapunov V:"
   ],
   "metadata": {}
  },
  {
   "outputs": [
    {
     "output_type": "execute_result",
     "data": {
      "text/plain": "* Solver : SCS\n\n* Status\n  Result count       : 1\n  Termination status : OPTIMAL\n  Message from the solver:\n  \"solved\"\n\n* Candidate solution (result #1)\n  Primal status      : FEASIBLE_POINT\n  Dual status        : FEASIBLE_POINT\n  Objective value    : 0.00000e+00\n  Dual objective value : -7.83079e-12\n\n* Work counters\n  Solve time (sec)   : 7.68374e-03\n"
     },
     "metadata": {},
     "execution_count": 15
    }
   ],
   "cell_type": "code",
   "source": [
    "model, V = V_step(solver, V, γ, k, s3)\n",
    "solution_summary(model)"
   ],
   "metadata": {},
   "execution_count": 15
  },
  {
   "cell_type": "markdown",
   "source": [
    "The Lyapunov obtained is as follows"
   ],
   "metadata": {}
  },
  {
   "outputs": [
    {
     "output_type": "execute_result",
     "data": {
      "text/plain": "2.6887299233504928e-8x₁² + 2.9872456866778983e-22x₁x₂ - 2.1001715283002107e-12x₁x₃ - 1.0564783856845026e-23x₁x₄ - 4.1701741482069905e-12x₁x₅ + 6.081130476278392e-13x₁x₆ + 1.3292427676820004e-7x₂² - 1.2455396604481166e-24x₂x₃ - 1.652986627998994e-7x₂x₄ + 9.704285178591127e-22x₂x₅ + 3.110818506251064e-22x₂x₆ + 5.689477455633206e-12x₃² + 4.0087452607583566e-24x₃x₄ - 3.7082957182125265e-13x₃x₅ + 1.936766477769727e-15x₃x₆ + 1.474520495638035e-7x₄² + 2.105424731073417e-21x₄x₅ + 3.309792931490456e-22x₄x₆ + 3.252095639402081e-7x₅² - 8.895436954412837e-10x₅x₆ + 6.573719564305073e-8x₆² - 1.9316086180918378e-21x₁ + 4.7073526459043376e-7x₂ - 3.422343936884572e-21x₃ - 3.924799482096176e-7x₄ - 5.7908724195359595e-21x₅ - 1.6851565478676564e-21x₆ + 1.000006466375888",
      "text/latex": "$$ 2.6887299233504928e-8x_{1}^{2} + 2.9872456866778983e-22x_{1}x_{2} - 2.1001715283002107e-12x_{1}x_{3} - 1.0564783856845026e-23x_{1}x_{4} - 4.1701741482069905e-12x_{1}x_{5} + 6.081130476278392e-13x_{1}x_{6} + 1.3292427676820004e-7x_{2}^{2} - 1.2455396604481166e-24x_{2}x_{3} - 1.652986627998994e-7x_{2}x_{4} + 9.704285178591127e-22x_{2}x_{5} + 3.110818506251064e-22x_{2}x_{6} + 5.689477455633206e-12x_{3}^{2} + 4.0087452607583566e-24x_{3}x_{4} - 3.7082957182125265e-13x_{3}x_{5} + 1.936766477769727e-15x_{3}x_{6} + 1.474520495638035e-7x_{4}^{2} + 2.105424731073417e-21x_{4}x_{5} + 3.309792931490456e-22x_{4}x_{6} + 3.252095639402081e-7x_{5}^{2} - 8.895436954412837e-10x_{5}x_{6} + 6.573719564305073e-8x_{6}^{2} - 1.9316086180918378e-21x_{1} + 4.7073526459043376e-7x_{2} - 3.422343936884572e-21x_{3} - 3.924799482096176e-7x_{4} - 5.7908724195359595e-21x_{5} - 1.6851565478676564e-21x_{6} + 1.000006466375888 $$"
     },
     "metadata": {},
     "execution_count": 16
    }
   ],
   "cell_type": "code",
   "source": [
    "V"
   ],
   "metadata": {},
   "execution_count": 16
  },
  {
   "cell_type": "markdown",
   "source": [
    "We now try to improve γ again"
   ],
   "metadata": {}
  },
  {
   "outputs": [
    {
     "name": "stdout",
     "output_type": "stream",
     "text": [
      "[ Info: Iteration 1/10 : solving...\n",
      "[ Info: Solved in 0.09087311599999999 : γ ∈ ]1.0, 3.0]\n",
      "[ Info: Iteration 2/10 : solving...\n",
      "[ Info: Solved in 0.09133789899999999 : γ ∈ ]1.0, 2.0]\n",
      "[ Info: Iteration 3/10 : solving...\n",
      "[ Info: Solved in 0.08670916599999999 : γ ∈ ]1.0, 1.5]\n",
      "[ Info: Iteration 4/10 : solving...\n",
      "[ Info: Solved in 0.08758816999999999 : γ ∈ ]1.0, 1.25]\n",
      "[ Info: Iteration 5/10 : solving...\n",
      "[ Info: Solved in 0.090765587 : γ ∈ ]1.0, 1.125]\n",
      "[ Info: Iteration 6/10 : solving...\n",
      "[ Info: Solved in 0.087583569 : γ ∈ ]1.0, 1.0625]\n",
      "[ Info: Iteration 7/10 : solving...\n",
      "[ Info: Solved in 0.086625065 : γ ∈ ]1.0, 1.03125]\n",
      "[ Info: Iteration 8/10 : solving...\n",
      "[ Info: Solved in 0.087804372 : γ ∈ ]1.0, 1.015625]\n",
      "[ Info: Iteration 9/10 : solving...\n",
      "[ Info: Solved in 0.08982508200000001 : γ ∈ ]1.0, 1.0078125]\n",
      "[ Info: Iteration 10/10 : solving...\n",
      "[ Info: Solved in 0.088008373 : γ ∈ ]1.0, 1.00390625]\n"
     ]
    },
    {
     "output_type": "execute_result",
     "data": {
      "text/plain": "(1.0, DynamicPolynomials.Polynomial{true, Float64}[-0.19622653627237438x₂ - 0.39287266922367087x₄ - 3.930388471170766e-16x₅ - 2.5763934158713317e-16x₆, 2.6828640723569464e-15x₂ - 6.523042058279634e-15x₄ + 0.9534429382637486x₅ - 0.11396000421436397x₆], 1.0)"
     },
     "metadata": {},
     "execution_count": 17
    }
   ],
   "cell_type": "code",
   "source": [
    "γ, k, s3 = γ_step(solver, V, γ, k, s3, [2, 2], 2, 1e-3, 10)"
   ],
   "metadata": {},
   "execution_count": 17
  },
  {
   "cell_type": "markdown",
   "source": [
    "We now try to find a new Lyapunov V:"
   ],
   "metadata": {}
  },
  {
   "outputs": [
    {
     "output_type": "execute_result",
     "data": {
      "text/plain": "* Solver : SCS\n\n* Status\n  Result count       : 1\n  Termination status : OPTIMAL\n  Message from the solver:\n  \"solved\"\n\n* Candidate solution (result #1)\n  Primal status      : FEASIBLE_POINT\n  Dual status        : FEASIBLE_POINT\n  Objective value    : 0.00000e+00\n  Dual objective value : -7.83083e-12\n\n* Work counters\n  Solve time (sec)   : 7.12984e-03\n"
     },
     "metadata": {},
     "execution_count": 18
    }
   ],
   "cell_type": "code",
   "source": [
    "model, V = V_step(solver, V, γ, k, s3)\n",
    "solution_summary(model)"
   ],
   "metadata": {},
   "execution_count": 18
  },
  {
   "cell_type": "markdown",
   "source": [
    "The Lyapunov obtained is as follows"
   ],
   "metadata": {}
  },
  {
   "outputs": [
    {
     "output_type": "execute_result",
     "data": {
      "text/plain": "2.6887299283227056e-8x₁² + 2.8762797147229776e-22x₁x₂ - 2.100171534793294e-12x₁x₃ + 7.476442203909692e-25x₁x₄ - 4.170174149078067e-12x₁x₅ + 6.081130486979986e-13x₁x₆ + 1.3292427680563458e-7x₂² + 1.9358083615283524e-23x₂x₃ - 1.652986627604508e-7x₂x₄ + 7.647947358637265e-22x₂x₅ + 3.873503353002841e-22x₂x₆ + 5.689477467238331e-12x₃² - 9.861014506118508e-25x₃x₄ - 3.7082956913559794e-13x₃x₅ + 1.9367664554255644e-15x₃x₆ + 1.474520495340144e-7x₄² + 2.7897772730640074e-21x₄x₅ + 2.1266127707066577e-22x₄x₆ + 3.252095640491712e-7x₅² - 8.895436795628335e-10x₅x₆ + 6.573719564113916e-8x₆² + 6.0072488023391475e-22x₁ + 4.7073526494024047e-7x₂ + 1.0450303630378034e-21x₃ - 3.9247994881491304e-7x₄ - 8.33211884396278e-21x₅ - 1.834370496240584e-21x₆ + 1.0000064663758899",
      "text/latex": "$$ 2.6887299283227056e-8x_{1}^{2} + 2.8762797147229776e-22x_{1}x_{2} - 2.100171534793294e-12x_{1}x_{3} + 7.476442203909692e-25x_{1}x_{4} - 4.170174149078067e-12x_{1}x_{5} + 6.081130486979986e-13x_{1}x_{6} + 1.3292427680563458e-7x_{2}^{2} + 1.9358083615283524e-23x_{2}x_{3} - 1.652986627604508e-7x_{2}x_{4} + 7.647947358637265e-22x_{2}x_{5} + 3.873503353002841e-22x_{2}x_{6} + 5.689477467238331e-12x_{3}^{2} - 9.861014506118508e-25x_{3}x_{4} - 3.7082956913559794e-13x_{3}x_{5} + 1.9367664554255644e-15x_{3}x_{6} + 1.474520495340144e-7x_{4}^{2} + 2.7897772730640074e-21x_{4}x_{5} + 2.1266127707066577e-22x_{4}x_{6} + 3.252095640491712e-7x_{5}^{2} - 8.895436795628335e-10x_{5}x_{6} + 6.573719564113916e-8x_{6}^{2} + 6.0072488023391475e-22x_{1} + 4.7073526494024047e-7x_{2} + 1.0450303630378034e-21x_{3} - 3.9247994881491304e-7x_{4} - 8.33211884396278e-21x_{5} - 1.834370496240584e-21x_{6} + 1.0000064663758899 $$"
     },
     "metadata": {},
     "execution_count": 19
    }
   ],
   "cell_type": "code",
   "source": [
    "V"
   ],
   "metadata": {},
   "execution_count": 19
  },
  {
   "cell_type": "markdown",
   "source": [
    "---\n",
    "\n",
    "*This notebook was generated using [Literate.jl](https://github.com/fredrikekre/Literate.jl).*"
   ],
   "metadata": {}
  }
 ],
 "nbformat_minor": 3,
 "metadata": {
  "language_info": {
   "file_extension": ".jl",
   "mimetype": "application/julia",
   "name": "julia",
   "version": "1.8.5"
  },
  "kernelspec": {
   "name": "julia-1.8",
   "display_name": "Julia 1.8.5",
   "language": "julia"
  }
 },
 "nbformat": 4
}

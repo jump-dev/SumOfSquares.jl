{
 "cells": [
  {
   "cell_type": "markdown",
   "source": [
    "# Goldstein-price function"
   ],
   "metadata": {}
  },
  {
   "cell_type": "markdown",
   "source": [
    "**Contributed by**: Benoît Legat"
   ],
   "metadata": {}
  },
  {
   "cell_type": "markdown",
   "source": [
    "In this example, we consider the minimization of the [Goldstein-price function](https://en.wikipedia.org/wiki/Test_functions_for_optimization)."
   ],
   "metadata": {}
  },
  {
   "outputs": [],
   "cell_type": "code",
   "source": [
    "using SumOfSquares\n",
    "using DynamicPolynomials"
   ],
   "metadata": {},
   "execution_count": 1
  },
  {
   "cell_type": "markdown",
   "source": [
    "Create *symbolic* variables (not JuMP *decision* variables)"
   ],
   "metadata": {}
  },
  {
   "outputs": [
    {
     "output_type": "execute_result",
     "data": {
      "text/plain": "(DynamicPolynomials.Variable{DynamicPolynomials.Commutative{DynamicPolynomials.CreationOrder}, MultivariatePolynomials.Graded{MultivariatePolynomials.LexOrder}}[x₁, x₂],)"
     },
     "metadata": {},
     "execution_count": 2
    }
   ],
   "cell_type": "code",
   "source": [
    "@polyvar x[1:2]"
   ],
   "metadata": {},
   "execution_count": 2
  },
  {
   "cell_type": "markdown",
   "source": [
    "To use Sum-of-Squares Programming, we first need to pick an SDP solver,\n",
    "see [here](https://jump.dev/JuMP.jl/v1.12/installation/#Supported-solvers) for a list of the available choices."
   ],
   "metadata": {}
  },
  {
   "outputs": [
    {
     "output_type": "execute_result",
     "data": {
      "text/plain": "A JuMP Model\nFeasibility problem with:\nVariables: 0\nModel mode: AUTOMATIC\nCachingOptimizer state: EMPTY_OPTIMIZER\nSolver name: Dual model with Clarabel attached"
     },
     "metadata": {},
     "execution_count": 3
    }
   ],
   "cell_type": "code",
   "source": [
    "import Clarabel\n",
    "using Dualization\n",
    "model = SOSModel(dual_optimizer(Clarabel.Optimizer))"
   ],
   "metadata": {},
   "execution_count": 3
  },
  {
   "cell_type": "markdown",
   "source": [
    "Create a JuMP decision variable for the lower bound"
   ],
   "metadata": {}
  },
  {
   "outputs": [
    {
     "output_type": "execute_result",
     "data": {
      "text/plain": "γ",
      "text/latex": "$ γ $"
     },
     "metadata": {},
     "execution_count": 4
    }
   ],
   "cell_type": "code",
   "source": [
    "@variable(model, γ)"
   ],
   "metadata": {},
   "execution_count": 4
  },
  {
   "cell_type": "markdown",
   "source": [
    "`f(x)` is the Goldstein-Price function"
   ],
   "metadata": {}
  },
  {
   "outputs": [
    {
     "output_type": "execute_result",
     "data": {
      "text/plain": "600 + 720x₂ + 720x₁ + 3060x₂² - 4680x₁x₂ + 1260x₁² + 12288x₂³ - 19296x₁x₂² + 7344x₁²x₂ - 1072x₁³ + 14346x₂⁴ - 23616x₁x₂³ + 7776x₁²x₂² + 5784x₁³x₂ - 2454x₁⁴ + 1944x₂⁵ - 11880x₁x₂⁴ + 5040x₁²x₂³ + 9840x₁³x₂² - 7680x₁⁴x₂ + 1344x₁⁵ - 4428x₂⁶ - 1188x₁x₂⁵ + 8730x₁²x₂⁴ + 1240x₁³x₂³ - 5370x₁⁴x₂² - 168x₁⁵x₂ + 952x₁⁶ - 648x₂⁷ + 1944x₁x₂⁶ + 3672x₁²x₂⁵ - 3480x₁³x₂⁴ - 4080x₁⁴x₂³ + 2592x₁⁵x₂² + 1344x₁⁶x₂ - 768x₁⁷ + 729x₂⁸ + 972x₁x₂⁷ - 1458x₁²x₂⁶ - 1836x₁³x₂⁵ + 1305x₁⁴x₂⁴ + 1224x₁⁵x₂³ - 648x₁⁶x₂² - 288x₁⁷x₂ + 144x₁⁸",
      "text/latex": "$$ 600 + 720x_{2} + 720x_{1} + 3060x_{2}^{2} - 4680x_{1}x_{2} + 1260x_{1}^{2} + 12288x_{2}^{3} - 19296x_{1}x_{2}^{2} + 7344x_{1}^{2}x_{2} - 1072x_{1}^{3} + 14346x_{2}^{4} - 23616x_{1}x_{2}^{3} + 7776x_{1}^{2}x_{2}^{2} + 5784x_{1}^{3}x_{2} - 2454x_{1}^{4} + 1944x_{2}^{5} - 11880x_{1}x_{2}^{4} + 5040x_{1}^{2}x_{2}^{3} + 9840x_{1}^{3}x_{2}^{2} - 7680x_{1}^{4}x_{2} + 1344x_{1}^{5} - 4428x_{2}^{6} - 1188x_{1}x_{2}^{5} + 8730x_{1}^{2}x_{2}^{4} + 1240x_{1}^{3}x_{2}^{3} - 5370x_{1}^{4}x_{2}^{2} - 168x_{1}^{5}x_{2} + 952x_{1}^{6} - 648x_{2}^{7} + 1944x_{1}x_{2}^{6} + 3672x_{1}^{2}x_{2}^{5} - 3480x_{1}^{3}x_{2}^{4} - 4080x_{1}^{4}x_{2}^{3} + 2592x_{1}^{5}x_{2}^{2} + 1344x_{1}^{6}x_{2} - 768x_{1}^{7} + 729x_{2}^{8} + 972x_{1}x_{2}^{7} - 1458x_{1}^{2}x_{2}^{6} - 1836x_{1}^{3}x_{2}^{5} + 1305x_{1}^{4}x_{2}^{4} + 1224x_{1}^{5}x_{2}^{3} - 648x_{1}^{6}x_{2}^{2} - 288x_{1}^{7}x_{2} + 144x_{1}^{8} $$"
     },
     "metadata": {},
     "execution_count": 5
    }
   ],
   "cell_type": "code",
   "source": [
    "f1 = x[1] + x[2] + 1\n",
    "f2 = 19 - 14*x[1] + 3*x[1]^2 - 14*x[2] + 6*x[1]*x[2] + 3*x[2]^2\n",
    "f3 = 2*x[1] - 3*x[2]\n",
    "f4 = 18 - 32*x[1] + 12*x[1]^2 + 48*x[2] - 36*x[1]*x[2] + 27*x[2]^2\n",
    "f = (1 + f1^2*f2) * (30 + f3^2*f4)"
   ],
   "metadata": {},
   "execution_count": 5
  },
  {
   "cell_type": "markdown",
   "source": [
    "Constraints `f(x) - γ` to be a sum of squares"
   ],
   "metadata": {}
  },
  {
   "outputs": [
    {
     "name": "stdout",
     "output_type": "stream",
     "text": [
      "-------------------------------------------------------------\n",
      "           Clarabel.jl v0.7.1  -  Clever Acronym              \n",
      "                   (c) Paul Goulart                          \n",
      "                University of Oxford, 2022                   \n",
      "-------------------------------------------------------------\n",
      "\n",
      "problem:\n",
      "  variables     = 45\n",
      "  constraints   = 121\n",
      "  nnz(P)        = 0\n",
      "  nnz(A)        = 121\n",
      "  cones (total) = 2\n",
      "    : Zero        = 1,  numel = 1\n",
      "    : PSDTriangle = 1,  numel = 120\n",
      "\n",
      "settings:\n",
      "  linear algebra: direct / qdldl, precision: Float64\n",
      "  max iter = 200, time limit = Inf,  max step = 0.990\n",
      "  tol_feas = 1.0e-08, tol_gap_abs = 1.0e-08, tol_gap_rel = 1.0e-08,\n",
      "  static reg : on, ϵ1 = 1.0e-08, ϵ2 = 4.9e-32\n",
      "  dynamic reg: on, ϵ = 1.0e-13, δ = 2.0e-07\n",
      "  iter refine: on, reltol = 1.0e-13, abstol = 1.0e-12, \n",
      "               max iter = 10, stop ratio = 5.0\n",
      "  equilibrate: on, min_scale = 1.0e-05, max_scale = 1.0e+05\n",
      "               max iter = 10\n",
      "\n",
      "iter    pcost        dcost       gap       pres      dres      k/t        μ       step      \n",
      "---------------------------------------------------------------------------------------------\n",
      "  0   6.0000e+02   6.0000e+02  0.00e+00  6.51e-01  4.57e-01  1.00e+00  1.02e+04   ------   \n",
      "  1  -3.0355e+03  -2.4055e+03  2.62e-01  1.69e-01  1.33e-01  6.30e+02  2.58e+03  8.06e-01  \n",
      "  2  -4.5486e+02  -2.1780e+02  1.09e+00  2.38e-02  2.39e-02  2.37e+02  5.36e+02  8.67e-01  \n",
      "  3   3.2891e+01   7.6205e+01  1.32e+00  3.59e-03  3.47e-03  4.33e+01  9.46e+01  8.76e-01  \n",
      "  4   2.7894e+01   3.5220e+01  2.63e-01  6.65e-04  6.22e-04  7.33e+00  1.84e+01  8.59e-01  \n",
      "  5   1.2781e+01   1.9102e+01  4.95e-01  3.55e-04  4.58e-04  6.32e+00  1.16e+01  5.36e-01  \n",
      "  6   5.6656e+00   6.5505e+00  1.56e-01  5.37e-05  7.07e-05  8.85e-01  1.88e+00  8.72e-01  \n",
      "  7   4.1810e+00   4.5446e+00  8.70e-02  1.90e-05  2.68e-05  3.64e-01  6.80e-01  8.09e-01  \n",
      "  8   3.4403e+00   3.5519e+00  3.24e-02  6.41e-06  8.82e-06  1.12e-01  2.39e-01  7.54e-01  \n",
      "  9   3.0919e+00   3.1106e+00  6.05e-03  1.22e-06  1.64e-06  1.87e-02  4.73e-02  9.05e-01  \n",
      " 10   3.0407e+00   3.0532e+00  4.11e-03  6.93e-07  8.40e-07  1.25e-02  2.76e-02  7.30e-01  \n",
      " 11   3.0066e+00   3.0087e+00  7.02e-04  2.93e-07  1.38e-07  2.11e-03  4.66e-03  8.53e-01  \n",
      " 12   3.0030e+00   3.0039e+00  2.96e-04  3.58e-07  6.00e-08  8.88e-04  2.02e-03  6.77e-01  \n",
      " 13   3.0030e+00   3.0040e+00  3.29e-04  8.15e-07  6.27e-08  9.87e-04  1.79e-03  1.89e-03  \n",
      " 14   3.0029e+00   3.0039e+00  3.06e-04  2.51e-06  5.98e-08  9.20e-04  1.71e-03  8.88e-02  \n",
      " 15   3.0007e+00   3.0009e+00  6.28e-05  5.60e-07  1.35e-08  1.88e-04  3.96e-04  9.18e-01  \n",
      " 16   3.0002e+00   3.0002e+00  1.46e-05  1.34e-07  3.15e-09  4.37e-05  9.44e-05  8.28e-01  \n",
      " 17   3.0000e+00   3.0001e+00  4.04e-06  3.90e-08  8.72e-10  1.21e-05  2.71e-05  8.35e-01  \n",
      " 18   3.0000e+00   3.0001e+00  4.04e-06  3.90e-08  8.72e-10  1.21e-05  2.71e-05  0.00e+00  \n",
      "---------------------------------------------------------------------------------------------\n",
      "Terminated with status = solved (reduced accuracy)\n",
      "solve time = 30.0ms\n"
     ]
    }
   ],
   "cell_type": "code",
   "source": [
    "con_ref = @constraint(model, f >= γ)\n",
    "@objective(model, Max, γ)\n",
    "optimize!(model)"
   ],
   "metadata": {},
   "execution_count": 6
  },
  {
   "cell_type": "markdown",
   "source": [
    "The lower bound found is 3"
   ],
   "metadata": {}
  },
  {
   "outputs": [
    {
     "output_type": "execute_result",
     "data": {
      "text/plain": "* Solver : Dual model with Clarabel attached\n\n* Status\n  Result count       : 1\n  Termination status : ALMOST_OPTIMAL\n  Message from the solver:\n  \"ALMOST_SOLVED\"\n\n* Candidate solution (result #1)\n  Primal status      : NEARLY_FEASIBLE_POINT\n  Dual status        : NEARLY_FEASIBLE_POINT\n  Objective value    : 3.00006e+00\n  Dual objective value : 3.00005e+00\n\n* Work counters\n  Solve time (sec)   : 2.99624e-02\n  Barrier iterations : 18\n"
     },
     "metadata": {},
     "execution_count": 7
    }
   ],
   "cell_type": "code",
   "source": [
    "solution_summary(model)"
   ],
   "metadata": {},
   "execution_count": 7
  },
  {
   "cell_type": "markdown",
   "source": [
    "The moment matrix is as follows, we can already see the global minimizer\n",
    "`[0, -1]` from the entries `(2, 1)` and `(3, 1)`.\n",
    "This heuristic way to obtain solutions to the polynomial optimization problem\n",
    "is suggested in [Laurent2008; (6.15)](@cite)."
   ],
   "metadata": {}
  },
  {
   "outputs": [
    {
     "output_type": "execute_result",
     "data": {
      "text/plain": "MomentMatrix with row/column basis:\n MonomialBasis([1, x[2], x[1], x[2]^2, x[1]*x[2], x[1]^2, x[2]^3, x[1]*x[2]^2, x[1]^2*x[2], x[1]^3, x[2]^4, x[1]*x[2]^3, x[1]^2*x[2]^2, x[1]^3*x[2], x[1]^4])\nAnd entries in a 15×15 SymMatrix{Float64}:\n  1.0000000018573474     -0.999998184576739      …   3.5962086853253903e-6\n -0.999998184576739       0.999997150198852          1.0531832701061796e-6\n -1.2636567926751192e-6   1.4804132265158204e-6      6.267497079311888e-6\n  0.9999971886457574     -0.9999960645215564         0.00021144386295502015\n  1.4653553927555777e-6  -1.1547395566676937e-6      0.00021277355946083603\n  1.187350682495253e-6    1.605777819548949e-7   …   0.0004346101519721536\n -0.9999960345776464      0.9999952039300222        -0.00037037588687171245\n -1.1433741839080068e-6   1.273723901361668e-6      -0.00041077802563794515\n  1.5687335193614228e-7   3.467245543475798e-7      -0.00022841391643848772\n  1.2660969071438837e-6   8.152487714237158e-7      -6.123905166790361e-5\n  0.9999951935941798     -0.9999943253292334     …   0.39570337503546366\n  1.271793213373499e-6   -1.3109438435614527e-6     -0.0010509740296115082\n  3.573504479057564e-7   -1.926462192043419e-7       0.5917596920647119\n  8.265186088348277e-7    6.000631118417262e-8       0.2928164690573049\n  3.5962086853253903e-6   1.0531832701061796e-6      1.0338233525191614"
     },
     "metadata": {},
     "execution_count": 8
    }
   ],
   "cell_type": "code",
   "source": [
    "ν = moment_matrix(con_ref)"
   ],
   "metadata": {},
   "execution_count": 8
  },
  {
   "cell_type": "markdown",
   "source": [
    "Many entries of the matrix actually have the same moment.\n",
    "We can obtain the following list of these moments without duplicates\n",
    "(ignoring when difference of entries representing the same moments is below `1e-5`)"
   ],
   "metadata": {}
  },
  {
   "outputs": [
    {
     "output_type": "execute_result",
     "data": {
      "text/plain": "Measure{Float64, DynamicPolynomials.Monomial{DynamicPolynomials.Commutative{DynamicPolynomials.CreationOrder}, MultivariatePolynomials.Graded{MultivariatePolynomials.LexOrder}}, DynamicPolynomials.MonomialVector{DynamicPolynomials.Commutative{DynamicPolynomials.CreationOrder}, MultivariatePolynomials.Graded{MultivariatePolynomials.LexOrder}}}([1.0000000018573474, -0.999998184576739, -1.2636567926751192e-6, 0.9999971886457574, 1.4653553927555777e-6, 1.187350682495253e-6, -0.9999960345776464, -1.1433741839080068e-6, 1.5687335193614228e-7, 1.2660969071438837e-6  …  -6.123905166790361e-5, 1.270218769208648, -0.19058213646104005, 0.3086716525700899, -0.1318706321712997, 0.39570337503546366, -0.0010509740296115082, 0.5917596920647119, 0.2928164690573049, 1.0338233525191614], DynamicPolynomials.Monomial{DynamicPolynomials.Commutative{DynamicPolynomials.CreationOrder}, MultivariatePolynomials.Graded{MultivariatePolynomials.LexOrder}}[1, x₂, x₁, x₂², x₁x₂, x₁², x₂³, x₁x₂², x₁²x₂, x₁³  …  x₁⁷, x₂⁸, x₁x₂⁷, x₁²x₂⁶, x₁³x₂⁵, x₁⁴x₂⁴, x₁⁵x₂³, x₁⁶x₂², x₁⁷x₂, x₁⁸])"
     },
     "metadata": {},
     "execution_count": 9
    }
   ],
   "cell_type": "code",
   "source": [
    "μ = measure(ν, atol = 1e-5)"
   ],
   "metadata": {},
   "execution_count": 9
  },
  {
   "cell_type": "markdown",
   "source": [
    "The truncated moment matrix can then be obtained as follows"
   ],
   "metadata": {}
  },
  {
   "outputs": [
    {
     "output_type": "execute_result",
     "data": {
      "text/plain": "MomentMatrix with row/column basis:\n MonomialBasis([1, x[2], x[1], x[2]^2, x[1]*x[2], x[1]^2, x[2]^3, x[1]*x[2]^2, x[1]^2*x[2], x[1]^3])\nAnd entries in a 10×10 SymMatrix{Float64}:\n  1.0000000018573474     -0.999998184576739      …  1.2660969071438837e-6\n -0.999998184576739       0.9999971886457574        8.265186088348277e-7\n -1.2636567926751192e-6   1.4653553927555777e-6     3.5962086853253903e-6\n  0.9999971886457574     -0.9999960345776464        6.000631118417262e-8\n  1.4653553927555777e-6  -1.1433741839080068e-6     1.0531832701061796e-6\n  1.187350682495253e-6    1.5687335193614228e-7  …  6.267497079311888e-6\n -0.9999960345776464      0.9999951935941798        7.041812532662351e-5\n -1.1433741839080068e-6   1.271793213373499e-6      0.00021144386295502015\n  1.5687335193614228e-7   3.573504479057564e-7      0.00021277355946083603\n  1.2660969071438837e-6   8.265186088348277e-7      0.0004346101519721536"
     },
     "metadata": {},
     "execution_count": 10
    }
   ],
   "cell_type": "code",
   "source": [
    "ν_truncated = moment_matrix(μ, monomials(x, 0:3))"
   ],
   "metadata": {},
   "execution_count": 10
  },
  {
   "cell_type": "markdown",
   "source": [
    "Let's check if the flatness property is satisfied.\n",
    "The rank of `ν_truncated` seems to be 1:"
   ],
   "metadata": {}
  },
  {
   "outputs": [
    {
     "output_type": "execute_result",
     "data": {
      "text/plain": "10-element Vector{Float64}:\n 4.00000395428376\n 0.0006683576478051575\n 0.00014945001542051055\n 7.258309877015935e-6\n 1.071254118692619e-6\n 3.7538602161096565e-7\n 2.1120262864418662e-7\n 9.941920943259009e-8\n 5.673286879095673e-8\n 2.160730842419555e-8"
     },
     "metadata": {},
     "execution_count": 11
    }
   ],
   "cell_type": "code",
   "source": [
    "using LinearAlgebra\n",
    "LinearAlgebra.svdvals(Matrix(ν_truncated.Q))\n",
    "LinearAlgebra.rank(Matrix(ν_truncated.Q), rtol = 1e-3)\n",
    "svdvals(Matrix(ν_truncated.Q))"
   ],
   "metadata": {},
   "execution_count": 11
  },
  {
   "cell_type": "markdown",
   "source": [
    "The rank of `ν` is clearly higher than 1, closer to 3:"
   ],
   "metadata": {}
  },
  {
   "outputs": [
    {
     "output_type": "execute_result",
     "data": {
      "text/plain": "15-element Vector{Float64}:\n 5.074213473438938\n 1.5645319761479553\n 0.9597359871679573\n 0.0017398146185114327\n 0.0005408264077238202\n 0.00012333305842220714\n 0.000112117003942734\n 8.344767987724291e-6\n 1.1444727519464206e-6\n 3.1620324683887253e-7\n 1.486674010879845e-7\n 7.588328515192136e-8\n 1.2493207229285292e-8\n 4.7632154656602895e-9\n 4.013154592036812e-10"
     },
     "metadata": {},
     "execution_count": 12
    }
   ],
   "cell_type": "code",
   "source": [
    "svdvals(Matrix(ν.Q))"
   ],
   "metadata": {},
   "execution_count": 12
  },
  {
   "cell_type": "markdown",
   "source": [
    "Even if the flatness property is not satisfied, we can\n",
    "still try extracting the minimizer with a low rank decomposition of rank 3.\n",
    "We find the optimal solution again doing so:"
   ],
   "metadata": {}
  },
  {
   "outputs": [
    {
     "output_type": "execute_result",
     "data": {
      "text/plain": "Atomic measure on the variables x[1], x[2] with 1 atoms:\n at [-1.1555204794988076e-6, -0.9999987643852531] with weight 1.0180428801820578"
     },
     "metadata": {},
     "execution_count": 13
    }
   ],
   "cell_type": "code",
   "source": [
    "atomic_measure(ν, FixedRank(3))"
   ],
   "metadata": {},
   "execution_count": 13
  },
  {
   "cell_type": "markdown",
   "source": [
    "---\n",
    "\n",
    "*This notebook was generated using [Literate.jl](https://github.com/fredrikekre/Literate.jl).*"
   ],
   "metadata": {}
  }
 ],
 "nbformat_minor": 3,
 "metadata": {
  "language_info": {
   "file_extension": ".jl",
   "mimetype": "application/julia",
   "name": "julia",
   "version": "1.10.3"
  },
  "kernelspec": {
   "name": "julia-1.10",
   "display_name": "Julia 1.10.3",
   "language": "julia"
  }
 },
 "nbformat": 4
}

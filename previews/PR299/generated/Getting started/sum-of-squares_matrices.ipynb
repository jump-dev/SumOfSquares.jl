{
 "cells": [
  {
   "cell_type": "markdown",
   "source": [
    "# Sum-of-Squares matrices"
   ],
   "metadata": {}
  },
  {
   "cell_type": "markdown",
   "source": [
    "**Adapted from**: Examples 3.77 of [BPT12]\n",
    "\n",
    "[BPT12] Blekherman, G.; Parrilo, P. A. & Thomas, R. R.\n",
    "*Semidefinite Optimization and Convex Algebraic Geometry*.\n",
    "Society for Industrial and Applied Mathematics, **2012**."
   ],
   "metadata": {}
  },
  {
   "cell_type": "markdown",
   "source": [
    "### Introduction"
   ],
   "metadata": {}
  },
  {
   "cell_type": "markdown",
   "source": [
    "Consider the symmetric polynomial matrix\n",
    "$$P(x) =\n",
    "\\begin{bmatrix}\n",
    "    x^2 - 2x + 2 & x\\\\\n",
    "    x            & x^2\n",
    "\\end{bmatrix}.$$\n",
    "We could like to know whether $P(x)$ is positive semidefinite for all $x \\in \\mathbb{R}$."
   ],
   "metadata": {}
  },
  {
   "outputs": [
    {
     "output_type": "execute_result",
     "data": {
      "text/plain": "2×2 Matrix{DynamicPolynomials.Polynomial{true, Int64}}:\n x² - 2x + 2  x\n x            x²"
     },
     "metadata": {},
     "execution_count": 1
    }
   ],
   "cell_type": "code",
   "source": [
    "using DynamicPolynomials\n",
    "@polyvar x\n",
    "P = [x^2 - 2x + 2 x\n",
    "            x     x^2]"
   ],
   "metadata": {},
   "execution_count": 1
  },
  {
   "cell_type": "markdown",
   "source": [
    "A sufficient condition for a symmetric polynomial matrix $P(x)$ to be positive semidefinite for all $x$ is to the existence of a matrix $M(x)$ such that $P(x) = M^\\top(x) M(x)$. If such matrix $M$ exists, we say that the matrix is an \\emph{sos matrix} (see [Definition 3.76, BPT13]).\n",
    "While determining whether $P(x)$ is positive semidefinite for all $x$, is NP-hard (checking nonnegativity of a polynomial is reduced to this problem for $1 \\times 1$ matrices), checking whether $P(x)$ is an sos matrix is an sos program."
   ],
   "metadata": {}
  },
  {
   "outputs": [],
   "cell_type": "code",
   "source": [
    "using SumOfSquares"
   ],
   "metadata": {},
   "execution_count": 2
  },
  {
   "cell_type": "markdown",
   "source": [
    "We first need to pick an SDP solver, see [here](https://jump.dev/JuMP.jl/v1.8/installation/#Supported-solvers) for a list of the available choices."
   ],
   "metadata": {}
  },
  {
   "outputs": [
    {
     "output_type": "execute_result",
     "data": {
      "text/plain": "OPTIMAL::TerminationStatusCode = 1"
     },
     "metadata": {},
     "execution_count": 3
    }
   ],
   "cell_type": "code",
   "source": [
    "import CSDP\n",
    "solver = optimizer_with_attributes(CSDP.Optimizer, MOI.Silent() => true)\n",
    "\n",
    "model = SOSModel(solver)\n",
    "mat_cref = @constraint(model, P in PSDCone())\n",
    "optimize!(model)\n",
    "termination_status(model)"
   ],
   "metadata": {},
   "execution_count": 3
  },
  {
   "cell_type": "markdown",
   "source": [
    "While the reformulation of sos matrix to sos polynomial is rather simple, as explained in the \"Sum-of-Squares reformulation\" section below, there is a technical subtelty about the Newton polytope that if not handled correctly may result in an SDP of large size with bad numerical behavior. For this reason, it is recommended to model sos *matrix* constraints as such as will be shown in this notebook and not do the formulation manually unless there is a specific reason to do so.\n",
    "\n",
    "As we can verify as follows, only 3 monomials are used using the sos *matrix* constraint."
   ],
   "metadata": {}
  },
  {
   "outputs": [
    {
     "output_type": "execute_result",
     "data": {
      "text/plain": "3-element DynamicPolynomials.MonomialVector{true}:\n x##358\n x##360\n ##358"
     },
     "metadata": {},
     "execution_count": 4
    }
   ],
   "cell_type": "code",
   "source": [
    "certificate_monomials(mat_cref)"
   ],
   "metadata": {},
   "execution_count": 4
  },
  {
   "cell_type": "markdown",
   "source": [
    "### Sum-of-Squares reformulation\n",
    "\n",
    "One way to obtain the reduction to an sos program is to create an intermediate vector of variable $y$ and check whether the polynomial $p(x, y) = y^\\top P(x) y$ is sos.\n",
    "However, special care is required when approximating the Newton polytope of $p(x, y)$.\n",
    "Indeed, for instance if the entries of $P(x)$ are quadratic forms then the Newton polytope of $p(x, y)$ is the cartesian product between the Newton polytope of $y^\\top y$ and the Newton polytope of $x^\\top x$.\n",
    "In other words, $p(x, y)$ belongs to a family of quartic forms called biquadratic forms.\n",
    "This fact is important when generating the semidefinite program so that only bilinear monomials are used.\n",
    "So if the cheap outer approximation is used (instead of the exact polyhedral computation) for the newton polytope then it is important to use a multipartite computation approximation of the newton polytope.\n",
    "The multipartie exact approach may perform worse compared to the unipartite exact in certain cases though.\n",
    "Consider for instance the polynomial matrix $\\mathrm{Diag}(x_1^1, x_2^2)$ for which $p(x, y) = x_1^2y_1^2 + x_2^2y_2^2$.\n",
    "For this polynomial, only the monomials $x_1y_1$ and $x_2y_2$ are needed in the SDP reformulation while the multipartite approach,\n",
    "as it will compute the Newton polytope as a cartesian product, will not see the dependence between $x$ and $y$ in the presence of monomials and will also select the monomials $x_1y_2$ and $x_2y_1$."
   ],
   "metadata": {}
  },
  {
   "outputs": [
    {
     "output_type": "execute_result",
     "data": {
      "text/plain": "x²y₁² + x²y₂² - 2xy₁² + 2xy₁y₂ + 2y₁²",
      "text/latex": "$$ x^{2}y_{1}^{2} + x^{2}y_{2}^{2} - 2xy_{1}^{2} + 2xy_{1}y_{2} + 2y_{1}^{2} $$"
     },
     "metadata": {},
     "execution_count": 5
    }
   ],
   "cell_type": "code",
   "source": [
    "@polyvar y[1:2]\n",
    "p = vec(y)' * P * vec(y)"
   ],
   "metadata": {},
   "execution_count": 5
  },
  {
   "cell_type": "markdown",
   "source": [
    "We can see above that `p` is biquadratic polynomial in the variables `x` and `y`.\n",
    "Computing the Newton polytope with the cheap outer approximation\n",
    "without exploiting this multipartite structure gives the following 6 monomials."
   ],
   "metadata": {}
  },
  {
   "outputs": [
    {
     "output_type": "execute_result",
     "data": {
      "text/plain": "6-element DynamicPolynomials.MonomialVector{true}:\n xy₁\n xy₂\n y₁y₂\n x\n y₁\n y₂"
     },
     "metadata": {},
     "execution_count": 6
    }
   ],
   "cell_type": "code",
   "source": [
    "X = monomials(p)\n",
    "unipartite = Certificate.NewtonDegreeBounds(tuple())\n",
    "Certificate.monomials_half_newton_polytope(X, unipartite)"
   ],
   "metadata": {},
   "execution_count": 6
  },
  {
   "cell_type": "markdown",
   "source": [
    "Exploiting the multipartite structure gives 4 monomials."
   ],
   "metadata": {}
  },
  {
   "outputs": [
    {
     "output_type": "execute_result",
     "data": {
      "text/plain": "4-element DynamicPolynomials.MonomialVector{true}:\n xy₁\n xy₂\n y₁\n y₂"
     },
     "metadata": {},
     "execution_count": 7
    }
   ],
   "cell_type": "code",
   "source": [
    "multipartite = Certificate.NewtonDegreeBounds(([x], y))\n",
    "Certificate.monomials_half_newton_polytope(X, multipartite)"
   ],
   "metadata": {},
   "execution_count": 7
  },
  {
   "cell_type": "markdown",
   "source": [
    "In the example above, there were only 3 monomials, where does the difference come from ?\n",
    "Using the monomial basis, the only product of two monomials that is equal to\n",
    "`y[2]^2` is `y[2] * y[2]`. As `y[2]^2` is not a monomial of `p`, we can conclude\n",
    "that the diagonal entry with row and column corresponding to `y[2]` will be zero\n",
    "hence the whole column and row will be zero as well.\n",
    "Therefore, we can remove this monomial."
   ],
   "metadata": {}
  },
  {
   "outputs": [
    {
     "output_type": "execute_result",
     "data": {
      "text/plain": "3-element DynamicPolynomials.MonomialVector{true}:\n xy₁\n xy₂\n y₁"
     },
     "metadata": {},
     "execution_count": 8
    }
   ],
   "cell_type": "code",
   "source": [
    "Certificate.monomials_half_newton_polytope(X, Certificate.NewtonFilter(multipartite))"
   ],
   "metadata": {},
   "execution_count": 8
  },
  {
   "cell_type": "markdown",
   "source": [
    "The same reasoning can be used for monomials `y[1]y[2]` and `x` therefore whether\n",
    "we exploit the multipartite structure or not, we get only 3 monomials thanks\n",
    "to this post filter."
   ],
   "metadata": {}
  },
  {
   "outputs": [
    {
     "output_type": "execute_result",
     "data": {
      "text/plain": "3-element DynamicPolynomials.MonomialVector{true}:\n xy₁\n xy₂\n y₁"
     },
     "metadata": {},
     "execution_count": 9
    }
   ],
   "cell_type": "code",
   "source": [
    "Certificate.monomials_half_newton_polytope(X, Certificate.NewtonFilter(unipartite))"
   ],
   "metadata": {},
   "execution_count": 9
  },
  {
   "cell_type": "markdown",
   "source": [
    "---\n",
    "\n",
    "*This notebook was generated using [Literate.jl](https://github.com/fredrikekre/Literate.jl).*"
   ],
   "metadata": {}
  }
 ],
 "nbformat_minor": 3,
 "metadata": {
  "language_info": {
   "file_extension": ".jl",
   "mimetype": "application/julia",
   "name": "julia",
   "version": "1.9.0"
  },
  "kernelspec": {
   "name": "julia-1.9",
   "display_name": "Julia 1.9.0",
   "language": "julia"
  }
 },
 "nbformat": 4
}

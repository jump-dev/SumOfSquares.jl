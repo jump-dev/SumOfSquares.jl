{
 "cells": [
  {
   "cell_type": "markdown",
   "source": [
    "# Multivariate polynomials implementations"
   ],
   "metadata": {}
  },
  {
   "cell_type": "markdown",
   "source": [
    "**Contributed by**: Benoît Legat"
   ],
   "metadata": {}
  },
  {
   "cell_type": "markdown",
   "source": [
    "The SumOfSquares package is built on top of the [MultivariatePolynomials](https://github.com/JuliaAlgebra/MultivariatePolynomials.jl)\n",
    "abstract interface. [DynamicPolynomials](https://github.com/JuliaAlgebra/DynamicPolynomials.jl/)\n",
    "is an implementation of this abstract interface so it can be used with\n",
    "SumOfSquares. Moreover, any other implementation can be used as well. To\n",
    "illustrate, we solve Examples 3.38 of [BPT12] with\n",
    "[TypedPolynomials](https://github.com/JuliaAlgebra/TypedPolynomials.jl),\n",
    "another implementation of [MultivariatePolynomials](https://github.com/JuliaAlgebra/MultivariatePolynomials.jl).\n",
    "\n",
    "[BPT12] Blekherman, G. & Parrilo, P. A. & Thomas, R. R.\n",
    "*Semidefinite Optimization and Convex Algebraic Geometry*.\n",
    "Society for Industrial and Applied Mathematics, **2012**."
   ],
   "metadata": {}
  },
  {
   "outputs": [
    {
     "name": "stdout",
     "output_type": "stream",
     "text": [
      "Iter: 10 Ap: 9.69e-01 Pobj: -1.0000000e+00 Ad: 9.00e-01 Dobj: -1.0000000e+00 \n",
      "Success: SDP solved\n",
      "Primal objective value: -1.0000000e+00 \n",
      "Dual objective value: -1.0000000e+00 \n",
      "Relative primal infeasibility: 8.36e-16 \n",
      "Relative dual infeasibility: 1.91e-09 \n",
      "Real Relative Gap: -1.02e-09 \n",
      "XZ Relative Gap: 3.61e-09 \n",
      "DIMACS error measures: 1.60e-15 0.00e+00 4.55e-09 0.00e+00 -1.02e-09 3.61e-09\n",
      "------------------------------------------------------------------\n",
      "\t       SCS v3.2.3 - Splitting Conic Solver\n",
      "\t(c) Brendan O'Donoghue, Stanford University, 2012\n",
      "------------------------------------------------------------------\n",
      "problem:  variables n: 11, constraints m: 20\n",
      "cones: \t  z: primal zero / dual free vars: 1\n",
      "\t  l: linear vars: 1\n",
      "\t  s: psd vars: 18, ssize: 3\n",
      "settings: eps_abs: 1.0e-04, eps_rel: 1.0e-04, eps_infeas: 1.0e-07\n",
      "\t  alpha: 1.50, scale: 1.00e-01, adaptive_scale: 1\n",
      "\t  max_iters: 100000, normalize: 1, rho_x: 1.00e-06\n",
      "\t  acceleration_lookback: 10, acceleration_interval: 10\n",
      "lin-sys:  sparse-direct-amd-qdldl\n",
      "\t  nnz(A): 22, nnz(P): 0\n",
      "------------------------------------------------------------------\n",
      " iter | pri res | dua res |   gap   |   obj   |  scale  | time (s)\n",
      "------------------------------------------------------------------\n",
      "     0| 2.57e+01  1.01e+00  2.00e+06 -1.00e+06  1.00e-01  3.16e-03 \n",
      "    25| 1.30e+11  4.45e+10  8.00e+18 -4.00e+18  1.00e-01  3.33e-03 \n",
      "------------------------------------------------------------------\n",
      "status:  unbounded\n",
      "timings: total: 3.33e-03s = setup: 1.78e-03s + solve: 1.55e-03s\n",
      "\t lin-sys: 1.48e-05s, cones: 1.48e-03s, accel: 2.40e-06s\n",
      "------------------------------------------------------------------\n",
      "objective = -inf\n",
      "------------------------------------------------------------------\n",
      "------------------------------------------------------------------\n",
      "\t       SCS v3.2.3 - Splitting Conic Solver\n",
      "\t(c) Brendan O'Donoghue, Stanford University, 2012\n",
      "------------------------------------------------------------------\n",
      "problem:  variables n: 15, constraints m: 49\n",
      "cones: \t  z: primal zero / dual free vars: 1\n",
      "\t  l: linear vars: 3\n",
      "\t  s: psd vars: 45, ssize: 5\n",
      "settings: eps_abs: 1.0e-04, eps_rel: 1.0e-04, eps_infeas: 1.0e-07\n",
      "\t  alpha: 1.50, scale: 1.00e-01, adaptive_scale: 1\n",
      "\t  max_iters: 100000, normalize: 1, rho_x: 1.00e-06\n",
      "\t  acceleration_lookback: 10, acceleration_interval: 10\n",
      "lin-sys:  sparse-direct-amd-qdldl\n",
      "\t  nnz(A): 67, nnz(P): 0\n",
      "------------------------------------------------------------------\n",
      " iter | pri res | dua res |   gap   |   obj   |  scale  | time (s)\n",
      "------------------------------------------------------------------\n",
      "     0| 8.53e+00  5.66e-01  3.99e+01 -2.00e+01  1.00e-01  2.10e-04 \n",
      "   250| 1.40e-03  5.14e-05  7.85e-06  8.28e-01  1.00e-01  3.84e-03 \n",
      "------------------------------------------------------------------\n",
      "status:  solved\n",
      "timings: total: 3.84e-03s = setup: 1.17e-04s + solve: 3.73e-03s\n",
      "\t lin-sys: 2.35e-04s, cones: 3.18e-03s, accel: 1.69e-04s\n",
      "------------------------------------------------------------------\n",
      "objective = 0.828440\n",
      "------------------------------------------------------------------\n",
      "CSDP 6.2.0\n",
      "This is a pure primal feasibility problem.\n",
      "Iter:  0 Ap: 0.00e+00 Pobj:  0.0000000e+00 Ad: 0.00e+00 Dobj:  0.0000000e+00 \n",
      "Iter:  1 Ap: 7.39e-01 Pobj:  0.0000000e+00 Ad: 1.00e+00 Dobj:  9.2771541e+01 \n",
      "Iter:  2 Ap: 1.00e+00 Pobj:  0.0000000e+00 Ad: 1.00e+00 Dobj:  5.3401580e+01 \n"
     ]
    },
    {
     "output_type": "execute_result",
     "data": {
      "text/plain": "* Solver : CSDP\n\n* Status\n  Result count       : 1\n  Termination status : OPTIMAL\n  Message from the solver:\n  \"Problem solved to optimality.\"\n\n* Candidate solution (result #1)\n  Primal status      : FEASIBLE_POINT\n  Dual status        : FEASIBLE_POINT\n  Objective value    : 0.00000e+00\n  Dual objective value : 0.00000e+00\n\n* Work counters\n  Solve time (sec)   : 2.03376e-01\n"
     },
     "metadata": {},
     "execution_count": 1
    }
   ],
   "cell_type": "code",
   "source": [
    "import TypedPolynomials\n",
    "TypedPolynomials.@polyvar x y\n",
    "using SumOfSquares\n",
    "import CSDP\n",
    "model = SOSModel(CSDP.Optimizer)\n",
    "con_ref = @constraint(model, 2x^4 + 5y^4 - x^2*y^2 >= -2(x^3*y + x + 1))\n",
    "optimize!(model)\n",
    "solution_summary(model)"
   ],
   "metadata": {},
   "execution_count": 1
  },
  {
   "cell_type": "markdown",
   "source": [
    "We see that the problem is feasible. The Sum-of-Squares decomposition can be\n",
    "obtained as follows:"
   ],
   "metadata": {}
  },
  {
   "outputs": [
    {
     "output_type": "execute_result",
     "data": {
      "text/plain": "(-0.8025916994817286*x^2 - 0.12696358959695103*x*y + 2.193153633560659*y^2 - 0.41759748297377297*x - 0.09754582659048591*y - 0.6797576582812243)^2 + (-0.9300185097227979*x^2 - 1.2293230030760671*x*y - 0.10770262293143025*y^2 + 0.27422282506537266*x - 0.6455024395913429*y + 0.9043624572847014)^2 + (-0.4443891157327384*x^2 + 0.15182100493580492*x*y + 0.20409230951833626*y^2 + 0.6219741186490509*x + 1.385365044504153*y + 0.5739128592301719)^2 + (-0.020943538499585714*x^2 + 0.7618732513464342*x*y + 0.2555835927433955*y^2 + 0.34368939804846754*x - 0.5184198063947201*y + 0.5702898506776771)^2 + (-0.5053890156943566*x^2 + 0.29722558434086516*x*y - 0.24791041664865915*y^2 - 0.49998094377013985*x + 0.049133727851402506*y + 0.041450896566270275)^2 + (-0.1938395220921125*x^2 + 0.05960910807713193*x*y - 0.10020512085870774*y^2 + 0.25390202282612445*x - 0.06335690502229817*y - 0.2524547707216829)^2"
     },
     "metadata": {},
     "execution_count": 2
    }
   ],
   "cell_type": "code",
   "source": [
    "sos_decomposition(con_ref)"
   ],
   "metadata": {},
   "execution_count": 2
  },
  {
   "cell_type": "markdown",
   "source": [
    "Why is there several implementations ?\n",
    "Depending in the use-case, one implementation may be more appropriate than\n",
    "another one. [TypedPolynomials](https://github.com/JuliaAlgebra/TypedPolynomials.jl)\n",
    "is faster than [DynamicPolynomials](https://github.com/JuliaAlgebra/DynamicPolynomials.jl/)\n",
    "but it requires new compilation whenever the list of variables changes.\n",
    "This means that [TypedPolynomials](https://github.com/JuliaAlgebra/TypedPolynomials.jl)\n",
    "is not appropriate when the number of variables is dynamic or too large.\n",
    "However, for a small number of variables, it can be faster.\n",
    "When solving Sum-of-Squares programs, the time is mostly taken by the Semidefinite programming solver.\n",
    "The time taken by SumOfSquares/JuMP/MathOptInterface are usually negligible\n",
    "or it time is taken by manipulation of JuMP or MathOptInterface functions\n",
    "therefore using TypedPolynomials over DynamicPolynomials may not make much difference in most cases."
   ],
   "metadata": {}
  },
  {
   "cell_type": "markdown",
   "source": [
    "One case for which using TypedPolynomials might be adequate is when\n",
    "using domain defined by equalities (possibly also with inequalities).\n",
    "Indeed, in that case, SumOfSquares computes the corresponding Gröbner basis which\n",
    "may take a non-negligible amount of time for large systems of equalities."
   ],
   "metadata": {}
  },
  {
   "cell_type": "markdown",
   "source": [
    "To illustrate this, consider the computation of Gröbner basis for the\n",
    "following system from [CLO05, p. 17].\n",
    "The time taken by TypedPolynomials is below:\n",
    "\n",
    "[CLO05] Cox, A. David & Little, John & O'Shea, Donal\n",
    "*Using Algebraic Geometry*.\n",
    "Graduate Texts in Mathematics, **2005**.\n",
    "https://doi.org/10.1007/b138611"
   ],
   "metadata": {}
  },
  {
   "outputs": [
    {
     "name": "stdout",
     "output_type": "stream",
     "text": [
      "  162.800 μs (3227 allocations: 446.16 KiB)\n"
     ]
    },
    {
     "output_type": "execute_result",
     "data": {
      "text/plain": "true"
     },
     "metadata": {},
     "execution_count": 3
    }
   ],
   "cell_type": "code",
   "source": [
    "using BenchmarkTools\n",
    "@btime let\n",
    "    TypedPolynomials.@polyvar x y\n",
    "    S = @set x^3 * y + x == 2x^2 * y^2 && 3x^4 == y\n",
    "    SemialgebraicSets.computegröbnerbasis!(S.I)\n",
    "end"
   ],
   "metadata": {},
   "execution_count": 3
  },
  {
   "cell_type": "markdown",
   "source": [
    "The time taken by DynamicPolynomials is as follows:"
   ],
   "metadata": {}
  },
  {
   "outputs": [
    {
     "name": "stdout",
     "output_type": "stream",
     "text": [
      "  450.001 μs (5776 allocations: 561.58 KiB)\n"
     ]
    },
    {
     "output_type": "execute_result",
     "data": {
      "text/plain": "true"
     },
     "metadata": {},
     "execution_count": 4
    }
   ],
   "cell_type": "code",
   "source": [
    "import DynamicPolynomials\n",
    "@btime let\n",
    "    DynamicPolynomials.@polyvar x y\n",
    "    S = @set x^3 * y + x == 2x^2 * y^2 && 3x^4 == y\n",
    "    SemialgebraicSets.computegröbnerbasis!(S.I)\n",
    "end"
   ],
   "metadata": {},
   "execution_count": 4
  },
  {
   "cell_type": "markdown",
   "source": [
    "We see that TypedPolynomials is faster.\n",
    "The time is still negligible for this small system but for larger systems, choosing TypedPolynomials may be helpful.\n",
    "We can use this system in a Sum-of-Squares constraint as follows:"
   ],
   "metadata": {}
  },
  {
   "outputs": [
    {
     "name": "stdout",
     "output_type": "stream",
     "text": [
      "Success: SDP solved\n",
      "Primal objective value: 0.0000000e+00 \n",
      "Dual objective value: 0.0000000e+00 \n",
      "Relative primal infeasibility: 1.65e-16 \n",
      "Relative dual infeasibility: 5.00e-11 \n",
      "Real Relative Gap: 0.00e+00 \n",
      "XZ Relative Gap: 3.04e-10 \n",
      "DIMACS error measures: 2.05e-16 0.00e+00 5.00e-11 0.00e+00 0.00e+00 3.04e-10\n",
      "CSDP 6.2.0\n",
      "This is a pure primal feasibility problem.\n",
      "Iter:  0 Ap: 0.00e+00 Pobj:  0.0000000e+00 Ad: 0.00e+00 Dobj:  0.0000000e+00 \n",
      "Iter:  1 Ap: 7.64e-01 Pobj:  0.0000000e+00 Ad: 8.07e-01 Dobj:  2.6104524e+00 \n",
      "Iter:  2 Ap: 7.90e-01 Pobj:  0.0000000e+00 Ad: 7.40e-01 Dobj: -5.9858991e-02 \n",
      "Iter:  3 Ap: 7.78e-01 Pobj:  0.0000000e+00 Ad: 7.55e-01 Dobj:  5.6667085e-01 \n",
      "Iter:  4 Ap: 7.59e-01 Pobj:  0.0000000e+00 Ad: 8.08e-01 Dobj:  4.9238811e-01 \n",
      "Iter:  5 Ap: 7.15e-01 Pobj:  0.0000000e+00 Ad: 6.42e-01 Dobj:  4.3470711e-01 \n",
      "Iter:  6 Ap: 6.45e-01 Pobj:  0.0000000e+00 Ad: 7.00e-01 Dobj:  2.1752403e-01 \n",
      "Iter:  7 Ap: 6.50e-01 Pobj:  0.0000000e+00 Ad: 6.29e-01 Dobj:  1.2996035e-01 \n",
      "Iter:  8 Ap: 7.47e-01 Pobj:  0.0000000e+00 Ad: 7.47e-01 Dobj:  4.7811088e-02 \n",
      "Iter:  9 Ap: 7.00e-01 Pobj:  0.0000000e+00 Ad: 5.80e-01 Dobj:  2.9509928e-02 \n",
      "Iter: 10 Ap: 8.54e-01 Pobj:  0.0000000e+00 Ad: 7.41e-01 Dobj:  8.4927536e-03 \n",
      "Iter: 11 Ap: 7.18e-01 Pobj:  0.0000000e+00 Ad: 6.72e-01 Dobj:  4.4747062e-03 \n",
      "Iter: 12 Ap: 4.53e-01 Pobj:  0.0000000e+00 Ad: 8.04e-01 Dobj:  8.6009457e-04 \n",
      "Iter: 13 Ap: 7.03e-01 Pobj:  0.0000000e+00 Ad: 5.90e-01 Dobj:  4.6300345e-04 \n",
      "Iter: 14 Ap: 7.66e-01 Pobj:  0.0000000e+00 Ad: 7.20e-01 Dobj:  1.7119372e-04 \n",
      "Iter: 15 Ap: 7.38e-01 Pobj:  0.0000000e+00 Ad: 7.95e-01 Dobj:  9.7846323e-05 \n",
      "Iter: 16 Ap: 6.35e-01 Pobj:  0.0000000e+00 Ad: 7.33e-01 Dobj:  3.3414259e-05 \n"
     ]
    },
    {
     "output_type": "execute_result",
     "data": {
      "text/plain": "* Solver : CSDP\n\n* Status\n  Result count       : 1\n  Termination status : OPTIMAL\n  Message from the solver:\n  \"Problem solved to optimality.\"\n\n* Candidate solution (result #1)\n  Primal status      : FEASIBLE_POINT\n  Dual status        : FEASIBLE_POINT\n  Objective value    : 0.00000e+00\n  Dual objective value : 0.00000e+00\n\n* Work counters\n  Solve time (sec)   : 1.76979e-01\n"
     },
     "metadata": {},
     "execution_count": 5
    }
   ],
   "cell_type": "code",
   "source": [
    "TypedPolynomials.@polyvar x y\n",
    "S = @set x^3 * y + x == 2x^2 * y^2 && 3x^4 == y\n",
    "poly = -6x - 4y^3 + 2x*y^2 + 6x^3 - 3y^4 + 13x^2 * y^2\n",
    "model = Model(CSDP.Optimizer)\n",
    "con_ref = @constraint(model, poly in SOSCone(), domain = S)\n",
    "optimize!(model)\n",
    "solution_summary(model)"
   ],
   "metadata": {},
   "execution_count": 5
  },
  {
   "cell_type": "markdown",
   "source": [
    "We obtain the following decomposition:"
   ],
   "metadata": {}
  },
  {
   "outputs": [
    {
     "output_type": "execute_result",
     "data": {
      "text/plain": "(-24.927154511803923*x^2 + 27.800184164380585*x*y - 6.9408950932777325*y^2 - 0.00025745451936590776*x + 0.0004423818427874241*y + 7.5578933517455e-5)^2 + (-21.341702974684388*x^2 - 13.612740134195233*x*y + 22.12268630623182*y^2 - 0.0006202089859727377*x - 0.00046985202412155126*y - 1.686592587705869e-5)^2 + (-0.07015469214184662*x^2 - 0.09428679976390737*x*y - 0.12569540965407203*y^2 + 0.008518353928769347*x - 0.0065906006234522216*y + 4.623162208288532e-5)^2 + (-0.0017527827110082302*x^2 - 0.0023572903711875015*x*y - 0.00314205589113653*y^2 - 0.054529602188287424*x + 0.04182710745418746*y - 2.3524778609698603e-5)^2"
     },
     "metadata": {},
     "execution_count": 6
    }
   ],
   "cell_type": "code",
   "source": [
    "dec = sos_decomposition(con_ref, 1e-6)"
   ],
   "metadata": {},
   "execution_count": 6
  },
  {
   "cell_type": "markdown",
   "source": [
    "We can verify that it is correct as follows:"
   ],
   "metadata": {}
  },
  {
   "outputs": [
    {
     "output_type": "execute_result",
     "data": {
      "text/plain": "-7.953798625401267e-6x² - 2.0765851549731616e-5xy - 1.3525048331121132e-5y² - 1.8162254715566013e-7x - 2.391655946511783e-7y + 8.687412736376382e-9",
      "text/latex": "$$ -7.953798625401267e-6x^{2} - 2.0765851549731616e-5xy - 1.3525048331121132e-5y^{2} - 1.8162254715566013e-7x - 2.391655946511783e-7y + 8.687412736376382e-9 $$"
     },
     "metadata": {},
     "execution_count": 7
    }
   ],
   "cell_type": "code",
   "source": [
    "rem(dec - poly, S.I)"
   ],
   "metadata": {},
   "execution_count": 7
  },
  {
   "cell_type": "markdown",
   "source": [
    "Note that the difference between `dec` and `poly` is larger\n",
    "than between the full gram matrix because `dec` is obtained by dropping\n",
    "the lowest eigenvalues with the threshold `1e-6`; see `sos_decomposition`."
   ],
   "metadata": {}
  },
  {
   "outputs": [
    {
     "output_type": "execute_result",
     "data": {
      "text/plain": "0.0",
      "text/latex": "$$ 0.0 $$"
     },
     "metadata": {},
     "execution_count": 8
    }
   ],
   "cell_type": "code",
   "source": [
    "rem(gram_matrix(con_ref) - poly, S.I)"
   ],
   "metadata": {},
   "execution_count": 8
  },
  {
   "cell_type": "markdown",
   "source": [
    "---\n",
    "\n",
    "*This notebook was generated using [Literate.jl](https://github.com/fredrikekre/Literate.jl).*"
   ],
   "metadata": {}
  }
 ],
 "nbformat_minor": 3,
 "metadata": {
  "language_info": {
   "file_extension": ".jl",
   "mimetype": "application/julia",
   "name": "julia",
   "version": "1.9.0"
  },
  "kernelspec": {
   "name": "julia-1.9",
   "display_name": "Julia 1.9.0",
   "language": "julia"
  }
 },
 "nbformat": 4
}

{
 "cells": [
  {
   "cell_type": "markdown",
   "source": [
    "# Sums of Hermitian squares"
   ],
   "metadata": {}
  },
  {
   "cell_type": "markdown",
   "source": [
    "**Contributed by**: Benoît Legat"
   ],
   "metadata": {}
  },
  {
   "outputs": [
    {
     "name": "stdout",
     "output_type": "stream",
     "text": [
      "Iter: 12 Ap: 9.00e-01 Pobj: -6.0000000e+00 Ad: 1.00e+00 Dobj: -6.0000000e+00 \n",
      "Success: SDP solved\n",
      "Primal objective value: -6.0000000e+00 \n",
      "Dual objective value: -6.0000000e+00 \n",
      "Relative primal infeasibility: 8.19e-12 \n",
      "Relative dual infeasibility: 3.44e-11 \n",
      "Real Relative Gap: 3.74e-10 \n",
      "XZ Relative Gap: 7.09e-10 \n",
      "DIMACS error measures: 8.95e-12 0.00e+00 5.84e-11 0.00e+00 3.74e-10 7.09e-10\n",
      "CSDP 6.2.0\n",
      "This is a pure primal feasibility problem.\n",
      "Iter:  0 Ap: 0.00e+00 Pobj:  0.0000000e+00 Ad: 0.00e+00 Dobj:  0.0000000e+00 \n",
      "Iter:  1 Ap: 9.00e-01 Pobj:  0.0000000e+00 Ad: 1.00e+00 Dobj:  2.8800000e+01 \n",
      "Iter:  2 Ap: 9.00e-01 Pobj:  0.0000000e+00 Ad: 1.00e+00 Dobj:  5.2897959e+00 \n",
      "Iter:  3 Ap: 1.00e+00 Pobj:  0.0000000e+00 Ad: 1.00e+00 Dobj:  1.0563942e-01 \n"
     ]
    },
    {
     "output_type": "execute_result",
     "data": {
      "text/plain": "((-1.0000000000000002 - 0.0im)*x + (0.0 + 1.0im)*y)^2"
     },
     "metadata": {},
     "execution_count": 1
    }
   ],
   "cell_type": "code",
   "source": [
    "using SumOfSquares\n",
    "\n",
    "using DynamicPolynomials\n",
    "@ncpolyvar x y\n",
    "p = (x + 1.0im * y) * (x - im * y)\n",
    "\n",
    "import CSDP\n",
    "model = Model(CSDP.Optimizer)\n",
    "MOI.Bridges.add_bridge(backend(model).optimizer, PolyJuMP.ZeroPolynomialBridge{Complex{Float64}})\n",
    "MOI.Bridges.add_bridge(backend(model).optimizer, SumOfSquares.Bridges.Constraint.SOSPolynomialBridge{Complex{Float64}})\n",
    "cone = NonnegPolyInnerCone{MOI.HermitianPositiveSemidefiniteConeTriangle}()\n",
    "con_ref = @constraint(model, p in cone)\n",
    "optimize!(model)\n",
    "sos_decomposition(con_ref, 1e-6)"
   ],
   "metadata": {},
   "execution_count": 1
  },
  {
   "cell_type": "markdown",
   "source": [
    "---\n",
    "\n",
    "*This notebook was generated using [Literate.jl](https://github.com/fredrikekre/Literate.jl).*"
   ],
   "metadata": {}
  }
 ],
 "nbformat_minor": 3,
 "metadata": {
  "language_info": {
   "file_extension": ".jl",
   "mimetype": "application/julia",
   "name": "julia",
   "version": "1.9.0"
  },
  "kernelspec": {
   "name": "julia-1.9",
   "display_name": "Julia 1.9.0",
   "language": "julia"
  }
 },
 "nbformat": 4
}

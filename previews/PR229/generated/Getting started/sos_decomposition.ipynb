{
 "cells": [
  {
   "cell_type": "markdown",
   "source": [
    "# A trivial SOS decomposition example"
   ],
   "metadata": {}
  },
  {
   "cell_type": "markdown",
   "source": [
    "**Contributed by**: votroto\n",
    "**Adapted from**: Examples 3.25 of [BPT12]\n",
    "\n",
    "[BPT12] Blekherman, G.; Parrilo, P. A. & Thomas, R. R.\n",
    "*Semidefinite Optimization and Convex Algebraic Geometry*.\n",
    "Society for Industrial and Applied Mathematics, **2012**."
   ],
   "metadata": {}
  },
  {
   "outputs": [],
   "cell_type": "code",
   "source": [
    "using DynamicPolynomials\n",
    "using SumOfSquares\n",
    "import CSDP"
   ],
   "metadata": {},
   "execution_count": 1
  },
  {
   "cell_type": "markdown",
   "source": [
    "The polynomial `p = x^2 - x*y^2 + y^4 + 1` is SOS.\n",
    "We can, for example, decompose it as\n",
    "`p = 3/4*(x - y^2)^2 + 1/4*(x + y)^2 + 1`,\n",
    "which clearly proves that `p` is SOS, and there are infinitely many other ways\n",
    "to decompose `p` into sums of squares."
   ],
   "metadata": {}
  },
  {
   "cell_type": "markdown",
   "source": [
    "We can use SumOfSquares.jl to find such decompositions."
   ],
   "metadata": {}
  },
  {
   "cell_type": "markdown",
   "source": [
    "First, setup the polynomial of interest."
   ],
   "metadata": {}
  },
  {
   "outputs": [
    {
     "output_type": "execute_result",
     "data": {
      "text/plain": "y⁴ - xy² + x² + 1",
      "text/latex": "$$ y^{4} - xy^{2} + x^{2} + 1 $$"
     },
     "metadata": {},
     "execution_count": 2
    }
   ],
   "cell_type": "code",
   "source": [
    "@polyvar x y\n",
    "p = x^2 - x*y^2 + y^4 + 1"
   ],
   "metadata": {},
   "execution_count": 2
  },
  {
   "cell_type": "markdown",
   "source": [
    "Secondly, constrain the polynomial to be nonnegative.\n",
    "SumOfSquares.jl transparently reinterprets polyonmial nonnegativity as the\n",
    "appropriate SOS certificate for polynomials nonnegative on semialgebraic sets."
   ],
   "metadata": {}
  },
  {
   "outputs": [
    {
     "output_type": "execute_result",
     "data": {
      "text/plain": "cref : (1)y⁴ + (-1)xy² + (1)x² + (1) is SOS",
      "text/latex": "cref : $ (1)y^{4} + (-1)xy^{2} + (1)x^{2} + (1) \\text{ is SOS} $"
     },
     "metadata": {},
     "execution_count": 3
    }
   ],
   "cell_type": "code",
   "source": [
    "model = SOSModel(CSDP.Optimizer)\n",
    "@constraint(model, cref, p >= 0)"
   ],
   "metadata": {},
   "execution_count": 3
  },
  {
   "cell_type": "markdown",
   "source": [
    "Thirdly, optimize the feasibility problem!"
   ],
   "metadata": {}
  },
  {
   "outputs": [
    {
     "name": "stdout",
     "output_type": "stream",
     "text": [
      "CSDP 6.2.0\n",
      "This is a pure primal feasibility problem.\n",
      "Iter:  0 Ap: 0.00e+00 Pobj:  0.0000000e+00 Ad: 0.00e+00 Dobj:  0.0000000e+00 \n",
      "Iter:  1 Ap: 9.00e-01 Pobj:  0.0000000e+00 Ad: 1.00e+00 Dobj:  2.7659722e+01 \n",
      "Iter:  2 Ap: 1.00e+00 Pobj:  0.0000000e+00 Ad: 1.00e+00 Dobj:  1.2562719e+01 \n"
     ]
    }
   ],
   "cell_type": "code",
   "source": [
    "optimize!(model)"
   ],
   "metadata": {},
   "execution_count": 4
  },
  {
   "cell_type": "markdown",
   "source": [
    "Lastly, recover a SOS decomposition.\n",
    "In general, SOS decompositions are not unique!"
   ],
   "metadata": {}
  },
  {
   "outputs": [
    {
     "output_type": "execute_result",
     "data": {
      "text/plain": "(-0.949275737222999*y^2 + 0.5916342145954685*x + 0.7423566403018638)^2 + (1.1201589623631871*y)^2 + (1.9762107540267777e-16*y^2 - 0.7820242435285937*x + 0.6232480104529262)^2 + (-0.31444486753600004*y^2 - 0.19597713808894598*x - 0.24590350966628918)^2"
     },
     "metadata": {},
     "execution_count": 5
    }
   ],
   "cell_type": "code",
   "source": [
    "sos_dec = sos_decomposition(cref, 1e-4)"
   ],
   "metadata": {},
   "execution_count": 5
  },
  {
   "cell_type": "markdown",
   "source": [
    "Converting, rounding, and simplifying - Huzza, Back where we began!"
   ],
   "metadata": {}
  },
  {
   "outputs": [
    {
     "output_type": "execute_result",
     "data": {
      "text/plain": "y⁴ - xy² + x² - 7.771561e-16y² + 1.6653345e-16x + 1.0",
      "text/latex": "$$ y^{4} - xy^{2} + x^{2} - 7.771561e-16y^{2} + 1.6653345e-16x + 1.0 $$"
     },
     "metadata": {},
     "execution_count": 6
    }
   ],
   "cell_type": "code",
   "source": [
    "polynomial(sos_dec, Float32)"
   ],
   "metadata": {},
   "execution_count": 6
  },
  {
   "cell_type": "markdown",
   "source": [
    "## A deeper explanation and the unexplained `1e-4` parameter"
   ],
   "metadata": {}
  },
  {
   "cell_type": "markdown",
   "source": [
    "`p = x^2 - x*y^2 + y^4 + 1` can be represented in terms of its Gram matrix as"
   ],
   "metadata": {}
  },
  {
   "outputs": [
    {
     "output_type": "execute_result",
     "data": {
      "text/plain": "GramMatrix{Float64, MonomialBasis{DynamicPolynomials.Monomial{true}, DynamicPolynomials.MonomialVector{true}}, Float64, SymMatrix{Float64}}([0.9999999999999999 -0.5 0.0 -0.627378050481286; -0.5 1.0 0.0 -2.7061686225238353e-18; 0.0 0.0 1.254756100962572 0.0; -0.627378050481286 -2.7061686225238353e-18 0.0 1.0], MonomialBasis{DynamicPolynomials.Monomial{true}, DynamicPolynomials.MonomialVector{true}}(DynamicPolynomials.Monomial{true}[y², x, y, 1]))"
     },
     "metadata": {},
     "execution_count": 7
    }
   ],
   "cell_type": "code",
   "source": [
    "gram = gram_matrix(cref)"
   ],
   "metadata": {},
   "execution_count": 7
  },
  {
   "outputs": [
    {
     "output_type": "execute_result",
     "data": {
      "text/plain": "0.9999999999999999y⁴ - xy² + x² - 5.412337245047671e-18x + 1.0",
      "text/latex": "$$ 0.9999999999999999y^{4} - xy^{2} + x^{2} - 5.412337245047671e-18x + 1.0 $$"
     },
     "metadata": {},
     "execution_count": 8
    }
   ],
   "cell_type": "code",
   "source": [
    "gram.basis.monomials' * gram.Q * gram.basis.monomials"
   ],
   "metadata": {},
   "execution_count": 8
  },
  {
   "cell_type": "markdown",
   "source": [
    "where the matrix `gram.Q` is positive semidefinite, because `p` is SOS. If we\n",
    "could only get the decomposition `gram.Q = V' * V`, the SOS decomposition would\n",
    "simply be `||V * monomials||^2`."
   ],
   "metadata": {}
  },
  {
   "cell_type": "markdown",
   "source": [
    "Unfortunately, we can not use Cholesky decomposition, since gram `Q` is only\n",
    "semidefinite, not definite. Hence, SumOfSquares.jl uses SVD decomposition\n",
    "instead and discards small singular values (in our case `1e-4`)."
   ],
   "metadata": {}
  },
  {
   "cell_type": "markdown",
   "source": [
    "---\n",
    "\n",
    "*This notebook was generated using [Literate.jl](https://github.com/fredrikekre/Literate.jl).*"
   ],
   "metadata": {}
  }
 ],
 "nbformat_minor": 3,
 "metadata": {
  "language_info": {
   "file_extension": ".jl",
   "mimetype": "application/julia",
   "name": "julia",
   "version": "1.6.4"
  },
  "kernelspec": {
   "name": "julia-1.6",
   "display_name": "Julia 1.6.4",
   "language": "julia"
  }
 },
 "nbformat": 4
}

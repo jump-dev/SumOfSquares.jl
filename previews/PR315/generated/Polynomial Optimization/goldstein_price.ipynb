{
 "cells": [
  {
   "cell_type": "markdown",
   "source": [
    "# Goldstein-price function"
   ],
   "metadata": {}
  },
  {
   "cell_type": "markdown",
   "source": [
    "**Contributed by**: Benoît Legat"
   ],
   "metadata": {}
  },
  {
   "cell_type": "markdown",
   "source": [
    "In this example, we consider the minimization of the [Goldstein-price function](https://en.wikipedia.org/wiki/Test_functions_for_optimization)."
   ],
   "metadata": {}
  },
  {
   "outputs": [],
   "cell_type": "code",
   "source": [
    "using SumOfSquares\n",
    "using DynamicPolynomials"
   ],
   "metadata": {},
   "execution_count": 1
  },
  {
   "cell_type": "markdown",
   "source": [
    "Create *symbolic* variables (not JuMP *decision* variables)"
   ],
   "metadata": {}
  },
  {
   "outputs": [
    {
     "output_type": "execute_result",
     "data": {
      "text/plain": "(DynamicPolynomials.Variable{DynamicPolynomials.Commutative{DynamicPolynomials.CreationOrder}, MultivariatePolynomials.Graded{MultivariatePolynomials.LexOrder}}[x₁, x₂],)"
     },
     "metadata": {},
     "execution_count": 2
    }
   ],
   "cell_type": "code",
   "source": [
    "@polyvar x[1:2]"
   ],
   "metadata": {},
   "execution_count": 2
  },
  {
   "cell_type": "markdown",
   "source": [
    "To use Sum-of-Squares Programming, we first need to pick an SDP solver,\n",
    "see [here](https://jump.dev/JuMP.jl/v1.12/installation/#Supported-solvers) for a list of the available choices."
   ],
   "metadata": {}
  },
  {
   "outputs": [
    {
     "output_type": "execute_result",
     "data": {
      "text/plain": "A JuMP Model\nFeasibility problem with:\nVariables: 0\nModel mode: AUTOMATIC\nCachingOptimizer state: EMPTY_OPTIMIZER\nSolver name: Dual model with Clarabel attached"
     },
     "metadata": {},
     "execution_count": 3
    }
   ],
   "cell_type": "code",
   "source": [
    "import Clarabel\n",
    "using Dualization\n",
    "model = SOSModel(dual_optimizer(Clarabel.Optimizer))"
   ],
   "metadata": {},
   "execution_count": 3
  },
  {
   "cell_type": "markdown",
   "source": [
    "Create a JuMP decision variable for the lower bound"
   ],
   "metadata": {}
  },
  {
   "outputs": [
    {
     "output_type": "execute_result",
     "data": {
      "text/plain": "γ",
      "text/latex": "$$ γ $$"
     },
     "metadata": {},
     "execution_count": 4
    }
   ],
   "cell_type": "code",
   "source": [
    "@variable(model, γ)"
   ],
   "metadata": {},
   "execution_count": 4
  },
  {
   "cell_type": "markdown",
   "source": [
    "`f(x)` is the Goldstein-Price function"
   ],
   "metadata": {}
  },
  {
   "outputs": [
    {
     "output_type": "execute_result",
     "data": {
      "text/plain": "600 + 720x₂ + 720x₁ + 3060x₂² - 4680x₁x₂ + 1260x₁² + 12288x₂³ - 19296x₁x₂² + 7344x₁²x₂ - 1072x₁³ + 14346x₂⁴ - 23616x₁x₂³ + 7776x₁²x₂² + 5784x₁³x₂ - 2454x₁⁴ + 1944x₂⁵ - 11880x₁x₂⁴ + 5040x₁²x₂³ + 9840x₁³x₂² - 7680x₁⁴x₂ + 1344x₁⁵ - 4428x₂⁶ - 1188x₁x₂⁵ + 8730x₁²x₂⁴ + 1240x₁³x₂³ - 5370x₁⁴x₂² - 168x₁⁵x₂ + 952x₁⁶ - 648x₂⁷ + 1944x₁x₂⁶ + 3672x₁²x₂⁵ - 3480x₁³x₂⁴ - 4080x₁⁴x₂³ + 2592x₁⁵x₂² + 1344x₁⁶x₂ - 768x₁⁷ + 729x₂⁸ + 972x₁x₂⁷ - 1458x₁²x₂⁶ - 1836x₁³x₂⁵ + 1305x₁⁴x₂⁴ + 1224x₁⁵x₂³ - 648x₁⁶x₂² - 288x₁⁷x₂ + 144x₁⁸",
      "text/latex": "$$ 600 + 720x_{2} + 720x_{1} + 3060x_{2}^{2} - 4680x_{1}x_{2} + 1260x_{1}^{2} + 12288x_{2}^{3} - 19296x_{1}x_{2}^{2} + 7344x_{1}^{2}x_{2} - 1072x_{1}^{3} + 14346x_{2}^{4} - 23616x_{1}x_{2}^{3} + 7776x_{1}^{2}x_{2}^{2} + 5784x_{1}^{3}x_{2} - 2454x_{1}^{4} + 1944x_{2}^{5} - 11880x_{1}x_{2}^{4} + 5040x_{1}^{2}x_{2}^{3} + 9840x_{1}^{3}x_{2}^{2} - 7680x_{1}^{4}x_{2} + 1344x_{1}^{5} - 4428x_{2}^{6} - 1188x_{1}x_{2}^{5} + 8730x_{1}^{2}x_{2}^{4} + 1240x_{1}^{3}x_{2}^{3} - 5370x_{1}^{4}x_{2}^{2} - 168x_{1}^{5}x_{2} + 952x_{1}^{6} - 648x_{2}^{7} + 1944x_{1}x_{2}^{6} + 3672x_{1}^{2}x_{2}^{5} - 3480x_{1}^{3}x_{2}^{4} - 4080x_{1}^{4}x_{2}^{3} + 2592x_{1}^{5}x_{2}^{2} + 1344x_{1}^{6}x_{2} - 768x_{1}^{7} + 729x_{2}^{8} + 972x_{1}x_{2}^{7} - 1458x_{1}^{2}x_{2}^{6} - 1836x_{1}^{3}x_{2}^{5} + 1305x_{1}^{4}x_{2}^{4} + 1224x_{1}^{5}x_{2}^{3} - 648x_{1}^{6}x_{2}^{2} - 288x_{1}^{7}x_{2} + 144x_{1}^{8} $$"
     },
     "metadata": {},
     "execution_count": 5
    }
   ],
   "cell_type": "code",
   "source": [
    "f1 = x[1] + x[2] + 1\n",
    "f2 = 19 - 14*x[1] + 3*x[1]^2 - 14*x[2] + 6*x[1]*x[2] + 3*x[2]^2\n",
    "f3 = 2*x[1] - 3*x[2]\n",
    "f4 = 18 - 32*x[1] + 12*x[1]^2 + 48*x[2] - 36*x[1]*x[2] + 27*x[2]^2\n",
    "f = (1 + f1^2*f2) * (30 + f3^2*f4)"
   ],
   "metadata": {},
   "execution_count": 5
  },
  {
   "cell_type": "markdown",
   "source": [
    "Constraints `f(x) - γ` to be a sum of squares"
   ],
   "metadata": {}
  },
  {
   "outputs": [
    {
     "name": "stdout",
     "output_type": "stream",
     "text": [
      "-------------------------------------------------------------\n",
      "           Clarabel.jl v0.5.1  -  Clever Acronym              \n",
      "                   (c) Paul Goulart                          \n",
      "                University of Oxford, 2022                   \n",
      "-------------------------------------------------------------\n",
      "\n",
      "problem:\n",
      "  variables     = 45\n",
      "  constraints   = 121\n",
      "  nnz(P)        = 0\n",
      "  nnz(A)        = 121\n",
      "  cones (total) = 2\n",
      "    : Zero        = 1,  numel = 1\n",
      "    : PSDTriangle = 1,  numel = 120\n",
      "\n",
      "settings:\n",
      "  linear algebra: direct / qdldl, precision: Float64\n",
      "  max iter = 200, time limit = Inf,  max step = 0.990\n",
      "  tol_feas = 1.0e-08, tol_gap_abs = 1.0e-08, tol_gap_rel = 1.0e-08,\n",
      "  static reg : on, ϵ1 = 1.0e-08, ϵ2 = 4.9e-32\n",
      "  dynamic reg: on, ϵ = 1.0e-13, δ = 2.0e-07\n",
      "  iter refine: on, reltol = 1.0e-13, abstol = 1.0e-12, \n",
      "               max iter = 10, stop ratio = 5.0\n",
      "  equilibrate: on, min_scale = 1.0e-04, max_scale = 1.0e+04\n",
      "               max iter = 10\n",
      "\n",
      "iter    pcost        dcost       gap       pres      dres      k/t        μ       step      \n",
      "---------------------------------------------------------------------------------------------\n",
      "  0   6.0000e+02   6.0000e+02  0.00e+00  7.94e-01  4.57e-01  1.00e+00  1.76e+04   ------   \n",
      "  1  -4.0470e+03  -2.9148e+03  3.88e-01  2.08e-01  1.44e-01  1.13e+03  4.66e+03  7.93e-01  \n",
      "  2  -1.4428e+03  -1.0955e+03  3.17e-01  2.36e-02  2.47e-02  3.47e+02  8.26e+02  8.79e-01  \n",
      "  3  -3.9672e+01   4.1596e+01  2.05e+00  5.00e-03  4.15e-03  8.13e+01  1.96e+02  8.63e-01  \n",
      "  4   1.7174e+01   2.8486e+01  6.59e-01  9.46e-04  6.91e-04  1.13e+01  3.75e+01  8.26e-01  \n",
      "  5   6.7376e+00   1.1010e+01  6.34e-01  2.57e-04  2.09e-04  4.27e+00  1.14e+01  8.19e-01  \n",
      "  6   4.3831e+00   5.0218e+00  1.46e-01  4.51e-05  3.53e-05  6.39e-01  2.05e+00  8.70e-01  \n",
      "  7   3.5210e+00   3.7988e+00  7.89e-02  1.56e-05  1.39e-05  2.78e-01  7.46e-01  8.34e-01  \n",
      "  8   3.1848e+00   3.2607e+00  2.38e-02  5.32e-06  4.31e-06  7.59e-02  2.55e-01  7.71e-01  \n",
      "  9   3.0442e+00   3.0594e+00  4.97e-03  1.20e-06  9.26e-07  1.51e-02  5.94e-02  8.58e-01  \n",
      " 10   3.0224e+00   3.0304e+00  2.67e-03  5.74e-07  4.84e-07  8.07e-03  3.02e-02  6.45e-01  \n",
      " 11   3.0036e+00   3.0049e+00  4.46e-04  1.26e-07  7.87e-08  1.34e-03  5.24e-03  8.92e-01  \n",
      " 12   3.0020e+00   3.0027e+00  2.28e-04  1.28e-06  4.19e-08  6.86e-04  2.92e-03  5.18e-01  \n",
      " 13   3.0005e+00   3.0006e+00  5.46e-05  3.18e-07  9.93e-09  1.64e-04  7.61e-04  9.30e-01  \n",
      " 14   3.0005e+00   3.0006e+00  5.46e-05  3.18e-07  9.93e-09  1.64e-04  7.61e-04  0.00e+00  \n",
      "---------------------------------------------------------------------------------------------\n",
      "Terminated with status = numerical error\n",
      "solve time =  302ms\n"
     ]
    }
   ],
   "cell_type": "code",
   "source": [
    "con_ref = @constraint(model, f >= γ)\n",
    "@objective(model, Max, γ)\n",
    "optimize!(model)"
   ],
   "metadata": {},
   "execution_count": 6
  },
  {
   "cell_type": "markdown",
   "source": [
    "The lower bound found is 3"
   ],
   "metadata": {}
  },
  {
   "outputs": [
    {
     "output_type": "execute_result",
     "data": {
      "text/plain": "* Solver : Dual model with Clarabel attached\n\n* Status\n  Result count       : 1\n  Termination status : NUMERICAL_ERROR\n  Message from the solver:\n  \"NUMERICAL_ERROR\"\n\n* Candidate solution (result #1)\n  Primal status      : OTHER_RESULT_STATUS\n  Dual status        : OTHER_RESULT_STATUS\n  Objective value    : 3.00063e+00\n  Dual objective value : 3.00047e+00\n\n* Work counters\n  Solve time (sec)   : 3.02388e-01\n  Barrier iterations : 14\n"
     },
     "metadata": {},
     "execution_count": 7
    }
   ],
   "cell_type": "code",
   "source": [
    "solution_summary(model)"
   ],
   "metadata": {},
   "execution_count": 7
  },
  {
   "cell_type": "markdown",
   "source": [
    "The moment matrix is as follows, we can already see the global minimizer\n",
    "`[0, -1]` from the entries `(2, 1)` and `(3, 1)`.\n",
    "This heuristic way to obtain solutions to the polynomial optimization problem\n",
    "is suggested in [L09, (6.15)].\n",
    "\n",
    "[L09] Laurent, Monique.\n",
    "*Sums of squares, moment matrices and optimization over polynomials.*\n",
    "Emerging applications of algebraic geometry (2009): 157-270."
   ],
   "metadata": {}
  },
  {
   "outputs": [
    {
     "output_type": "execute_result",
     "data": {
      "text/plain": "MomentMatrix with row/column basis:\n MonomialBasis([1, x[2], x[1], x[2]^2, x[1]*x[2], x[1]^2, x[2]^3, x[1]*x[2]^2, x[1]^2*x[2], x[1]^3, x[2]^4, x[1]*x[2]^3, x[1]^2*x[2]^2, x[1]^3*x[2], x[1]^4])\nAnd entries in a 15×15 SymMatrix{Float64}:\n  1.0000000024148903     -0.9999382587027277     …   3.5515359712023664e-5\n -0.9999382587027277      0.9998826624220426         1.5428589596678468e-5\n  1.3387620375239558e-5  -1.0749343383504728e-5      7.168403374125203e-5\n  0.9998827366832189     -0.9998262504021791         0.0007786025878914721\n -1.064465003841754e-5    1.3545750928683232e-5      0.0007646370434974884\n  9.681349389043938e-6    1.926321643119007e-6   …   0.001679359987193148\n -0.999826388103798       0.9997725258114581        -0.0005196476259947733\n  1.3414924328496838e-5  -1.1292688444729286e-5     -0.0002647962832027735\n  1.9048022059954632e-6   3.770656344920049e-6       0.001080269454981368\n  1.2957759703460782e-5   8.943719503824193e-6       0.0026021410399755048\n  0.9997726531656117     -0.9997190134904412     …   0.6335530365500794\n -1.1329709386179011e-5   1.1051501130768835e-5     -0.1904128211623446\n  3.7294997814120735e-6  -1.2187524082060812e-6      0.853947475960679\n  8.947452650547174e-6    2.2621613918790728e-6      0.13972872187918567\n  3.5515359712023664e-5   1.5428589596678468e-5      1.3573135696530392"
     },
     "metadata": {},
     "execution_count": 8
    }
   ],
   "cell_type": "code",
   "source": [
    "ν = moment_matrix(con_ref)"
   ],
   "metadata": {},
   "execution_count": 8
  },
  {
   "cell_type": "markdown",
   "source": [
    "Many entries of the matrix actually have the same moment.\n",
    "We can obtain the following list of these moments without duplicates\n",
    "(ignoring when difference of entries representing the same moments is below `1e-5`)"
   ],
   "metadata": {}
  },
  {
   "outputs": [
    {
     "output_type": "execute_result",
     "data": {
      "text/plain": "Measure{Float64, DynamicPolynomials.Monomial{DynamicPolynomials.Commutative{DynamicPolynomials.CreationOrder}, MultivariatePolynomials.Graded{MultivariatePolynomials.LexOrder}}, DynamicPolynomials.MonomialVector{DynamicPolynomials.Commutative{DynamicPolynomials.CreationOrder}, MultivariatePolynomials.Graded{MultivariatePolynomials.LexOrder}}}([1.0000000024148903, -0.9999382587027277, 1.3387620375239558e-5, 0.9998827366832189, -1.064465003841754e-5, 9.681349389043938e-6, -0.999826388103798, 1.3414924328496838e-5, 1.9048022059954632e-6, 1.2957759703460782e-5  …  0.0026021410399755048, 1.494070202278145, -0.4025431439050152, 0.5365928440702569, -0.33638361424492635, 0.6335530365500794, -0.1904128211623446, 0.853947475960679, 0.13972872187918567, 1.3573135696530392], DynamicPolynomials.Monomial{DynamicPolynomials.Commutative{DynamicPolynomials.CreationOrder}, MultivariatePolynomials.Graded{MultivariatePolynomials.LexOrder}}[1, x₂, x₁, x₂², x₁x₂, x₁², x₂³, x₁x₂², x₁²x₂, x₁³  …  x₁⁷, x₂⁸, x₁x₂⁷, x₁²x₂⁶, x₁³x₂⁵, x₁⁴x₂⁴, x₁⁵x₂³, x₁⁶x₂², x₁⁷x₂, x₁⁸])"
     },
     "metadata": {},
     "execution_count": 9
    }
   ],
   "cell_type": "code",
   "source": [
    "μ = measure(ν, atol = 1e-5)"
   ],
   "metadata": {},
   "execution_count": 9
  },
  {
   "cell_type": "markdown",
   "source": [
    "The truncated moment matrix can then be obtained as follows"
   ],
   "metadata": {}
  },
  {
   "outputs": [
    {
     "output_type": "execute_result",
     "data": {
      "text/plain": "MomentMatrix with row/column basis:\n MonomialBasis([1, x[2], x[1], x[2]^2, x[1]*x[2], x[1]^2, x[2]^3, x[1]*x[2]^2, x[1]^2*x[2], x[1]^3])\nAnd entries in a 10×10 SymMatrix{Float64}:\n  1.0000000024148903     -0.9999382587027277     …  1.2957759703460782e-5\n -0.9999382587027277      0.9998827366832189        8.947452650547174e-6\n  1.3387620375239558e-5  -1.064465003841754e-5      3.5515359712023664e-5\n  0.9998827366832189     -0.999826388103798         2.2621613918790728e-6\n -1.064465003841754e-5    1.3414924328496838e-5     1.5428589596678468e-5\n  9.681349389043938e-6    1.9048022059954632e-6  …  7.168403374125203e-5\n -0.999826388103798       0.9997726531656117        0.0002347760801025644\n  1.3414924328496838e-5  -1.1329709386179011e-5     0.0007786025878914721\n  1.9048022059954632e-6   3.7294997814120735e-6     0.0007646370434974884\n  1.2957759703460782e-5   8.947452650547174e-6      0.001679359987193148"
     },
     "metadata": {},
     "execution_count": 10
    }
   ],
   "cell_type": "code",
   "source": [
    "ν_truncated = moment_matrix(μ, monomials(x, 0:3))"
   ],
   "metadata": {},
   "execution_count": 10
  },
  {
   "cell_type": "markdown",
   "source": [
    "Let's check if the flatness property is satisfied.\n",
    "The rank of `ν_truncated` seems to be 1:"
   ],
   "metadata": {}
  },
  {
   "outputs": [
    {
     "output_type": "execute_result",
     "data": {
      "text/plain": "10-element Vector{Float64}:\n 3.9993858652025946\n 0.002487503363528851\n 0.0006002562669328149\n 7.234559265742689e-5\n 7.299494866960483e-6\n 4.6270547394527895e-6\n 1.5969044347469254e-6\n 7.048918314978201e-7\n 1.5419035101956763e-7\n 4.5447029262940007e-8"
     },
     "metadata": {},
     "execution_count": 11
    }
   ],
   "cell_type": "code",
   "source": [
    "using LinearAlgebra\n",
    "LinearAlgebra.svdvals(Matrix(ν_truncated.Q))\n",
    "LinearAlgebra.rank(Matrix(ν_truncated.Q), rtol = 1e-3)\n",
    "svdvals(Matrix(ν_truncated.Q))"
   ],
   "metadata": {},
   "execution_count": 11
  },
  {
   "cell_type": "markdown",
   "source": [
    "The rank of `ν` is clearly higher than 1, closer to 3:"
   ],
   "metadata": {}
  },
  {
   "outputs": [
    {
     "output_type": "execute_result",
     "data": {
      "text/plain": "15-element Vector{Float64}:\n 5.181337008500714\n 2.315075382581048\n 1.3721771781426986\n 0.006399411637137132\n 0.0020867026437841546\n 0.0004508445856077911\n 0.0004137758357998113\n 8.274359875909834e-5\n 8.1559894746372e-6\n 4.24788408956209e-6\n 1.4377755328764997e-6\n 8.091189698697273e-7\n 2.1174067670630372e-7\n 9.080062313748886e-8\n 4.868239852446525e-9"
     },
     "metadata": {},
     "execution_count": 12
    }
   ],
   "cell_type": "code",
   "source": [
    "svdvals(Matrix(ν.Q))"
   ],
   "metadata": {},
   "execution_count": 12
  },
  {
   "cell_type": "markdown",
   "source": [
    "Even if the flatness property is not satisfied, we can\n",
    "still try extracting the minimizer with a low rank decomposition of rank 3.\n",
    "We find the optimal solution again doing so:"
   ],
   "metadata": {}
  },
  {
   "outputs": [
    {
     "output_type": "execute_result",
     "data": {
      "text/plain": "Atomic measure on the variables x[1], x[2] with 1 atoms:\n at [1.511543675655948e-5, -0.9999415621371347] with weight 1.033075101614307"
     },
     "metadata": {},
     "execution_count": 13
    }
   ],
   "cell_type": "code",
   "source": [
    "atomic_measure(ν, FixedRank(3))"
   ],
   "metadata": {},
   "execution_count": 13
  },
  {
   "cell_type": "markdown",
   "source": [
    "---\n",
    "\n",
    "*This notebook was generated using [Literate.jl](https://github.com/fredrikekre/Literate.jl).*"
   ],
   "metadata": {}
  }
 ],
 "nbformat_minor": 3,
 "metadata": {
  "language_info": {
   "file_extension": ".jl",
   "mimetype": "application/julia",
   "name": "julia",
   "version": "1.9.3"
  },
  "kernelspec": {
   "name": "julia-1.9",
   "display_name": "Julia 1.9.3",
   "language": "julia"
  }
 },
 "nbformat": 4
}

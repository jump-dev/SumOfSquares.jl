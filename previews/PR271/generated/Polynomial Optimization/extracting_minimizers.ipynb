{
 "cells": [
  {
   "cell_type": "markdown",
   "source": [
    "# Extracting minimizers"
   ],
   "metadata": {}
  },
  {
   "cell_type": "markdown",
   "source": [
    "**Adapted from**: Example 6.23 of [L09]\n",
    "\n",
    "[L09] Laurent, Monique.\n",
    "*Sums of squares, moment matrices and optimization over polynomials.*\n",
    "Emerging applications of algebraic geometry (2009): 157-270."
   ],
   "metadata": {}
  },
  {
   "cell_type": "markdown",
   "source": [
    "## Introduction"
   ],
   "metadata": {}
  },
  {
   "cell_type": "markdown",
   "source": [
    "Consider the polynomial optimization problem [L09, Example 6.23] of\n",
    "minimizing the linear function $-x_1 - x_2$\n",
    "over the basic semialgebraic set defined by the inequalities\n",
    "$x_2 \\le 2x_1^4 - 8x_1^3 + 8x_1^2 + 2$,\n",
    "$x_2 \\le 4x_1^4 - 32x_1^3 + 88x_1^2 - 96x_1 + 36$ and the box constraints\n",
    "$0 \\le x_1 \\le 3$ and $0 \\le x_2 \\le 4$,\n",
    "World Scientific, **2009**."
   ],
   "metadata": {}
  },
  {
   "outputs": [
    {
     "output_type": "execute_result",
     "data": {
      "text/plain": "Basic semialgebraic Set defined by no equality\n6 inequalities\n x[1] ≥ 0\n -x[1] + 3 ≥ 0\n x[2] ≥ 0\n -x[2] + 4 ≥ 0\n 2*x[1]^4 - 8*x[1]^3 + 8*x[1]^2 - x[2] + 2 ≥ 0\n 4*x[1]^4 - 32*x[1]^3 + 88*x[1]^2 - 96*x[1] - x[2] + 36 ≥ 0\n"
     },
     "metadata": {},
     "execution_count": 1
    }
   ],
   "cell_type": "code",
   "source": [
    "using DynamicPolynomials\n",
    "@polyvar x[1:2]\n",
    "p = -sum(x)\n",
    "using SumOfSquares\n",
    "K = @set x[1] >= 0 && x[1] <= 3 && x[2] >= 0 && x[2] <= 4 && x[2] <= 2x[1]^4 - 8x[1]^3 + 8x[1]^2 + 2 && x[2] <= 4x[1]^4 - 32x[1]^3 + 88x[1]^2 - 96x[1] + 36"
   ],
   "metadata": {},
   "execution_count": 1
  },
  {
   "cell_type": "markdown",
   "source": [
    "We will now see how to find the optimal solution using Sum of Squares Programming.\n",
    "We first need to pick an SDP solver, see [here](https://jump.dev/JuMP.jl/v0.21.6/installation/#Supported-solvers) for a list of the available choices."
   ],
   "metadata": {}
  },
  {
   "outputs": [
    {
     "output_type": "execute_result",
     "data": {
      "text/plain": "MathOptInterface.OptimizerWithAttributes(CSDP.Optimizer, Pair{MathOptInterface.AbstractOptimizerAttribute, Any}[MathOptInterface.Silent() => true])"
     },
     "metadata": {},
     "execution_count": 2
    }
   ],
   "cell_type": "code",
   "source": [
    "import CSDP\n",
    "solver = optimizer_with_attributes(CSDP.Optimizer, MOI.Silent() => true)"
   ],
   "metadata": {},
   "execution_count": 2
  },
  {
   "cell_type": "markdown",
   "source": [
    "A Sum-of-Squares certificate that $p \\ge \\alpha$ over the domain `S`, ensures that $\\alpha$ is a lower bound to the polynomial optimization problem.\n",
    "The following function searches for the largest lower bound and finds zero using the `d`th level of the hierarchy`."
   ],
   "metadata": {}
  },
  {
   "outputs": [
    {
     "output_type": "execute_result",
     "data": {
      "text/plain": "solve (generic function with 1 method)"
     },
     "metadata": {},
     "execution_count": 3
    }
   ],
   "cell_type": "code",
   "source": [
    "function solve(d)\n",
    "    model = SOSModel(solver)\n",
    "    @variable(model, α)\n",
    "    @objective(model, Max, α)\n",
    "    @constraint(model, c, p >= α, domain = K, maxdegree = d)\n",
    "    optimize!(model)\n",
    "    println(solution_summary(model))\n",
    "    return model\n",
    "end"
   ],
   "metadata": {},
   "execution_count": 3
  },
  {
   "cell_type": "markdown",
   "source": [
    "The first level of the hierarchy gives a lower bound of `-7``"
   ],
   "metadata": {}
  },
  {
   "outputs": [
    {
     "name": "stdout",
     "output_type": "stream",
     "text": [
      "* Solver : CSDP\n",
      "\n",
      "* Status\n",
      "  Result count       : 1\n",
      "  Termination status : OPTIMAL\n",
      "  Message from the solver:\n",
      "  \"Problem solved to optimality.\"\n",
      "\n",
      "* Candidate solution (result #1)\n",
      "  Primal status      : FEASIBLE_POINT\n",
      "  Dual status        : FEASIBLE_POINT\n",
      "  Objective value    : -7.00000e+00\n",
      "  Dual objective value : -7.00000e+00\n",
      "\n",
      "* Work counters\n",
      "  Solve time (sec)   : 1.15430e-02\n",
      "\n"
     ]
    },
    {
     "output_type": "execute_result",
     "data": {
      "text/plain": "A JuMP Model\nMaximization problem with:\nVariable: 1\nObjective function type: VariableRef\n`Vector{AffExpr}`-in-`SumOfSquares.SOSPolynomialSet{BasicSemialgebraicSet{Int64, DynamicPolynomials.Polynomial{true, Int64}, FullSpace}, DynamicPolynomials.Monomial{true}, DynamicPolynomials.MonomialVector{true}, SumOfSquares.Certificate.Putinar{SumOfSquares.Certificate.Newton{SOSCone, MonomialBasis, Tuple{}}, SOSCone, MonomialBasis}}`: 1 constraint\nModel mode: AUTOMATIC\nCachingOptimizer state: ATTACHED_OPTIMIZER\nSolver name: CSDP\nNames registered in the model: c, α"
     },
     "metadata": {},
     "execution_count": 4
    }
   ],
   "cell_type": "code",
   "source": [
    "model4 = solve(4)"
   ],
   "metadata": {},
   "execution_count": 4
  },
  {
   "cell_type": "markdown",
   "source": [
    "The second level improves the lower bound but still does not provide the solution"
   ],
   "metadata": {}
  },
  {
   "outputs": [
    {
     "name": "stdout",
     "output_type": "stream",
     "text": [
      "* Solver : CSDP\n",
      "\n",
      "* Status\n",
      "  Result count       : 1\n",
      "  Termination status : OPTIMAL\n",
      "  Message from the solver:\n",
      "  \"Problem solved to optimality.\"\n",
      "\n",
      "* Candidate solution (result #1)\n",
      "  Primal status      : FEASIBLE_POINT\n",
      "  Dual status        : FEASIBLE_POINT\n",
      "  Objective value    : -6.66667e+00\n",
      "  Dual objective value : -6.66667e+00\n",
      "\n",
      "* Work counters\n",
      "  Solve time (sec)   : 3.86181e-02\n",
      "\n"
     ]
    },
    {
     "output_type": "execute_result",
     "data": {
      "text/plain": "Algebraic Set defined by 5 equalities\n -x[2] + 3.9999999953252514 = 0\n -x[1] + 2.805349350891122 = 0\n -x[2]^2 + 15.999999969606513 = 0\n -x[1]*x[2] + 11.221397393608639 = 0\n -x[1]^2 + 8.416048039737186 = 0\n"
     },
     "metadata": {},
     "execution_count": 5
    }
   ],
   "cell_type": "code",
   "source": [
    "model5 = solve(5)\n",
    "ν5 = moment_matrix(model5[:c])\n",
    "extractatoms(ν5, 1e-2)\n",
    "SumOfSquares.MultivariateMoments.computesupport!(ν5, 1e-1)\n",
    "ν5.support"
   ],
   "metadata": {},
   "execution_count": 5
  },
  {
   "cell_type": "markdown",
   "source": [
    "The third level finds the optimal objective value as lower bound..."
   ],
   "metadata": {}
  },
  {
   "outputs": [
    {
     "name": "stdout",
     "output_type": "stream",
     "text": [
      "* Solver : CSDP\n",
      "\n",
      "* Status\n",
      "  Result count       : 1\n",
      "  Termination status : OPTIMAL\n",
      "  Message from the solver:\n",
      "  \"Problem solved to optimality.\"\n",
      "\n",
      "* Candidate solution (result #1)\n",
      "  Primal status      : FEASIBLE_POINT\n",
      "  Dual status        : FEASIBLE_POINT\n",
      "  Objective value    : -5.50801e+00\n",
      "  Dual objective value : -5.50801e+00\n",
      "\n",
      "* Work counters\n",
      "  Solve time (sec)   : 2.55663e-01\n",
      "\n"
     ]
    },
    {
     "output_type": "execute_result",
     "data": {
      "text/plain": "A JuMP Model\nMaximization problem with:\nVariable: 1\nObjective function type: VariableRef\n`Vector{AffExpr}`-in-`SumOfSquares.SOSPolynomialSet{BasicSemialgebraicSet{Int64, DynamicPolynomials.Polynomial{true, Int64}, FullSpace}, DynamicPolynomials.Monomial{true}, DynamicPolynomials.MonomialVector{true}, SumOfSquares.Certificate.Putinar{SumOfSquares.Certificate.Newton{SOSCone, MonomialBasis, Tuple{}}, SOSCone, MonomialBasis}}`: 1 constraint\nModel mode: AUTOMATIC\nCachingOptimizer state: ATTACHED_OPTIMIZER\nSolver name: CSDP\nNames registered in the model: c, α"
     },
     "metadata": {},
     "execution_count": 6
    }
   ],
   "cell_type": "code",
   "source": [
    "model7 = solve(7)"
   ],
   "metadata": {},
   "execution_count": 6
  },
  {
   "cell_type": "markdown",
   "source": [
    "...and proves it by exhibiting the minimizer."
   ],
   "metadata": {}
  },
  {
   "outputs": [
    {
     "output_type": "execute_result",
     "data": {
      "text/plain": "Atomic measure on the variables x[1], x[2] with 1 atoms:\n at [2.329520196265274, 3.1784930773209235] with weight 0.9999999991472346"
     },
     "metadata": {},
     "execution_count": 7
    }
   ],
   "cell_type": "code",
   "source": [
    "ν7 = moment_matrix(model7[:c])\n",
    "η = extractatoms(ν7, 1e-3) # Returns nothing as the dual is not atomic"
   ],
   "metadata": {},
   "execution_count": 7
  },
  {
   "cell_type": "markdown",
   "source": [
    "We can indeed verify that the objective value at `x_opt` is equal to the lower bound."
   ],
   "metadata": {}
  },
  {
   "outputs": [
    {
     "output_type": "execute_result",
     "data": {
      "text/plain": "-5.508013273586197"
     },
     "metadata": {},
     "execution_count": 8
    }
   ],
   "cell_type": "code",
   "source": [
    "x_opt = η.atoms[1].center\n",
    "p(x_opt)"
   ],
   "metadata": {},
   "execution_count": 8
  },
  {
   "cell_type": "markdown",
   "source": [
    "---\n",
    "\n",
    "*This notebook was generated using [Literate.jl](https://github.com/fredrikekre/Literate.jl).*"
   ],
   "metadata": {}
  }
 ],
 "nbformat_minor": 3,
 "metadata": {
  "language_info": {
   "file_extension": ".jl",
   "mimetype": "application/julia",
   "name": "julia",
   "version": "1.8.5"
  },
  "kernelspec": {
   "name": "julia-1.8",
   "display_name": "Julia 1.8.5",
   "language": "julia"
  }
 },
 "nbformat": 4
}

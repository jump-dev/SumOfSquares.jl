{
 "cells": [
  {
   "cell_type": "markdown",
   "source": [
    "# Viability tube for quadrotor"
   ],
   "metadata": {}
  },
  {
   "cell_type": "markdown",
   "source": [
    "**Adapted from**: [YAP21, Section V.D] for the model defined in [B12], [M16, Section IV] and [M19, Section 6.1]\n",
    "\n",
    "[B12] Bouffard, Patrick.\n",
    "*On-board model predictive control of a quadrotor helicopter: Design, implementation, and experiments.*\n",
    "CALIFORNIA UNIV BERKELEY DEPT OF COMPUTER SCIENCES, 2012.\n",
    "\n",
    "[M16] Mitchell, Ian M., et al.\n",
    "*Ensuring safety for sampled data systems: An efficient algorithm for filtering potentially unsafe input signals.*\n",
    "2016 IEEE 55th Conference on Decision and Control (CDC). IEEE, 2016.\n",
    "\n",
    "[M19] Mitchell, Ian M., Jacob Budzis, and Andriy Bolyachevets.\n",
    "*Invariant, viability and discriminating kernel under-approximation via zonotope scaling.*\n",
    "Proceedings of the 22nd ACM International Conference on Hybrid Systems: Computation and Control. 2019.\n",
    "\n",
    "[YAP21] Yin, H., Arcak, M., Packard, A., & Seiler, P. (2021).\n",
    "*Backward reachability for polynomial systems on a finite horizon.*\n",
    "IEEE Transactions on Automatic Control, 66(12), 6025-6032."
   ],
   "metadata": {}
  },
  {
   "outputs": [
    {
     "output_type": "execute_result",
     "data": {
      "text/plain": "2"
     },
     "metadata": {},
     "execution_count": 1
    }
   ],
   "cell_type": "code",
   "source": [
    "using DynamicPolynomials\n",
    "@polyvar x[1:6]\n",
    "@polyvar u[1:2]\n",
    "sinx5 = -0.166 * x[5]^3 + x[5]\n",
    "cosx5 = -0.498 * x[5]^2 + 1\n",
    "gravity = 9.81\n",
    "gain_u1 = 0.89 / 1.4\n",
    "d0 = 70\n",
    "d1 = 17\n",
    "n0 = 55\n",
    "f = [\n",
    "    x[3],\n",
    "    x[4],\n",
    "    0,\n",
    "    -gravity,\n",
    "    x[6],\n",
    "    -d0 * x[5] - d1 * x[6],\n",
    "]\n",
    "n_x = length(f)\n",
    "g = [\n",
    "    0               0\n",
    "    0               0\n",
    "    gain_u1 * sinx5 0\n",
    "    gain_u1 * cosx5 0\n",
    "    0               0\n",
    "    0               n0\n",
    "]\n",
    "n_u = size(g, 2)"
   ],
   "metadata": {},
   "execution_count": 1
  },
  {
   "cell_type": "markdown",
   "source": [
    "The constraints below are the same as [YAP21, M16, M19] except\n",
    "[M16, M19] uses different bounds for `x[2]` and\n",
    "[M16] uses different bounds for `x[5]`"
   ],
   "metadata": {}
  },
  {
   "outputs": [
    {
     "output_type": "execute_result",
     "data": {
      "text/plain": "Basic semialgebraic Set defined by no equality\n2 inequalities\n -u[1]^2 + 2.25 ≥ 0\n -u[2]^2 + 0.06853891945200942 ≥ 0\n"
     },
     "metadata": {},
     "execution_count": 2
    }
   ],
   "cell_type": "code",
   "source": [
    "using SumOfSquares\n",
    "rectangle = [1.7, 0.85, 0.8, 1, π/12, π/2, 1.5, π/12]\n",
    "X = BasicSemialgebraicSet(FullSpace(), typeof(x[1] + 1.0)[])\n",
    "function rect(vars, bounds)\n",
    "    R = BasicSemialgebraicSet(FullSpace(), typeof(vars[1] + 1.0)[])\n",
    "    for (var, bound) in zip(vars, bounds)\n",
    "        lower = var + bound # var >= -bound\n",
    "        upper = bound - var # var <=  bound\n",
    "        addinequality!(R, lower * upper) # -bound <= var <= bound\n",
    "    end\n",
    "    return R\n",
    "end\n",
    "X = rect(x, rectangle[1:n_x])\n",
    "U = rect(u, rectangle[n_x .+ (1:n_u)])\n",
    "\n",
    "# Controller for the linearized system"
   ],
   "metadata": {},
   "execution_count": 2
  },
  {
   "cell_type": "markdown",
   "source": [
    "The starting value for the Lyapunov function is the linear state-feedback\n",
    "that maintains the quadrotor at the origin [YAP21, Remark 3]."
   ],
   "metadata": {}
  },
  {
   "outputs": [
    {
     "output_type": "execute_result",
     "data": {
      "text/plain": "2-element Vector{Float64}:\n 15.431460674157302\n  0.0"
     },
     "metadata": {},
     "execution_count": 3
    }
   ],
   "cell_type": "code",
   "source": [
    "using SparseArrays\n",
    "x0 = zeros(n_x)\n",
    "u0 = [gravity/gain_u1, 0.0]"
   ],
   "metadata": {},
   "execution_count": 3
  },
  {
   "cell_type": "markdown",
   "source": [
    "The linearization of `f` is given by"
   ],
   "metadata": {}
  },
  {
   "outputs": [
    {
     "output_type": "execute_result",
     "data": {
      "text/plain": "6×6 Matrix{Float64}:\n 0.0  0.0  1.0  0.0    0.0     0.0\n 0.0  0.0  0.0  1.0    0.0     0.0\n 0.0  0.0  0.0  0.0    9.81    0.0\n 0.0  0.0  0.0  0.0   -0.0     0.0\n 0.0  0.0  0.0  0.0    0.0     1.0\n 0.0  0.0  0.0  0.0  -70.0   -17.0"
     },
     "metadata": {},
     "execution_count": 4
    }
   ],
   "cell_type": "code",
   "source": [
    "x_dot = f + g * u\n",
    "A = map(differentiate(x_dot, x)) do a\n",
    "    a(x => x0, u => u0)\n",
    "end"
   ],
   "metadata": {},
   "execution_count": 4
  },
  {
   "cell_type": "markdown",
   "source": [
    "The linearization of `g` is given by:"
   ],
   "metadata": {}
  },
  {
   "outputs": [
    {
     "output_type": "execute_result",
     "data": {
      "text/plain": "6×2 Matrix{Float64}:\n 0.0        0.0\n 0.0        0.0\n 0.0        0.0\n 0.635714   0.0\n 0.0        0.0\n 0.0       55.0"
     },
     "metadata": {},
     "execution_count": 5
    }
   ],
   "cell_type": "code",
   "source": [
    "B = map(differentiate(x_dot, u)) do b\n",
    "    b(x => x0, u => u0)\n",
    "end"
   ],
   "metadata": {},
   "execution_count": 5
  },
  {
   "cell_type": "markdown",
   "source": [
    "We can compute the Linear-Quadratic Regulator using the same weight matrices\n",
    "as [YAP21](https://github.com/heyinUCB/Backward-Reachability-Analysis-and-Control-Synthesis)"
   ],
   "metadata": {}
  },
  {
   "outputs": [
    {
     "output_type": "execute_result",
     "data": {
      "text/plain": "([16.292570148878525 0.0 … 15.57480749908159 0.574959574576061; 0.0 33.088878352322595 … 0.0 0.0; … ; 15.57480749908159 0.0 … 77.86450881960069 2.351871927540147; 0.574959574576061 0.0 … 2.351871927540147 0.33350499830322966], ComplexF64[-20.971921374731764 + 0.0im, -2.4996333869823575 + 1.0164311596191538im, -2.4996333869823575 - 1.0164311596191538im, -1.1173380499762577 + 0.0im, -0.33259370187172294 + 0.3006857792973822im, -0.33259370187172294 - 0.3006857792973822im], [0.0 0.31622776601684865 … 0.0 0.0; 0.31622776601683356 0.0 … 1.2935295601470809 0.18342774906677634], [0.0008060840908009163 -0.05613784763082957 … 0.0 0.0; -0.0 0.0 … -0.05775148048980027 8.149556229787109e-7; … ; 0.0 0.0 … 0.0018349064418763817 -0.006085236874990803; -0.10073117837318402 -0.04838241677276748 … 0.0 0.0])"
     },
     "metadata": {},
     "execution_count": 6
    }
   ],
   "cell_type": "code",
   "source": [
    "import MatrixEquations\n",
    "S, v, K = MatrixEquations.arec(A, B, 100, 10)"
   ],
   "metadata": {},
   "execution_count": 6
  },
  {
   "cell_type": "markdown",
   "source": [
    "The corresponding quadratic regulator is:"
   ],
   "metadata": {}
  },
  {
   "outputs": [
    {
     "output_type": "execute_result",
     "data": {
      "text/plain": "([15.079325210368138 -6.857708609448471e-13 … 11.779773454129337 0.28747978728801243; -6.857708609448471e-13 25.5721996361255 … -9.745025598003555e-13 -3.256874147853097e-14; … ; 11.779773454129337 -9.745025598003555e-13 … 61.48334575956294 1.2180389614142224; 0.28747978728801243 -3.256874147853097e-14 … 1.2180389614142224 0.22954511869010072], ComplexF64[-20.971921374731608 + 0.0im, -2.499633386982368 + 1.016431159619156im, -2.499633386982368 - 1.016431159619156im, -1.1173380499763044 + 0.0im, -0.33259370187175674 + 0.3006857792974213im, -0.33259370187175674 - 0.3006857792974213im], [0.0006214691095206836 0.007946975034554656 … 1.6714060691034878e-15 8.954635892463707e-16; -9.316938956384757e-17 -7.25934027872733e-16 … 0.03297116155195674 0.09042716026990513; … ; 0.7869136542429942 -0.596551483703003 … 1.1065475792602884e-14 7.678763825419691e-15; -0.10521085477131374 -0.1447426448698003 … 8.215650382224898e-15 6.800447137902293e-15])"
     },
     "metadata": {},
     "execution_count": 7
    }
   ],
   "cell_type": "code",
   "source": [
    "P, _, _ = MatrixEquations.arec(A - B * K, 0.0, 10.0)"
   ],
   "metadata": {},
   "execution_count": 7
  },
  {
   "cell_type": "markdown",
   "source": [
    "It corresponds to the following quadratic Lyapunov function:"
   ],
   "metadata": {}
  },
  {
   "outputs": [
    {
     "output_type": "execute_result",
     "data": {
      "text/plain": "15.079325210368138x₁² - 1.3715417218896943e-12x₁x₂ + 12.591408551923372x₁x₃ - 3.3414032580348453e-12x₁x₄ + 23.559546908258675x₁x₅ + 0.5749595745760249x₁x₆ + 25.5721996361255x₂² - 1.0097607201406337e-12x₂x₃ + 49.743693530734134x₂x₄ - 1.949005119600711e-12x₂x₅ - 6.513748295706194e-14x₂x₆ + 8.052884169427871x₃² - 2.3736542260519836e-12x₃x₄ + 34.030386219979974x₃x₅ + 0.7972435614145383x₃x₆ + 44.90741495893652x₄² - 4.660412900101268e-12x₄x₅ - 1.610574609794836e-13x₄x₆ + 61.48334575956294x₅² + 2.436077922828445x₅x₆ + 0.22954511869010072x₆²",
      "text/latex": "$$ 15.079325210368138x_{1}^{2} - 1.3715417218896943e-12x_{1}x_{2} + 12.591408551923372x_{1}x_{3} - 3.3414032580348453e-12x_{1}x_{4} + 23.559546908258675x_{1}x_{5} + 0.5749595745760249x_{1}x_{6} + 25.5721996361255x_{2}^{2} - 1.0097607201406337e-12x_{2}x_{3} + 49.743693530734134x_{2}x_{4} - 1.949005119600711e-12x_{2}x_{5} - 6.513748295706194e-14x_{2}x_{6} + 8.052884169427871x_{3}^{2} - 2.3736542260519836e-12x_{3}x_{4} + 34.030386219979974x_{3}x_{5} + 0.7972435614145383x_{3}x_{6} + 44.90741495893652x_{4}^{2} - 4.660412900101268e-12x_{4}x_{5} - 1.610574609794836e-13x_{4}x_{6} + 61.48334575956294x_{5}^{2} + 2.436077922828445x_{5}x_{6} + 0.22954511869010072x_{6}^{2} $$"
     },
     "metadata": {},
     "execution_count": 8
    }
   ],
   "cell_type": "code",
   "source": [
    "V0 = x' * P * x"
   ],
   "metadata": {},
   "execution_count": 8
  },
  {
   "cell_type": "markdown",
   "source": [
    "We can see that many terms have a coefficient that is almost zero:"
   ],
   "metadata": {}
  },
  {
   "outputs": [
    {
     "output_type": "execute_result",
     "data": {
      "text/plain": "8-element Vector{DynamicPolynomials.Monomial{true}}:\n x₁x₂\n x₁x₄\n x₂x₃\n x₂x₅\n x₂x₆\n x₃x₄\n x₄x₅\n x₄x₆"
     },
     "metadata": {},
     "execution_count": 9
    }
   ],
   "cell_type": "code",
   "source": [
    "[monomial(t) for t in terms(V0) if abs(DynamicPolynomials.coefficient(t)) < 1e-8]"
   ],
   "metadata": {},
   "execution_count": 9
  },
  {
   "cell_type": "markdown",
   "source": [
    "This might cause troubles in the optimization so let's drop them:"
   ],
   "metadata": {}
  },
  {
   "outputs": [
    {
     "output_type": "execute_result",
     "data": {
      "text/plain": "15.079325210368138x₁² + 12.591408551923372x₁x₃ + 23.559546908258675x₁x₅ + 0.5749595745760249x₁x₆ + 25.5721996361255x₂² + 49.743693530734134x₂x₄ + 8.052884169427871x₃² + 34.030386219979974x₃x₅ + 0.7972435614145383x₃x₆ + 44.90741495893652x₄² + 61.48334575956294x₅² + 2.436077922828445x₅x₆ + 0.22954511869010072x₆²",
      "text/latex": "$$ 15.079325210368138x_{1}^{2} + 12.591408551923372x_{1}x_{3} + 23.559546908258675x_{1}x_{5} + 0.5749595745760249x_{1}x_{6} + 25.5721996361255x_{2}^{2} + 49.743693530734134x_{2}x_{4} + 8.052884169427871x_{3}^{2} + 34.030386219979974x_{3}x_{5} + 0.7972435614145383x_{3}x_{6} + 44.90741495893652x_{4}^{2} + 61.48334575956294x_{5}^{2} + 2.436077922828445x_{5}x_{6} + 0.22954511869010072x_{6}^{2} $$"
     },
     "metadata": {},
     "execution_count": 10
    }
   ],
   "cell_type": "code",
   "source": [
    "V0 = mapcoefficients(c -> (abs(c) < 1e-8 ? 0.0 : c), V0)"
   ],
   "metadata": {},
   "execution_count": 10
  },
  {
   "cell_type": "markdown",
   "source": [
    "## γ-step"
   ],
   "metadata": {}
  },
  {
   "cell_type": "markdown",
   "source": [
    "It is a Lyapunov function for the linear system but not necessarily for the nonlinear system as well.\n",
    "We can however say that the γ-sublevel set `{x | x' P x ≤ γ}` is a (trivial) controlled invariant set for `γ = 0` (since it is empty).\n",
    "We can try to see if there a larger `γ` such that the γ-sublevel set is also controlled invariant using\n",
    "the γ step of [YAP21, Algorithm 1]"
   ],
   "metadata": {}
  },
  {
   "outputs": [
    {
     "name": "stdout",
     "output_type": "stream",
     "text": [
      "[ Info: Iteration 1/10 : Solving with CSDP for `γ = 1.0`\n",
      "[ Info: After 3.1061060428619385 seconds, terminated with INFEASIBLE (Problem is primal infeasible.)\n",
      "[ Info: Infeasibility certificate found : dual is INFEASIBILITY_CERTIFICATE\n",
      "[ Info: Refined interval : `γ ∈ [0.0, 1.0[`\n",
      "[ Info: Iteration 2/10 : Solving with CSDP for `γ = 0.5`\n",
      "[ Info: After 2.4588589668273926 seconds, terminated with OPTIMAL (Problem solved to optimality.)\n",
      "[ Info: Feasible solution found : primal is FEASIBLE_POINT\n",
      "[ Info: Refined interval : `γ ∈ [0.5, 1.0[`\n",
      "[ Info: Iteration 3/10 : Solving with CSDP for `γ = 0.75`\n",
      "[ Info: After 3.899221181869507 seconds, terminated with INFEASIBLE (Problem is primal infeasible.)\n",
      "[ Info: Infeasibility certificate found : dual is INFEASIBILITY_CERTIFICATE\n",
      "[ Info: Refined interval : `γ ∈ [0.5, 0.75[`\n",
      "[ Info: Iteration 4/10 : Solving with CSDP for `γ = 0.625`\n",
      "[ Info: After 4.1833789348602295 seconds, terminated with INFEASIBLE (Problem is primal infeasible.)\n",
      "[ Info: Infeasibility certificate found : dual is INFEASIBILITY_CERTIFICATE\n",
      "[ Info: Refined interval : `γ ∈ [0.5, 0.625[`\n",
      "[ Info: Iteration 5/10 : Solving with CSDP for `γ = 0.5625`\n",
      "[ Info: After 2.926286220550537 seconds, terminated with INFEASIBLE (Problem is primal infeasible.)\n",
      "[ Info: Infeasibility certificate found : dual is INFEASIBILITY_CERTIFICATE\n",
      "[ Info: Refined interval : `γ ∈ [0.5, 0.5625[`\n"
     ]
    }
   ],
   "cell_type": "code",
   "source": [
    "function _create(model, d)\n",
    "    if d isa Int\n",
    "        return @variable(model, variable_type = Poly(monomials(x, 0:d)))\n",
    "    else\n",
    "        return d\n",
    "    end\n",
    "end\n",
    "\n",
    "using LinearAlgebra\n",
    "function base_model(solver, V, k, s3, γ)\n",
    "    model = SOSModel(solver)\n",
    "    V = _create(model, V)\n",
    "    k = _create.(model, k)\n",
    "    ∂ = differentiate # Let's use a fancy shortcut\n",
    "    dV = ∂(V, x) ⋅ (f + g * k)\n",
    "    if s3 isa Int # [YAP21, (E.2)]\n",
    "        @constraint(model, con, dV <= 0, domain = @set(V <= γ))\n",
    "    else\n",
    "        @constraint(model, dV <= s3 * (V - γ))\n",
    "    end\n",
    "    for r in inequalities(X) # `{V ≤ γ} ⊆ {r ≥ 0}` iff `r ≤ 0 => V ≥ γ`\n",
    "        @constraint(model, V >= γ, domain = @set(r <= 0)) # [YAP21, (E.3)]\n",
    "    end\n",
    "    return model, V, k, s3\n",
    "end\n",
    "\n",
    "function γ_step(solver, V, γ_min, degree_k, degree_s3; γ_tol = 1e-1, max_iters = 10, γ_step = 0.5)\n",
    "    γ0_min = γ_min\n",
    "    γ_max = Inf\n",
    "    num_iters = 0\n",
    "    k_best = s3_best = nothing\n",
    "    while true\n",
    "        if γ_max - γ_min > γ_tol && num_iters < max_iters\n",
    "            if isfinite(γ_max)\n",
    "                γ = (γ_min + γ_max) / 2\n",
    "            else\n",
    "                γ = γ0_min + (γ_min - γ0_min + γ_step) * 2\n",
    "            end\n",
    "        elseif isnothing(k_best)\n",
    "            @assert γ_min == γ0_min\n",
    "            @info(\"Bisection finished without a feasible controller, let's find one\")\n",
    "            γ = γ0_min # Last run to compute a controller for the value of `γ` we know is feasible\n",
    "        else\n",
    "            break\n",
    "        end\n",
    "        model, V, k = base_model(solver, V, degree_k, degree_s3, γ)\n",
    "        num_iters += 1\n",
    "        @info(\"Iteration $num_iters/$max_iters : Solving with $(solver_name(model)) for `γ = $γ`\")\n",
    "        optimize!(model)\n",
    "        @info(\"After $(solve_time(model)) seconds, terminated with $(termination_status(model)) ($(raw_status(model)))\")\n",
    "        if primal_status(model) == MOI.FEASIBLE_POINT || primal_status(model) == MOI.NEARLY_FEASIBLE_POINT\n",
    "            @info(\"Feasible solution found : primal is $(primal_status(model))\")\n",
    "            γ_min = γ\n",
    "            k_best = value.(k)\n",
    "            s3_best = lagrangian_multipliers(model[:con])[1]\n",
    "        elseif dual_status(model) == MOI.INFEASIBILITY_CERTIFICATE\n",
    "            @info(\"Infeasibility certificate found : dual is $(dual_status(model))\")\n",
    "            if γ == γ0_min # This corresponds to the case above where we reached the tol or max iteration and we just did a last run at the value of `γ_min` provided by the user\n",
    "                error(\"The value `$γ0_min` of `γ_min` provided is not feasible\")\n",
    "            end\n",
    "            γ_max = γ\n",
    "        else\n",
    "            @warn(\"Giving up $(raw_status(model)), $(termination_status(model)), $(primal_status(model)), $(dual_status(model))\")\n",
    "            break\n",
    "        end\n",
    "        if γ != γ0_min\n",
    "            @info(\"Refined interval : `γ ∈ [$γ_min, $γ_max[`\")\n",
    "        end\n",
    "    end\n",
    "    if !isfinite(γ_max) && max_iters > 0\n",
    "        @warn(\"Cannot find any infeasible `γ` after $num_iters iterations\")\n",
    "    end\n",
    "    return γ_min, k_best, s3_best\n",
    "end\n",
    "\n",
    "import CSDP\n",
    "solver = optimizer_with_attributes(CSDP.Optimizer, MOI.Silent() => true)\n",
    "γ1, κ1, s3_1 = γ_step(solver, V0, 0.0, [2, 2], 2)\n",
    "nothing"
   ],
   "metadata": {},
   "execution_count": 11
  },
  {
   "cell_type": "markdown",
   "source": [
    "The best `γ` found is"
   ],
   "metadata": {}
  },
  {
   "outputs": [
    {
     "output_type": "execute_result",
     "data": {
      "text/plain": "0.5"
     },
     "metadata": {},
     "execution_count": 12
    }
   ],
   "cell_type": "code",
   "source": [
    "γ1"
   ],
   "metadata": {},
   "execution_count": 12
  },
  {
   "cell_type": "markdown",
   "source": [
    "with state feedback:"
   ],
   "metadata": {}
  },
  {
   "outputs": [
    {
     "output_type": "execute_result",
     "data": {
      "text/plain": "2-element Vector{DynamicPolynomials.Polynomial{true, Float64}}:\n 12.60083258925772x₁² - 3.979039320256561e-13x₁x₂ + 35.15479195476178x₁x₃ + 3.410605131648481e-13x₁x₄ + 48.47102849256112x₁x₅ + 17.103130345797865x₁x₆ + 5.502954191406559x₂² - 1.2505552149377763e-12x₂x₃ + 17.23804610032056x₂x₄ - 1.1937117960769683e-12x₂x₅ - 5.115907697472721e-13x₂x₆ + 23.57567901522691x₃² - 7.389644451905042e-13x₃x₄ + 65.17572911533688x₃x₅ + 22.523046653403583x₃x₆ + 13.503184271171392x₄² + 2.0463630789890885e-12x₄x₅ - 5.684341886080802e-14x₄x₆ + 19.140157098593022x₅² + 42.15689538008155x₅x₆ + 5.016097148259348x₆² - 1.1368683772161603e-13x₁ - 111.52528047646081x₂ - 1.7053025658242404e-13x₃ - 202.21460128017125x₄ - 4.547473508864641e-13x₅ - 1.1368683772161603e-13x₆ + 15.431460674312177\n -8.310736080754907x₁x₂ - 5.684341886080802e-14x₁x₃ - 14.95165548306818x₁x₄ - 5.684341886080802e-14x₁x₅ - 1.1368683772161603e-13x₁x₆ + 5.115907697472721e-13x₂² - 11.446188522147622x₂x₃ + 3.979039320256561e-13x₂x₄ + 13.543581281176557x₂x₅ - 8.371749861613523x₂x₆ - 1.7053025658242404e-13x₃² - 20.58731720045688x₃x₄ - 5.684341886080801e-13x₃x₅ - 1.1368683772161603e-13x₃x₆ - 7.389644451905042e-13x₄² + 24.714517240490466x₄x₅ - 15.05755537043791x₄x₆ + 3.410605131648481e-13x₅² + 5.684341886080802e-14x₅x₆ - 29.027173824337126x₁ + 1.1368683772161603e-13x₂ - 40.336691200228415x₃ + 2.8421709430404007e-13x₄ - 123.00183791821371x₅ - 23.778056468889815x₆"
     },
     "metadata": {},
     "execution_count": 13
    }
   ],
   "cell_type": "code",
   "source": [
    "κ1"
   ],
   "metadata": {},
   "execution_count": 13
  },
  {
   "cell_type": "markdown",
   "source": [
    "Let's visualize now the controlled invariant set we have found:"
   ],
   "metadata": {}
  },
  {
   "outputs": [
    {
     "output_type": "execute_result",
     "data": {
      "text/plain": "Plot{Plots.GRBackend() n=2}",
      "image/png": "[encoded data removed]",
      "text/html": [
       "<?xml version=\"1.0\" encoding=\"utf-8\"?>\n",
       "<svg xmlns=\"http://www.w3.org/2000/svg\" xmlns:xlink=\"http://www.w3.org/1999/xlink\" width=\"600\" height=\"400\" viewBox=\"0 0 2400 1600\">\n",
       "<defs>\n",
       "  <clipPath id=\"clip980\">\n",
       "    <rect x=\"0\" y=\"0\" width=\"2400\" height=\"1600\"/>\n",
       "  </clipPath>\n",
       "</defs>\n",
       "<path clip-path=\"url(#clip980)\" d=\"M0 1600 L2400 1600 L2400 0 L0 0  Z\" fill=\"#ffffff\" fill-rule=\"evenodd\" fill-opacity=\"1\"/>\n",
       "<defs>\n",
       "  <clipPath id=\"clip981\">\n",
       "    <rect x=\"480\" y=\"0\" width=\"1681\" height=\"1600\"/>\n",
       "  </clipPath>\n",
       "</defs>\n",
       "<path clip-path=\"url(#clip980)\" d=\"M553.825 1486.45 L1993.03 1486.45 L1993.03 47.2441 L553.825 47.2441  Z\" fill=\"#ffffff\" fill-rule=\"evenodd\" fill-opacity=\"1\"/>\n",
       "<defs>\n",
       "  <clipPath id=\"clip982\">\n",
       "    <rect x=\"553\" y=\"47\" width=\"1440\" height=\"1440\"/>\n",
       "  </clipPath>\n",
       "</defs>\n",
       "<polyline clip-path=\"url(#clip982)\" style=\"stroke:#000000; stroke-linecap:round; stroke-linejoin:round; stroke-width:2; stroke-opacity:0.1; fill:none\" points=\"668.719,1486.45 668.719,47.2441 \"/>\n",
       "<polyline clip-path=\"url(#clip982)\" style=\"stroke:#000000; stroke-linecap:round; stroke-linejoin:round; stroke-width:2; stroke-opacity:0.1; fill:none\" points=\"870.289,1486.45 870.289,47.2441 \"/>\n",
       "<polyline clip-path=\"url(#clip982)\" style=\"stroke:#000000; stroke-linecap:round; stroke-linejoin:round; stroke-width:2; stroke-opacity:0.1; fill:none\" points=\"1071.86,1486.45 1071.86,47.2441 \"/>\n",
       "<polyline clip-path=\"url(#clip982)\" style=\"stroke:#000000; stroke-linecap:round; stroke-linejoin:round; stroke-width:2; stroke-opacity:0.1; fill:none\" points=\"1273.43,1486.45 1273.43,47.2441 \"/>\n",
       "<polyline clip-path=\"url(#clip982)\" style=\"stroke:#000000; stroke-linecap:round; stroke-linejoin:round; stroke-width:2; stroke-opacity:0.1; fill:none\" points=\"1475,1486.45 1475,47.2441 \"/>\n",
       "<polyline clip-path=\"url(#clip982)\" style=\"stroke:#000000; stroke-linecap:round; stroke-linejoin:round; stroke-width:2; stroke-opacity:0.1; fill:none\" points=\"1676.57,1486.45 1676.57,47.2441 \"/>\n",
       "<polyline clip-path=\"url(#clip982)\" style=\"stroke:#000000; stroke-linecap:round; stroke-linejoin:round; stroke-width:2; stroke-opacity:0.1; fill:none\" points=\"1878.13,1486.45 1878.13,47.2441 \"/>\n",
       "<polyline clip-path=\"url(#clip980)\" style=\"stroke:#000000; stroke-linecap:round; stroke-linejoin:round; stroke-width:4; stroke-opacity:1; fill:none\" points=\"553.825,1486.45 1993.03,1486.45 \"/>\n",
       "<polyline clip-path=\"url(#clip980)\" style=\"stroke:#000000; stroke-linecap:round; stroke-linejoin:round; stroke-width:4; stroke-opacity:1; fill:none\" points=\"668.719,1486.45 668.719,1467.55 \"/>\n",
       "<polyline clip-path=\"url(#clip980)\" style=\"stroke:#000000; stroke-linecap:round; stroke-linejoin:round; stroke-width:4; stroke-opacity:1; fill:none\" points=\"870.289,1486.45 870.289,1467.55 \"/>\n",
       "<polyline clip-path=\"url(#clip980)\" style=\"stroke:#000000; stroke-linecap:round; stroke-linejoin:round; stroke-width:4; stroke-opacity:1; fill:none\" points=\"1071.86,1486.45 1071.86,1467.55 \"/>\n",
       "<polyline clip-path=\"url(#clip980)\" style=\"stroke:#000000; stroke-linecap:round; stroke-linejoin:round; stroke-width:4; stroke-opacity:1; fill:none\" points=\"1273.43,1486.45 1273.43,1467.55 \"/>\n",
       "<polyline clip-path=\"url(#clip980)\" style=\"stroke:#000000; stroke-linecap:round; stroke-linejoin:round; stroke-width:4; stroke-opacity:1; fill:none\" points=\"1475,1486.45 1475,1467.55 \"/>\n",
       "<polyline clip-path=\"url(#clip980)\" style=\"stroke:#000000; stroke-linecap:round; stroke-linejoin:round; stroke-width:4; stroke-opacity:1; fill:none\" points=\"1676.57,1486.45 1676.57,1467.55 \"/>\n",
       "<polyline clip-path=\"url(#clip980)\" style=\"stroke:#000000; stroke-linecap:round; stroke-linejoin:round; stroke-width:4; stroke-opacity:1; fill:none\" points=\"1878.13,1486.45 1878.13,1467.55 \"/>\n",
       "<path clip-path=\"url(#clip980)\" d=\"M615.745 1532.02 L645.421 1532.02 L645.421 1535.95 L615.745 1535.95 L615.745 1532.02 Z\" fill=\"#000000\" fill-rule=\"nonzero\" fill-opacity=\"1\" /><path clip-path=\"url(#clip980)\" d=\"M656.324 1544.91 L663.963 1544.91 L663.963 1518.55 L655.652 1520.21 L655.652 1515.95 L663.916 1514.29 L668.592 1514.29 L668.592 1544.91 L676.231 1544.91 L676.231 1548.85 L656.324 1548.85 L656.324 1544.91 Z\" fill=\"#000000\" fill-rule=\"nonzero\" fill-opacity=\"1\" /><path clip-path=\"url(#clip980)\" d=\"M685.675 1542.97 L690.56 1542.97 L690.56 1548.85 L685.675 1548.85 L685.675 1542.97 Z\" fill=\"#000000\" fill-rule=\"nonzero\" fill-opacity=\"1\" /><path clip-path=\"url(#clip980)\" d=\"M700.791 1514.29 L719.147 1514.29 L719.147 1518.22 L705.073 1518.22 L705.073 1526.7 Q706.092 1526.35 707.11 1526.19 Q708.129 1526 709.148 1526 Q714.935 1526 718.314 1529.17 Q721.694 1532.34 721.694 1537.76 Q721.694 1543.34 718.222 1546.44 Q714.749 1549.52 708.43 1549.52 Q706.254 1549.52 703.986 1549.15 Q701.74 1548.78 699.333 1548.04 L699.333 1543.34 Q701.416 1544.47 703.638 1545.03 Q705.861 1545.58 708.337 1545.58 Q712.342 1545.58 714.68 1543.48 Q717.018 1541.37 717.018 1537.76 Q717.018 1534.15 714.68 1532.04 Q712.342 1529.94 708.337 1529.94 Q706.462 1529.94 704.587 1530.35 Q702.736 1530.77 700.791 1531.65 L700.791 1514.29 Z\" fill=\"#000000\" fill-rule=\"nonzero\" fill-opacity=\"1\" /><path clip-path=\"url(#clip980)\" d=\"M816.817 1532.02 L846.492 1532.02 L846.492 1535.95 L816.817 1535.95 L816.817 1532.02 Z\" fill=\"#000000\" fill-rule=\"nonzero\" fill-opacity=\"1\" /><path clip-path=\"url(#clip980)\" d=\"M857.395 1544.91 L865.034 1544.91 L865.034 1518.55 L856.724 1520.21 L856.724 1515.95 L864.988 1514.29 L869.664 1514.29 L869.664 1544.91 L877.303 1544.91 L877.303 1548.85 L857.395 1548.85 L857.395 1544.91 Z\" fill=\"#000000\" fill-rule=\"nonzero\" fill-opacity=\"1\" /><path clip-path=\"url(#clip980)\" d=\"M886.747 1542.97 L891.631 1542.97 L891.631 1548.85 L886.747 1548.85 L886.747 1542.97 Z\" fill=\"#000000\" fill-rule=\"nonzero\" fill-opacity=\"1\" /><path clip-path=\"url(#clip980)\" d=\"M911.816 1517.37 Q908.205 1517.37 906.376 1520.93 Q904.571 1524.47 904.571 1531.6 Q904.571 1538.71 906.376 1542.27 Q908.205 1545.82 911.816 1545.82 Q915.45 1545.82 917.256 1542.27 Q919.085 1538.71 919.085 1531.6 Q919.085 1524.47 917.256 1520.93 Q915.45 1517.37 911.816 1517.37 M911.816 1513.66 Q917.626 1513.66 920.682 1518.27 Q923.761 1522.85 923.761 1531.6 Q923.761 1540.33 920.682 1544.94 Q917.626 1549.52 911.816 1549.52 Q906.006 1549.52 902.927 1544.94 Q899.872 1540.33 899.872 1531.6 Q899.872 1522.85 902.927 1518.27 Q906.006 1513.66 911.816 1513.66 Z\" fill=\"#000000\" fill-rule=\"nonzero\" fill-opacity=\"1\" /><path clip-path=\"url(#clip980)\" d=\"M1018.88 1532.02 L1048.56 1532.02 L1048.56 1535.95 L1018.88 1535.95 L1018.88 1532.02 Z\" fill=\"#000000\" fill-rule=\"nonzero\" fill-opacity=\"1\" /><path clip-path=\"url(#clip980)\" d=\"M1068.65 1517.37 Q1065.04 1517.37 1063.21 1520.93 Q1061.41 1524.47 1061.41 1531.6 Q1061.41 1538.71 1063.21 1542.27 Q1065.04 1545.82 1068.65 1545.82 Q1072.29 1545.82 1074.09 1542.27 Q1075.92 1538.71 1075.92 1531.6 Q1075.92 1524.47 1074.09 1520.93 Q1072.29 1517.37 1068.65 1517.37 M1068.65 1513.66 Q1074.46 1513.66 1077.52 1518.27 Q1080.6 1522.85 1080.6 1531.6 Q1080.6 1540.33 1077.52 1544.94 Q1074.46 1549.52 1068.65 1549.52 Q1062.84 1549.52 1059.76 1544.94 Q1056.71 1540.33 1056.71 1531.6 Q1056.71 1522.85 1059.76 1518.27 Q1062.84 1513.66 1068.65 1513.66 Z\" fill=\"#000000\" fill-rule=\"nonzero\" fill-opacity=\"1\" /><path clip-path=\"url(#clip980)\" d=\"M1088.81 1542.97 L1093.7 1542.97 L1093.7 1548.85 L1088.81 1548.85 L1088.81 1542.97 Z\" fill=\"#000000\" fill-rule=\"nonzero\" fill-opacity=\"1\" /><path clip-path=\"url(#clip980)\" d=\"M1103.93 1514.29 L1122.29 1514.29 L1122.29 1518.22 L1108.21 1518.22 L1108.21 1526.7 Q1109.23 1526.35 1110.25 1526.19 Q1111.27 1526 1112.29 1526 Q1118.07 1526 1121.45 1529.17 Q1124.83 1532.34 1124.83 1537.76 Q1124.83 1543.34 1121.36 1546.44 Q1117.89 1549.52 1111.57 1549.52 Q1109.39 1549.52 1107.12 1549.15 Q1104.88 1548.78 1102.47 1548.04 L1102.47 1543.34 Q1104.55 1544.47 1106.78 1545.03 Q1109 1545.58 1111.48 1545.58 Q1115.48 1545.58 1117.82 1543.48 Q1120.16 1541.37 1120.16 1537.76 Q1120.16 1534.15 1117.82 1532.04 Q1115.48 1529.94 1111.48 1529.94 Q1109.6 1529.94 1107.73 1530.35 Q1105.87 1530.77 1103.93 1531.65 L1103.93 1514.29 Z\" fill=\"#000000\" fill-rule=\"nonzero\" fill-opacity=\"1\" /><path clip-path=\"url(#clip980)\" d=\"M1250.81 1517.37 Q1247.2 1517.37 1245.37 1520.93 Q1243.57 1524.47 1243.57 1531.6 Q1243.57 1538.71 1245.37 1542.27 Q1247.2 1545.82 1250.81 1545.82 Q1254.45 1545.82 1256.25 1542.27 Q1258.08 1538.71 1258.08 1531.6 Q1258.08 1524.47 1256.25 1520.93 Q1254.45 1517.37 1250.81 1517.37 M1250.81 1513.66 Q1256.62 1513.66 1259.68 1518.27 Q1262.76 1522.85 1262.76 1531.6 Q1262.76 1540.33 1259.68 1544.94 Q1256.62 1549.52 1250.81 1549.52 Q1245 1549.52 1241.92 1544.94 Q1238.87 1540.33 1238.87 1531.6 Q1238.87 1522.85 1241.92 1518.27 Q1245 1513.66 1250.81 1513.66 Z\" fill=\"#000000\" fill-rule=\"nonzero\" fill-opacity=\"1\" /><path clip-path=\"url(#clip980)\" d=\"M1270.97 1542.97 L1275.86 1542.97 L1275.86 1548.85 L1270.97 1548.85 L1270.97 1542.97 Z\" fill=\"#000000\" fill-rule=\"nonzero\" fill-opacity=\"1\" /><path clip-path=\"url(#clip980)\" d=\"M1296.04 1517.37 Q1292.43 1517.37 1290.6 1520.93 Q1288.8 1524.47 1288.8 1531.6 Q1288.8 1538.71 1290.6 1542.27 Q1292.43 1545.82 1296.04 1545.82 Q1299.68 1545.82 1301.48 1542.27 Q1303.31 1538.71 1303.31 1531.6 Q1303.31 1524.47 1301.48 1520.93 Q1299.68 1517.37 1296.04 1517.37 M1296.04 1513.66 Q1301.85 1513.66 1304.91 1518.27 Q1307.99 1522.85 1307.99 1531.6 Q1307.99 1540.33 1304.91 1544.94 Q1301.85 1549.52 1296.04 1549.52 Q1290.23 1549.52 1287.15 1544.94 Q1284.1 1540.33 1284.1 1531.6 Q1284.1 1522.85 1287.15 1518.27 Q1290.23 1513.66 1296.04 1513.66 Z\" fill=\"#000000\" fill-rule=\"nonzero\" fill-opacity=\"1\" /><path clip-path=\"url(#clip980)\" d=\"M1452.88 1517.37 Q1449.27 1517.37 1447.44 1520.93 Q1445.63 1524.47 1445.63 1531.6 Q1445.63 1538.71 1447.44 1542.27 Q1449.27 1545.82 1452.88 1545.82 Q1456.51 1545.82 1458.32 1542.27 Q1460.15 1538.71 1460.15 1531.6 Q1460.15 1524.47 1458.32 1520.93 Q1456.51 1517.37 1452.88 1517.37 M1452.88 1513.66 Q1458.69 1513.66 1461.74 1518.27 Q1464.82 1522.85 1464.82 1531.6 Q1464.82 1540.33 1461.74 1544.94 Q1458.69 1549.52 1452.88 1549.52 Q1447.07 1549.52 1443.99 1544.94 Q1440.93 1540.33 1440.93 1531.6 Q1440.93 1522.85 1443.99 1518.27 Q1447.07 1513.66 1452.88 1513.66 Z\" fill=\"#000000\" fill-rule=\"nonzero\" fill-opacity=\"1\" /><path clip-path=\"url(#clip980)\" d=\"M1473.04 1542.97 L1477.92 1542.97 L1477.92 1548.85 L1473.04 1548.85 L1473.04 1542.97 Z\" fill=\"#000000\" fill-rule=\"nonzero\" fill-opacity=\"1\" /><path clip-path=\"url(#clip980)\" d=\"M1488.16 1514.29 L1506.51 1514.29 L1506.51 1518.22 L1492.44 1518.22 L1492.44 1526.7 Q1493.46 1526.35 1494.48 1526.19 Q1495.49 1526 1496.51 1526 Q1502.3 1526 1505.68 1529.17 Q1509.06 1532.34 1509.06 1537.76 Q1509.06 1543.34 1505.59 1546.44 Q1502.11 1549.52 1495.79 1549.52 Q1493.62 1549.52 1491.35 1549.15 Q1489.1 1548.78 1486.7 1548.04 L1486.7 1543.34 Q1488.78 1544.47 1491 1545.03 Q1493.23 1545.58 1495.7 1545.58 Q1499.71 1545.58 1502.04 1543.48 Q1504.38 1541.37 1504.38 1537.76 Q1504.38 1534.15 1502.04 1532.04 Q1499.71 1529.94 1495.7 1529.94 Q1493.83 1529.94 1491.95 1530.35 Q1490.1 1530.77 1488.16 1531.65 L1488.16 1514.29 Z\" fill=\"#000000\" fill-rule=\"nonzero\" fill-opacity=\"1\" /><path clip-path=\"url(#clip980)\" d=\"M1643.72 1544.91 L1651.36 1544.91 L1651.36 1518.55 L1643.05 1520.21 L1643.05 1515.95 L1651.31 1514.29 L1655.99 1514.29 L1655.99 1544.91 L1663.63 1544.91 L1663.63 1548.85 L1643.72 1548.85 L1643.72 1544.91 Z\" fill=\"#000000\" fill-rule=\"nonzero\" fill-opacity=\"1\" /><path clip-path=\"url(#clip980)\" d=\"M1673.07 1542.97 L1677.95 1542.97 L1677.95 1548.85 L1673.07 1548.85 L1673.07 1542.97 Z\" fill=\"#000000\" fill-rule=\"nonzero\" fill-opacity=\"1\" /><path clip-path=\"url(#clip980)\" d=\"M1698.14 1517.37 Q1694.53 1517.37 1692.7 1520.93 Q1690.89 1524.47 1690.89 1531.6 Q1690.89 1538.71 1692.7 1542.27 Q1694.53 1545.82 1698.14 1545.82 Q1701.77 1545.82 1703.58 1542.27 Q1705.41 1538.71 1705.41 1531.6 Q1705.41 1524.47 1703.58 1520.93 Q1701.77 1517.37 1698.14 1517.37 M1698.14 1513.66 Q1703.95 1513.66 1707 1518.27 Q1710.08 1522.85 1710.08 1531.6 Q1710.08 1540.33 1707 1544.94 Q1703.95 1549.52 1698.14 1549.52 Q1692.33 1549.52 1689.25 1544.94 Q1686.19 1540.33 1686.19 1531.6 Q1686.19 1522.85 1689.25 1518.27 Q1692.33 1513.66 1698.14 1513.66 Z\" fill=\"#000000\" fill-rule=\"nonzero\" fill-opacity=\"1\" /><path clip-path=\"url(#clip980)\" d=\"M1845.79 1544.91 L1853.42 1544.91 L1853.42 1518.55 L1845.11 1520.21 L1845.11 1515.95 L1853.38 1514.29 L1858.05 1514.29 L1858.05 1544.91 L1865.69 1544.91 L1865.69 1548.85 L1845.79 1548.85 L1845.79 1544.91 Z\" fill=\"#000000\" fill-rule=\"nonzero\" fill-opacity=\"1\" /><path clip-path=\"url(#clip980)\" d=\"M1875.14 1542.97 L1880.02 1542.97 L1880.02 1548.85 L1875.14 1548.85 L1875.14 1542.97 Z\" fill=\"#000000\" fill-rule=\"nonzero\" fill-opacity=\"1\" /><path clip-path=\"url(#clip980)\" d=\"M1890.25 1514.29 L1908.61 1514.29 L1908.61 1518.22 L1894.53 1518.22 L1894.53 1526.7 Q1895.55 1526.35 1896.57 1526.19 Q1897.59 1526 1898.61 1526 Q1904.4 1526 1907.78 1529.17 Q1911.16 1532.34 1911.16 1537.76 Q1911.16 1543.34 1907.68 1546.44 Q1904.21 1549.52 1897.89 1549.52 Q1895.72 1549.52 1893.45 1549.15 Q1891.2 1548.78 1888.79 1548.04 L1888.79 1543.34 Q1890.88 1544.47 1893.1 1545.03 Q1895.32 1545.58 1897.8 1545.58 Q1901.8 1545.58 1904.14 1543.48 Q1906.48 1541.37 1906.48 1537.76 Q1906.48 1534.15 1904.14 1532.04 Q1901.8 1529.94 1897.8 1529.94 Q1895.92 1529.94 1894.05 1530.35 Q1892.2 1530.77 1890.25 1531.65 L1890.25 1514.29 Z\" fill=\"#000000\" fill-rule=\"nonzero\" fill-opacity=\"1\" /><polyline clip-path=\"url(#clip982)\" style=\"stroke:#000000; stroke-linecap:round; stroke-linejoin:round; stroke-width:2; stroke-opacity:0.1; fill:none\" points=\"553.825,1250.61 1993.03,1250.61 \"/>\n",
       "<polyline clip-path=\"url(#clip982)\" style=\"stroke:#000000; stroke-linecap:round; stroke-linejoin:round; stroke-width:2; stroke-opacity:0.1; fill:none\" points=\"553.825,1008.73 1993.03,1008.73 \"/>\n",
       "<polyline clip-path=\"url(#clip982)\" style=\"stroke:#000000; stroke-linecap:round; stroke-linejoin:round; stroke-width:2; stroke-opacity:0.1; fill:none\" points=\"553.825,766.846 1993.03,766.846 \"/>\n",
       "<polyline clip-path=\"url(#clip982)\" style=\"stroke:#000000; stroke-linecap:round; stroke-linejoin:round; stroke-width:2; stroke-opacity:0.1; fill:none\" points=\"553.825,524.963 1993.03,524.963 \"/>\n",
       "<polyline clip-path=\"url(#clip982)\" style=\"stroke:#000000; stroke-linecap:round; stroke-linejoin:round; stroke-width:2; stroke-opacity:0.1; fill:none\" points=\"553.825,283.08 1993.03,283.08 \"/>\n",
       "<polyline clip-path=\"url(#clip980)\" style=\"stroke:#000000; stroke-linecap:round; stroke-linejoin:round; stroke-width:4; stroke-opacity:1; fill:none\" points=\"553.825,1486.45 553.825,47.2441 \"/>\n",
       "<polyline clip-path=\"url(#clip980)\" style=\"stroke:#000000; stroke-linecap:round; stroke-linejoin:round; stroke-width:4; stroke-opacity:1; fill:none\" points=\"553.825,1250.61 566.424,1250.61 \"/>\n",
       "<polyline clip-path=\"url(#clip980)\" style=\"stroke:#000000; stroke-linecap:round; stroke-linejoin:round; stroke-width:4; stroke-opacity:1; fill:none\" points=\"553.825,1008.73 566.424,1008.73 \"/>\n",
       "<polyline clip-path=\"url(#clip980)\" style=\"stroke:#000000; stroke-linecap:round; stroke-linejoin:round; stroke-width:4; stroke-opacity:1; fill:none\" points=\"553.825,766.846 566.424,766.846 \"/>\n",
       "<polyline clip-path=\"url(#clip980)\" style=\"stroke:#000000; stroke-linecap:round; stroke-linejoin:round; stroke-width:4; stroke-opacity:1; fill:none\" points=\"553.825,524.963 566.424,524.963 \"/>\n",
       "<polyline clip-path=\"url(#clip980)\" style=\"stroke:#000000; stroke-linecap:round; stroke-linejoin:round; stroke-width:4; stroke-opacity:1; fill:none\" points=\"553.825,283.08 566.424,283.08 \"/>\n",
       "<path clip-path=\"url(#clip980)\" d=\"M410.719 1251.06 L440.395 1251.06 L440.395 1255 L410.719 1255 L410.719 1251.06 Z\" fill=\"#000000\" fill-rule=\"nonzero\" fill-opacity=\"1\" /><path clip-path=\"url(#clip980)\" d=\"M460.487 1236.41 Q456.876 1236.41 455.048 1239.98 Q453.242 1243.52 453.242 1250.65 Q453.242 1257.75 455.048 1261.32 Q456.876 1264.86 460.487 1264.86 Q464.122 1264.86 465.927 1261.32 Q467.756 1257.75 467.756 1250.65 Q467.756 1243.52 465.927 1239.98 Q464.122 1236.41 460.487 1236.41 M460.487 1232.71 Q466.298 1232.71 469.353 1237.31 Q472.432 1241.9 472.432 1250.65 Q472.432 1259.37 469.353 1263.98 Q466.298 1268.56 460.487 1268.56 Q454.677 1268.56 451.599 1263.98 Q448.543 1259.37 448.543 1250.65 Q448.543 1241.9 451.599 1237.31 Q454.677 1232.71 460.487 1232.71 Z\" fill=\"#000000\" fill-rule=\"nonzero\" fill-opacity=\"1\" /><path clip-path=\"url(#clip980)\" d=\"M480.649 1262.01 L485.534 1262.01 L485.534 1267.89 L480.649 1267.89 L480.649 1262.01 Z\" fill=\"#000000\" fill-rule=\"nonzero\" fill-opacity=\"1\" /><path clip-path=\"url(#clip980)\" d=\"M506.297 1248.75 Q503.149 1248.75 501.297 1250.9 Q499.469 1253.05 499.469 1256.8 Q499.469 1260.53 501.297 1262.71 Q503.149 1264.86 506.297 1264.86 Q509.445 1264.86 511.274 1262.71 Q513.126 1260.53 513.126 1256.8 Q513.126 1253.05 511.274 1250.9 Q509.445 1248.75 506.297 1248.75 M515.58 1234.1 L515.58 1238.36 Q513.82 1237.52 512.015 1237.08 Q510.233 1236.64 508.473 1236.64 Q503.844 1236.64 501.39 1239.77 Q498.959 1242.89 498.612 1249.21 Q499.978 1247.2 502.038 1246.13 Q504.098 1245.04 506.575 1245.04 Q511.783 1245.04 514.793 1248.22 Q517.825 1251.36 517.825 1256.8 Q517.825 1262.13 514.677 1265.35 Q511.529 1268.56 506.297 1268.56 Q500.302 1268.56 497.131 1263.98 Q493.959 1259.37 493.959 1250.65 Q493.959 1242.45 497.848 1237.59 Q501.737 1232.71 508.288 1232.71 Q510.047 1232.71 511.83 1233.05 Q513.635 1233.4 515.58 1234.1 Z\" fill=\"#000000\" fill-rule=\"nonzero\" fill-opacity=\"1\" /><path clip-path=\"url(#clip980)\" d=\"M411.529 1009.18 L441.205 1009.18 L441.205 1013.12 L411.529 1013.12 L411.529 1009.18 Z\" fill=\"#000000\" fill-rule=\"nonzero\" fill-opacity=\"1\" /><path clip-path=\"url(#clip980)\" d=\"M461.298 994.528 Q457.687 994.528 455.858 998.092 Q454.052 1001.63 454.052 1008.76 Q454.052 1015.87 455.858 1019.43 Q457.687 1022.98 461.298 1022.98 Q464.932 1022.98 466.737 1019.43 Q468.566 1015.87 468.566 1008.76 Q468.566 1001.63 466.737 998.092 Q464.932 994.528 461.298 994.528 M461.298 990.824 Q467.108 990.824 470.163 995.43 Q473.242 1000.01 473.242 1008.76 Q473.242 1017.49 470.163 1022.1 Q467.108 1026.68 461.298 1026.68 Q455.487 1026.68 452.409 1022.1 Q449.353 1017.49 449.353 1008.76 Q449.353 1000.01 452.409 995.43 Q455.487 990.824 461.298 990.824 Z\" fill=\"#000000\" fill-rule=\"nonzero\" fill-opacity=\"1\" /><path clip-path=\"url(#clip980)\" d=\"M481.46 1020.13 L486.344 1020.13 L486.344 1026.01 L481.46 1026.01 L481.46 1020.13 Z\" fill=\"#000000\" fill-rule=\"nonzero\" fill-opacity=\"1\" /><path clip-path=\"url(#clip980)\" d=\"M510.695 1007.37 Q514.052 1008.09 515.927 1010.36 Q517.825 1012.63 517.825 1015.96 Q517.825 1021.08 514.307 1023.88 Q510.788 1026.68 504.307 1026.68 Q502.131 1026.68 499.816 1026.24 Q497.524 1025.82 495.071 1024.97 L495.071 1020.45 Q497.015 1021.59 499.33 1022.17 Q501.645 1022.75 504.168 1022.75 Q508.566 1022.75 510.858 1021.01 Q513.172 1019.27 513.172 1015.96 Q513.172 1012.91 511.02 1011.19 Q508.89 1009.46 505.071 1009.46 L501.043 1009.46 L501.043 1005.62 L505.256 1005.62 Q508.705 1005.62 510.533 1004.25 Q512.362 1002.86 512.362 1000.27 Q512.362 997.606 510.464 996.194 Q508.589 994.759 505.071 994.759 Q503.149 994.759 500.95 995.176 Q498.751 995.592 496.112 996.472 L496.112 992.305 Q498.774 991.565 501.089 991.194 Q503.427 990.824 505.487 990.824 Q510.811 990.824 513.913 993.255 Q517.015 995.662 517.015 999.782 Q517.015 1002.65 515.371 1004.64 Q513.728 1006.61 510.695 1007.37 Z\" fill=\"#000000\" fill-rule=\"nonzero\" fill-opacity=\"1\" /><path clip-path=\"url(#clip980)\" d=\"M460.649 752.645 Q457.038 752.645 455.21 756.209 Q453.404 759.751 453.404 766.881 Q453.404 773.987 455.21 777.552 Q457.038 781.094 460.649 781.094 Q464.284 781.094 466.089 777.552 Q467.918 773.987 467.918 766.881 Q467.918 759.751 466.089 756.209 Q464.284 752.645 460.649 752.645 M460.649 748.941 Q466.46 748.941 469.515 753.547 Q472.594 758.131 472.594 766.881 Q472.594 775.608 469.515 780.214 Q466.46 784.797 460.649 784.797 Q454.839 784.797 451.761 780.214 Q448.705 775.608 448.705 766.881 Q448.705 758.131 451.761 753.547 Q454.839 748.941 460.649 748.941 Z\" fill=\"#000000\" fill-rule=\"nonzero\" fill-opacity=\"1\" /><path clip-path=\"url(#clip980)\" d=\"M480.811 778.246 L485.696 778.246 L485.696 784.126 L480.811 784.126 L480.811 778.246 Z\" fill=\"#000000\" fill-rule=\"nonzero\" fill-opacity=\"1\" /><path clip-path=\"url(#clip980)\" d=\"M505.881 752.645 Q502.27 752.645 500.441 756.209 Q498.635 759.751 498.635 766.881 Q498.635 773.987 500.441 777.552 Q502.27 781.094 505.881 781.094 Q509.515 781.094 511.32 777.552 Q513.149 773.987 513.149 766.881 Q513.149 759.751 511.32 756.209 Q509.515 752.645 505.881 752.645 M505.881 748.941 Q511.691 748.941 514.746 753.547 Q517.825 758.131 517.825 766.881 Q517.825 775.608 514.746 780.214 Q511.691 784.797 505.881 784.797 Q500.071 784.797 496.992 780.214 Q493.936 775.608 493.936 766.881 Q493.936 758.131 496.992 753.547 Q500.071 748.941 505.881 748.941 Z\" fill=\"#000000\" fill-rule=\"nonzero\" fill-opacity=\"1\" /><path clip-path=\"url(#clip980)\" d=\"M461.298 510.762 Q457.687 510.762 455.858 514.326 Q454.052 517.868 454.052 524.998 Q454.052 532.104 455.858 535.669 Q457.687 539.211 461.298 539.211 Q464.932 539.211 466.737 535.669 Q468.566 532.104 468.566 524.998 Q468.566 517.868 466.737 514.326 Q464.932 510.762 461.298 510.762 M461.298 507.058 Q467.108 507.058 470.163 511.664 Q473.242 516.248 473.242 524.998 Q473.242 533.725 470.163 538.331 Q467.108 542.914 461.298 542.914 Q455.487 542.914 452.409 538.331 Q449.353 533.725 449.353 524.998 Q449.353 516.248 452.409 511.664 Q455.487 507.058 461.298 507.058 Z\" fill=\"#000000\" fill-rule=\"nonzero\" fill-opacity=\"1\" /><path clip-path=\"url(#clip980)\" d=\"M481.46 536.363 L486.344 536.363 L486.344 542.243 L481.46 542.243 L481.46 536.363 Z\" fill=\"#000000\" fill-rule=\"nonzero\" fill-opacity=\"1\" /><path clip-path=\"url(#clip980)\" d=\"M510.695 523.609 Q514.052 524.326 515.927 526.595 Q517.825 528.863 517.825 532.197 Q517.825 537.312 514.307 540.113 Q510.788 542.914 504.307 542.914 Q502.131 542.914 499.816 542.474 Q497.524 542.058 495.071 541.201 L495.071 536.687 Q497.015 537.822 499.33 538.4 Q501.645 538.979 504.168 538.979 Q508.566 538.979 510.858 537.243 Q513.172 535.507 513.172 532.197 Q513.172 529.141 511.02 527.428 Q508.89 525.692 505.071 525.692 L501.043 525.692 L501.043 521.85 L505.256 521.85 Q508.705 521.85 510.533 520.484 Q512.362 519.095 512.362 516.502 Q512.362 513.84 510.464 512.428 Q508.589 510.993 505.071 510.993 Q503.149 510.993 500.95 511.41 Q498.751 511.826 496.112 512.706 L496.112 508.539 Q498.774 507.799 501.089 507.428 Q503.427 507.058 505.487 507.058 Q510.811 507.058 513.913 509.489 Q517.015 511.896 517.015 516.016 Q517.015 518.887 515.371 520.877 Q513.728 522.845 510.695 523.609 Z\" fill=\"#000000\" fill-rule=\"nonzero\" fill-opacity=\"1\" /><path clip-path=\"url(#clip980)\" d=\"M460.487 268.879 Q456.876 268.879 455.048 272.443 Q453.242 275.985 453.242 283.115 Q453.242 290.221 455.048 293.786 Q456.876 297.328 460.487 297.328 Q464.122 297.328 465.927 293.786 Q467.756 290.221 467.756 283.115 Q467.756 275.985 465.927 272.443 Q464.122 268.879 460.487 268.879 M460.487 265.175 Q466.298 265.175 469.353 269.781 Q472.432 274.365 472.432 283.115 Q472.432 291.842 469.353 296.448 Q466.298 301.031 460.487 301.031 Q454.677 301.031 451.599 296.448 Q448.543 291.842 448.543 283.115 Q448.543 274.365 451.599 269.781 Q454.677 265.175 460.487 265.175 Z\" fill=\"#000000\" fill-rule=\"nonzero\" fill-opacity=\"1\" /><path clip-path=\"url(#clip980)\" d=\"M480.649 294.48 L485.534 294.48 L485.534 300.36 L480.649 300.36 L480.649 294.48 Z\" fill=\"#000000\" fill-rule=\"nonzero\" fill-opacity=\"1\" /><path clip-path=\"url(#clip980)\" d=\"M506.297 281.217 Q503.149 281.217 501.297 283.369 Q499.469 285.522 499.469 289.272 Q499.469 292.999 501.297 295.175 Q503.149 297.328 506.297 297.328 Q509.445 297.328 511.274 295.175 Q513.126 292.999 513.126 289.272 Q513.126 285.522 511.274 283.369 Q509.445 281.217 506.297 281.217 M515.58 266.564 L515.58 270.823 Q513.82 269.99 512.015 269.55 Q510.233 269.11 508.473 269.11 Q503.844 269.11 501.39 272.235 Q498.959 275.36 498.612 281.68 Q499.978 279.666 502.038 278.601 Q504.098 277.513 506.575 277.513 Q511.783 277.513 514.793 280.684 Q517.825 283.832 517.825 289.272 Q517.825 294.596 514.677 297.814 Q511.529 301.031 506.297 301.031 Q500.302 301.031 497.131 296.448 Q493.959 291.842 493.959 283.115 Q493.959 274.92 497.848 270.059 Q501.737 265.175 508.288 265.175 Q510.047 265.175 511.83 265.522 Q513.635 265.869 515.58 266.564 Z\" fill=\"#000000\" fill-rule=\"nonzero\" fill-opacity=\"1\" /><polyline clip-path=\"url(#clip982)\" style=\"stroke:#000000; stroke-linecap:round; stroke-linejoin:round; stroke-width:4; stroke-opacity:1; fill:none\" points=\"1958.76,81.5109 588.092,81.5109 588.092,1452.18 1958.76,1452.18 1958.76,81.5109 \"/>\n",
       "<polyline clip-path=\"url(#clip982)\" style=\"stroke:#781b86; stroke-linecap:round; stroke-linejoin:round; stroke-width:4; stroke-opacity:1; fill:none\" points=\"1225.05,851.59 1227.02,854.121 1231.06,858.88 1231.78,859.661 1235.09,862.911 1239.13,866.48 1240.72,867.731 1243.16,869.505 1247.2,872.068 1251.23,874.265 1254.62,875.802 1255.27,876.074 1259.3,877.434 1263.34,878.454 1267.37,879.134 1271.41,879.474 1275.44,879.474 1279.48,879.134 1283.52,878.454 1287.55,877.434 1291.59,876.074 1292.23,875.802 1295.62,874.265 1299.66,872.068 1303.69,869.505 1306.14,867.731 1307.73,866.48 1311.76,862.911 1315.07,859.661 1315.8,858.88 1319.83,854.121 1321.8,851.59 1323.87,848.663 1327.22,843.519 1327.91,842.36 1331.67,835.448 1331.94,834.895 1335.34,827.377 1335.98,825.771 1338.37,819.306 1340.01,814.158 1340.89,811.236 1342.9,803.165 1344.05,797.41 1344.48,795.094 1345.62,787.023 1346.38,778.952 1346.76,770.881 1346.76,762.811 1346.38,754.74 1345.62,746.669 1344.48,738.598 1344.05,736.282 1342.9,730.527 1340.89,722.456 1340.01,719.534 1338.37,714.386 1335.98,707.921 1335.34,706.315 1331.94,698.796 1331.67,698.244 1327.91,691.332 1327.22,690.173 1323.87,685.029 1321.8,682.102 1319.83,679.571 1315.8,674.812 1315.07,674.031 1311.76,670.781 1307.73,667.212 1306.14,665.961 1303.69,664.187 1299.66,661.624 1295.62,659.427 1292.23,657.89 1291.59,657.618 1287.55,656.258 1283.52,655.238 1279.48,654.558 1275.44,654.218 1271.41,654.218 1267.37,654.558 1263.34,655.238 1259.3,656.258 1255.27,657.618 1254.62,657.89 1251.23,659.427 1247.2,661.624 1243.16,664.187 1240.72,665.961 1239.13,667.212 1235.09,670.781 1231.78,674.031 1231.06,674.812 1227.02,679.571 1225.05,682.102 1222.98,685.029 1219.63,690.173 1218.95,691.332 1215.18,698.244 1214.91,698.796 1211.51,706.315 1210.88,707.921 1208.48,714.386 1206.84,719.534 1205.97,722.456 1203.96,730.527 1202.81,736.282 1202.37,738.598 1201.23,746.669 1200.47,754.74 1200.09,762.811 1200.09,770.881 1200.47,778.952 1201.23,787.023 1202.37,795.094 1202.81,797.41 1203.96,803.165 1205.97,811.236 1206.84,814.158 1208.48,819.306 1210.88,825.771 1211.51,827.377 1214.91,834.895 1215.18,835.448 1218.95,842.36 1219.63,843.519 1222.98,848.663 1225.05,851.59 \"/>\n",
       "<path clip-path=\"url(#clip980)\" d=\"M625.78 198.898 L899.493 198.898 L899.493 95.2176 L625.78 95.2176  Z\" fill=\"#ffffff\" fill-rule=\"evenodd\" fill-opacity=\"1\"/>\n",
       "<polyline clip-path=\"url(#clip980)\" style=\"stroke:#000000; stroke-linecap:round; stroke-linejoin:round; stroke-width:4; stroke-opacity:1; fill:none\" points=\"625.78,198.898 899.493,198.898 899.493,95.2176 625.78,95.2176 625.78,198.898 \"/>\n",
       "<polyline clip-path=\"url(#clip980)\" style=\"stroke:#781b86; stroke-linecap:round; stroke-linejoin:round; stroke-width:4; stroke-opacity:1; fill:none\" points=\"649.765,147.058 793.676,147.058 \"/>\n",
       "<path clip-path=\"url(#clip980)\" d=\"M830.855 164.338 L817.661 129.778 L822.545 129.778 L833.494 158.875 L844.466 129.778 L849.328 129.778 L836.156 164.338 L830.855 164.338 Z\" fill=\"#000000\" fill-rule=\"nonzero\" fill-opacity=\"1\" /><path clip-path=\"url(#clip980)\" d=\"M855.601 160.402 L863.24 160.402 L863.24 134.037 L854.929 135.703 L854.929 131.444 L863.193 129.778 L867.869 129.778 L867.869 160.402 L875.508 160.402 L875.508 164.338 L855.601 164.338 L855.601 160.402 Z\" fill=\"#000000\" fill-rule=\"nonzero\" fill-opacity=\"1\" /></svg>\n"
      ],
      "image/svg+xml": [
       "<?xml version=\"1.0\" encoding=\"utf-8\"?>\n",
       "<svg xmlns=\"http://www.w3.org/2000/svg\" xmlns:xlink=\"http://www.w3.org/1999/xlink\" width=\"600\" height=\"400\" viewBox=\"0 0 2400 1600\">\n",
       "<defs>\n",
       "  <clipPath id=\"clip950\">\n",
       "    <rect x=\"0\" y=\"0\" width=\"2400\" height=\"1600\"/>\n",
       "  </clipPath>\n",
       "</defs>\n",
       "<path clip-path=\"url(#clip950)\" d=\"M0 1600 L2400 1600 L2400 0 L0 0  Z\" fill=\"#ffffff\" fill-rule=\"evenodd\" fill-opacity=\"1\"/>\n",
       "<defs>\n",
       "  <clipPath id=\"clip951\">\n",
       "    <rect x=\"480\" y=\"0\" width=\"1681\" height=\"1600\"/>\n",
       "  </clipPath>\n",
       "</defs>\n",
       "<path clip-path=\"url(#clip950)\" d=\"M553.825 1486.45 L1993.03 1486.45 L1993.03 47.2441 L553.825 47.2441  Z\" fill=\"#ffffff\" fill-rule=\"evenodd\" fill-opacity=\"1\"/>\n",
       "<defs>\n",
       "  <clipPath id=\"clip952\">\n",
       "    <rect x=\"553\" y=\"47\" width=\"1440\" height=\"1440\"/>\n",
       "  </clipPath>\n",
       "</defs>\n",
       "<polyline clip-path=\"url(#clip952)\" style=\"stroke:#000000; stroke-linecap:round; stroke-linejoin:round; stroke-width:2; stroke-opacity:0.1; fill:none\" points=\"668.719,1486.45 668.719,47.2441 \"/>\n",
       "<polyline clip-path=\"url(#clip952)\" style=\"stroke:#000000; stroke-linecap:round; stroke-linejoin:round; stroke-width:2; stroke-opacity:0.1; fill:none\" points=\"870.289,1486.45 870.289,47.2441 \"/>\n",
       "<polyline clip-path=\"url(#clip952)\" style=\"stroke:#000000; stroke-linecap:round; stroke-linejoin:round; stroke-width:2; stroke-opacity:0.1; fill:none\" points=\"1071.86,1486.45 1071.86,47.2441 \"/>\n",
       "<polyline clip-path=\"url(#clip952)\" style=\"stroke:#000000; stroke-linecap:round; stroke-linejoin:round; stroke-width:2; stroke-opacity:0.1; fill:none\" points=\"1273.43,1486.45 1273.43,47.2441 \"/>\n",
       "<polyline clip-path=\"url(#clip952)\" style=\"stroke:#000000; stroke-linecap:round; stroke-linejoin:round; stroke-width:2; stroke-opacity:0.1; fill:none\" points=\"1475,1486.45 1475,47.2441 \"/>\n",
       "<polyline clip-path=\"url(#clip952)\" style=\"stroke:#000000; stroke-linecap:round; stroke-linejoin:round; stroke-width:2; stroke-opacity:0.1; fill:none\" points=\"1676.57,1486.45 1676.57,47.2441 \"/>\n",
       "<polyline clip-path=\"url(#clip952)\" style=\"stroke:#000000; stroke-linecap:round; stroke-linejoin:round; stroke-width:2; stroke-opacity:0.1; fill:none\" points=\"1878.13,1486.45 1878.13,47.2441 \"/>\n",
       "<polyline clip-path=\"url(#clip950)\" style=\"stroke:#000000; stroke-linecap:round; stroke-linejoin:round; stroke-width:4; stroke-opacity:1; fill:none\" points=\"553.825,1486.45 1993.03,1486.45 \"/>\n",
       "<polyline clip-path=\"url(#clip950)\" style=\"stroke:#000000; stroke-linecap:round; stroke-linejoin:round; stroke-width:4; stroke-opacity:1; fill:none\" points=\"668.719,1486.45 668.719,1467.55 \"/>\n",
       "<polyline clip-path=\"url(#clip950)\" style=\"stroke:#000000; stroke-linecap:round; stroke-linejoin:round; stroke-width:4; stroke-opacity:1; fill:none\" points=\"870.289,1486.45 870.289,1467.55 \"/>\n",
       "<polyline clip-path=\"url(#clip950)\" style=\"stroke:#000000; stroke-linecap:round; stroke-linejoin:round; stroke-width:4; stroke-opacity:1; fill:none\" points=\"1071.86,1486.45 1071.86,1467.55 \"/>\n",
       "<polyline clip-path=\"url(#clip950)\" style=\"stroke:#000000; stroke-linecap:round; stroke-linejoin:round; stroke-width:4; stroke-opacity:1; fill:none\" points=\"1273.43,1486.45 1273.43,1467.55 \"/>\n",
       "<polyline clip-path=\"url(#clip950)\" style=\"stroke:#000000; stroke-linecap:round; stroke-linejoin:round; stroke-width:4; stroke-opacity:1; fill:none\" points=\"1475,1486.45 1475,1467.55 \"/>\n",
       "<polyline clip-path=\"url(#clip950)\" style=\"stroke:#000000; stroke-linecap:round; stroke-linejoin:round; stroke-width:4; stroke-opacity:1; fill:none\" points=\"1676.57,1486.45 1676.57,1467.55 \"/>\n",
       "<polyline clip-path=\"url(#clip950)\" style=\"stroke:#000000; stroke-linecap:round; stroke-linejoin:round; stroke-width:4; stroke-opacity:1; fill:none\" points=\"1878.13,1486.45 1878.13,1467.55 \"/>\n",
       "<path clip-path=\"url(#clip950)\" d=\"M615.745 1532.02 L645.421 1532.02 L645.421 1535.95 L615.745 1535.95 L615.745 1532.02 Z\" fill=\"#000000\" fill-rule=\"nonzero\" fill-opacity=\"1\" /><path clip-path=\"url(#clip950)\" d=\"M656.324 1544.91 L663.963 1544.91 L663.963 1518.55 L655.652 1520.21 L655.652 1515.95 L663.916 1514.29 L668.592 1514.29 L668.592 1544.91 L676.231 1544.91 L676.231 1548.85 L656.324 1548.85 L656.324 1544.91 Z\" fill=\"#000000\" fill-rule=\"nonzero\" fill-opacity=\"1\" /><path clip-path=\"url(#clip950)\" d=\"M685.675 1542.97 L690.56 1542.97 L690.56 1548.85 L685.675 1548.85 L685.675 1542.97 Z\" fill=\"#000000\" fill-rule=\"nonzero\" fill-opacity=\"1\" /><path clip-path=\"url(#clip950)\" d=\"M700.791 1514.29 L719.147 1514.29 L719.147 1518.22 L705.073 1518.22 L705.073 1526.7 Q706.092 1526.35 707.11 1526.19 Q708.129 1526 709.148 1526 Q714.935 1526 718.314 1529.17 Q721.694 1532.34 721.694 1537.76 Q721.694 1543.34 718.222 1546.44 Q714.749 1549.52 708.43 1549.52 Q706.254 1549.52 703.986 1549.15 Q701.74 1548.78 699.333 1548.04 L699.333 1543.34 Q701.416 1544.47 703.638 1545.03 Q705.861 1545.58 708.337 1545.58 Q712.342 1545.58 714.68 1543.48 Q717.018 1541.37 717.018 1537.76 Q717.018 1534.15 714.68 1532.04 Q712.342 1529.94 708.337 1529.94 Q706.462 1529.94 704.587 1530.35 Q702.736 1530.77 700.791 1531.65 L700.791 1514.29 Z\" fill=\"#000000\" fill-rule=\"nonzero\" fill-opacity=\"1\" /><path clip-path=\"url(#clip950)\" d=\"M816.817 1532.02 L846.492 1532.02 L846.492 1535.95 L816.817 1535.95 L816.817 1532.02 Z\" fill=\"#000000\" fill-rule=\"nonzero\" fill-opacity=\"1\" /><path clip-path=\"url(#clip950)\" d=\"M857.395 1544.91 L865.034 1544.91 L865.034 1518.55 L856.724 1520.21 L856.724 1515.95 L864.988 1514.29 L869.664 1514.29 L869.664 1544.91 L877.303 1544.91 L877.303 1548.85 L857.395 1548.85 L857.395 1544.91 Z\" fill=\"#000000\" fill-rule=\"nonzero\" fill-opacity=\"1\" /><path clip-path=\"url(#clip950)\" d=\"M886.747 1542.97 L891.631 1542.97 L891.631 1548.85 L886.747 1548.85 L886.747 1542.97 Z\" fill=\"#000000\" fill-rule=\"nonzero\" fill-opacity=\"1\" /><path clip-path=\"url(#clip950)\" d=\"M911.816 1517.37 Q908.205 1517.37 906.376 1520.93 Q904.571 1524.47 904.571 1531.6 Q904.571 1538.71 906.376 1542.27 Q908.205 1545.82 911.816 1545.82 Q915.45 1545.82 917.256 1542.27 Q919.085 1538.71 919.085 1531.6 Q919.085 1524.47 917.256 1520.93 Q915.45 1517.37 911.816 1517.37 M911.816 1513.66 Q917.626 1513.66 920.682 1518.27 Q923.761 1522.85 923.761 1531.6 Q923.761 1540.33 920.682 1544.94 Q917.626 1549.52 911.816 1549.52 Q906.006 1549.52 902.927 1544.94 Q899.872 1540.33 899.872 1531.6 Q899.872 1522.85 902.927 1518.27 Q906.006 1513.66 911.816 1513.66 Z\" fill=\"#000000\" fill-rule=\"nonzero\" fill-opacity=\"1\" /><path clip-path=\"url(#clip950)\" d=\"M1018.88 1532.02 L1048.56 1532.02 L1048.56 1535.95 L1018.88 1535.95 L1018.88 1532.02 Z\" fill=\"#000000\" fill-rule=\"nonzero\" fill-opacity=\"1\" /><path clip-path=\"url(#clip950)\" d=\"M1068.65 1517.37 Q1065.04 1517.37 1063.21 1520.93 Q1061.41 1524.47 1061.41 1531.6 Q1061.41 1538.71 1063.21 1542.27 Q1065.04 1545.82 1068.65 1545.82 Q1072.29 1545.82 1074.09 1542.27 Q1075.92 1538.71 1075.92 1531.6 Q1075.92 1524.47 1074.09 1520.93 Q1072.29 1517.37 1068.65 1517.37 M1068.65 1513.66 Q1074.46 1513.66 1077.52 1518.27 Q1080.6 1522.85 1080.6 1531.6 Q1080.6 1540.33 1077.52 1544.94 Q1074.46 1549.52 1068.65 1549.52 Q1062.84 1549.52 1059.76 1544.94 Q1056.71 1540.33 1056.71 1531.6 Q1056.71 1522.85 1059.76 1518.27 Q1062.84 1513.66 1068.65 1513.66 Z\" fill=\"#000000\" fill-rule=\"nonzero\" fill-opacity=\"1\" /><path clip-path=\"url(#clip950)\" d=\"M1088.81 1542.97 L1093.7 1542.97 L1093.7 1548.85 L1088.81 1548.85 L1088.81 1542.97 Z\" fill=\"#000000\" fill-rule=\"nonzero\" fill-opacity=\"1\" /><path clip-path=\"url(#clip950)\" d=\"M1103.93 1514.29 L1122.29 1514.29 L1122.29 1518.22 L1108.21 1518.22 L1108.21 1526.7 Q1109.23 1526.35 1110.25 1526.19 Q1111.27 1526 1112.29 1526 Q1118.07 1526 1121.45 1529.17 Q1124.83 1532.34 1124.83 1537.76 Q1124.83 1543.34 1121.36 1546.44 Q1117.89 1549.52 1111.57 1549.52 Q1109.39 1549.52 1107.12 1549.15 Q1104.88 1548.78 1102.47 1548.04 L1102.47 1543.34 Q1104.55 1544.47 1106.78 1545.03 Q1109 1545.58 1111.48 1545.58 Q1115.48 1545.58 1117.82 1543.48 Q1120.16 1541.37 1120.16 1537.76 Q1120.16 1534.15 1117.82 1532.04 Q1115.48 1529.94 1111.48 1529.94 Q1109.6 1529.94 1107.73 1530.35 Q1105.87 1530.77 1103.93 1531.65 L1103.93 1514.29 Z\" fill=\"#000000\" fill-rule=\"nonzero\" fill-opacity=\"1\" /><path clip-path=\"url(#clip950)\" d=\"M1250.81 1517.37 Q1247.2 1517.37 1245.37 1520.93 Q1243.57 1524.47 1243.57 1531.6 Q1243.57 1538.71 1245.37 1542.27 Q1247.2 1545.82 1250.81 1545.82 Q1254.45 1545.82 1256.25 1542.27 Q1258.08 1538.71 1258.08 1531.6 Q1258.08 1524.47 1256.25 1520.93 Q1254.45 1517.37 1250.81 1517.37 M1250.81 1513.66 Q1256.62 1513.66 1259.68 1518.27 Q1262.76 1522.85 1262.76 1531.6 Q1262.76 1540.33 1259.68 1544.94 Q1256.62 1549.52 1250.81 1549.52 Q1245 1549.52 1241.92 1544.94 Q1238.87 1540.33 1238.87 1531.6 Q1238.87 1522.85 1241.92 1518.27 Q1245 1513.66 1250.81 1513.66 Z\" fill=\"#000000\" fill-rule=\"nonzero\" fill-opacity=\"1\" /><path clip-path=\"url(#clip950)\" d=\"M1270.97 1542.97 L1275.86 1542.97 L1275.86 1548.85 L1270.97 1548.85 L1270.97 1542.97 Z\" fill=\"#000000\" fill-rule=\"nonzero\" fill-opacity=\"1\" /><path clip-path=\"url(#clip950)\" d=\"M1296.04 1517.37 Q1292.43 1517.37 1290.6 1520.93 Q1288.8 1524.47 1288.8 1531.6 Q1288.8 1538.71 1290.6 1542.27 Q1292.43 1545.82 1296.04 1545.82 Q1299.68 1545.82 1301.48 1542.27 Q1303.31 1538.71 1303.31 1531.6 Q1303.31 1524.47 1301.48 1520.93 Q1299.68 1517.37 1296.04 1517.37 M1296.04 1513.66 Q1301.85 1513.66 1304.91 1518.27 Q1307.99 1522.85 1307.99 1531.6 Q1307.99 1540.33 1304.91 1544.94 Q1301.85 1549.52 1296.04 1549.52 Q1290.23 1549.52 1287.15 1544.94 Q1284.1 1540.33 1284.1 1531.6 Q1284.1 1522.85 1287.15 1518.27 Q1290.23 1513.66 1296.04 1513.66 Z\" fill=\"#000000\" fill-rule=\"nonzero\" fill-opacity=\"1\" /><path clip-path=\"url(#clip950)\" d=\"M1452.88 1517.37 Q1449.27 1517.37 1447.44 1520.93 Q1445.63 1524.47 1445.63 1531.6 Q1445.63 1538.71 1447.44 1542.27 Q1449.27 1545.82 1452.88 1545.82 Q1456.51 1545.82 1458.32 1542.27 Q1460.15 1538.71 1460.15 1531.6 Q1460.15 1524.47 1458.32 1520.93 Q1456.51 1517.37 1452.88 1517.37 M1452.88 1513.66 Q1458.69 1513.66 1461.74 1518.27 Q1464.82 1522.85 1464.82 1531.6 Q1464.82 1540.33 1461.74 1544.94 Q1458.69 1549.52 1452.88 1549.52 Q1447.07 1549.52 1443.99 1544.94 Q1440.93 1540.33 1440.93 1531.6 Q1440.93 1522.85 1443.99 1518.27 Q1447.07 1513.66 1452.88 1513.66 Z\" fill=\"#000000\" fill-rule=\"nonzero\" fill-opacity=\"1\" /><path clip-path=\"url(#clip950)\" d=\"M1473.04 1542.97 L1477.92 1542.97 L1477.92 1548.85 L1473.04 1548.85 L1473.04 1542.97 Z\" fill=\"#000000\" fill-rule=\"nonzero\" fill-opacity=\"1\" /><path clip-path=\"url(#clip950)\" d=\"M1488.16 1514.29 L1506.51 1514.29 L1506.51 1518.22 L1492.44 1518.22 L1492.44 1526.7 Q1493.46 1526.35 1494.48 1526.19 Q1495.49 1526 1496.51 1526 Q1502.3 1526 1505.68 1529.17 Q1509.06 1532.34 1509.06 1537.76 Q1509.06 1543.34 1505.59 1546.44 Q1502.11 1549.52 1495.79 1549.52 Q1493.62 1549.52 1491.35 1549.15 Q1489.1 1548.78 1486.7 1548.04 L1486.7 1543.34 Q1488.78 1544.47 1491 1545.03 Q1493.23 1545.58 1495.7 1545.58 Q1499.71 1545.58 1502.04 1543.48 Q1504.38 1541.37 1504.38 1537.76 Q1504.38 1534.15 1502.04 1532.04 Q1499.71 1529.94 1495.7 1529.94 Q1493.83 1529.94 1491.95 1530.35 Q1490.1 1530.77 1488.16 1531.65 L1488.16 1514.29 Z\" fill=\"#000000\" fill-rule=\"nonzero\" fill-opacity=\"1\" /><path clip-path=\"url(#clip950)\" d=\"M1643.72 1544.91 L1651.36 1544.91 L1651.36 1518.55 L1643.05 1520.21 L1643.05 1515.95 L1651.31 1514.29 L1655.99 1514.29 L1655.99 1544.91 L1663.63 1544.91 L1663.63 1548.85 L1643.72 1548.85 L1643.72 1544.91 Z\" fill=\"#000000\" fill-rule=\"nonzero\" fill-opacity=\"1\" /><path clip-path=\"url(#clip950)\" d=\"M1673.07 1542.97 L1677.95 1542.97 L1677.95 1548.85 L1673.07 1548.85 L1673.07 1542.97 Z\" fill=\"#000000\" fill-rule=\"nonzero\" fill-opacity=\"1\" /><path clip-path=\"url(#clip950)\" d=\"M1698.14 1517.37 Q1694.53 1517.37 1692.7 1520.93 Q1690.89 1524.47 1690.89 1531.6 Q1690.89 1538.71 1692.7 1542.27 Q1694.53 1545.82 1698.14 1545.82 Q1701.77 1545.82 1703.58 1542.27 Q1705.41 1538.71 1705.41 1531.6 Q1705.41 1524.47 1703.58 1520.93 Q1701.77 1517.37 1698.14 1517.37 M1698.14 1513.66 Q1703.95 1513.66 1707 1518.27 Q1710.08 1522.85 1710.08 1531.6 Q1710.08 1540.33 1707 1544.94 Q1703.95 1549.52 1698.14 1549.52 Q1692.33 1549.52 1689.25 1544.94 Q1686.19 1540.33 1686.19 1531.6 Q1686.19 1522.85 1689.25 1518.27 Q1692.33 1513.66 1698.14 1513.66 Z\" fill=\"#000000\" fill-rule=\"nonzero\" fill-opacity=\"1\" /><path clip-path=\"url(#clip950)\" d=\"M1845.79 1544.91 L1853.42 1544.91 L1853.42 1518.55 L1845.11 1520.21 L1845.11 1515.95 L1853.38 1514.29 L1858.05 1514.29 L1858.05 1544.91 L1865.69 1544.91 L1865.69 1548.85 L1845.79 1548.85 L1845.79 1544.91 Z\" fill=\"#000000\" fill-rule=\"nonzero\" fill-opacity=\"1\" /><path clip-path=\"url(#clip950)\" d=\"M1875.14 1542.97 L1880.02 1542.97 L1880.02 1548.85 L1875.14 1548.85 L1875.14 1542.97 Z\" fill=\"#000000\" fill-rule=\"nonzero\" fill-opacity=\"1\" /><path clip-path=\"url(#clip950)\" d=\"M1890.25 1514.29 L1908.61 1514.29 L1908.61 1518.22 L1894.53 1518.22 L1894.53 1526.7 Q1895.55 1526.35 1896.57 1526.19 Q1897.59 1526 1898.61 1526 Q1904.4 1526 1907.78 1529.17 Q1911.16 1532.34 1911.16 1537.76 Q1911.16 1543.34 1907.68 1546.44 Q1904.21 1549.52 1897.89 1549.52 Q1895.72 1549.52 1893.45 1549.15 Q1891.2 1548.78 1888.79 1548.04 L1888.79 1543.34 Q1890.88 1544.47 1893.1 1545.03 Q1895.32 1545.58 1897.8 1545.58 Q1901.8 1545.58 1904.14 1543.48 Q1906.48 1541.37 1906.48 1537.76 Q1906.48 1534.15 1904.14 1532.04 Q1901.8 1529.94 1897.8 1529.94 Q1895.92 1529.94 1894.05 1530.35 Q1892.2 1530.77 1890.25 1531.65 L1890.25 1514.29 Z\" fill=\"#000000\" fill-rule=\"nonzero\" fill-opacity=\"1\" /><polyline clip-path=\"url(#clip952)\" style=\"stroke:#000000; stroke-linecap:round; stroke-linejoin:round; stroke-width:2; stroke-opacity:0.1; fill:none\" points=\"553.825,1250.61 1993.03,1250.61 \"/>\n",
       "<polyline clip-path=\"url(#clip952)\" style=\"stroke:#000000; stroke-linecap:round; stroke-linejoin:round; stroke-width:2; stroke-opacity:0.1; fill:none\" points=\"553.825,1008.73 1993.03,1008.73 \"/>\n",
       "<polyline clip-path=\"url(#clip952)\" style=\"stroke:#000000; stroke-linecap:round; stroke-linejoin:round; stroke-width:2; stroke-opacity:0.1; fill:none\" points=\"553.825,766.846 1993.03,766.846 \"/>\n",
       "<polyline clip-path=\"url(#clip952)\" style=\"stroke:#000000; stroke-linecap:round; stroke-linejoin:round; stroke-width:2; stroke-opacity:0.1; fill:none\" points=\"553.825,524.963 1993.03,524.963 \"/>\n",
       "<polyline clip-path=\"url(#clip952)\" style=\"stroke:#000000; stroke-linecap:round; stroke-linejoin:round; stroke-width:2; stroke-opacity:0.1; fill:none\" points=\"553.825,283.08 1993.03,283.08 \"/>\n",
       "<polyline clip-path=\"url(#clip950)\" style=\"stroke:#000000; stroke-linecap:round; stroke-linejoin:round; stroke-width:4; stroke-opacity:1; fill:none\" points=\"553.825,1486.45 553.825,47.2441 \"/>\n",
       "<polyline clip-path=\"url(#clip950)\" style=\"stroke:#000000; stroke-linecap:round; stroke-linejoin:round; stroke-width:4; stroke-opacity:1; fill:none\" points=\"553.825,1250.61 566.424,1250.61 \"/>\n",
       "<polyline clip-path=\"url(#clip950)\" style=\"stroke:#000000; stroke-linecap:round; stroke-linejoin:round; stroke-width:4; stroke-opacity:1; fill:none\" points=\"553.825,1008.73 566.424,1008.73 \"/>\n",
       "<polyline clip-path=\"url(#clip950)\" style=\"stroke:#000000; stroke-linecap:round; stroke-linejoin:round; stroke-width:4; stroke-opacity:1; fill:none\" points=\"553.825,766.846 566.424,766.846 \"/>\n",
       "<polyline clip-path=\"url(#clip950)\" style=\"stroke:#000000; stroke-linecap:round; stroke-linejoin:round; stroke-width:4; stroke-opacity:1; fill:none\" points=\"553.825,524.963 566.424,524.963 \"/>\n",
       "<polyline clip-path=\"url(#clip950)\" style=\"stroke:#000000; stroke-linecap:round; stroke-linejoin:round; stroke-width:4; stroke-opacity:1; fill:none\" points=\"553.825,283.08 566.424,283.08 \"/>\n",
       "<path clip-path=\"url(#clip950)\" d=\"M410.719 1251.06 L440.395 1251.06 L440.395 1255 L410.719 1255 L410.719 1251.06 Z\" fill=\"#000000\" fill-rule=\"nonzero\" fill-opacity=\"1\" /><path clip-path=\"url(#clip950)\" d=\"M460.487 1236.41 Q456.876 1236.41 455.048 1239.98 Q453.242 1243.52 453.242 1250.65 Q453.242 1257.75 455.048 1261.32 Q456.876 1264.86 460.487 1264.86 Q464.122 1264.86 465.927 1261.32 Q467.756 1257.75 467.756 1250.65 Q467.756 1243.52 465.927 1239.98 Q464.122 1236.41 460.487 1236.41 M460.487 1232.71 Q466.298 1232.71 469.353 1237.31 Q472.432 1241.9 472.432 1250.65 Q472.432 1259.37 469.353 1263.98 Q466.298 1268.56 460.487 1268.56 Q454.677 1268.56 451.599 1263.98 Q448.543 1259.37 448.543 1250.65 Q448.543 1241.9 451.599 1237.31 Q454.677 1232.71 460.487 1232.71 Z\" fill=\"#000000\" fill-rule=\"nonzero\" fill-opacity=\"1\" /><path clip-path=\"url(#clip950)\" d=\"M480.649 1262.01 L485.534 1262.01 L485.534 1267.89 L480.649 1267.89 L480.649 1262.01 Z\" fill=\"#000000\" fill-rule=\"nonzero\" fill-opacity=\"1\" /><path clip-path=\"url(#clip950)\" d=\"M506.297 1248.75 Q503.149 1248.75 501.297 1250.9 Q499.469 1253.05 499.469 1256.8 Q499.469 1260.53 501.297 1262.71 Q503.149 1264.86 506.297 1264.86 Q509.445 1264.86 511.274 1262.71 Q513.126 1260.53 513.126 1256.8 Q513.126 1253.05 511.274 1250.9 Q509.445 1248.75 506.297 1248.75 M515.58 1234.1 L515.58 1238.36 Q513.82 1237.52 512.015 1237.08 Q510.233 1236.64 508.473 1236.64 Q503.844 1236.64 501.39 1239.77 Q498.959 1242.89 498.612 1249.21 Q499.978 1247.2 502.038 1246.13 Q504.098 1245.04 506.575 1245.04 Q511.783 1245.04 514.793 1248.22 Q517.825 1251.36 517.825 1256.8 Q517.825 1262.13 514.677 1265.35 Q511.529 1268.56 506.297 1268.56 Q500.302 1268.56 497.131 1263.98 Q493.959 1259.37 493.959 1250.65 Q493.959 1242.45 497.848 1237.59 Q501.737 1232.71 508.288 1232.71 Q510.047 1232.71 511.83 1233.05 Q513.635 1233.4 515.58 1234.1 Z\" fill=\"#000000\" fill-rule=\"nonzero\" fill-opacity=\"1\" /><path clip-path=\"url(#clip950)\" d=\"M411.529 1009.18 L441.205 1009.18 L441.205 1013.12 L411.529 1013.12 L411.529 1009.18 Z\" fill=\"#000000\" fill-rule=\"nonzero\" fill-opacity=\"1\" /><path clip-path=\"url(#clip950)\" d=\"M461.298 994.528 Q457.687 994.528 455.858 998.092 Q454.052 1001.63 454.052 1008.76 Q454.052 1015.87 455.858 1019.43 Q457.687 1022.98 461.298 1022.98 Q464.932 1022.98 466.737 1019.43 Q468.566 1015.87 468.566 1008.76 Q468.566 1001.63 466.737 998.092 Q464.932 994.528 461.298 994.528 M461.298 990.824 Q467.108 990.824 470.163 995.43 Q473.242 1000.01 473.242 1008.76 Q473.242 1017.49 470.163 1022.1 Q467.108 1026.68 461.298 1026.68 Q455.487 1026.68 452.409 1022.1 Q449.353 1017.49 449.353 1008.76 Q449.353 1000.01 452.409 995.43 Q455.487 990.824 461.298 990.824 Z\" fill=\"#000000\" fill-rule=\"nonzero\" fill-opacity=\"1\" /><path clip-path=\"url(#clip950)\" d=\"M481.46 1020.13 L486.344 1020.13 L486.344 1026.01 L481.46 1026.01 L481.46 1020.13 Z\" fill=\"#000000\" fill-rule=\"nonzero\" fill-opacity=\"1\" /><path clip-path=\"url(#clip950)\" d=\"M510.695 1007.37 Q514.052 1008.09 515.927 1010.36 Q517.825 1012.63 517.825 1015.96 Q517.825 1021.08 514.307 1023.88 Q510.788 1026.68 504.307 1026.68 Q502.131 1026.68 499.816 1026.24 Q497.524 1025.82 495.071 1024.97 L495.071 1020.45 Q497.015 1021.59 499.33 1022.17 Q501.645 1022.75 504.168 1022.75 Q508.566 1022.75 510.858 1021.01 Q513.172 1019.27 513.172 1015.96 Q513.172 1012.91 511.02 1011.19 Q508.89 1009.46 505.071 1009.46 L501.043 1009.46 L501.043 1005.62 L505.256 1005.62 Q508.705 1005.62 510.533 1004.25 Q512.362 1002.86 512.362 1000.27 Q512.362 997.606 510.464 996.194 Q508.589 994.759 505.071 994.759 Q503.149 994.759 500.95 995.176 Q498.751 995.592 496.112 996.472 L496.112 992.305 Q498.774 991.565 501.089 991.194 Q503.427 990.824 505.487 990.824 Q510.811 990.824 513.913 993.255 Q517.015 995.662 517.015 999.782 Q517.015 1002.65 515.371 1004.64 Q513.728 1006.61 510.695 1007.37 Z\" fill=\"#000000\" fill-rule=\"nonzero\" fill-opacity=\"1\" /><path clip-path=\"url(#clip950)\" d=\"M460.649 752.645 Q457.038 752.645 455.21 756.209 Q453.404 759.751 453.404 766.881 Q453.404 773.987 455.21 777.552 Q457.038 781.094 460.649 781.094 Q464.284 781.094 466.089 777.552 Q467.918 773.987 467.918 766.881 Q467.918 759.751 466.089 756.209 Q464.284 752.645 460.649 752.645 M460.649 748.941 Q466.46 748.941 469.515 753.547 Q472.594 758.131 472.594 766.881 Q472.594 775.608 469.515 780.214 Q466.46 784.797 460.649 784.797 Q454.839 784.797 451.761 780.214 Q448.705 775.608 448.705 766.881 Q448.705 758.131 451.761 753.547 Q454.839 748.941 460.649 748.941 Z\" fill=\"#000000\" fill-rule=\"nonzero\" fill-opacity=\"1\" /><path clip-path=\"url(#clip950)\" d=\"M480.811 778.246 L485.696 778.246 L485.696 784.126 L480.811 784.126 L480.811 778.246 Z\" fill=\"#000000\" fill-rule=\"nonzero\" fill-opacity=\"1\" /><path clip-path=\"url(#clip950)\" d=\"M505.881 752.645 Q502.27 752.645 500.441 756.209 Q498.635 759.751 498.635 766.881 Q498.635 773.987 500.441 777.552 Q502.27 781.094 505.881 781.094 Q509.515 781.094 511.32 777.552 Q513.149 773.987 513.149 766.881 Q513.149 759.751 511.32 756.209 Q509.515 752.645 505.881 752.645 M505.881 748.941 Q511.691 748.941 514.746 753.547 Q517.825 758.131 517.825 766.881 Q517.825 775.608 514.746 780.214 Q511.691 784.797 505.881 784.797 Q500.071 784.797 496.992 780.214 Q493.936 775.608 493.936 766.881 Q493.936 758.131 496.992 753.547 Q500.071 748.941 505.881 748.941 Z\" fill=\"#000000\" fill-rule=\"nonzero\" fill-opacity=\"1\" /><path clip-path=\"url(#clip950)\" d=\"M461.298 510.762 Q457.687 510.762 455.858 514.326 Q454.052 517.868 454.052 524.998 Q454.052 532.104 455.858 535.669 Q457.687 539.211 461.298 539.211 Q464.932 539.211 466.737 535.669 Q468.566 532.104 468.566 524.998 Q468.566 517.868 466.737 514.326 Q464.932 510.762 461.298 510.762 M461.298 507.058 Q467.108 507.058 470.163 511.664 Q473.242 516.248 473.242 524.998 Q473.242 533.725 470.163 538.331 Q467.108 542.914 461.298 542.914 Q455.487 542.914 452.409 538.331 Q449.353 533.725 449.353 524.998 Q449.353 516.248 452.409 511.664 Q455.487 507.058 461.298 507.058 Z\" fill=\"#000000\" fill-rule=\"nonzero\" fill-opacity=\"1\" /><path clip-path=\"url(#clip950)\" d=\"M481.46 536.363 L486.344 536.363 L486.344 542.243 L481.46 542.243 L481.46 536.363 Z\" fill=\"#000000\" fill-rule=\"nonzero\" fill-opacity=\"1\" /><path clip-path=\"url(#clip950)\" d=\"M510.695 523.609 Q514.052 524.326 515.927 526.595 Q517.825 528.863 517.825 532.197 Q517.825 537.312 514.307 540.113 Q510.788 542.914 504.307 542.914 Q502.131 542.914 499.816 542.474 Q497.524 542.058 495.071 541.201 L495.071 536.687 Q497.015 537.822 499.33 538.4 Q501.645 538.979 504.168 538.979 Q508.566 538.979 510.858 537.243 Q513.172 535.507 513.172 532.197 Q513.172 529.141 511.02 527.428 Q508.89 525.692 505.071 525.692 L501.043 525.692 L501.043 521.85 L505.256 521.85 Q508.705 521.85 510.533 520.484 Q512.362 519.095 512.362 516.502 Q512.362 513.84 510.464 512.428 Q508.589 510.993 505.071 510.993 Q503.149 510.993 500.95 511.41 Q498.751 511.826 496.112 512.706 L496.112 508.539 Q498.774 507.799 501.089 507.428 Q503.427 507.058 505.487 507.058 Q510.811 507.058 513.913 509.489 Q517.015 511.896 517.015 516.016 Q517.015 518.887 515.371 520.877 Q513.728 522.845 510.695 523.609 Z\" fill=\"#000000\" fill-rule=\"nonzero\" fill-opacity=\"1\" /><path clip-path=\"url(#clip950)\" d=\"M460.487 268.879 Q456.876 268.879 455.048 272.443 Q453.242 275.985 453.242 283.115 Q453.242 290.221 455.048 293.786 Q456.876 297.328 460.487 297.328 Q464.122 297.328 465.927 293.786 Q467.756 290.221 467.756 283.115 Q467.756 275.985 465.927 272.443 Q464.122 268.879 460.487 268.879 M460.487 265.175 Q466.298 265.175 469.353 269.781 Q472.432 274.365 472.432 283.115 Q472.432 291.842 469.353 296.448 Q466.298 301.031 460.487 301.031 Q454.677 301.031 451.599 296.448 Q448.543 291.842 448.543 283.115 Q448.543 274.365 451.599 269.781 Q454.677 265.175 460.487 265.175 Z\" fill=\"#000000\" fill-rule=\"nonzero\" fill-opacity=\"1\" /><path clip-path=\"url(#clip950)\" d=\"M480.649 294.48 L485.534 294.48 L485.534 300.36 L480.649 300.36 L480.649 294.48 Z\" fill=\"#000000\" fill-rule=\"nonzero\" fill-opacity=\"1\" /><path clip-path=\"url(#clip950)\" d=\"M506.297 281.217 Q503.149 281.217 501.297 283.369 Q499.469 285.522 499.469 289.272 Q499.469 292.999 501.297 295.175 Q503.149 297.328 506.297 297.328 Q509.445 297.328 511.274 295.175 Q513.126 292.999 513.126 289.272 Q513.126 285.522 511.274 283.369 Q509.445 281.217 506.297 281.217 M515.58 266.564 L515.58 270.823 Q513.82 269.99 512.015 269.55 Q510.233 269.11 508.473 269.11 Q503.844 269.11 501.39 272.235 Q498.959 275.36 498.612 281.68 Q499.978 279.666 502.038 278.601 Q504.098 277.513 506.575 277.513 Q511.783 277.513 514.793 280.684 Q517.825 283.832 517.825 289.272 Q517.825 294.596 514.677 297.814 Q511.529 301.031 506.297 301.031 Q500.302 301.031 497.131 296.448 Q493.959 291.842 493.959 283.115 Q493.959 274.92 497.848 270.059 Q501.737 265.175 508.288 265.175 Q510.047 265.175 511.83 265.522 Q513.635 265.869 515.58 266.564 Z\" fill=\"#000000\" fill-rule=\"nonzero\" fill-opacity=\"1\" /><polyline clip-path=\"url(#clip952)\" style=\"stroke:#000000; stroke-linecap:round; stroke-linejoin:round; stroke-width:4; stroke-opacity:1; fill:none\" points=\"1958.76,81.5109 588.092,81.5109 588.092,1452.18 1958.76,1452.18 1958.76,81.5109 \"/>\n",
       "<polyline clip-path=\"url(#clip952)\" style=\"stroke:#781b86; stroke-linecap:round; stroke-linejoin:round; stroke-width:4; stroke-opacity:1; fill:none\" points=\"1225.05,851.59 1227.02,854.121 1231.06,858.88 1231.78,859.661 1235.09,862.911 1239.13,866.48 1240.72,867.731 1243.16,869.505 1247.2,872.068 1251.23,874.265 1254.62,875.802 1255.27,876.074 1259.3,877.434 1263.34,878.454 1267.37,879.134 1271.41,879.474 1275.44,879.474 1279.48,879.134 1283.52,878.454 1287.55,877.434 1291.59,876.074 1292.23,875.802 1295.62,874.265 1299.66,872.068 1303.69,869.505 1306.14,867.731 1307.73,866.48 1311.76,862.911 1315.07,859.661 1315.8,858.88 1319.83,854.121 1321.8,851.59 1323.87,848.663 1327.22,843.519 1327.91,842.36 1331.67,835.448 1331.94,834.895 1335.34,827.377 1335.98,825.771 1338.37,819.306 1340.01,814.158 1340.89,811.236 1342.9,803.165 1344.05,797.41 1344.48,795.094 1345.62,787.023 1346.38,778.952 1346.76,770.881 1346.76,762.811 1346.38,754.74 1345.62,746.669 1344.48,738.598 1344.05,736.282 1342.9,730.527 1340.89,722.456 1340.01,719.534 1338.37,714.386 1335.98,707.921 1335.34,706.315 1331.94,698.796 1331.67,698.244 1327.91,691.332 1327.22,690.173 1323.87,685.029 1321.8,682.102 1319.83,679.571 1315.8,674.812 1315.07,674.031 1311.76,670.781 1307.73,667.212 1306.14,665.961 1303.69,664.187 1299.66,661.624 1295.62,659.427 1292.23,657.89 1291.59,657.618 1287.55,656.258 1283.52,655.238 1279.48,654.558 1275.44,654.218 1271.41,654.218 1267.37,654.558 1263.34,655.238 1259.3,656.258 1255.27,657.618 1254.62,657.89 1251.23,659.427 1247.2,661.624 1243.16,664.187 1240.72,665.961 1239.13,667.212 1235.09,670.781 1231.78,674.031 1231.06,674.812 1227.02,679.571 1225.05,682.102 1222.98,685.029 1219.63,690.173 1218.95,691.332 1215.18,698.244 1214.91,698.796 1211.51,706.315 1210.88,707.921 1208.48,714.386 1206.84,719.534 1205.97,722.456 1203.96,730.527 1202.81,736.282 1202.37,738.598 1201.23,746.669 1200.47,754.74 1200.09,762.811 1200.09,770.881 1200.47,778.952 1201.23,787.023 1202.37,795.094 1202.81,797.41 1203.96,803.165 1205.97,811.236 1206.84,814.158 1208.48,819.306 1210.88,825.771 1211.51,827.377 1214.91,834.895 1215.18,835.448 1218.95,842.36 1219.63,843.519 1222.98,848.663 1225.05,851.59 \"/>\n",
       "<path clip-path=\"url(#clip950)\" d=\"M625.78 198.898 L899.493 198.898 L899.493 95.2176 L625.78 95.2176  Z\" fill=\"#ffffff\" fill-rule=\"evenodd\" fill-opacity=\"1\"/>\n",
       "<polyline clip-path=\"url(#clip950)\" style=\"stroke:#000000; stroke-linecap:round; stroke-linejoin:round; stroke-width:4; stroke-opacity:1; fill:none\" points=\"625.78,198.898 899.493,198.898 899.493,95.2176 625.78,95.2176 625.78,198.898 \"/>\n",
       "<polyline clip-path=\"url(#clip950)\" style=\"stroke:#781b86; stroke-linecap:round; stroke-linejoin:round; stroke-width:4; stroke-opacity:1; fill:none\" points=\"649.765,147.058 793.676,147.058 \"/>\n",
       "<path clip-path=\"url(#clip950)\" d=\"M830.855 164.338 L817.661 129.778 L822.545 129.778 L833.494 158.875 L844.466 129.778 L849.328 129.778 L836.156 164.338 L830.855 164.338 Z\" fill=\"#000000\" fill-rule=\"nonzero\" fill-opacity=\"1\" /><path clip-path=\"url(#clip950)\" d=\"M855.601 160.402 L863.24 160.402 L863.24 134.037 L854.929 135.703 L854.929 131.444 L863.193 129.778 L867.869 129.778 L867.869 160.402 L875.508 160.402 L875.508 164.338 L855.601 164.338 L855.601 160.402 Z\" fill=\"#000000\" fill-rule=\"nonzero\" fill-opacity=\"1\" /></svg>\n"
      ]
     },
     "metadata": {},
     "execution_count": 14
    }
   ],
   "cell_type": "code",
   "source": [
    "using ImplicitPlots\n",
    "using Plots\n",
    "import ColorSchemes\n",
    "function plot_lyapunovs(Vs, J; resolution = 1000, scheme = ColorSchemes.rainbow)\n",
    "    xmax = rectangle[J[1]]\n",
    "    ymax = rectangle[J[2]]\n",
    "    rect_xs = [xmax, -xmax, -xmax, xmax, xmax]\n",
    "    rect_ys = [ymax, ymax, -ymax, -ymax, ymax]\n",
    "    p = plot(rect_xs, rect_ys, label=\"\", color=:black)\n",
    "    eliminated = x[setdiff(1:n_x, J)]\n",
    "    for i in eachindex(Vs)\n",
    "        V = subs(Vs[i], eliminated => zeros(length(eliminated)))\n",
    "        linecolor = get(scheme, (i - 1) / max(length(Vs) - 1, 1))\n",
    "        implicit_plot!(p, V; resolution, label=\"V$i\", linecolor)\n",
    "    end\n",
    "    xlim = 1.05 * xmax\n",
    "    ylim = 1.05 * ymax\n",
    "    plot!(p, xlims=(-xlim, xlim), ylims=(-ylim, ylim), aspect_ratio = xmax / ymax)\n",
    "    return p\n",
    "end\n",
    "Vs = [V0 - γ1]\n",
    "plot_lyapunovs(Vs, [1, 2])"
   ],
   "metadata": {},
   "execution_count": 14
  },
  {
   "cell_type": "markdown",
   "source": [
    "## V-step"
   ],
   "metadata": {}
  },
  {
   "cell_type": "markdown",
   "source": [
    "Let's now fix the control law that we have found and try to find a superset\n",
    "of the current controlled invariant set\n",
    "That corresponds to the V-step of [YAP21, Algorithm 1]:"
   ],
   "metadata": {}
  },
  {
   "outputs": [],
   "cell_type": "code",
   "source": [
    "_degree(d::Int) = d\n",
    "_degree(V) = maxdegree(V)\n",
    "\n",
    "function V_step(solver, V0, γ, k, s3)\n",
    "    model, V, k, s3 = base_model(solver, _degree(V0), k, s3, γ)\n",
    "    if !(V0 isa Int) # {V0 ≤ γ} ⊆ {V ≤ γ} iff V0 ≤ γ => V ≤ γ\n",
    "        @constraint(model, V <= γ, domain = @set(V0 <= γ)) # [YAP21, (E.6)]\n",
    "    end\n",
    "    optimize!(model)\n",
    "    return model, value(V)\n",
    "end\n",
    "\n",
    "model, V1 = V_step(solver, V0, γ1, κ1, s3_1)\n",
    "nothing # hide"
   ],
   "metadata": {},
   "execution_count": 15
  },
  {
   "cell_type": "markdown",
   "source": [
    "We can see that the solver found a feasible solution."
   ],
   "metadata": {}
  },
  {
   "outputs": [
    {
     "output_type": "execute_result",
     "data": {
      "text/plain": "* Solver : CSDP\n\n* Status\n  Result count       : 1\n  Termination status : OPTIMAL\n  Message from the solver:\n  \"Problem solved to optimality.\"\n\n* Candidate solution (result #1)\n  Primal status      : FEASIBLE_POINT\n  Dual status        : FEASIBLE_POINT\n  Objective value    : 0.00000e+00\n  Dual objective value : 0.00000e+00\n\n* Work counters\n  Solve time (sec)   : 4.88492e+00\n"
     },
     "metadata": {},
     "execution_count": 16
    }
   ],
   "cell_type": "code",
   "source": [
    "solution_summary(model)"
   ],
   "metadata": {},
   "execution_count": 16
  },
  {
   "cell_type": "markdown",
   "source": [
    "Let's compare it:"
   ],
   "metadata": {}
  },
  {
   "outputs": [
    {
     "output_type": "execute_result",
     "data": {
      "text/plain": "Plot{Plots.GRBackend() n=3}",
      "image/png": "[encoded data removed]",
      "text/html": [
       "<?xml version=\"1.0\" encoding=\"utf-8\"?>\n",
       "<svg xmlns=\"http://www.w3.org/2000/svg\" xmlns:xlink=\"http://www.w3.org/1999/xlink\" width=\"600\" height=\"400\" viewBox=\"0 0 2400 1600\">\n",
       "<defs>\n",
       "  <clipPath id=\"clip040\">\n",
       "    <rect x=\"0\" y=\"0\" width=\"2400\" height=\"1600\"/>\n",
       "  </clipPath>\n",
       "</defs>\n",
       "<path clip-path=\"url(#clip040)\" d=\"M0 1600 L2400 1600 L2400 0 L0 0  Z\" fill=\"#ffffff\" fill-rule=\"evenodd\" fill-opacity=\"1\"/>\n",
       "<defs>\n",
       "  <clipPath id=\"clip041\">\n",
       "    <rect x=\"480\" y=\"0\" width=\"1681\" height=\"1600\"/>\n",
       "  </clipPath>\n",
       "</defs>\n",
       "<path clip-path=\"url(#clip040)\" d=\"M553.825 1486.45 L1993.03 1486.45 L1993.03 47.2441 L553.825 47.2441  Z\" fill=\"#ffffff\" fill-rule=\"evenodd\" fill-opacity=\"1\"/>\n",
       "<defs>\n",
       "  <clipPath id=\"clip042\">\n",
       "    <rect x=\"553\" y=\"47\" width=\"1440\" height=\"1440\"/>\n",
       "  </clipPath>\n",
       "</defs>\n",
       "<polyline clip-path=\"url(#clip042)\" style=\"stroke:#000000; stroke-linecap:round; stroke-linejoin:round; stroke-width:2; stroke-opacity:0.1; fill:none\" points=\"668.719,1486.45 668.719,47.2441 \"/>\n",
       "<polyline clip-path=\"url(#clip042)\" style=\"stroke:#000000; stroke-linecap:round; stroke-linejoin:round; stroke-width:2; stroke-opacity:0.1; fill:none\" points=\"870.289,1486.45 870.289,47.2441 \"/>\n",
       "<polyline clip-path=\"url(#clip042)\" style=\"stroke:#000000; stroke-linecap:round; stroke-linejoin:round; stroke-width:2; stroke-opacity:0.1; fill:none\" points=\"1071.86,1486.45 1071.86,47.2441 \"/>\n",
       "<polyline clip-path=\"url(#clip042)\" style=\"stroke:#000000; stroke-linecap:round; stroke-linejoin:round; stroke-width:2; stroke-opacity:0.1; fill:none\" points=\"1273.43,1486.45 1273.43,47.2441 \"/>\n",
       "<polyline clip-path=\"url(#clip042)\" style=\"stroke:#000000; stroke-linecap:round; stroke-linejoin:round; stroke-width:2; stroke-opacity:0.1; fill:none\" points=\"1475,1486.45 1475,47.2441 \"/>\n",
       "<polyline clip-path=\"url(#clip042)\" style=\"stroke:#000000; stroke-linecap:round; stroke-linejoin:round; stroke-width:2; stroke-opacity:0.1; fill:none\" points=\"1676.57,1486.45 1676.57,47.2441 \"/>\n",
       "<polyline clip-path=\"url(#clip042)\" style=\"stroke:#000000; stroke-linecap:round; stroke-linejoin:round; stroke-width:2; stroke-opacity:0.1; fill:none\" points=\"1878.13,1486.45 1878.13,47.2441 \"/>\n",
       "<polyline clip-path=\"url(#clip040)\" style=\"stroke:#000000; stroke-linecap:round; stroke-linejoin:round; stroke-width:4; stroke-opacity:1; fill:none\" points=\"553.825,1486.45 1993.03,1486.45 \"/>\n",
       "<polyline clip-path=\"url(#clip040)\" style=\"stroke:#000000; stroke-linecap:round; stroke-linejoin:round; stroke-width:4; stroke-opacity:1; fill:none\" points=\"668.719,1486.45 668.719,1467.55 \"/>\n",
       "<polyline clip-path=\"url(#clip040)\" style=\"stroke:#000000; stroke-linecap:round; stroke-linejoin:round; stroke-width:4; stroke-opacity:1; fill:none\" points=\"870.289,1486.45 870.289,1467.55 \"/>\n",
       "<polyline clip-path=\"url(#clip040)\" style=\"stroke:#000000; stroke-linecap:round; stroke-linejoin:round; stroke-width:4; stroke-opacity:1; fill:none\" points=\"1071.86,1486.45 1071.86,1467.55 \"/>\n",
       "<polyline clip-path=\"url(#clip040)\" style=\"stroke:#000000; stroke-linecap:round; stroke-linejoin:round; stroke-width:4; stroke-opacity:1; fill:none\" points=\"1273.43,1486.45 1273.43,1467.55 \"/>\n",
       "<polyline clip-path=\"url(#clip040)\" style=\"stroke:#000000; stroke-linecap:round; stroke-linejoin:round; stroke-width:4; stroke-opacity:1; fill:none\" points=\"1475,1486.45 1475,1467.55 \"/>\n",
       "<polyline clip-path=\"url(#clip040)\" style=\"stroke:#000000; stroke-linecap:round; stroke-linejoin:round; stroke-width:4; stroke-opacity:1; fill:none\" points=\"1676.57,1486.45 1676.57,1467.55 \"/>\n",
       "<polyline clip-path=\"url(#clip040)\" style=\"stroke:#000000; stroke-linecap:round; stroke-linejoin:round; stroke-width:4; stroke-opacity:1; fill:none\" points=\"1878.13,1486.45 1878.13,1467.55 \"/>\n",
       "<path clip-path=\"url(#clip040)\" d=\"M615.745 1532.02 L645.421 1532.02 L645.421 1535.95 L615.745 1535.95 L615.745 1532.02 Z\" fill=\"#000000\" fill-rule=\"nonzero\" fill-opacity=\"1\" /><path clip-path=\"url(#clip040)\" d=\"M656.324 1544.91 L663.963 1544.91 L663.963 1518.55 L655.652 1520.21 L655.652 1515.95 L663.916 1514.29 L668.592 1514.29 L668.592 1544.91 L676.231 1544.91 L676.231 1548.85 L656.324 1548.85 L656.324 1544.91 Z\" fill=\"#000000\" fill-rule=\"nonzero\" fill-opacity=\"1\" /><path clip-path=\"url(#clip040)\" d=\"M685.675 1542.97 L690.56 1542.97 L690.56 1548.85 L685.675 1548.85 L685.675 1542.97 Z\" fill=\"#000000\" fill-rule=\"nonzero\" fill-opacity=\"1\" /><path clip-path=\"url(#clip040)\" d=\"M700.791 1514.29 L719.147 1514.29 L719.147 1518.22 L705.073 1518.22 L705.073 1526.7 Q706.092 1526.35 707.11 1526.19 Q708.129 1526 709.148 1526 Q714.935 1526 718.314 1529.17 Q721.694 1532.34 721.694 1537.76 Q721.694 1543.34 718.222 1546.44 Q714.749 1549.52 708.43 1549.52 Q706.254 1549.52 703.986 1549.15 Q701.74 1548.78 699.333 1548.04 L699.333 1543.34 Q701.416 1544.47 703.638 1545.03 Q705.861 1545.58 708.337 1545.58 Q712.342 1545.58 714.68 1543.48 Q717.018 1541.37 717.018 1537.76 Q717.018 1534.15 714.68 1532.04 Q712.342 1529.94 708.337 1529.94 Q706.462 1529.94 704.587 1530.35 Q702.736 1530.77 700.791 1531.65 L700.791 1514.29 Z\" fill=\"#000000\" fill-rule=\"nonzero\" fill-opacity=\"1\" /><path clip-path=\"url(#clip040)\" d=\"M816.817 1532.02 L846.492 1532.02 L846.492 1535.95 L816.817 1535.95 L816.817 1532.02 Z\" fill=\"#000000\" fill-rule=\"nonzero\" fill-opacity=\"1\" /><path clip-path=\"url(#clip040)\" d=\"M857.395 1544.91 L865.034 1544.91 L865.034 1518.55 L856.724 1520.21 L856.724 1515.95 L864.988 1514.29 L869.664 1514.29 L869.664 1544.91 L877.303 1544.91 L877.303 1548.85 L857.395 1548.85 L857.395 1544.91 Z\" fill=\"#000000\" fill-rule=\"nonzero\" fill-opacity=\"1\" /><path clip-path=\"url(#clip040)\" d=\"M886.747 1542.97 L891.631 1542.97 L891.631 1548.85 L886.747 1548.85 L886.747 1542.97 Z\" fill=\"#000000\" fill-rule=\"nonzero\" fill-opacity=\"1\" /><path clip-path=\"url(#clip040)\" d=\"M911.816 1517.37 Q908.205 1517.37 906.376 1520.93 Q904.571 1524.47 904.571 1531.6 Q904.571 1538.71 906.376 1542.27 Q908.205 1545.82 911.816 1545.82 Q915.45 1545.82 917.256 1542.27 Q919.085 1538.71 919.085 1531.6 Q919.085 1524.47 917.256 1520.93 Q915.45 1517.37 911.816 1517.37 M911.816 1513.66 Q917.626 1513.66 920.682 1518.27 Q923.761 1522.85 923.761 1531.6 Q923.761 1540.33 920.682 1544.94 Q917.626 1549.52 911.816 1549.52 Q906.006 1549.52 902.927 1544.94 Q899.872 1540.33 899.872 1531.6 Q899.872 1522.85 902.927 1518.27 Q906.006 1513.66 911.816 1513.66 Z\" fill=\"#000000\" fill-rule=\"nonzero\" fill-opacity=\"1\" /><path clip-path=\"url(#clip040)\" d=\"M1018.88 1532.02 L1048.56 1532.02 L1048.56 1535.95 L1018.88 1535.95 L1018.88 1532.02 Z\" fill=\"#000000\" fill-rule=\"nonzero\" fill-opacity=\"1\" /><path clip-path=\"url(#clip040)\" d=\"M1068.65 1517.37 Q1065.04 1517.37 1063.21 1520.93 Q1061.41 1524.47 1061.41 1531.6 Q1061.41 1538.71 1063.21 1542.27 Q1065.04 1545.82 1068.65 1545.82 Q1072.29 1545.82 1074.09 1542.27 Q1075.92 1538.71 1075.92 1531.6 Q1075.92 1524.47 1074.09 1520.93 Q1072.29 1517.37 1068.65 1517.37 M1068.65 1513.66 Q1074.46 1513.66 1077.52 1518.27 Q1080.6 1522.85 1080.6 1531.6 Q1080.6 1540.33 1077.52 1544.94 Q1074.46 1549.52 1068.65 1549.52 Q1062.84 1549.52 1059.76 1544.94 Q1056.71 1540.33 1056.71 1531.6 Q1056.71 1522.85 1059.76 1518.27 Q1062.84 1513.66 1068.65 1513.66 Z\" fill=\"#000000\" fill-rule=\"nonzero\" fill-opacity=\"1\" /><path clip-path=\"url(#clip040)\" d=\"M1088.81 1542.97 L1093.7 1542.97 L1093.7 1548.85 L1088.81 1548.85 L1088.81 1542.97 Z\" fill=\"#000000\" fill-rule=\"nonzero\" fill-opacity=\"1\" /><path clip-path=\"url(#clip040)\" d=\"M1103.93 1514.29 L1122.29 1514.29 L1122.29 1518.22 L1108.21 1518.22 L1108.21 1526.7 Q1109.23 1526.35 1110.25 1526.19 Q1111.27 1526 1112.29 1526 Q1118.07 1526 1121.45 1529.17 Q1124.83 1532.34 1124.83 1537.76 Q1124.83 1543.34 1121.36 1546.44 Q1117.89 1549.52 1111.57 1549.52 Q1109.39 1549.52 1107.12 1549.15 Q1104.88 1548.78 1102.47 1548.04 L1102.47 1543.34 Q1104.55 1544.47 1106.78 1545.03 Q1109 1545.58 1111.48 1545.58 Q1115.48 1545.58 1117.82 1543.48 Q1120.16 1541.37 1120.16 1537.76 Q1120.16 1534.15 1117.82 1532.04 Q1115.48 1529.94 1111.48 1529.94 Q1109.6 1529.94 1107.73 1530.35 Q1105.87 1530.77 1103.93 1531.65 L1103.93 1514.29 Z\" fill=\"#000000\" fill-rule=\"nonzero\" fill-opacity=\"1\" /><path clip-path=\"url(#clip040)\" d=\"M1250.81 1517.37 Q1247.2 1517.37 1245.37 1520.93 Q1243.57 1524.47 1243.57 1531.6 Q1243.57 1538.71 1245.37 1542.27 Q1247.2 1545.82 1250.81 1545.82 Q1254.45 1545.82 1256.25 1542.27 Q1258.08 1538.71 1258.08 1531.6 Q1258.08 1524.47 1256.25 1520.93 Q1254.45 1517.37 1250.81 1517.37 M1250.81 1513.66 Q1256.62 1513.66 1259.68 1518.27 Q1262.76 1522.85 1262.76 1531.6 Q1262.76 1540.33 1259.68 1544.94 Q1256.62 1549.52 1250.81 1549.52 Q1245 1549.52 1241.92 1544.94 Q1238.87 1540.33 1238.87 1531.6 Q1238.87 1522.85 1241.92 1518.27 Q1245 1513.66 1250.81 1513.66 Z\" fill=\"#000000\" fill-rule=\"nonzero\" fill-opacity=\"1\" /><path clip-path=\"url(#clip040)\" d=\"M1270.97 1542.97 L1275.86 1542.97 L1275.86 1548.85 L1270.97 1548.85 L1270.97 1542.97 Z\" fill=\"#000000\" fill-rule=\"nonzero\" fill-opacity=\"1\" /><path clip-path=\"url(#clip040)\" d=\"M1296.04 1517.37 Q1292.43 1517.37 1290.6 1520.93 Q1288.8 1524.47 1288.8 1531.6 Q1288.8 1538.71 1290.6 1542.27 Q1292.43 1545.82 1296.04 1545.82 Q1299.68 1545.82 1301.48 1542.27 Q1303.31 1538.71 1303.31 1531.6 Q1303.31 1524.47 1301.48 1520.93 Q1299.68 1517.37 1296.04 1517.37 M1296.04 1513.66 Q1301.85 1513.66 1304.91 1518.27 Q1307.99 1522.85 1307.99 1531.6 Q1307.99 1540.33 1304.91 1544.94 Q1301.85 1549.52 1296.04 1549.52 Q1290.23 1549.52 1287.15 1544.94 Q1284.1 1540.33 1284.1 1531.6 Q1284.1 1522.85 1287.15 1518.27 Q1290.23 1513.66 1296.04 1513.66 Z\" fill=\"#000000\" fill-rule=\"nonzero\" fill-opacity=\"1\" /><path clip-path=\"url(#clip040)\" d=\"M1452.88 1517.37 Q1449.27 1517.37 1447.44 1520.93 Q1445.63 1524.47 1445.63 1531.6 Q1445.63 1538.71 1447.44 1542.27 Q1449.27 1545.82 1452.88 1545.82 Q1456.51 1545.82 1458.32 1542.27 Q1460.15 1538.71 1460.15 1531.6 Q1460.15 1524.47 1458.32 1520.93 Q1456.51 1517.37 1452.88 1517.37 M1452.88 1513.66 Q1458.69 1513.66 1461.74 1518.27 Q1464.82 1522.85 1464.82 1531.6 Q1464.82 1540.33 1461.74 1544.94 Q1458.69 1549.52 1452.88 1549.52 Q1447.07 1549.52 1443.99 1544.94 Q1440.93 1540.33 1440.93 1531.6 Q1440.93 1522.85 1443.99 1518.27 Q1447.07 1513.66 1452.88 1513.66 Z\" fill=\"#000000\" fill-rule=\"nonzero\" fill-opacity=\"1\" /><path clip-path=\"url(#clip040)\" d=\"M1473.04 1542.97 L1477.92 1542.97 L1477.92 1548.85 L1473.04 1548.85 L1473.04 1542.97 Z\" fill=\"#000000\" fill-rule=\"nonzero\" fill-opacity=\"1\" /><path clip-path=\"url(#clip040)\" d=\"M1488.16 1514.29 L1506.51 1514.29 L1506.51 1518.22 L1492.44 1518.22 L1492.44 1526.7 Q1493.46 1526.35 1494.48 1526.19 Q1495.49 1526 1496.51 1526 Q1502.3 1526 1505.68 1529.17 Q1509.06 1532.34 1509.06 1537.76 Q1509.06 1543.34 1505.59 1546.44 Q1502.11 1549.52 1495.79 1549.52 Q1493.62 1549.52 1491.35 1549.15 Q1489.1 1548.78 1486.7 1548.04 L1486.7 1543.34 Q1488.78 1544.47 1491 1545.03 Q1493.23 1545.58 1495.7 1545.58 Q1499.71 1545.58 1502.04 1543.48 Q1504.38 1541.37 1504.38 1537.76 Q1504.38 1534.15 1502.04 1532.04 Q1499.71 1529.94 1495.7 1529.94 Q1493.83 1529.94 1491.95 1530.35 Q1490.1 1530.77 1488.16 1531.65 L1488.16 1514.29 Z\" fill=\"#000000\" fill-rule=\"nonzero\" fill-opacity=\"1\" /><path clip-path=\"url(#clip040)\" d=\"M1643.72 1544.91 L1651.36 1544.91 L1651.36 1518.55 L1643.05 1520.21 L1643.05 1515.95 L1651.31 1514.29 L1655.99 1514.29 L1655.99 1544.91 L1663.63 1544.91 L1663.63 1548.85 L1643.72 1548.85 L1643.72 1544.91 Z\" fill=\"#000000\" fill-rule=\"nonzero\" fill-opacity=\"1\" /><path clip-path=\"url(#clip040)\" d=\"M1673.07 1542.97 L1677.95 1542.97 L1677.95 1548.85 L1673.07 1548.85 L1673.07 1542.97 Z\" fill=\"#000000\" fill-rule=\"nonzero\" fill-opacity=\"1\" /><path clip-path=\"url(#clip040)\" d=\"M1698.14 1517.37 Q1694.53 1517.37 1692.7 1520.93 Q1690.89 1524.47 1690.89 1531.6 Q1690.89 1538.71 1692.7 1542.27 Q1694.53 1545.82 1698.14 1545.82 Q1701.77 1545.82 1703.58 1542.27 Q1705.41 1538.71 1705.41 1531.6 Q1705.41 1524.47 1703.58 1520.93 Q1701.77 1517.37 1698.14 1517.37 M1698.14 1513.66 Q1703.95 1513.66 1707 1518.27 Q1710.08 1522.85 1710.08 1531.6 Q1710.08 1540.33 1707 1544.94 Q1703.95 1549.52 1698.14 1549.52 Q1692.33 1549.52 1689.25 1544.94 Q1686.19 1540.33 1686.19 1531.6 Q1686.19 1522.85 1689.25 1518.27 Q1692.33 1513.66 1698.14 1513.66 Z\" fill=\"#000000\" fill-rule=\"nonzero\" fill-opacity=\"1\" /><path clip-path=\"url(#clip040)\" d=\"M1845.79 1544.91 L1853.42 1544.91 L1853.42 1518.55 L1845.11 1520.21 L1845.11 1515.95 L1853.38 1514.29 L1858.05 1514.29 L1858.05 1544.91 L1865.69 1544.91 L1865.69 1548.85 L1845.79 1548.85 L1845.79 1544.91 Z\" fill=\"#000000\" fill-rule=\"nonzero\" fill-opacity=\"1\" /><path clip-path=\"url(#clip040)\" d=\"M1875.14 1542.97 L1880.02 1542.97 L1880.02 1548.85 L1875.14 1548.85 L1875.14 1542.97 Z\" fill=\"#000000\" fill-rule=\"nonzero\" fill-opacity=\"1\" /><path clip-path=\"url(#clip040)\" d=\"M1890.25 1514.29 L1908.61 1514.29 L1908.61 1518.22 L1894.53 1518.22 L1894.53 1526.7 Q1895.55 1526.35 1896.57 1526.19 Q1897.59 1526 1898.61 1526 Q1904.4 1526 1907.78 1529.17 Q1911.16 1532.34 1911.16 1537.76 Q1911.16 1543.34 1907.68 1546.44 Q1904.21 1549.52 1897.89 1549.52 Q1895.72 1549.52 1893.45 1549.15 Q1891.2 1548.78 1888.79 1548.04 L1888.79 1543.34 Q1890.88 1544.47 1893.1 1545.03 Q1895.32 1545.58 1897.8 1545.58 Q1901.8 1545.58 1904.14 1543.48 Q1906.48 1541.37 1906.48 1537.76 Q1906.48 1534.15 1904.14 1532.04 Q1901.8 1529.94 1897.8 1529.94 Q1895.92 1529.94 1894.05 1530.35 Q1892.2 1530.77 1890.25 1531.65 L1890.25 1514.29 Z\" fill=\"#000000\" fill-rule=\"nonzero\" fill-opacity=\"1\" /><polyline clip-path=\"url(#clip042)\" style=\"stroke:#000000; stroke-linecap:round; stroke-linejoin:round; stroke-width:2; stroke-opacity:0.1; fill:none\" points=\"553.825,1250.61 1993.03,1250.61 \"/>\n",
       "<polyline clip-path=\"url(#clip042)\" style=\"stroke:#000000; stroke-linecap:round; stroke-linejoin:round; stroke-width:2; stroke-opacity:0.1; fill:none\" points=\"553.825,1008.73 1993.03,1008.73 \"/>\n",
       "<polyline clip-path=\"url(#clip042)\" style=\"stroke:#000000; stroke-linecap:round; stroke-linejoin:round; stroke-width:2; stroke-opacity:0.1; fill:none\" points=\"553.825,766.846 1993.03,766.846 \"/>\n",
       "<polyline clip-path=\"url(#clip042)\" style=\"stroke:#000000; stroke-linecap:round; stroke-linejoin:round; stroke-width:2; stroke-opacity:0.1; fill:none\" points=\"553.825,524.963 1993.03,524.963 \"/>\n",
       "<polyline clip-path=\"url(#clip042)\" style=\"stroke:#000000; stroke-linecap:round; stroke-linejoin:round; stroke-width:2; stroke-opacity:0.1; fill:none\" points=\"553.825,283.08 1993.03,283.08 \"/>\n",
       "<polyline clip-path=\"url(#clip040)\" style=\"stroke:#000000; stroke-linecap:round; stroke-linejoin:round; stroke-width:4; stroke-opacity:1; fill:none\" points=\"553.825,1486.45 553.825,47.2441 \"/>\n",
       "<polyline clip-path=\"url(#clip040)\" style=\"stroke:#000000; stroke-linecap:round; stroke-linejoin:round; stroke-width:4; stroke-opacity:1; fill:none\" points=\"553.825,1250.61 566.424,1250.61 \"/>\n",
       "<polyline clip-path=\"url(#clip040)\" style=\"stroke:#000000; stroke-linecap:round; stroke-linejoin:round; stroke-width:4; stroke-opacity:1; fill:none\" points=\"553.825,1008.73 566.424,1008.73 \"/>\n",
       "<polyline clip-path=\"url(#clip040)\" style=\"stroke:#000000; stroke-linecap:round; stroke-linejoin:round; stroke-width:4; stroke-opacity:1; fill:none\" points=\"553.825,766.846 566.424,766.846 \"/>\n",
       "<polyline clip-path=\"url(#clip040)\" style=\"stroke:#000000; stroke-linecap:round; stroke-linejoin:round; stroke-width:4; stroke-opacity:1; fill:none\" points=\"553.825,524.963 566.424,524.963 \"/>\n",
       "<polyline clip-path=\"url(#clip040)\" style=\"stroke:#000000; stroke-linecap:round; stroke-linejoin:round; stroke-width:4; stroke-opacity:1; fill:none\" points=\"553.825,283.08 566.424,283.08 \"/>\n",
       "<path clip-path=\"url(#clip040)\" d=\"M410.719 1251.06 L440.395 1251.06 L440.395 1255 L410.719 1255 L410.719 1251.06 Z\" fill=\"#000000\" fill-rule=\"nonzero\" fill-opacity=\"1\" /><path clip-path=\"url(#clip040)\" d=\"M460.487 1236.41 Q456.876 1236.41 455.048 1239.98 Q453.242 1243.52 453.242 1250.65 Q453.242 1257.75 455.048 1261.32 Q456.876 1264.86 460.487 1264.86 Q464.122 1264.86 465.927 1261.32 Q467.756 1257.75 467.756 1250.65 Q467.756 1243.52 465.927 1239.98 Q464.122 1236.41 460.487 1236.41 M460.487 1232.71 Q466.298 1232.71 469.353 1237.31 Q472.432 1241.9 472.432 1250.65 Q472.432 1259.37 469.353 1263.98 Q466.298 1268.56 460.487 1268.56 Q454.677 1268.56 451.599 1263.98 Q448.543 1259.37 448.543 1250.65 Q448.543 1241.9 451.599 1237.31 Q454.677 1232.71 460.487 1232.71 Z\" fill=\"#000000\" fill-rule=\"nonzero\" fill-opacity=\"1\" /><path clip-path=\"url(#clip040)\" d=\"M480.649 1262.01 L485.534 1262.01 L485.534 1267.89 L480.649 1267.89 L480.649 1262.01 Z\" fill=\"#000000\" fill-rule=\"nonzero\" fill-opacity=\"1\" /><path clip-path=\"url(#clip040)\" d=\"M506.297 1248.75 Q503.149 1248.75 501.297 1250.9 Q499.469 1253.05 499.469 1256.8 Q499.469 1260.53 501.297 1262.71 Q503.149 1264.86 506.297 1264.86 Q509.445 1264.86 511.274 1262.71 Q513.126 1260.53 513.126 1256.8 Q513.126 1253.05 511.274 1250.9 Q509.445 1248.75 506.297 1248.75 M515.58 1234.1 L515.58 1238.36 Q513.82 1237.52 512.015 1237.08 Q510.233 1236.64 508.473 1236.64 Q503.844 1236.64 501.39 1239.77 Q498.959 1242.89 498.612 1249.21 Q499.978 1247.2 502.038 1246.13 Q504.098 1245.04 506.575 1245.04 Q511.783 1245.04 514.793 1248.22 Q517.825 1251.36 517.825 1256.8 Q517.825 1262.13 514.677 1265.35 Q511.529 1268.56 506.297 1268.56 Q500.302 1268.56 497.131 1263.98 Q493.959 1259.37 493.959 1250.65 Q493.959 1242.45 497.848 1237.59 Q501.737 1232.71 508.288 1232.71 Q510.047 1232.71 511.83 1233.05 Q513.635 1233.4 515.58 1234.1 Z\" fill=\"#000000\" fill-rule=\"nonzero\" fill-opacity=\"1\" /><path clip-path=\"url(#clip040)\" d=\"M411.529 1009.18 L441.205 1009.18 L441.205 1013.12 L411.529 1013.12 L411.529 1009.18 Z\" fill=\"#000000\" fill-rule=\"nonzero\" fill-opacity=\"1\" /><path clip-path=\"url(#clip040)\" d=\"M461.298 994.528 Q457.687 994.528 455.858 998.092 Q454.052 1001.63 454.052 1008.76 Q454.052 1015.87 455.858 1019.43 Q457.687 1022.98 461.298 1022.98 Q464.932 1022.98 466.737 1019.43 Q468.566 1015.87 468.566 1008.76 Q468.566 1001.63 466.737 998.092 Q464.932 994.528 461.298 994.528 M461.298 990.824 Q467.108 990.824 470.163 995.43 Q473.242 1000.01 473.242 1008.76 Q473.242 1017.49 470.163 1022.1 Q467.108 1026.68 461.298 1026.68 Q455.487 1026.68 452.409 1022.1 Q449.353 1017.49 449.353 1008.76 Q449.353 1000.01 452.409 995.43 Q455.487 990.824 461.298 990.824 Z\" fill=\"#000000\" fill-rule=\"nonzero\" fill-opacity=\"1\" /><path clip-path=\"url(#clip040)\" d=\"M481.46 1020.13 L486.344 1020.13 L486.344 1026.01 L481.46 1026.01 L481.46 1020.13 Z\" fill=\"#000000\" fill-rule=\"nonzero\" fill-opacity=\"1\" /><path clip-path=\"url(#clip040)\" d=\"M510.695 1007.37 Q514.052 1008.09 515.927 1010.36 Q517.825 1012.63 517.825 1015.96 Q517.825 1021.08 514.307 1023.88 Q510.788 1026.68 504.307 1026.68 Q502.131 1026.68 499.816 1026.24 Q497.524 1025.82 495.071 1024.97 L495.071 1020.45 Q497.015 1021.59 499.33 1022.17 Q501.645 1022.75 504.168 1022.75 Q508.566 1022.75 510.858 1021.01 Q513.172 1019.27 513.172 1015.96 Q513.172 1012.91 511.02 1011.19 Q508.89 1009.46 505.071 1009.46 L501.043 1009.46 L501.043 1005.62 L505.256 1005.62 Q508.705 1005.62 510.533 1004.25 Q512.362 1002.86 512.362 1000.27 Q512.362 997.606 510.464 996.194 Q508.589 994.759 505.071 994.759 Q503.149 994.759 500.95 995.176 Q498.751 995.592 496.112 996.472 L496.112 992.305 Q498.774 991.565 501.089 991.194 Q503.427 990.824 505.487 990.824 Q510.811 990.824 513.913 993.255 Q517.015 995.662 517.015 999.782 Q517.015 1002.65 515.371 1004.64 Q513.728 1006.61 510.695 1007.37 Z\" fill=\"#000000\" fill-rule=\"nonzero\" fill-opacity=\"1\" /><path clip-path=\"url(#clip040)\" d=\"M460.649 752.645 Q457.038 752.645 455.21 756.209 Q453.404 759.751 453.404 766.881 Q453.404 773.987 455.21 777.552 Q457.038 781.094 460.649 781.094 Q464.284 781.094 466.089 777.552 Q467.918 773.987 467.918 766.881 Q467.918 759.751 466.089 756.209 Q464.284 752.645 460.649 752.645 M460.649 748.941 Q466.46 748.941 469.515 753.547 Q472.594 758.131 472.594 766.881 Q472.594 775.608 469.515 780.214 Q466.46 784.797 460.649 784.797 Q454.839 784.797 451.761 780.214 Q448.705 775.608 448.705 766.881 Q448.705 758.131 451.761 753.547 Q454.839 748.941 460.649 748.941 Z\" fill=\"#000000\" fill-rule=\"nonzero\" fill-opacity=\"1\" /><path clip-path=\"url(#clip040)\" d=\"M480.811 778.246 L485.696 778.246 L485.696 784.126 L480.811 784.126 L480.811 778.246 Z\" fill=\"#000000\" fill-rule=\"nonzero\" fill-opacity=\"1\" /><path clip-path=\"url(#clip040)\" d=\"M505.881 752.645 Q502.27 752.645 500.441 756.209 Q498.635 759.751 498.635 766.881 Q498.635 773.987 500.441 777.552 Q502.27 781.094 505.881 781.094 Q509.515 781.094 511.32 777.552 Q513.149 773.987 513.149 766.881 Q513.149 759.751 511.32 756.209 Q509.515 752.645 505.881 752.645 M505.881 748.941 Q511.691 748.941 514.746 753.547 Q517.825 758.131 517.825 766.881 Q517.825 775.608 514.746 780.214 Q511.691 784.797 505.881 784.797 Q500.071 784.797 496.992 780.214 Q493.936 775.608 493.936 766.881 Q493.936 758.131 496.992 753.547 Q500.071 748.941 505.881 748.941 Z\" fill=\"#000000\" fill-rule=\"nonzero\" fill-opacity=\"1\" /><path clip-path=\"url(#clip040)\" d=\"M461.298 510.762 Q457.687 510.762 455.858 514.326 Q454.052 517.868 454.052 524.998 Q454.052 532.104 455.858 535.669 Q457.687 539.211 461.298 539.211 Q464.932 539.211 466.737 535.669 Q468.566 532.104 468.566 524.998 Q468.566 517.868 466.737 514.326 Q464.932 510.762 461.298 510.762 M461.298 507.058 Q467.108 507.058 470.163 511.664 Q473.242 516.248 473.242 524.998 Q473.242 533.725 470.163 538.331 Q467.108 542.914 461.298 542.914 Q455.487 542.914 452.409 538.331 Q449.353 533.725 449.353 524.998 Q449.353 516.248 452.409 511.664 Q455.487 507.058 461.298 507.058 Z\" fill=\"#000000\" fill-rule=\"nonzero\" fill-opacity=\"1\" /><path clip-path=\"url(#clip040)\" d=\"M481.46 536.363 L486.344 536.363 L486.344 542.243 L481.46 542.243 L481.46 536.363 Z\" fill=\"#000000\" fill-rule=\"nonzero\" fill-opacity=\"1\" /><path clip-path=\"url(#clip040)\" d=\"M510.695 523.609 Q514.052 524.326 515.927 526.595 Q517.825 528.863 517.825 532.197 Q517.825 537.312 514.307 540.113 Q510.788 542.914 504.307 542.914 Q502.131 542.914 499.816 542.474 Q497.524 542.058 495.071 541.201 L495.071 536.687 Q497.015 537.822 499.33 538.4 Q501.645 538.979 504.168 538.979 Q508.566 538.979 510.858 537.243 Q513.172 535.507 513.172 532.197 Q513.172 529.141 511.02 527.428 Q508.89 525.692 505.071 525.692 L501.043 525.692 L501.043 521.85 L505.256 521.85 Q508.705 521.85 510.533 520.484 Q512.362 519.095 512.362 516.502 Q512.362 513.84 510.464 512.428 Q508.589 510.993 505.071 510.993 Q503.149 510.993 500.95 511.41 Q498.751 511.826 496.112 512.706 L496.112 508.539 Q498.774 507.799 501.089 507.428 Q503.427 507.058 505.487 507.058 Q510.811 507.058 513.913 509.489 Q517.015 511.896 517.015 516.016 Q517.015 518.887 515.371 520.877 Q513.728 522.845 510.695 523.609 Z\" fill=\"#000000\" fill-rule=\"nonzero\" fill-opacity=\"1\" /><path clip-path=\"url(#clip040)\" d=\"M460.487 268.879 Q456.876 268.879 455.048 272.443 Q453.242 275.985 453.242 283.115 Q453.242 290.221 455.048 293.786 Q456.876 297.328 460.487 297.328 Q464.122 297.328 465.927 293.786 Q467.756 290.221 467.756 283.115 Q467.756 275.985 465.927 272.443 Q464.122 268.879 460.487 268.879 M460.487 265.175 Q466.298 265.175 469.353 269.781 Q472.432 274.365 472.432 283.115 Q472.432 291.842 469.353 296.448 Q466.298 301.031 460.487 301.031 Q454.677 301.031 451.599 296.448 Q448.543 291.842 448.543 283.115 Q448.543 274.365 451.599 269.781 Q454.677 265.175 460.487 265.175 Z\" fill=\"#000000\" fill-rule=\"nonzero\" fill-opacity=\"1\" /><path clip-path=\"url(#clip040)\" d=\"M480.649 294.48 L485.534 294.48 L485.534 300.36 L480.649 300.36 L480.649 294.48 Z\" fill=\"#000000\" fill-rule=\"nonzero\" fill-opacity=\"1\" /><path clip-path=\"url(#clip040)\" d=\"M506.297 281.217 Q503.149 281.217 501.297 283.369 Q499.469 285.522 499.469 289.272 Q499.469 292.999 501.297 295.175 Q503.149 297.328 506.297 297.328 Q509.445 297.328 511.274 295.175 Q513.126 292.999 513.126 289.272 Q513.126 285.522 511.274 283.369 Q509.445 281.217 506.297 281.217 M515.58 266.564 L515.58 270.823 Q513.82 269.99 512.015 269.55 Q510.233 269.11 508.473 269.11 Q503.844 269.11 501.39 272.235 Q498.959 275.36 498.612 281.68 Q499.978 279.666 502.038 278.601 Q504.098 277.513 506.575 277.513 Q511.783 277.513 514.793 280.684 Q517.825 283.832 517.825 289.272 Q517.825 294.596 514.677 297.814 Q511.529 301.031 506.297 301.031 Q500.302 301.031 497.131 296.448 Q493.959 291.842 493.959 283.115 Q493.959 274.92 497.848 270.059 Q501.737 265.175 508.288 265.175 Q510.047 265.175 511.83 265.522 Q513.635 265.869 515.58 266.564 Z\" fill=\"#000000\" fill-rule=\"nonzero\" fill-opacity=\"1\" /><polyline clip-path=\"url(#clip042)\" style=\"stroke:#000000; stroke-linecap:round; stroke-linejoin:round; stroke-width:4; stroke-opacity:1; fill:none\" points=\"1958.76,81.5109 588.092,81.5109 588.092,1452.18 1958.76,1452.18 1958.76,81.5109 \"/>\n",
       "<polyline clip-path=\"url(#clip042)\" style=\"stroke:#781b86; stroke-linecap:round; stroke-linejoin:round; stroke-width:4; stroke-opacity:1; fill:none\" points=\"1225.05,851.59 1227.02,854.121 1231.06,858.88 1231.78,859.661 1235.09,862.911 1239.13,866.48 1240.72,867.731 1243.16,869.505 1247.2,872.068 1251.23,874.265 1254.62,875.802 1255.27,876.074 1259.3,877.434 1263.34,878.454 1267.37,879.134 1271.41,879.474 1275.44,879.474 1279.48,879.134 1283.52,878.454 1287.55,877.434 1291.59,876.074 1292.23,875.802 1295.62,874.265 1299.66,872.068 1303.69,869.505 1306.14,867.731 1307.73,866.48 1311.76,862.911 1315.07,859.661 1315.8,858.88 1319.83,854.121 1321.8,851.59 1323.87,848.663 1327.22,843.519 1327.91,842.36 1331.67,835.448 1331.94,834.895 1335.34,827.377 1335.98,825.771 1338.37,819.306 1340.01,814.158 1340.89,811.236 1342.9,803.165 1344.05,797.41 1344.48,795.094 1345.62,787.023 1346.38,778.952 1346.76,770.881 1346.76,762.811 1346.38,754.74 1345.62,746.669 1344.48,738.598 1344.05,736.282 1342.9,730.527 1340.89,722.456 1340.01,719.534 1338.37,714.386 1335.98,707.921 1335.34,706.315 1331.94,698.796 1331.67,698.244 1327.91,691.332 1327.22,690.173 1323.87,685.029 1321.8,682.102 1319.83,679.571 1315.8,674.812 1315.07,674.031 1311.76,670.781 1307.73,667.212 1306.14,665.961 1303.69,664.187 1299.66,661.624 1295.62,659.427 1292.23,657.89 1291.59,657.618 1287.55,656.258 1283.52,655.238 1279.48,654.558 1275.44,654.218 1271.41,654.218 1267.37,654.558 1263.34,655.238 1259.3,656.258 1255.27,657.618 1254.62,657.89 1251.23,659.427 1247.2,661.624 1243.16,664.187 1240.72,665.961 1239.13,667.212 1235.09,670.781 1231.78,674.031 1231.06,674.812 1227.02,679.571 1225.05,682.102 1222.98,685.029 1219.63,690.173 1218.95,691.332 1215.18,698.244 1214.91,698.796 1211.51,706.315 1210.88,707.921 1208.48,714.386 1206.84,719.534 1205.97,722.456 1203.96,730.527 1202.81,736.282 1202.37,738.598 1201.23,746.669 1200.47,754.74 1200.09,762.811 1200.09,770.881 1200.47,778.952 1201.23,787.023 1202.37,795.094 1202.81,797.41 1203.96,803.165 1205.97,811.236 1206.84,814.158 1208.48,819.306 1210.88,825.771 1211.51,827.377 1214.91,834.895 1215.18,835.448 1218.95,842.36 1219.63,843.519 1222.98,848.663 1225.05,851.59 \"/>\n",
       "<polyline clip-path=\"url(#clip042)\" style=\"stroke:#da2121; stroke-linecap:round; stroke-linejoin:round; stroke-width:4; stroke-opacity:1; fill:none\" points=\"1343.51,827.377 1341.49,835.448 1340.01,840.697 1339.17,843.519 1336.49,851.59 1335.98,852.985 1333.37,859.661 1331.94,863.031 1329.8,867.731 1327.91,871.568 1325.65,875.802 1323.87,878.919 1320.8,883.873 1319.83,885.322 1315.8,890.889 1314.96,891.944 1311.76,895.7 1307.73,899.97 1307.68,900.015 1303.69,903.545 1299.66,906.671 1297.53,908.086 1295.62,909.28 1291.59,911.388 1287.55,913.075 1283.52,914.341 1279.48,915.184 1275.44,915.606 1271.41,915.606 1267.37,915.184 1263.34,914.341 1259.3,913.075 1255.27,911.388 1251.23,909.28 1249.33,908.086 1247.2,906.671 1243.16,903.545 1239.17,900.015 1239.13,899.97 1235.09,895.7 1231.9,891.944 1231.06,890.889 1227.02,885.322 1226.06,883.873 1222.98,878.919 1221.2,875.802 1218.95,871.568 1217.06,867.731 1214.91,863.031 1213.48,859.661 1210.88,852.985 1210.37,851.59 1207.69,843.519 1206.84,840.697 1205.37,835.448 1203.35,827.377 1202.81,824.913 1201.65,819.306 1200.22,811.236 1199.03,803.165 1198.77,801.011 1198.11,795.094 1197.43,787.023 1196.98,778.952 1196.75,770.881 1196.75,762.811 1196.98,754.74 1197.43,746.669 1198.11,738.598 1198.77,732.681 1199.03,730.527 1200.22,722.456 1201.65,714.386 1202.81,708.779 1203.35,706.315 1205.37,698.244 1206.84,692.995 1207.69,690.173 1210.37,682.102 1210.88,680.707 1213.48,674.031 1214.91,670.661 1217.06,665.961 1218.95,662.124 1221.2,657.89 1222.98,654.773 1226.06,649.819 1227.02,648.37 1231.06,642.803 1231.9,641.748 1235.09,637.992 1239.13,633.722 1239.17,633.677 1243.16,630.147 1247.2,627.021 1249.33,625.606 1251.23,624.412 1255.27,622.304 1259.3,620.617 1263.34,619.351 1267.37,618.508 1271.41,618.086 1275.44,618.086 1279.48,618.508 1283.52,619.351 1287.55,620.617 1291.59,622.304 1295.62,624.412 1297.53,625.606 1299.66,627.021 1303.69,630.147 1307.68,633.677 1307.73,633.722 1311.76,637.992 1314.96,641.748 1315.8,642.803 1319.83,648.37 1320.8,649.819 1323.87,654.773 1325.65,657.89 1327.91,662.124 1329.8,665.961 1331.94,670.661 1333.37,674.031 1335.98,680.707 1336.49,682.102 1339.17,690.173 1340.01,692.995 1341.49,698.244 1343.51,706.315 1344.05,708.779 1345.21,714.386 1346.64,722.456 1347.83,730.527 1348.08,732.681 1348.74,738.598 1349.42,746.669 1349.87,754.74 1350.1,762.811 1350.1,770.881 1349.87,778.952 1349.42,787.023 1348.74,795.094 1348.08,801.011 1347.83,803.165 1346.64,811.236 1345.21,819.306 1344.05,824.913 1343.51,827.377 \"/>\n",
       "<path clip-path=\"url(#clip040)\" d=\"M625.78 250.738 L899.493 250.738 L899.493 95.2176 L625.78 95.2176  Z\" fill=\"#ffffff\" fill-rule=\"evenodd\" fill-opacity=\"1\"/>\n",
       "<polyline clip-path=\"url(#clip040)\" style=\"stroke:#000000; stroke-linecap:round; stroke-linejoin:round; stroke-width:4; stroke-opacity:1; fill:none\" points=\"625.78,250.738 899.493,250.738 899.493,95.2176 625.78,95.2176 625.78,250.738 \"/>\n",
       "<polyline clip-path=\"url(#clip040)\" style=\"stroke:#781b86; stroke-linecap:round; stroke-linejoin:round; stroke-width:4; stroke-opacity:1; fill:none\" points=\"649.765,147.058 793.676,147.058 \"/>\n",
       "<path clip-path=\"url(#clip040)\" d=\"M830.855 164.338 L817.661 129.778 L822.545 129.778 L833.494 158.875 L844.466 129.778 L849.328 129.778 L836.156 164.338 L830.855 164.338 Z\" fill=\"#000000\" fill-rule=\"nonzero\" fill-opacity=\"1\" /><path clip-path=\"url(#clip040)\" d=\"M855.601 160.402 L863.24 160.402 L863.24 134.037 L854.929 135.703 L854.929 131.444 L863.193 129.778 L867.869 129.778 L867.869 160.402 L875.508 160.402 L875.508 164.338 L855.601 164.338 L855.601 160.402 Z\" fill=\"#000000\" fill-rule=\"nonzero\" fill-opacity=\"1\" /><polyline clip-path=\"url(#clip040)\" style=\"stroke:#da2121; stroke-linecap:round; stroke-linejoin:round; stroke-width:4; stroke-opacity:1; fill:none\" points=\"649.765,198.898 793.676,198.898 \"/>\n",
       "<path clip-path=\"url(#clip040)\" d=\"M830.855 216.178 L817.661 181.618 L822.545 181.618 L833.494 210.715 L844.466 181.618 L849.328 181.618 L836.156 216.178 L830.855 216.178 Z\" fill=\"#000000\" fill-rule=\"nonzero\" fill-opacity=\"1\" /><path clip-path=\"url(#clip040)\" d=\"M858.818 212.242 L875.138 212.242 L875.138 216.178 L853.193 216.178 L853.193 212.242 Q855.855 209.488 860.439 204.858 Q865.045 200.205 866.226 198.863 Q868.471 196.34 869.351 194.604 Q870.253 192.844 870.253 191.155 Q870.253 188.4 868.309 186.664 Q866.388 184.928 863.286 184.928 Q861.087 184.928 858.633 185.692 Q856.203 186.455 853.425 188.006 L853.425 183.284 Q856.249 182.15 858.702 181.571 Q861.156 180.993 863.193 180.993 Q868.564 180.993 871.758 183.678 Q874.952 186.363 874.952 190.854 Q874.952 192.983 874.142 194.905 Q873.355 196.803 871.249 199.395 Q870.67 200.067 867.568 203.284 Q864.466 206.479 858.818 212.242 Z\" fill=\"#000000\" fill-rule=\"nonzero\" fill-opacity=\"1\" /></svg>\n"
      ],
      "image/svg+xml": [
       "<?xml version=\"1.0\" encoding=\"utf-8\"?>\n",
       "<svg xmlns=\"http://www.w3.org/2000/svg\" xmlns:xlink=\"http://www.w3.org/1999/xlink\" width=\"600\" height=\"400\" viewBox=\"0 0 2400 1600\">\n",
       "<defs>\n",
       "  <clipPath id=\"clip010\">\n",
       "    <rect x=\"0\" y=\"0\" width=\"2400\" height=\"1600\"/>\n",
       "  </clipPath>\n",
       "</defs>\n",
       "<path clip-path=\"url(#clip010)\" d=\"M0 1600 L2400 1600 L2400 0 L0 0  Z\" fill=\"#ffffff\" fill-rule=\"evenodd\" fill-opacity=\"1\"/>\n",
       "<defs>\n",
       "  <clipPath id=\"clip011\">\n",
       "    <rect x=\"480\" y=\"0\" width=\"1681\" height=\"1600\"/>\n",
       "  </clipPath>\n",
       "</defs>\n",
       "<path clip-path=\"url(#clip010)\" d=\"M553.825 1486.45 L1993.03 1486.45 L1993.03 47.2441 L553.825 47.2441  Z\" fill=\"#ffffff\" fill-rule=\"evenodd\" fill-opacity=\"1\"/>\n",
       "<defs>\n",
       "  <clipPath id=\"clip012\">\n",
       "    <rect x=\"553\" y=\"47\" width=\"1440\" height=\"1440\"/>\n",
       "  </clipPath>\n",
       "</defs>\n",
       "<polyline clip-path=\"url(#clip012)\" style=\"stroke:#000000; stroke-linecap:round; stroke-linejoin:round; stroke-width:2; stroke-opacity:0.1; fill:none\" points=\"668.719,1486.45 668.719,47.2441 \"/>\n",
       "<polyline clip-path=\"url(#clip012)\" style=\"stroke:#000000; stroke-linecap:round; stroke-linejoin:round; stroke-width:2; stroke-opacity:0.1; fill:none\" points=\"870.289,1486.45 870.289,47.2441 \"/>\n",
       "<polyline clip-path=\"url(#clip012)\" style=\"stroke:#000000; stroke-linecap:round; stroke-linejoin:round; stroke-width:2; stroke-opacity:0.1; fill:none\" points=\"1071.86,1486.45 1071.86,47.2441 \"/>\n",
       "<polyline clip-path=\"url(#clip012)\" style=\"stroke:#000000; stroke-linecap:round; stroke-linejoin:round; stroke-width:2; stroke-opacity:0.1; fill:none\" points=\"1273.43,1486.45 1273.43,47.2441 \"/>\n",
       "<polyline clip-path=\"url(#clip012)\" style=\"stroke:#000000; stroke-linecap:round; stroke-linejoin:round; stroke-width:2; stroke-opacity:0.1; fill:none\" points=\"1475,1486.45 1475,47.2441 \"/>\n",
       "<polyline clip-path=\"url(#clip012)\" style=\"stroke:#000000; stroke-linecap:round; stroke-linejoin:round; stroke-width:2; stroke-opacity:0.1; fill:none\" points=\"1676.57,1486.45 1676.57,47.2441 \"/>\n",
       "<polyline clip-path=\"url(#clip012)\" style=\"stroke:#000000; stroke-linecap:round; stroke-linejoin:round; stroke-width:2; stroke-opacity:0.1; fill:none\" points=\"1878.13,1486.45 1878.13,47.2441 \"/>\n",
       "<polyline clip-path=\"url(#clip010)\" style=\"stroke:#000000; stroke-linecap:round; stroke-linejoin:round; stroke-width:4; stroke-opacity:1; fill:none\" points=\"553.825,1486.45 1993.03,1486.45 \"/>\n",
       "<polyline clip-path=\"url(#clip010)\" style=\"stroke:#000000; stroke-linecap:round; stroke-linejoin:round; stroke-width:4; stroke-opacity:1; fill:none\" points=\"668.719,1486.45 668.719,1467.55 \"/>\n",
       "<polyline clip-path=\"url(#clip010)\" style=\"stroke:#000000; stroke-linecap:round; stroke-linejoin:round; stroke-width:4; stroke-opacity:1; fill:none\" points=\"870.289,1486.45 870.289,1467.55 \"/>\n",
       "<polyline clip-path=\"url(#clip010)\" style=\"stroke:#000000; stroke-linecap:round; stroke-linejoin:round; stroke-width:4; stroke-opacity:1; fill:none\" points=\"1071.86,1486.45 1071.86,1467.55 \"/>\n",
       "<polyline clip-path=\"url(#clip010)\" style=\"stroke:#000000; stroke-linecap:round; stroke-linejoin:round; stroke-width:4; stroke-opacity:1; fill:none\" points=\"1273.43,1486.45 1273.43,1467.55 \"/>\n",
       "<polyline clip-path=\"url(#clip010)\" style=\"stroke:#000000; stroke-linecap:round; stroke-linejoin:round; stroke-width:4; stroke-opacity:1; fill:none\" points=\"1475,1486.45 1475,1467.55 \"/>\n",
       "<polyline clip-path=\"url(#clip010)\" style=\"stroke:#000000; stroke-linecap:round; stroke-linejoin:round; stroke-width:4; stroke-opacity:1; fill:none\" points=\"1676.57,1486.45 1676.57,1467.55 \"/>\n",
       "<polyline clip-path=\"url(#clip010)\" style=\"stroke:#000000; stroke-linecap:round; stroke-linejoin:round; stroke-width:4; stroke-opacity:1; fill:none\" points=\"1878.13,1486.45 1878.13,1467.55 \"/>\n",
       "<path clip-path=\"url(#clip010)\" d=\"M615.745 1532.02 L645.421 1532.02 L645.421 1535.95 L615.745 1535.95 L615.745 1532.02 Z\" fill=\"#000000\" fill-rule=\"nonzero\" fill-opacity=\"1\" /><path clip-path=\"url(#clip010)\" d=\"M656.324 1544.91 L663.963 1544.91 L663.963 1518.55 L655.652 1520.21 L655.652 1515.95 L663.916 1514.29 L668.592 1514.29 L668.592 1544.91 L676.231 1544.91 L676.231 1548.85 L656.324 1548.85 L656.324 1544.91 Z\" fill=\"#000000\" fill-rule=\"nonzero\" fill-opacity=\"1\" /><path clip-path=\"url(#clip010)\" d=\"M685.675 1542.97 L690.56 1542.97 L690.56 1548.85 L685.675 1548.85 L685.675 1542.97 Z\" fill=\"#000000\" fill-rule=\"nonzero\" fill-opacity=\"1\" /><path clip-path=\"url(#clip010)\" d=\"M700.791 1514.29 L719.147 1514.29 L719.147 1518.22 L705.073 1518.22 L705.073 1526.7 Q706.092 1526.35 707.11 1526.19 Q708.129 1526 709.148 1526 Q714.935 1526 718.314 1529.17 Q721.694 1532.34 721.694 1537.76 Q721.694 1543.34 718.222 1546.44 Q714.749 1549.52 708.43 1549.52 Q706.254 1549.52 703.986 1549.15 Q701.74 1548.78 699.333 1548.04 L699.333 1543.34 Q701.416 1544.47 703.638 1545.03 Q705.861 1545.58 708.337 1545.58 Q712.342 1545.58 714.68 1543.48 Q717.018 1541.37 717.018 1537.76 Q717.018 1534.15 714.68 1532.04 Q712.342 1529.94 708.337 1529.94 Q706.462 1529.94 704.587 1530.35 Q702.736 1530.77 700.791 1531.65 L700.791 1514.29 Z\" fill=\"#000000\" fill-rule=\"nonzero\" fill-opacity=\"1\" /><path clip-path=\"url(#clip010)\" d=\"M816.817 1532.02 L846.492 1532.02 L846.492 1535.95 L816.817 1535.95 L816.817 1532.02 Z\" fill=\"#000000\" fill-rule=\"nonzero\" fill-opacity=\"1\" /><path clip-path=\"url(#clip010)\" d=\"M857.395 1544.91 L865.034 1544.91 L865.034 1518.55 L856.724 1520.21 L856.724 1515.95 L864.988 1514.29 L869.664 1514.29 L869.664 1544.91 L877.303 1544.91 L877.303 1548.85 L857.395 1548.85 L857.395 1544.91 Z\" fill=\"#000000\" fill-rule=\"nonzero\" fill-opacity=\"1\" /><path clip-path=\"url(#clip010)\" d=\"M886.747 1542.97 L891.631 1542.97 L891.631 1548.85 L886.747 1548.85 L886.747 1542.97 Z\" fill=\"#000000\" fill-rule=\"nonzero\" fill-opacity=\"1\" /><path clip-path=\"url(#clip010)\" d=\"M911.816 1517.37 Q908.205 1517.37 906.376 1520.93 Q904.571 1524.47 904.571 1531.6 Q904.571 1538.71 906.376 1542.27 Q908.205 1545.82 911.816 1545.82 Q915.45 1545.82 917.256 1542.27 Q919.085 1538.71 919.085 1531.6 Q919.085 1524.47 917.256 1520.93 Q915.45 1517.37 911.816 1517.37 M911.816 1513.66 Q917.626 1513.66 920.682 1518.27 Q923.761 1522.85 923.761 1531.6 Q923.761 1540.33 920.682 1544.94 Q917.626 1549.52 911.816 1549.52 Q906.006 1549.52 902.927 1544.94 Q899.872 1540.33 899.872 1531.6 Q899.872 1522.85 902.927 1518.27 Q906.006 1513.66 911.816 1513.66 Z\" fill=\"#000000\" fill-rule=\"nonzero\" fill-opacity=\"1\" /><path clip-path=\"url(#clip010)\" d=\"M1018.88 1532.02 L1048.56 1532.02 L1048.56 1535.95 L1018.88 1535.95 L1018.88 1532.02 Z\" fill=\"#000000\" fill-rule=\"nonzero\" fill-opacity=\"1\" /><path clip-path=\"url(#clip010)\" d=\"M1068.65 1517.37 Q1065.04 1517.37 1063.21 1520.93 Q1061.41 1524.47 1061.41 1531.6 Q1061.41 1538.71 1063.21 1542.27 Q1065.04 1545.82 1068.65 1545.82 Q1072.29 1545.82 1074.09 1542.27 Q1075.92 1538.71 1075.92 1531.6 Q1075.92 1524.47 1074.09 1520.93 Q1072.29 1517.37 1068.65 1517.37 M1068.65 1513.66 Q1074.46 1513.66 1077.52 1518.27 Q1080.6 1522.85 1080.6 1531.6 Q1080.6 1540.33 1077.52 1544.94 Q1074.46 1549.52 1068.65 1549.52 Q1062.84 1549.52 1059.76 1544.94 Q1056.71 1540.33 1056.71 1531.6 Q1056.71 1522.85 1059.76 1518.27 Q1062.84 1513.66 1068.65 1513.66 Z\" fill=\"#000000\" fill-rule=\"nonzero\" fill-opacity=\"1\" /><path clip-path=\"url(#clip010)\" d=\"M1088.81 1542.97 L1093.7 1542.97 L1093.7 1548.85 L1088.81 1548.85 L1088.81 1542.97 Z\" fill=\"#000000\" fill-rule=\"nonzero\" fill-opacity=\"1\" /><path clip-path=\"url(#clip010)\" d=\"M1103.93 1514.29 L1122.29 1514.29 L1122.29 1518.22 L1108.21 1518.22 L1108.21 1526.7 Q1109.23 1526.35 1110.25 1526.19 Q1111.27 1526 1112.29 1526 Q1118.07 1526 1121.45 1529.17 Q1124.83 1532.34 1124.83 1537.76 Q1124.83 1543.34 1121.36 1546.44 Q1117.89 1549.52 1111.57 1549.52 Q1109.39 1549.52 1107.12 1549.15 Q1104.88 1548.78 1102.47 1548.04 L1102.47 1543.34 Q1104.55 1544.47 1106.78 1545.03 Q1109 1545.58 1111.48 1545.58 Q1115.48 1545.58 1117.82 1543.48 Q1120.16 1541.37 1120.16 1537.76 Q1120.16 1534.15 1117.82 1532.04 Q1115.48 1529.94 1111.48 1529.94 Q1109.6 1529.94 1107.73 1530.35 Q1105.87 1530.77 1103.93 1531.65 L1103.93 1514.29 Z\" fill=\"#000000\" fill-rule=\"nonzero\" fill-opacity=\"1\" /><path clip-path=\"url(#clip010)\" d=\"M1250.81 1517.37 Q1247.2 1517.37 1245.37 1520.93 Q1243.57 1524.47 1243.57 1531.6 Q1243.57 1538.71 1245.37 1542.27 Q1247.2 1545.82 1250.81 1545.82 Q1254.45 1545.82 1256.25 1542.27 Q1258.08 1538.71 1258.08 1531.6 Q1258.08 1524.47 1256.25 1520.93 Q1254.45 1517.37 1250.81 1517.37 M1250.81 1513.66 Q1256.62 1513.66 1259.68 1518.27 Q1262.76 1522.85 1262.76 1531.6 Q1262.76 1540.33 1259.68 1544.94 Q1256.62 1549.52 1250.81 1549.52 Q1245 1549.52 1241.92 1544.94 Q1238.87 1540.33 1238.87 1531.6 Q1238.87 1522.85 1241.92 1518.27 Q1245 1513.66 1250.81 1513.66 Z\" fill=\"#000000\" fill-rule=\"nonzero\" fill-opacity=\"1\" /><path clip-path=\"url(#clip010)\" d=\"M1270.97 1542.97 L1275.86 1542.97 L1275.86 1548.85 L1270.97 1548.85 L1270.97 1542.97 Z\" fill=\"#000000\" fill-rule=\"nonzero\" fill-opacity=\"1\" /><path clip-path=\"url(#clip010)\" d=\"M1296.04 1517.37 Q1292.43 1517.37 1290.6 1520.93 Q1288.8 1524.47 1288.8 1531.6 Q1288.8 1538.71 1290.6 1542.27 Q1292.43 1545.82 1296.04 1545.82 Q1299.68 1545.82 1301.48 1542.27 Q1303.31 1538.71 1303.31 1531.6 Q1303.31 1524.47 1301.48 1520.93 Q1299.68 1517.37 1296.04 1517.37 M1296.04 1513.66 Q1301.85 1513.66 1304.91 1518.27 Q1307.99 1522.85 1307.99 1531.6 Q1307.99 1540.33 1304.91 1544.94 Q1301.85 1549.52 1296.04 1549.52 Q1290.23 1549.52 1287.15 1544.94 Q1284.1 1540.33 1284.1 1531.6 Q1284.1 1522.85 1287.15 1518.27 Q1290.23 1513.66 1296.04 1513.66 Z\" fill=\"#000000\" fill-rule=\"nonzero\" fill-opacity=\"1\" /><path clip-path=\"url(#clip010)\" d=\"M1452.88 1517.37 Q1449.27 1517.37 1447.44 1520.93 Q1445.63 1524.47 1445.63 1531.6 Q1445.63 1538.71 1447.44 1542.27 Q1449.27 1545.82 1452.88 1545.82 Q1456.51 1545.82 1458.32 1542.27 Q1460.15 1538.71 1460.15 1531.6 Q1460.15 1524.47 1458.32 1520.93 Q1456.51 1517.37 1452.88 1517.37 M1452.88 1513.66 Q1458.69 1513.66 1461.74 1518.27 Q1464.82 1522.85 1464.82 1531.6 Q1464.82 1540.33 1461.74 1544.94 Q1458.69 1549.52 1452.88 1549.52 Q1447.07 1549.52 1443.99 1544.94 Q1440.93 1540.33 1440.93 1531.6 Q1440.93 1522.85 1443.99 1518.27 Q1447.07 1513.66 1452.88 1513.66 Z\" fill=\"#000000\" fill-rule=\"nonzero\" fill-opacity=\"1\" /><path clip-path=\"url(#clip010)\" d=\"M1473.04 1542.97 L1477.92 1542.97 L1477.92 1548.85 L1473.04 1548.85 L1473.04 1542.97 Z\" fill=\"#000000\" fill-rule=\"nonzero\" fill-opacity=\"1\" /><path clip-path=\"url(#clip010)\" d=\"M1488.16 1514.29 L1506.51 1514.29 L1506.51 1518.22 L1492.44 1518.22 L1492.44 1526.7 Q1493.46 1526.35 1494.48 1526.19 Q1495.49 1526 1496.51 1526 Q1502.3 1526 1505.68 1529.17 Q1509.06 1532.34 1509.06 1537.76 Q1509.06 1543.34 1505.59 1546.44 Q1502.11 1549.52 1495.79 1549.52 Q1493.62 1549.52 1491.35 1549.15 Q1489.1 1548.78 1486.7 1548.04 L1486.7 1543.34 Q1488.78 1544.47 1491 1545.03 Q1493.23 1545.58 1495.7 1545.58 Q1499.71 1545.58 1502.04 1543.48 Q1504.38 1541.37 1504.38 1537.76 Q1504.38 1534.15 1502.04 1532.04 Q1499.71 1529.94 1495.7 1529.94 Q1493.83 1529.94 1491.95 1530.35 Q1490.1 1530.77 1488.16 1531.65 L1488.16 1514.29 Z\" fill=\"#000000\" fill-rule=\"nonzero\" fill-opacity=\"1\" /><path clip-path=\"url(#clip010)\" d=\"M1643.72 1544.91 L1651.36 1544.91 L1651.36 1518.55 L1643.05 1520.21 L1643.05 1515.95 L1651.31 1514.29 L1655.99 1514.29 L1655.99 1544.91 L1663.63 1544.91 L1663.63 1548.85 L1643.72 1548.85 L1643.72 1544.91 Z\" fill=\"#000000\" fill-rule=\"nonzero\" fill-opacity=\"1\" /><path clip-path=\"url(#clip010)\" d=\"M1673.07 1542.97 L1677.95 1542.97 L1677.95 1548.85 L1673.07 1548.85 L1673.07 1542.97 Z\" fill=\"#000000\" fill-rule=\"nonzero\" fill-opacity=\"1\" /><path clip-path=\"url(#clip010)\" d=\"M1698.14 1517.37 Q1694.53 1517.37 1692.7 1520.93 Q1690.89 1524.47 1690.89 1531.6 Q1690.89 1538.71 1692.7 1542.27 Q1694.53 1545.82 1698.14 1545.82 Q1701.77 1545.82 1703.58 1542.27 Q1705.41 1538.71 1705.41 1531.6 Q1705.41 1524.47 1703.58 1520.93 Q1701.77 1517.37 1698.14 1517.37 M1698.14 1513.66 Q1703.95 1513.66 1707 1518.27 Q1710.08 1522.85 1710.08 1531.6 Q1710.08 1540.33 1707 1544.94 Q1703.95 1549.52 1698.14 1549.52 Q1692.33 1549.52 1689.25 1544.94 Q1686.19 1540.33 1686.19 1531.6 Q1686.19 1522.85 1689.25 1518.27 Q1692.33 1513.66 1698.14 1513.66 Z\" fill=\"#000000\" fill-rule=\"nonzero\" fill-opacity=\"1\" /><path clip-path=\"url(#clip010)\" d=\"M1845.79 1544.91 L1853.42 1544.91 L1853.42 1518.55 L1845.11 1520.21 L1845.11 1515.95 L1853.38 1514.29 L1858.05 1514.29 L1858.05 1544.91 L1865.69 1544.91 L1865.69 1548.85 L1845.79 1548.85 L1845.79 1544.91 Z\" fill=\"#000000\" fill-rule=\"nonzero\" fill-opacity=\"1\" /><path clip-path=\"url(#clip010)\" d=\"M1875.14 1542.97 L1880.02 1542.97 L1880.02 1548.85 L1875.14 1548.85 L1875.14 1542.97 Z\" fill=\"#000000\" fill-rule=\"nonzero\" fill-opacity=\"1\" /><path clip-path=\"url(#clip010)\" d=\"M1890.25 1514.29 L1908.61 1514.29 L1908.61 1518.22 L1894.53 1518.22 L1894.53 1526.7 Q1895.55 1526.35 1896.57 1526.19 Q1897.59 1526 1898.61 1526 Q1904.4 1526 1907.78 1529.17 Q1911.16 1532.34 1911.16 1537.76 Q1911.16 1543.34 1907.68 1546.44 Q1904.21 1549.52 1897.89 1549.52 Q1895.72 1549.52 1893.45 1549.15 Q1891.2 1548.78 1888.79 1548.04 L1888.79 1543.34 Q1890.88 1544.47 1893.1 1545.03 Q1895.32 1545.58 1897.8 1545.58 Q1901.8 1545.58 1904.14 1543.48 Q1906.48 1541.37 1906.48 1537.76 Q1906.48 1534.15 1904.14 1532.04 Q1901.8 1529.94 1897.8 1529.94 Q1895.92 1529.94 1894.05 1530.35 Q1892.2 1530.77 1890.25 1531.65 L1890.25 1514.29 Z\" fill=\"#000000\" fill-rule=\"nonzero\" fill-opacity=\"1\" /><polyline clip-path=\"url(#clip012)\" style=\"stroke:#000000; stroke-linecap:round; stroke-linejoin:round; stroke-width:2; stroke-opacity:0.1; fill:none\" points=\"553.825,1250.61 1993.03,1250.61 \"/>\n",
       "<polyline clip-path=\"url(#clip012)\" style=\"stroke:#000000; stroke-linecap:round; stroke-linejoin:round; stroke-width:2; stroke-opacity:0.1; fill:none\" points=\"553.825,1008.73 1993.03,1008.73 \"/>\n",
       "<polyline clip-path=\"url(#clip012)\" style=\"stroke:#000000; stroke-linecap:round; stroke-linejoin:round; stroke-width:2; stroke-opacity:0.1; fill:none\" points=\"553.825,766.846 1993.03,766.846 \"/>\n",
       "<polyline clip-path=\"url(#clip012)\" style=\"stroke:#000000; stroke-linecap:round; stroke-linejoin:round; stroke-width:2; stroke-opacity:0.1; fill:none\" points=\"553.825,524.963 1993.03,524.963 \"/>\n",
       "<polyline clip-path=\"url(#clip012)\" style=\"stroke:#000000; stroke-linecap:round; stroke-linejoin:round; stroke-width:2; stroke-opacity:0.1; fill:none\" points=\"553.825,283.08 1993.03,283.08 \"/>\n",
       "<polyline clip-path=\"url(#clip010)\" style=\"stroke:#000000; stroke-linecap:round; stroke-linejoin:round; stroke-width:4; stroke-opacity:1; fill:none\" points=\"553.825,1486.45 553.825,47.2441 \"/>\n",
       "<polyline clip-path=\"url(#clip010)\" style=\"stroke:#000000; stroke-linecap:round; stroke-linejoin:round; stroke-width:4; stroke-opacity:1; fill:none\" points=\"553.825,1250.61 566.424,1250.61 \"/>\n",
       "<polyline clip-path=\"url(#clip010)\" style=\"stroke:#000000; stroke-linecap:round; stroke-linejoin:round; stroke-width:4; stroke-opacity:1; fill:none\" points=\"553.825,1008.73 566.424,1008.73 \"/>\n",
       "<polyline clip-path=\"url(#clip010)\" style=\"stroke:#000000; stroke-linecap:round; stroke-linejoin:round; stroke-width:4; stroke-opacity:1; fill:none\" points=\"553.825,766.846 566.424,766.846 \"/>\n",
       "<polyline clip-path=\"url(#clip010)\" style=\"stroke:#000000; stroke-linecap:round; stroke-linejoin:round; stroke-width:4; stroke-opacity:1; fill:none\" points=\"553.825,524.963 566.424,524.963 \"/>\n",
       "<polyline clip-path=\"url(#clip010)\" style=\"stroke:#000000; stroke-linecap:round; stroke-linejoin:round; stroke-width:4; stroke-opacity:1; fill:none\" points=\"553.825,283.08 566.424,283.08 \"/>\n",
       "<path clip-path=\"url(#clip010)\" d=\"M410.719 1251.06 L440.395 1251.06 L440.395 1255 L410.719 1255 L410.719 1251.06 Z\" fill=\"#000000\" fill-rule=\"nonzero\" fill-opacity=\"1\" /><path clip-path=\"url(#clip010)\" d=\"M460.487 1236.41 Q456.876 1236.41 455.048 1239.98 Q453.242 1243.52 453.242 1250.65 Q453.242 1257.75 455.048 1261.32 Q456.876 1264.86 460.487 1264.86 Q464.122 1264.86 465.927 1261.32 Q467.756 1257.75 467.756 1250.65 Q467.756 1243.52 465.927 1239.98 Q464.122 1236.41 460.487 1236.41 M460.487 1232.71 Q466.298 1232.71 469.353 1237.31 Q472.432 1241.9 472.432 1250.65 Q472.432 1259.37 469.353 1263.98 Q466.298 1268.56 460.487 1268.56 Q454.677 1268.56 451.599 1263.98 Q448.543 1259.37 448.543 1250.65 Q448.543 1241.9 451.599 1237.31 Q454.677 1232.71 460.487 1232.71 Z\" fill=\"#000000\" fill-rule=\"nonzero\" fill-opacity=\"1\" /><path clip-path=\"url(#clip010)\" d=\"M480.649 1262.01 L485.534 1262.01 L485.534 1267.89 L480.649 1267.89 L480.649 1262.01 Z\" fill=\"#000000\" fill-rule=\"nonzero\" fill-opacity=\"1\" /><path clip-path=\"url(#clip010)\" d=\"M506.297 1248.75 Q503.149 1248.75 501.297 1250.9 Q499.469 1253.05 499.469 1256.8 Q499.469 1260.53 501.297 1262.71 Q503.149 1264.86 506.297 1264.86 Q509.445 1264.86 511.274 1262.71 Q513.126 1260.53 513.126 1256.8 Q513.126 1253.05 511.274 1250.9 Q509.445 1248.75 506.297 1248.75 M515.58 1234.1 L515.58 1238.36 Q513.82 1237.52 512.015 1237.08 Q510.233 1236.64 508.473 1236.64 Q503.844 1236.64 501.39 1239.77 Q498.959 1242.89 498.612 1249.21 Q499.978 1247.2 502.038 1246.13 Q504.098 1245.04 506.575 1245.04 Q511.783 1245.04 514.793 1248.22 Q517.825 1251.36 517.825 1256.8 Q517.825 1262.13 514.677 1265.35 Q511.529 1268.56 506.297 1268.56 Q500.302 1268.56 497.131 1263.98 Q493.959 1259.37 493.959 1250.65 Q493.959 1242.45 497.848 1237.59 Q501.737 1232.71 508.288 1232.71 Q510.047 1232.71 511.83 1233.05 Q513.635 1233.4 515.58 1234.1 Z\" fill=\"#000000\" fill-rule=\"nonzero\" fill-opacity=\"1\" /><path clip-path=\"url(#clip010)\" d=\"M411.529 1009.18 L441.205 1009.18 L441.205 1013.12 L411.529 1013.12 L411.529 1009.18 Z\" fill=\"#000000\" fill-rule=\"nonzero\" fill-opacity=\"1\" /><path clip-path=\"url(#clip010)\" d=\"M461.298 994.528 Q457.687 994.528 455.858 998.092 Q454.052 1001.63 454.052 1008.76 Q454.052 1015.87 455.858 1019.43 Q457.687 1022.98 461.298 1022.98 Q464.932 1022.98 466.737 1019.43 Q468.566 1015.87 468.566 1008.76 Q468.566 1001.63 466.737 998.092 Q464.932 994.528 461.298 994.528 M461.298 990.824 Q467.108 990.824 470.163 995.43 Q473.242 1000.01 473.242 1008.76 Q473.242 1017.49 470.163 1022.1 Q467.108 1026.68 461.298 1026.68 Q455.487 1026.68 452.409 1022.1 Q449.353 1017.49 449.353 1008.76 Q449.353 1000.01 452.409 995.43 Q455.487 990.824 461.298 990.824 Z\" fill=\"#000000\" fill-rule=\"nonzero\" fill-opacity=\"1\" /><path clip-path=\"url(#clip010)\" d=\"M481.46 1020.13 L486.344 1020.13 L486.344 1026.01 L481.46 1026.01 L481.46 1020.13 Z\" fill=\"#000000\" fill-rule=\"nonzero\" fill-opacity=\"1\" /><path clip-path=\"url(#clip010)\" d=\"M510.695 1007.37 Q514.052 1008.09 515.927 1010.36 Q517.825 1012.63 517.825 1015.96 Q517.825 1021.08 514.307 1023.88 Q510.788 1026.68 504.307 1026.68 Q502.131 1026.68 499.816 1026.24 Q497.524 1025.82 495.071 1024.97 L495.071 1020.45 Q497.015 1021.59 499.33 1022.17 Q501.645 1022.75 504.168 1022.75 Q508.566 1022.75 510.858 1021.01 Q513.172 1019.27 513.172 1015.96 Q513.172 1012.91 511.02 1011.19 Q508.89 1009.46 505.071 1009.46 L501.043 1009.46 L501.043 1005.62 L505.256 1005.62 Q508.705 1005.62 510.533 1004.25 Q512.362 1002.86 512.362 1000.27 Q512.362 997.606 510.464 996.194 Q508.589 994.759 505.071 994.759 Q503.149 994.759 500.95 995.176 Q498.751 995.592 496.112 996.472 L496.112 992.305 Q498.774 991.565 501.089 991.194 Q503.427 990.824 505.487 990.824 Q510.811 990.824 513.913 993.255 Q517.015 995.662 517.015 999.782 Q517.015 1002.65 515.371 1004.64 Q513.728 1006.61 510.695 1007.37 Z\" fill=\"#000000\" fill-rule=\"nonzero\" fill-opacity=\"1\" /><path clip-path=\"url(#clip010)\" d=\"M460.649 752.645 Q457.038 752.645 455.21 756.209 Q453.404 759.751 453.404 766.881 Q453.404 773.987 455.21 777.552 Q457.038 781.094 460.649 781.094 Q464.284 781.094 466.089 777.552 Q467.918 773.987 467.918 766.881 Q467.918 759.751 466.089 756.209 Q464.284 752.645 460.649 752.645 M460.649 748.941 Q466.46 748.941 469.515 753.547 Q472.594 758.131 472.594 766.881 Q472.594 775.608 469.515 780.214 Q466.46 784.797 460.649 784.797 Q454.839 784.797 451.761 780.214 Q448.705 775.608 448.705 766.881 Q448.705 758.131 451.761 753.547 Q454.839 748.941 460.649 748.941 Z\" fill=\"#000000\" fill-rule=\"nonzero\" fill-opacity=\"1\" /><path clip-path=\"url(#clip010)\" d=\"M480.811 778.246 L485.696 778.246 L485.696 784.126 L480.811 784.126 L480.811 778.246 Z\" fill=\"#000000\" fill-rule=\"nonzero\" fill-opacity=\"1\" /><path clip-path=\"url(#clip010)\" d=\"M505.881 752.645 Q502.27 752.645 500.441 756.209 Q498.635 759.751 498.635 766.881 Q498.635 773.987 500.441 777.552 Q502.27 781.094 505.881 781.094 Q509.515 781.094 511.32 777.552 Q513.149 773.987 513.149 766.881 Q513.149 759.751 511.32 756.209 Q509.515 752.645 505.881 752.645 M505.881 748.941 Q511.691 748.941 514.746 753.547 Q517.825 758.131 517.825 766.881 Q517.825 775.608 514.746 780.214 Q511.691 784.797 505.881 784.797 Q500.071 784.797 496.992 780.214 Q493.936 775.608 493.936 766.881 Q493.936 758.131 496.992 753.547 Q500.071 748.941 505.881 748.941 Z\" fill=\"#000000\" fill-rule=\"nonzero\" fill-opacity=\"1\" /><path clip-path=\"url(#clip010)\" d=\"M461.298 510.762 Q457.687 510.762 455.858 514.326 Q454.052 517.868 454.052 524.998 Q454.052 532.104 455.858 535.669 Q457.687 539.211 461.298 539.211 Q464.932 539.211 466.737 535.669 Q468.566 532.104 468.566 524.998 Q468.566 517.868 466.737 514.326 Q464.932 510.762 461.298 510.762 M461.298 507.058 Q467.108 507.058 470.163 511.664 Q473.242 516.248 473.242 524.998 Q473.242 533.725 470.163 538.331 Q467.108 542.914 461.298 542.914 Q455.487 542.914 452.409 538.331 Q449.353 533.725 449.353 524.998 Q449.353 516.248 452.409 511.664 Q455.487 507.058 461.298 507.058 Z\" fill=\"#000000\" fill-rule=\"nonzero\" fill-opacity=\"1\" /><path clip-path=\"url(#clip010)\" d=\"M481.46 536.363 L486.344 536.363 L486.344 542.243 L481.46 542.243 L481.46 536.363 Z\" fill=\"#000000\" fill-rule=\"nonzero\" fill-opacity=\"1\" /><path clip-path=\"url(#clip010)\" d=\"M510.695 523.609 Q514.052 524.326 515.927 526.595 Q517.825 528.863 517.825 532.197 Q517.825 537.312 514.307 540.113 Q510.788 542.914 504.307 542.914 Q502.131 542.914 499.816 542.474 Q497.524 542.058 495.071 541.201 L495.071 536.687 Q497.015 537.822 499.33 538.4 Q501.645 538.979 504.168 538.979 Q508.566 538.979 510.858 537.243 Q513.172 535.507 513.172 532.197 Q513.172 529.141 511.02 527.428 Q508.89 525.692 505.071 525.692 L501.043 525.692 L501.043 521.85 L505.256 521.85 Q508.705 521.85 510.533 520.484 Q512.362 519.095 512.362 516.502 Q512.362 513.84 510.464 512.428 Q508.589 510.993 505.071 510.993 Q503.149 510.993 500.95 511.41 Q498.751 511.826 496.112 512.706 L496.112 508.539 Q498.774 507.799 501.089 507.428 Q503.427 507.058 505.487 507.058 Q510.811 507.058 513.913 509.489 Q517.015 511.896 517.015 516.016 Q517.015 518.887 515.371 520.877 Q513.728 522.845 510.695 523.609 Z\" fill=\"#000000\" fill-rule=\"nonzero\" fill-opacity=\"1\" /><path clip-path=\"url(#clip010)\" d=\"M460.487 268.879 Q456.876 268.879 455.048 272.443 Q453.242 275.985 453.242 283.115 Q453.242 290.221 455.048 293.786 Q456.876 297.328 460.487 297.328 Q464.122 297.328 465.927 293.786 Q467.756 290.221 467.756 283.115 Q467.756 275.985 465.927 272.443 Q464.122 268.879 460.487 268.879 M460.487 265.175 Q466.298 265.175 469.353 269.781 Q472.432 274.365 472.432 283.115 Q472.432 291.842 469.353 296.448 Q466.298 301.031 460.487 301.031 Q454.677 301.031 451.599 296.448 Q448.543 291.842 448.543 283.115 Q448.543 274.365 451.599 269.781 Q454.677 265.175 460.487 265.175 Z\" fill=\"#000000\" fill-rule=\"nonzero\" fill-opacity=\"1\" /><path clip-path=\"url(#clip010)\" d=\"M480.649 294.48 L485.534 294.48 L485.534 300.36 L480.649 300.36 L480.649 294.48 Z\" fill=\"#000000\" fill-rule=\"nonzero\" fill-opacity=\"1\" /><path clip-path=\"url(#clip010)\" d=\"M506.297 281.217 Q503.149 281.217 501.297 283.369 Q499.469 285.522 499.469 289.272 Q499.469 292.999 501.297 295.175 Q503.149 297.328 506.297 297.328 Q509.445 297.328 511.274 295.175 Q513.126 292.999 513.126 289.272 Q513.126 285.522 511.274 283.369 Q509.445 281.217 506.297 281.217 M515.58 266.564 L515.58 270.823 Q513.82 269.99 512.015 269.55 Q510.233 269.11 508.473 269.11 Q503.844 269.11 501.39 272.235 Q498.959 275.36 498.612 281.68 Q499.978 279.666 502.038 278.601 Q504.098 277.513 506.575 277.513 Q511.783 277.513 514.793 280.684 Q517.825 283.832 517.825 289.272 Q517.825 294.596 514.677 297.814 Q511.529 301.031 506.297 301.031 Q500.302 301.031 497.131 296.448 Q493.959 291.842 493.959 283.115 Q493.959 274.92 497.848 270.059 Q501.737 265.175 508.288 265.175 Q510.047 265.175 511.83 265.522 Q513.635 265.869 515.58 266.564 Z\" fill=\"#000000\" fill-rule=\"nonzero\" fill-opacity=\"1\" /><polyline clip-path=\"url(#clip012)\" style=\"stroke:#000000; stroke-linecap:round; stroke-linejoin:round; stroke-width:4; stroke-opacity:1; fill:none\" points=\"1958.76,81.5109 588.092,81.5109 588.092,1452.18 1958.76,1452.18 1958.76,81.5109 \"/>\n",
       "<polyline clip-path=\"url(#clip012)\" style=\"stroke:#781b86; stroke-linecap:round; stroke-linejoin:round; stroke-width:4; stroke-opacity:1; fill:none\" points=\"1225.05,851.59 1227.02,854.121 1231.06,858.88 1231.78,859.661 1235.09,862.911 1239.13,866.48 1240.72,867.731 1243.16,869.505 1247.2,872.068 1251.23,874.265 1254.62,875.802 1255.27,876.074 1259.3,877.434 1263.34,878.454 1267.37,879.134 1271.41,879.474 1275.44,879.474 1279.48,879.134 1283.52,878.454 1287.55,877.434 1291.59,876.074 1292.23,875.802 1295.62,874.265 1299.66,872.068 1303.69,869.505 1306.14,867.731 1307.73,866.48 1311.76,862.911 1315.07,859.661 1315.8,858.88 1319.83,854.121 1321.8,851.59 1323.87,848.663 1327.22,843.519 1327.91,842.36 1331.67,835.448 1331.94,834.895 1335.34,827.377 1335.98,825.771 1338.37,819.306 1340.01,814.158 1340.89,811.236 1342.9,803.165 1344.05,797.41 1344.48,795.094 1345.62,787.023 1346.38,778.952 1346.76,770.881 1346.76,762.811 1346.38,754.74 1345.62,746.669 1344.48,738.598 1344.05,736.282 1342.9,730.527 1340.89,722.456 1340.01,719.534 1338.37,714.386 1335.98,707.921 1335.34,706.315 1331.94,698.796 1331.67,698.244 1327.91,691.332 1327.22,690.173 1323.87,685.029 1321.8,682.102 1319.83,679.571 1315.8,674.812 1315.07,674.031 1311.76,670.781 1307.73,667.212 1306.14,665.961 1303.69,664.187 1299.66,661.624 1295.62,659.427 1292.23,657.89 1291.59,657.618 1287.55,656.258 1283.52,655.238 1279.48,654.558 1275.44,654.218 1271.41,654.218 1267.37,654.558 1263.34,655.238 1259.3,656.258 1255.27,657.618 1254.62,657.89 1251.23,659.427 1247.2,661.624 1243.16,664.187 1240.72,665.961 1239.13,667.212 1235.09,670.781 1231.78,674.031 1231.06,674.812 1227.02,679.571 1225.05,682.102 1222.98,685.029 1219.63,690.173 1218.95,691.332 1215.18,698.244 1214.91,698.796 1211.51,706.315 1210.88,707.921 1208.48,714.386 1206.84,719.534 1205.97,722.456 1203.96,730.527 1202.81,736.282 1202.37,738.598 1201.23,746.669 1200.47,754.74 1200.09,762.811 1200.09,770.881 1200.47,778.952 1201.23,787.023 1202.37,795.094 1202.81,797.41 1203.96,803.165 1205.97,811.236 1206.84,814.158 1208.48,819.306 1210.88,825.771 1211.51,827.377 1214.91,834.895 1215.18,835.448 1218.95,842.36 1219.63,843.519 1222.98,848.663 1225.05,851.59 \"/>\n",
       "<polyline clip-path=\"url(#clip012)\" style=\"stroke:#da2121; stroke-linecap:round; stroke-linejoin:round; stroke-width:4; stroke-opacity:1; fill:none\" points=\"1343.51,827.377 1341.49,835.448 1340.01,840.697 1339.17,843.519 1336.49,851.59 1335.98,852.985 1333.37,859.661 1331.94,863.031 1329.8,867.731 1327.91,871.568 1325.65,875.802 1323.87,878.919 1320.8,883.873 1319.83,885.322 1315.8,890.889 1314.96,891.944 1311.76,895.7 1307.73,899.97 1307.68,900.015 1303.69,903.545 1299.66,906.671 1297.53,908.086 1295.62,909.28 1291.59,911.388 1287.55,913.075 1283.52,914.341 1279.48,915.184 1275.44,915.606 1271.41,915.606 1267.37,915.184 1263.34,914.341 1259.3,913.075 1255.27,911.388 1251.23,909.28 1249.33,908.086 1247.2,906.671 1243.16,903.545 1239.17,900.015 1239.13,899.97 1235.09,895.7 1231.9,891.944 1231.06,890.889 1227.02,885.322 1226.06,883.873 1222.98,878.919 1221.2,875.802 1218.95,871.568 1217.06,867.731 1214.91,863.031 1213.48,859.661 1210.88,852.985 1210.37,851.59 1207.69,843.519 1206.84,840.697 1205.37,835.448 1203.35,827.377 1202.81,824.913 1201.65,819.306 1200.22,811.236 1199.03,803.165 1198.77,801.011 1198.11,795.094 1197.43,787.023 1196.98,778.952 1196.75,770.881 1196.75,762.811 1196.98,754.74 1197.43,746.669 1198.11,738.598 1198.77,732.681 1199.03,730.527 1200.22,722.456 1201.65,714.386 1202.81,708.779 1203.35,706.315 1205.37,698.244 1206.84,692.995 1207.69,690.173 1210.37,682.102 1210.88,680.707 1213.48,674.031 1214.91,670.661 1217.06,665.961 1218.95,662.124 1221.2,657.89 1222.98,654.773 1226.06,649.819 1227.02,648.37 1231.06,642.803 1231.9,641.748 1235.09,637.992 1239.13,633.722 1239.17,633.677 1243.16,630.147 1247.2,627.021 1249.33,625.606 1251.23,624.412 1255.27,622.304 1259.3,620.617 1263.34,619.351 1267.37,618.508 1271.41,618.086 1275.44,618.086 1279.48,618.508 1283.52,619.351 1287.55,620.617 1291.59,622.304 1295.62,624.412 1297.53,625.606 1299.66,627.021 1303.69,630.147 1307.68,633.677 1307.73,633.722 1311.76,637.992 1314.96,641.748 1315.8,642.803 1319.83,648.37 1320.8,649.819 1323.87,654.773 1325.65,657.89 1327.91,662.124 1329.8,665.961 1331.94,670.661 1333.37,674.031 1335.98,680.707 1336.49,682.102 1339.17,690.173 1340.01,692.995 1341.49,698.244 1343.51,706.315 1344.05,708.779 1345.21,714.386 1346.64,722.456 1347.83,730.527 1348.08,732.681 1348.74,738.598 1349.42,746.669 1349.87,754.74 1350.1,762.811 1350.1,770.881 1349.87,778.952 1349.42,787.023 1348.74,795.094 1348.08,801.011 1347.83,803.165 1346.64,811.236 1345.21,819.306 1344.05,824.913 1343.51,827.377 \"/>\n",
       "<path clip-path=\"url(#clip010)\" d=\"M625.78 250.738 L899.493 250.738 L899.493 95.2176 L625.78 95.2176  Z\" fill=\"#ffffff\" fill-rule=\"evenodd\" fill-opacity=\"1\"/>\n",
       "<polyline clip-path=\"url(#clip010)\" style=\"stroke:#000000; stroke-linecap:round; stroke-linejoin:round; stroke-width:4; stroke-opacity:1; fill:none\" points=\"625.78,250.738 899.493,250.738 899.493,95.2176 625.78,95.2176 625.78,250.738 \"/>\n",
       "<polyline clip-path=\"url(#clip010)\" style=\"stroke:#781b86; stroke-linecap:round; stroke-linejoin:round; stroke-width:4; stroke-opacity:1; fill:none\" points=\"649.765,147.058 793.676,147.058 \"/>\n",
       "<path clip-path=\"url(#clip010)\" d=\"M830.855 164.338 L817.661 129.778 L822.545 129.778 L833.494 158.875 L844.466 129.778 L849.328 129.778 L836.156 164.338 L830.855 164.338 Z\" fill=\"#000000\" fill-rule=\"nonzero\" fill-opacity=\"1\" /><path clip-path=\"url(#clip010)\" d=\"M855.601 160.402 L863.24 160.402 L863.24 134.037 L854.929 135.703 L854.929 131.444 L863.193 129.778 L867.869 129.778 L867.869 160.402 L875.508 160.402 L875.508 164.338 L855.601 164.338 L855.601 160.402 Z\" fill=\"#000000\" fill-rule=\"nonzero\" fill-opacity=\"1\" /><polyline clip-path=\"url(#clip010)\" style=\"stroke:#da2121; stroke-linecap:round; stroke-linejoin:round; stroke-width:4; stroke-opacity:1; fill:none\" points=\"649.765,198.898 793.676,198.898 \"/>\n",
       "<path clip-path=\"url(#clip010)\" d=\"M830.855 216.178 L817.661 181.618 L822.545 181.618 L833.494 210.715 L844.466 181.618 L849.328 181.618 L836.156 216.178 L830.855 216.178 Z\" fill=\"#000000\" fill-rule=\"nonzero\" fill-opacity=\"1\" /><path clip-path=\"url(#clip010)\" d=\"M858.818 212.242 L875.138 212.242 L875.138 216.178 L853.193 216.178 L853.193 212.242 Q855.855 209.488 860.439 204.858 Q865.045 200.205 866.226 198.863 Q868.471 196.34 869.351 194.604 Q870.253 192.844 870.253 191.155 Q870.253 188.4 868.309 186.664 Q866.388 184.928 863.286 184.928 Q861.087 184.928 858.633 185.692 Q856.203 186.455 853.425 188.006 L853.425 183.284 Q856.249 182.15 858.702 181.571 Q861.156 180.993 863.193 180.993 Q868.564 180.993 871.758 183.678 Q874.952 186.363 874.952 190.854 Q874.952 192.983 874.142 194.905 Q873.355 196.803 871.249 199.395 Q870.67 200.067 867.568 203.284 Q864.466 206.479 858.818 212.242 Z\" fill=\"#000000\" fill-rule=\"nonzero\" fill-opacity=\"1\" /></svg>\n"
      ]
     },
     "metadata": {},
     "execution_count": 17
    }
   ],
   "cell_type": "code",
   "source": [
    "push!(Vs, V1 - γ1)\n",
    "plot_lyapunovs(Vs, [1, 2])"
   ],
   "metadata": {},
   "execution_count": 17
  },
  {
   "cell_type": "markdown",
   "source": [
    "## Continue iterating"
   ],
   "metadata": {}
  },
  {
   "cell_type": "markdown",
   "source": [
    "We could now find a better state feedback controller with this new Lyapunov.\n",
    "Given the plot, we see that `γ` cannot be much improved, we mostly\n",
    "want to find a better `κ` so let's set `max_iters` to zero"
   ],
   "metadata": {}
  },
  {
   "outputs": [
    {
     "name": "stdout",
     "output_type": "stream",
     "text": [
      "[ Info: Bisection finished without a feasible controller, let's find one\n",
      "[ Info: Iteration 1/0 : Solving with CSDP for `γ = 0.5`\n",
      "[ Info: After 2.615131139755249 seconds, terminated with OPTIMAL (Problem solved to optimality.)\n",
      "[ Info: Feasible solution found : primal is FEASIBLE_POINT\n"
     ]
    }
   ],
   "cell_type": "code",
   "source": [
    "γ2, κ2, s3_2 = γ_step(solver, V0, γ1, [2, 2], 2, max_iters = 0)\n",
    "nothing # hide"
   ],
   "metadata": {},
   "execution_count": 18
  },
  {
   "cell_type": "markdown",
   "source": [
    "Let's see if this new controller allows to find a better Lyapunov."
   ],
   "metadata": {}
  },
  {
   "outputs": [
    {
     "output_type": "execute_result",
     "data": {
      "text/plain": "* Solver : CSDP\n\n* Status\n  Result count       : 1\n  Termination status : OPTIMAL\n  Message from the solver:\n  \"Problem solved to optimality.\"\n\n* Candidate solution (result #1)\n  Primal status      : FEASIBLE_POINT\n  Dual status        : FEASIBLE_POINT\n  Objective value    : 0.00000e+00\n  Dual objective value : 0.00000e+00\n\n* Work counters\n  Solve time (sec)   : 4.38686e+00\n"
     },
     "metadata": {},
     "execution_count": 19
    }
   ],
   "cell_type": "code",
   "source": [
    "model, V2 = V_step(solver, V0, γ2, κ2, s3_2)\n",
    "solution_summary(model)"
   ],
   "metadata": {},
   "execution_count": 19
  },
  {
   "cell_type": "markdown",
   "source": [
    "It does not seem that we gained any improvement so let's stop:"
   ],
   "metadata": {}
  },
  {
   "outputs": [
    {
     "output_type": "execute_result",
     "data": {
      "text/plain": "Plot{Plots.GRBackend() n=4}",
      "image/png": "[encoded data removed]",
      "text/html": [
       "<?xml version=\"1.0\" encoding=\"utf-8\"?>\n",
       "<svg xmlns=\"http://www.w3.org/2000/svg\" xmlns:xlink=\"http://www.w3.org/1999/xlink\" width=\"600\" height=\"400\" viewBox=\"0 0 2400 1600\">\n",
       "<defs>\n",
       "  <clipPath id=\"clip100\">\n",
       "    <rect x=\"0\" y=\"0\" width=\"2400\" height=\"1600\"/>\n",
       "  </clipPath>\n",
       "</defs>\n",
       "<path clip-path=\"url(#clip100)\" d=\"M0 1600 L2400 1600 L2400 0 L0 0  Z\" fill=\"#ffffff\" fill-rule=\"evenodd\" fill-opacity=\"1\"/>\n",
       "<defs>\n",
       "  <clipPath id=\"clip101\">\n",
       "    <rect x=\"480\" y=\"0\" width=\"1681\" height=\"1600\"/>\n",
       "  </clipPath>\n",
       "</defs>\n",
       "<path clip-path=\"url(#clip100)\" d=\"M553.825 1486.45 L1993.03 1486.45 L1993.03 47.2441 L553.825 47.2441  Z\" fill=\"#ffffff\" fill-rule=\"evenodd\" fill-opacity=\"1\"/>\n",
       "<defs>\n",
       "  <clipPath id=\"clip102\">\n",
       "    <rect x=\"553\" y=\"47\" width=\"1440\" height=\"1440\"/>\n",
       "  </clipPath>\n",
       "</defs>\n",
       "<polyline clip-path=\"url(#clip102)\" style=\"stroke:#000000; stroke-linecap:round; stroke-linejoin:round; stroke-width:2; stroke-opacity:0.1; fill:none\" points=\"668.719,1486.45 668.719,47.2441 \"/>\n",
       "<polyline clip-path=\"url(#clip102)\" style=\"stroke:#000000; stroke-linecap:round; stroke-linejoin:round; stroke-width:2; stroke-opacity:0.1; fill:none\" points=\"870.289,1486.45 870.289,47.2441 \"/>\n",
       "<polyline clip-path=\"url(#clip102)\" style=\"stroke:#000000; stroke-linecap:round; stroke-linejoin:round; stroke-width:2; stroke-opacity:0.1; fill:none\" points=\"1071.86,1486.45 1071.86,47.2441 \"/>\n",
       "<polyline clip-path=\"url(#clip102)\" style=\"stroke:#000000; stroke-linecap:round; stroke-linejoin:round; stroke-width:2; stroke-opacity:0.1; fill:none\" points=\"1273.43,1486.45 1273.43,47.2441 \"/>\n",
       "<polyline clip-path=\"url(#clip102)\" style=\"stroke:#000000; stroke-linecap:round; stroke-linejoin:round; stroke-width:2; stroke-opacity:0.1; fill:none\" points=\"1475,1486.45 1475,47.2441 \"/>\n",
       "<polyline clip-path=\"url(#clip102)\" style=\"stroke:#000000; stroke-linecap:round; stroke-linejoin:round; stroke-width:2; stroke-opacity:0.1; fill:none\" points=\"1676.57,1486.45 1676.57,47.2441 \"/>\n",
       "<polyline clip-path=\"url(#clip102)\" style=\"stroke:#000000; stroke-linecap:round; stroke-linejoin:round; stroke-width:2; stroke-opacity:0.1; fill:none\" points=\"1878.13,1486.45 1878.13,47.2441 \"/>\n",
       "<polyline clip-path=\"url(#clip100)\" style=\"stroke:#000000; stroke-linecap:round; stroke-linejoin:round; stroke-width:4; stroke-opacity:1; fill:none\" points=\"553.825,1486.45 1993.03,1486.45 \"/>\n",
       "<polyline clip-path=\"url(#clip100)\" style=\"stroke:#000000; stroke-linecap:round; stroke-linejoin:round; stroke-width:4; stroke-opacity:1; fill:none\" points=\"668.719,1486.45 668.719,1467.55 \"/>\n",
       "<polyline clip-path=\"url(#clip100)\" style=\"stroke:#000000; stroke-linecap:round; stroke-linejoin:round; stroke-width:4; stroke-opacity:1; fill:none\" points=\"870.289,1486.45 870.289,1467.55 \"/>\n",
       "<polyline clip-path=\"url(#clip100)\" style=\"stroke:#000000; stroke-linecap:round; stroke-linejoin:round; stroke-width:4; stroke-opacity:1; fill:none\" points=\"1071.86,1486.45 1071.86,1467.55 \"/>\n",
       "<polyline clip-path=\"url(#clip100)\" style=\"stroke:#000000; stroke-linecap:round; stroke-linejoin:round; stroke-width:4; stroke-opacity:1; fill:none\" points=\"1273.43,1486.45 1273.43,1467.55 \"/>\n",
       "<polyline clip-path=\"url(#clip100)\" style=\"stroke:#000000; stroke-linecap:round; stroke-linejoin:round; stroke-width:4; stroke-opacity:1; fill:none\" points=\"1475,1486.45 1475,1467.55 \"/>\n",
       "<polyline clip-path=\"url(#clip100)\" style=\"stroke:#000000; stroke-linecap:round; stroke-linejoin:round; stroke-width:4; stroke-opacity:1; fill:none\" points=\"1676.57,1486.45 1676.57,1467.55 \"/>\n",
       "<polyline clip-path=\"url(#clip100)\" style=\"stroke:#000000; stroke-linecap:round; stroke-linejoin:round; stroke-width:4; stroke-opacity:1; fill:none\" points=\"1878.13,1486.45 1878.13,1467.55 \"/>\n",
       "<path clip-path=\"url(#clip100)\" d=\"M615.745 1532.02 L645.421 1532.02 L645.421 1535.95 L615.745 1535.95 L615.745 1532.02 Z\" fill=\"#000000\" fill-rule=\"nonzero\" fill-opacity=\"1\" /><path clip-path=\"url(#clip100)\" d=\"M656.324 1544.91 L663.963 1544.91 L663.963 1518.55 L655.652 1520.21 L655.652 1515.95 L663.916 1514.29 L668.592 1514.29 L668.592 1544.91 L676.231 1544.91 L676.231 1548.85 L656.324 1548.85 L656.324 1544.91 Z\" fill=\"#000000\" fill-rule=\"nonzero\" fill-opacity=\"1\" /><path clip-path=\"url(#clip100)\" d=\"M685.675 1542.97 L690.56 1542.97 L690.56 1548.85 L685.675 1548.85 L685.675 1542.97 Z\" fill=\"#000000\" fill-rule=\"nonzero\" fill-opacity=\"1\" /><path clip-path=\"url(#clip100)\" d=\"M700.791 1514.29 L719.147 1514.29 L719.147 1518.22 L705.073 1518.22 L705.073 1526.7 Q706.092 1526.35 707.11 1526.19 Q708.129 1526 709.148 1526 Q714.935 1526 718.314 1529.17 Q721.694 1532.34 721.694 1537.76 Q721.694 1543.34 718.222 1546.44 Q714.749 1549.52 708.43 1549.52 Q706.254 1549.52 703.986 1549.15 Q701.74 1548.78 699.333 1548.04 L699.333 1543.34 Q701.416 1544.47 703.638 1545.03 Q705.861 1545.58 708.337 1545.58 Q712.342 1545.58 714.68 1543.48 Q717.018 1541.37 717.018 1537.76 Q717.018 1534.15 714.68 1532.04 Q712.342 1529.94 708.337 1529.94 Q706.462 1529.94 704.587 1530.35 Q702.736 1530.77 700.791 1531.65 L700.791 1514.29 Z\" fill=\"#000000\" fill-rule=\"nonzero\" fill-opacity=\"1\" /><path clip-path=\"url(#clip100)\" d=\"M816.817 1532.02 L846.492 1532.02 L846.492 1535.95 L816.817 1535.95 L816.817 1532.02 Z\" fill=\"#000000\" fill-rule=\"nonzero\" fill-opacity=\"1\" /><path clip-path=\"url(#clip100)\" d=\"M857.395 1544.91 L865.034 1544.91 L865.034 1518.55 L856.724 1520.21 L856.724 1515.95 L864.988 1514.29 L869.664 1514.29 L869.664 1544.91 L877.303 1544.91 L877.303 1548.85 L857.395 1548.85 L857.395 1544.91 Z\" fill=\"#000000\" fill-rule=\"nonzero\" fill-opacity=\"1\" /><path clip-path=\"url(#clip100)\" d=\"M886.747 1542.97 L891.631 1542.97 L891.631 1548.85 L886.747 1548.85 L886.747 1542.97 Z\" fill=\"#000000\" fill-rule=\"nonzero\" fill-opacity=\"1\" /><path clip-path=\"url(#clip100)\" d=\"M911.816 1517.37 Q908.205 1517.37 906.376 1520.93 Q904.571 1524.47 904.571 1531.6 Q904.571 1538.71 906.376 1542.27 Q908.205 1545.82 911.816 1545.82 Q915.45 1545.82 917.256 1542.27 Q919.085 1538.71 919.085 1531.6 Q919.085 1524.47 917.256 1520.93 Q915.45 1517.37 911.816 1517.37 M911.816 1513.66 Q917.626 1513.66 920.682 1518.27 Q923.761 1522.85 923.761 1531.6 Q923.761 1540.33 920.682 1544.94 Q917.626 1549.52 911.816 1549.52 Q906.006 1549.52 902.927 1544.94 Q899.872 1540.33 899.872 1531.6 Q899.872 1522.85 902.927 1518.27 Q906.006 1513.66 911.816 1513.66 Z\" fill=\"#000000\" fill-rule=\"nonzero\" fill-opacity=\"1\" /><path clip-path=\"url(#clip100)\" d=\"M1018.88 1532.02 L1048.56 1532.02 L1048.56 1535.95 L1018.88 1535.95 L1018.88 1532.02 Z\" fill=\"#000000\" fill-rule=\"nonzero\" fill-opacity=\"1\" /><path clip-path=\"url(#clip100)\" d=\"M1068.65 1517.37 Q1065.04 1517.37 1063.21 1520.93 Q1061.41 1524.47 1061.41 1531.6 Q1061.41 1538.71 1063.21 1542.27 Q1065.04 1545.82 1068.65 1545.82 Q1072.29 1545.82 1074.09 1542.27 Q1075.92 1538.71 1075.92 1531.6 Q1075.92 1524.47 1074.09 1520.93 Q1072.29 1517.37 1068.65 1517.37 M1068.65 1513.66 Q1074.46 1513.66 1077.52 1518.27 Q1080.6 1522.85 1080.6 1531.6 Q1080.6 1540.33 1077.52 1544.94 Q1074.46 1549.52 1068.65 1549.52 Q1062.84 1549.52 1059.76 1544.94 Q1056.71 1540.33 1056.71 1531.6 Q1056.71 1522.85 1059.76 1518.27 Q1062.84 1513.66 1068.65 1513.66 Z\" fill=\"#000000\" fill-rule=\"nonzero\" fill-opacity=\"1\" /><path clip-path=\"url(#clip100)\" d=\"M1088.81 1542.97 L1093.7 1542.97 L1093.7 1548.85 L1088.81 1548.85 L1088.81 1542.97 Z\" fill=\"#000000\" fill-rule=\"nonzero\" fill-opacity=\"1\" /><path clip-path=\"url(#clip100)\" d=\"M1103.93 1514.29 L1122.29 1514.29 L1122.29 1518.22 L1108.21 1518.22 L1108.21 1526.7 Q1109.23 1526.35 1110.25 1526.19 Q1111.27 1526 1112.29 1526 Q1118.07 1526 1121.45 1529.17 Q1124.83 1532.34 1124.83 1537.76 Q1124.83 1543.34 1121.36 1546.44 Q1117.89 1549.52 1111.57 1549.52 Q1109.39 1549.52 1107.12 1549.15 Q1104.88 1548.78 1102.47 1548.04 L1102.47 1543.34 Q1104.55 1544.47 1106.78 1545.03 Q1109 1545.58 1111.48 1545.58 Q1115.48 1545.58 1117.82 1543.48 Q1120.16 1541.37 1120.16 1537.76 Q1120.16 1534.15 1117.82 1532.04 Q1115.48 1529.94 1111.48 1529.94 Q1109.6 1529.94 1107.73 1530.35 Q1105.87 1530.77 1103.93 1531.65 L1103.93 1514.29 Z\" fill=\"#000000\" fill-rule=\"nonzero\" fill-opacity=\"1\" /><path clip-path=\"url(#clip100)\" d=\"M1250.81 1517.37 Q1247.2 1517.37 1245.37 1520.93 Q1243.57 1524.47 1243.57 1531.6 Q1243.57 1538.71 1245.37 1542.27 Q1247.2 1545.82 1250.81 1545.82 Q1254.45 1545.82 1256.25 1542.27 Q1258.08 1538.71 1258.08 1531.6 Q1258.08 1524.47 1256.25 1520.93 Q1254.45 1517.37 1250.81 1517.37 M1250.81 1513.66 Q1256.62 1513.66 1259.68 1518.27 Q1262.76 1522.85 1262.76 1531.6 Q1262.76 1540.33 1259.68 1544.94 Q1256.62 1549.52 1250.81 1549.52 Q1245 1549.52 1241.92 1544.94 Q1238.87 1540.33 1238.87 1531.6 Q1238.87 1522.85 1241.92 1518.27 Q1245 1513.66 1250.81 1513.66 Z\" fill=\"#000000\" fill-rule=\"nonzero\" fill-opacity=\"1\" /><path clip-path=\"url(#clip100)\" d=\"M1270.97 1542.97 L1275.86 1542.97 L1275.86 1548.85 L1270.97 1548.85 L1270.97 1542.97 Z\" fill=\"#000000\" fill-rule=\"nonzero\" fill-opacity=\"1\" /><path clip-path=\"url(#clip100)\" d=\"M1296.04 1517.37 Q1292.43 1517.37 1290.6 1520.93 Q1288.8 1524.47 1288.8 1531.6 Q1288.8 1538.71 1290.6 1542.27 Q1292.43 1545.82 1296.04 1545.82 Q1299.68 1545.82 1301.48 1542.27 Q1303.31 1538.71 1303.31 1531.6 Q1303.31 1524.47 1301.48 1520.93 Q1299.68 1517.37 1296.04 1517.37 M1296.04 1513.66 Q1301.85 1513.66 1304.91 1518.27 Q1307.99 1522.85 1307.99 1531.6 Q1307.99 1540.33 1304.91 1544.94 Q1301.85 1549.52 1296.04 1549.52 Q1290.23 1549.52 1287.15 1544.94 Q1284.1 1540.33 1284.1 1531.6 Q1284.1 1522.85 1287.15 1518.27 Q1290.23 1513.66 1296.04 1513.66 Z\" fill=\"#000000\" fill-rule=\"nonzero\" fill-opacity=\"1\" /><path clip-path=\"url(#clip100)\" d=\"M1452.88 1517.37 Q1449.27 1517.37 1447.44 1520.93 Q1445.63 1524.47 1445.63 1531.6 Q1445.63 1538.71 1447.44 1542.27 Q1449.27 1545.82 1452.88 1545.82 Q1456.51 1545.82 1458.32 1542.27 Q1460.15 1538.71 1460.15 1531.6 Q1460.15 1524.47 1458.32 1520.93 Q1456.51 1517.37 1452.88 1517.37 M1452.88 1513.66 Q1458.69 1513.66 1461.74 1518.27 Q1464.82 1522.85 1464.82 1531.6 Q1464.82 1540.33 1461.74 1544.94 Q1458.69 1549.52 1452.88 1549.52 Q1447.07 1549.52 1443.99 1544.94 Q1440.93 1540.33 1440.93 1531.6 Q1440.93 1522.85 1443.99 1518.27 Q1447.07 1513.66 1452.88 1513.66 Z\" fill=\"#000000\" fill-rule=\"nonzero\" fill-opacity=\"1\" /><path clip-path=\"url(#clip100)\" d=\"M1473.04 1542.97 L1477.92 1542.97 L1477.92 1548.85 L1473.04 1548.85 L1473.04 1542.97 Z\" fill=\"#000000\" fill-rule=\"nonzero\" fill-opacity=\"1\" /><path clip-path=\"url(#clip100)\" d=\"M1488.16 1514.29 L1506.51 1514.29 L1506.51 1518.22 L1492.44 1518.22 L1492.44 1526.7 Q1493.46 1526.35 1494.48 1526.19 Q1495.49 1526 1496.51 1526 Q1502.3 1526 1505.68 1529.17 Q1509.06 1532.34 1509.06 1537.76 Q1509.06 1543.34 1505.59 1546.44 Q1502.11 1549.52 1495.79 1549.52 Q1493.62 1549.52 1491.35 1549.15 Q1489.1 1548.78 1486.7 1548.04 L1486.7 1543.34 Q1488.78 1544.47 1491 1545.03 Q1493.23 1545.58 1495.7 1545.58 Q1499.71 1545.58 1502.04 1543.48 Q1504.38 1541.37 1504.38 1537.76 Q1504.38 1534.15 1502.04 1532.04 Q1499.71 1529.94 1495.7 1529.94 Q1493.83 1529.94 1491.95 1530.35 Q1490.1 1530.77 1488.16 1531.65 L1488.16 1514.29 Z\" fill=\"#000000\" fill-rule=\"nonzero\" fill-opacity=\"1\" /><path clip-path=\"url(#clip100)\" d=\"M1643.72 1544.91 L1651.36 1544.91 L1651.36 1518.55 L1643.05 1520.21 L1643.05 1515.95 L1651.31 1514.29 L1655.99 1514.29 L1655.99 1544.91 L1663.63 1544.91 L1663.63 1548.85 L1643.72 1548.85 L1643.72 1544.91 Z\" fill=\"#000000\" fill-rule=\"nonzero\" fill-opacity=\"1\" /><path clip-path=\"url(#clip100)\" d=\"M1673.07 1542.97 L1677.95 1542.97 L1677.95 1548.85 L1673.07 1548.85 L1673.07 1542.97 Z\" fill=\"#000000\" fill-rule=\"nonzero\" fill-opacity=\"1\" /><path clip-path=\"url(#clip100)\" d=\"M1698.14 1517.37 Q1694.53 1517.37 1692.7 1520.93 Q1690.89 1524.47 1690.89 1531.6 Q1690.89 1538.71 1692.7 1542.27 Q1694.53 1545.82 1698.14 1545.82 Q1701.77 1545.82 1703.58 1542.27 Q1705.41 1538.71 1705.41 1531.6 Q1705.41 1524.47 1703.58 1520.93 Q1701.77 1517.37 1698.14 1517.37 M1698.14 1513.66 Q1703.95 1513.66 1707 1518.27 Q1710.08 1522.85 1710.08 1531.6 Q1710.08 1540.33 1707 1544.94 Q1703.95 1549.52 1698.14 1549.52 Q1692.33 1549.52 1689.25 1544.94 Q1686.19 1540.33 1686.19 1531.6 Q1686.19 1522.85 1689.25 1518.27 Q1692.33 1513.66 1698.14 1513.66 Z\" fill=\"#000000\" fill-rule=\"nonzero\" fill-opacity=\"1\" /><path clip-path=\"url(#clip100)\" d=\"M1845.79 1544.91 L1853.42 1544.91 L1853.42 1518.55 L1845.11 1520.21 L1845.11 1515.95 L1853.38 1514.29 L1858.05 1514.29 L1858.05 1544.91 L1865.69 1544.91 L1865.69 1548.85 L1845.79 1548.85 L1845.79 1544.91 Z\" fill=\"#000000\" fill-rule=\"nonzero\" fill-opacity=\"1\" /><path clip-path=\"url(#clip100)\" d=\"M1875.14 1542.97 L1880.02 1542.97 L1880.02 1548.85 L1875.14 1548.85 L1875.14 1542.97 Z\" fill=\"#000000\" fill-rule=\"nonzero\" fill-opacity=\"1\" /><path clip-path=\"url(#clip100)\" d=\"M1890.25 1514.29 L1908.61 1514.29 L1908.61 1518.22 L1894.53 1518.22 L1894.53 1526.7 Q1895.55 1526.35 1896.57 1526.19 Q1897.59 1526 1898.61 1526 Q1904.4 1526 1907.78 1529.17 Q1911.16 1532.34 1911.16 1537.76 Q1911.16 1543.34 1907.68 1546.44 Q1904.21 1549.52 1897.89 1549.52 Q1895.72 1549.52 1893.45 1549.15 Q1891.2 1548.78 1888.79 1548.04 L1888.79 1543.34 Q1890.88 1544.47 1893.1 1545.03 Q1895.32 1545.58 1897.8 1545.58 Q1901.8 1545.58 1904.14 1543.48 Q1906.48 1541.37 1906.48 1537.76 Q1906.48 1534.15 1904.14 1532.04 Q1901.8 1529.94 1897.8 1529.94 Q1895.92 1529.94 1894.05 1530.35 Q1892.2 1530.77 1890.25 1531.65 L1890.25 1514.29 Z\" fill=\"#000000\" fill-rule=\"nonzero\" fill-opacity=\"1\" /><polyline clip-path=\"url(#clip102)\" style=\"stroke:#000000; stroke-linecap:round; stroke-linejoin:round; stroke-width:2; stroke-opacity:0.1; fill:none\" points=\"553.825,1250.61 1993.03,1250.61 \"/>\n",
       "<polyline clip-path=\"url(#clip102)\" style=\"stroke:#000000; stroke-linecap:round; stroke-linejoin:round; stroke-width:2; stroke-opacity:0.1; fill:none\" points=\"553.825,1008.73 1993.03,1008.73 \"/>\n",
       "<polyline clip-path=\"url(#clip102)\" style=\"stroke:#000000; stroke-linecap:round; stroke-linejoin:round; stroke-width:2; stroke-opacity:0.1; fill:none\" points=\"553.825,766.846 1993.03,766.846 \"/>\n",
       "<polyline clip-path=\"url(#clip102)\" style=\"stroke:#000000; stroke-linecap:round; stroke-linejoin:round; stroke-width:2; stroke-opacity:0.1; fill:none\" points=\"553.825,524.963 1993.03,524.963 \"/>\n",
       "<polyline clip-path=\"url(#clip102)\" style=\"stroke:#000000; stroke-linecap:round; stroke-linejoin:round; stroke-width:2; stroke-opacity:0.1; fill:none\" points=\"553.825,283.08 1993.03,283.08 \"/>\n",
       "<polyline clip-path=\"url(#clip100)\" style=\"stroke:#000000; stroke-linecap:round; stroke-linejoin:round; stroke-width:4; stroke-opacity:1; fill:none\" points=\"553.825,1486.45 553.825,47.2441 \"/>\n",
       "<polyline clip-path=\"url(#clip100)\" style=\"stroke:#000000; stroke-linecap:round; stroke-linejoin:round; stroke-width:4; stroke-opacity:1; fill:none\" points=\"553.825,1250.61 566.424,1250.61 \"/>\n",
       "<polyline clip-path=\"url(#clip100)\" style=\"stroke:#000000; stroke-linecap:round; stroke-linejoin:round; stroke-width:4; stroke-opacity:1; fill:none\" points=\"553.825,1008.73 566.424,1008.73 \"/>\n",
       "<polyline clip-path=\"url(#clip100)\" style=\"stroke:#000000; stroke-linecap:round; stroke-linejoin:round; stroke-width:4; stroke-opacity:1; fill:none\" points=\"553.825,766.846 566.424,766.846 \"/>\n",
       "<polyline clip-path=\"url(#clip100)\" style=\"stroke:#000000; stroke-linecap:round; stroke-linejoin:round; stroke-width:4; stroke-opacity:1; fill:none\" points=\"553.825,524.963 566.424,524.963 \"/>\n",
       "<polyline clip-path=\"url(#clip100)\" style=\"stroke:#000000; stroke-linecap:round; stroke-linejoin:round; stroke-width:4; stroke-opacity:1; fill:none\" points=\"553.825,283.08 566.424,283.08 \"/>\n",
       "<path clip-path=\"url(#clip100)\" d=\"M410.719 1251.06 L440.395 1251.06 L440.395 1255 L410.719 1255 L410.719 1251.06 Z\" fill=\"#000000\" fill-rule=\"nonzero\" fill-opacity=\"1\" /><path clip-path=\"url(#clip100)\" d=\"M460.487 1236.41 Q456.876 1236.41 455.048 1239.98 Q453.242 1243.52 453.242 1250.65 Q453.242 1257.75 455.048 1261.32 Q456.876 1264.86 460.487 1264.86 Q464.122 1264.86 465.927 1261.32 Q467.756 1257.75 467.756 1250.65 Q467.756 1243.52 465.927 1239.98 Q464.122 1236.41 460.487 1236.41 M460.487 1232.71 Q466.298 1232.71 469.353 1237.31 Q472.432 1241.9 472.432 1250.65 Q472.432 1259.37 469.353 1263.98 Q466.298 1268.56 460.487 1268.56 Q454.677 1268.56 451.599 1263.98 Q448.543 1259.37 448.543 1250.65 Q448.543 1241.9 451.599 1237.31 Q454.677 1232.71 460.487 1232.71 Z\" fill=\"#000000\" fill-rule=\"nonzero\" fill-opacity=\"1\" /><path clip-path=\"url(#clip100)\" d=\"M480.649 1262.01 L485.534 1262.01 L485.534 1267.89 L480.649 1267.89 L480.649 1262.01 Z\" fill=\"#000000\" fill-rule=\"nonzero\" fill-opacity=\"1\" /><path clip-path=\"url(#clip100)\" d=\"M506.297 1248.75 Q503.149 1248.75 501.297 1250.9 Q499.469 1253.05 499.469 1256.8 Q499.469 1260.53 501.297 1262.71 Q503.149 1264.86 506.297 1264.86 Q509.445 1264.86 511.274 1262.71 Q513.126 1260.53 513.126 1256.8 Q513.126 1253.05 511.274 1250.9 Q509.445 1248.75 506.297 1248.75 M515.58 1234.1 L515.58 1238.36 Q513.82 1237.52 512.015 1237.08 Q510.233 1236.64 508.473 1236.64 Q503.844 1236.64 501.39 1239.77 Q498.959 1242.89 498.612 1249.21 Q499.978 1247.2 502.038 1246.13 Q504.098 1245.04 506.575 1245.04 Q511.783 1245.04 514.793 1248.22 Q517.825 1251.36 517.825 1256.8 Q517.825 1262.13 514.677 1265.35 Q511.529 1268.56 506.297 1268.56 Q500.302 1268.56 497.131 1263.98 Q493.959 1259.37 493.959 1250.65 Q493.959 1242.45 497.848 1237.59 Q501.737 1232.71 508.288 1232.71 Q510.047 1232.71 511.83 1233.05 Q513.635 1233.4 515.58 1234.1 Z\" fill=\"#000000\" fill-rule=\"nonzero\" fill-opacity=\"1\" /><path clip-path=\"url(#clip100)\" d=\"M411.529 1009.18 L441.205 1009.18 L441.205 1013.12 L411.529 1013.12 L411.529 1009.18 Z\" fill=\"#000000\" fill-rule=\"nonzero\" fill-opacity=\"1\" /><path clip-path=\"url(#clip100)\" d=\"M461.298 994.528 Q457.687 994.528 455.858 998.092 Q454.052 1001.63 454.052 1008.76 Q454.052 1015.87 455.858 1019.43 Q457.687 1022.98 461.298 1022.98 Q464.932 1022.98 466.737 1019.43 Q468.566 1015.87 468.566 1008.76 Q468.566 1001.63 466.737 998.092 Q464.932 994.528 461.298 994.528 M461.298 990.824 Q467.108 990.824 470.163 995.43 Q473.242 1000.01 473.242 1008.76 Q473.242 1017.49 470.163 1022.1 Q467.108 1026.68 461.298 1026.68 Q455.487 1026.68 452.409 1022.1 Q449.353 1017.49 449.353 1008.76 Q449.353 1000.01 452.409 995.43 Q455.487 990.824 461.298 990.824 Z\" fill=\"#000000\" fill-rule=\"nonzero\" fill-opacity=\"1\" /><path clip-path=\"url(#clip100)\" d=\"M481.46 1020.13 L486.344 1020.13 L486.344 1026.01 L481.46 1026.01 L481.46 1020.13 Z\" fill=\"#000000\" fill-rule=\"nonzero\" fill-opacity=\"1\" /><path clip-path=\"url(#clip100)\" d=\"M510.695 1007.37 Q514.052 1008.09 515.927 1010.36 Q517.825 1012.63 517.825 1015.96 Q517.825 1021.08 514.307 1023.88 Q510.788 1026.68 504.307 1026.68 Q502.131 1026.68 499.816 1026.24 Q497.524 1025.82 495.071 1024.97 L495.071 1020.45 Q497.015 1021.59 499.33 1022.17 Q501.645 1022.75 504.168 1022.75 Q508.566 1022.75 510.858 1021.01 Q513.172 1019.27 513.172 1015.96 Q513.172 1012.91 511.02 1011.19 Q508.89 1009.46 505.071 1009.46 L501.043 1009.46 L501.043 1005.62 L505.256 1005.62 Q508.705 1005.62 510.533 1004.25 Q512.362 1002.86 512.362 1000.27 Q512.362 997.606 510.464 996.194 Q508.589 994.759 505.071 994.759 Q503.149 994.759 500.95 995.176 Q498.751 995.592 496.112 996.472 L496.112 992.305 Q498.774 991.565 501.089 991.194 Q503.427 990.824 505.487 990.824 Q510.811 990.824 513.913 993.255 Q517.015 995.662 517.015 999.782 Q517.015 1002.65 515.371 1004.64 Q513.728 1006.61 510.695 1007.37 Z\" fill=\"#000000\" fill-rule=\"nonzero\" fill-opacity=\"1\" /><path clip-path=\"url(#clip100)\" d=\"M460.649 752.645 Q457.038 752.645 455.21 756.209 Q453.404 759.751 453.404 766.881 Q453.404 773.987 455.21 777.552 Q457.038 781.094 460.649 781.094 Q464.284 781.094 466.089 777.552 Q467.918 773.987 467.918 766.881 Q467.918 759.751 466.089 756.209 Q464.284 752.645 460.649 752.645 M460.649 748.941 Q466.46 748.941 469.515 753.547 Q472.594 758.131 472.594 766.881 Q472.594 775.608 469.515 780.214 Q466.46 784.797 460.649 784.797 Q454.839 784.797 451.761 780.214 Q448.705 775.608 448.705 766.881 Q448.705 758.131 451.761 753.547 Q454.839 748.941 460.649 748.941 Z\" fill=\"#000000\" fill-rule=\"nonzero\" fill-opacity=\"1\" /><path clip-path=\"url(#clip100)\" d=\"M480.811 778.246 L485.696 778.246 L485.696 784.126 L480.811 784.126 L480.811 778.246 Z\" fill=\"#000000\" fill-rule=\"nonzero\" fill-opacity=\"1\" /><path clip-path=\"url(#clip100)\" d=\"M505.881 752.645 Q502.27 752.645 500.441 756.209 Q498.635 759.751 498.635 766.881 Q498.635 773.987 500.441 777.552 Q502.27 781.094 505.881 781.094 Q509.515 781.094 511.32 777.552 Q513.149 773.987 513.149 766.881 Q513.149 759.751 511.32 756.209 Q509.515 752.645 505.881 752.645 M505.881 748.941 Q511.691 748.941 514.746 753.547 Q517.825 758.131 517.825 766.881 Q517.825 775.608 514.746 780.214 Q511.691 784.797 505.881 784.797 Q500.071 784.797 496.992 780.214 Q493.936 775.608 493.936 766.881 Q493.936 758.131 496.992 753.547 Q500.071 748.941 505.881 748.941 Z\" fill=\"#000000\" fill-rule=\"nonzero\" fill-opacity=\"1\" /><path clip-path=\"url(#clip100)\" d=\"M461.298 510.762 Q457.687 510.762 455.858 514.326 Q454.052 517.868 454.052 524.998 Q454.052 532.104 455.858 535.669 Q457.687 539.211 461.298 539.211 Q464.932 539.211 466.737 535.669 Q468.566 532.104 468.566 524.998 Q468.566 517.868 466.737 514.326 Q464.932 510.762 461.298 510.762 M461.298 507.058 Q467.108 507.058 470.163 511.664 Q473.242 516.248 473.242 524.998 Q473.242 533.725 470.163 538.331 Q467.108 542.914 461.298 542.914 Q455.487 542.914 452.409 538.331 Q449.353 533.725 449.353 524.998 Q449.353 516.248 452.409 511.664 Q455.487 507.058 461.298 507.058 Z\" fill=\"#000000\" fill-rule=\"nonzero\" fill-opacity=\"1\" /><path clip-path=\"url(#clip100)\" d=\"M481.46 536.363 L486.344 536.363 L486.344 542.243 L481.46 542.243 L481.46 536.363 Z\" fill=\"#000000\" fill-rule=\"nonzero\" fill-opacity=\"1\" /><path clip-path=\"url(#clip100)\" d=\"M510.695 523.609 Q514.052 524.326 515.927 526.595 Q517.825 528.863 517.825 532.197 Q517.825 537.312 514.307 540.113 Q510.788 542.914 504.307 542.914 Q502.131 542.914 499.816 542.474 Q497.524 542.058 495.071 541.201 L495.071 536.687 Q497.015 537.822 499.33 538.4 Q501.645 538.979 504.168 538.979 Q508.566 538.979 510.858 537.243 Q513.172 535.507 513.172 532.197 Q513.172 529.141 511.02 527.428 Q508.89 525.692 505.071 525.692 L501.043 525.692 L501.043 521.85 L505.256 521.85 Q508.705 521.85 510.533 520.484 Q512.362 519.095 512.362 516.502 Q512.362 513.84 510.464 512.428 Q508.589 510.993 505.071 510.993 Q503.149 510.993 500.95 511.41 Q498.751 511.826 496.112 512.706 L496.112 508.539 Q498.774 507.799 501.089 507.428 Q503.427 507.058 505.487 507.058 Q510.811 507.058 513.913 509.489 Q517.015 511.896 517.015 516.016 Q517.015 518.887 515.371 520.877 Q513.728 522.845 510.695 523.609 Z\" fill=\"#000000\" fill-rule=\"nonzero\" fill-opacity=\"1\" /><path clip-path=\"url(#clip100)\" d=\"M460.487 268.879 Q456.876 268.879 455.048 272.443 Q453.242 275.985 453.242 283.115 Q453.242 290.221 455.048 293.786 Q456.876 297.328 460.487 297.328 Q464.122 297.328 465.927 293.786 Q467.756 290.221 467.756 283.115 Q467.756 275.985 465.927 272.443 Q464.122 268.879 460.487 268.879 M460.487 265.175 Q466.298 265.175 469.353 269.781 Q472.432 274.365 472.432 283.115 Q472.432 291.842 469.353 296.448 Q466.298 301.031 460.487 301.031 Q454.677 301.031 451.599 296.448 Q448.543 291.842 448.543 283.115 Q448.543 274.365 451.599 269.781 Q454.677 265.175 460.487 265.175 Z\" fill=\"#000000\" fill-rule=\"nonzero\" fill-opacity=\"1\" /><path clip-path=\"url(#clip100)\" d=\"M480.649 294.48 L485.534 294.48 L485.534 300.36 L480.649 300.36 L480.649 294.48 Z\" fill=\"#000000\" fill-rule=\"nonzero\" fill-opacity=\"1\" /><path clip-path=\"url(#clip100)\" d=\"M506.297 281.217 Q503.149 281.217 501.297 283.369 Q499.469 285.522 499.469 289.272 Q499.469 292.999 501.297 295.175 Q503.149 297.328 506.297 297.328 Q509.445 297.328 511.274 295.175 Q513.126 292.999 513.126 289.272 Q513.126 285.522 511.274 283.369 Q509.445 281.217 506.297 281.217 M515.58 266.564 L515.58 270.823 Q513.82 269.99 512.015 269.55 Q510.233 269.11 508.473 269.11 Q503.844 269.11 501.39 272.235 Q498.959 275.36 498.612 281.68 Q499.978 279.666 502.038 278.601 Q504.098 277.513 506.575 277.513 Q511.783 277.513 514.793 280.684 Q517.825 283.832 517.825 289.272 Q517.825 294.596 514.677 297.814 Q511.529 301.031 506.297 301.031 Q500.302 301.031 497.131 296.448 Q493.959 291.842 493.959 283.115 Q493.959 274.92 497.848 270.059 Q501.737 265.175 508.288 265.175 Q510.047 265.175 511.83 265.522 Q513.635 265.869 515.58 266.564 Z\" fill=\"#000000\" fill-rule=\"nonzero\" fill-opacity=\"1\" /><polyline clip-path=\"url(#clip102)\" style=\"stroke:#000000; stroke-linecap:round; stroke-linejoin:round; stroke-width:4; stroke-opacity:1; fill:none\" points=\"1958.76,81.5109 588.092,81.5109 588.092,1452.18 1958.76,1452.18 1958.76,81.5109 \"/>\n",
       "<polyline clip-path=\"url(#clip102)\" style=\"stroke:#781b86; stroke-linecap:round; stroke-linejoin:round; stroke-width:4; stroke-opacity:1; fill:none\" points=\"1225.05,851.59 1227.02,854.121 1231.06,858.88 1231.78,859.661 1235.09,862.911 1239.13,866.48 1240.72,867.731 1243.16,869.505 1247.2,872.068 1251.23,874.265 1254.62,875.802 1255.27,876.074 1259.3,877.434 1263.34,878.454 1267.37,879.134 1271.41,879.474 1275.44,879.474 1279.48,879.134 1283.52,878.454 1287.55,877.434 1291.59,876.074 1292.23,875.802 1295.62,874.265 1299.66,872.068 1303.69,869.505 1306.14,867.731 1307.73,866.48 1311.76,862.911 1315.07,859.661 1315.8,858.88 1319.83,854.121 1321.8,851.59 1323.87,848.663 1327.22,843.519 1327.91,842.36 1331.67,835.448 1331.94,834.895 1335.34,827.377 1335.98,825.771 1338.37,819.306 1340.01,814.158 1340.89,811.236 1342.9,803.165 1344.05,797.41 1344.48,795.094 1345.62,787.023 1346.38,778.952 1346.76,770.881 1346.76,762.811 1346.38,754.74 1345.62,746.669 1344.48,738.598 1344.05,736.282 1342.9,730.527 1340.89,722.456 1340.01,719.534 1338.37,714.386 1335.98,707.921 1335.34,706.315 1331.94,698.796 1331.67,698.244 1327.91,691.332 1327.22,690.173 1323.87,685.029 1321.8,682.102 1319.83,679.571 1315.8,674.812 1315.07,674.031 1311.76,670.781 1307.73,667.212 1306.14,665.961 1303.69,664.187 1299.66,661.624 1295.62,659.427 1292.23,657.89 1291.59,657.618 1287.55,656.258 1283.52,655.238 1279.48,654.558 1275.44,654.218 1271.41,654.218 1267.37,654.558 1263.34,655.238 1259.3,656.258 1255.27,657.618 1254.62,657.89 1251.23,659.427 1247.2,661.624 1243.16,664.187 1240.72,665.961 1239.13,667.212 1235.09,670.781 1231.78,674.031 1231.06,674.812 1227.02,679.571 1225.05,682.102 1222.98,685.029 1219.63,690.173 1218.95,691.332 1215.18,698.244 1214.91,698.796 1211.51,706.315 1210.88,707.921 1208.48,714.386 1206.84,719.534 1205.97,722.456 1203.96,730.527 1202.81,736.282 1202.37,738.598 1201.23,746.669 1200.47,754.74 1200.09,762.811 1200.09,770.881 1200.47,778.952 1201.23,787.023 1202.37,795.094 1202.81,797.41 1203.96,803.165 1205.97,811.236 1206.84,814.158 1208.48,819.306 1210.88,825.771 1211.51,827.377 1214.91,834.895 1215.18,835.448 1218.95,842.36 1219.63,843.519 1222.98,848.663 1225.05,851.59 \"/>\n",
       "<polyline clip-path=\"url(#clip102)\" style=\"stroke:#82ba70; stroke-linecap:round; stroke-linejoin:round; stroke-width:4; stroke-opacity:1; fill:none\" points=\"1343.51,827.377 1341.49,835.448 1340.01,840.697 1339.17,843.519 1336.49,851.59 1335.98,852.985 1333.37,859.661 1331.94,863.031 1329.8,867.731 1327.91,871.568 1325.65,875.802 1323.87,878.919 1320.8,883.873 1319.83,885.322 1315.8,890.889 1314.96,891.944 1311.76,895.7 1307.73,899.97 1307.68,900.015 1303.69,903.545 1299.66,906.671 1297.53,908.086 1295.62,909.28 1291.59,911.388 1287.55,913.075 1283.52,914.341 1279.48,915.184 1275.44,915.606 1271.41,915.606 1267.37,915.184 1263.34,914.341 1259.3,913.075 1255.27,911.388 1251.23,909.28 1249.33,908.086 1247.2,906.671 1243.16,903.545 1239.17,900.015 1239.13,899.97 1235.09,895.7 1231.9,891.944 1231.06,890.889 1227.02,885.322 1226.06,883.873 1222.98,878.919 1221.2,875.802 1218.95,871.568 1217.06,867.731 1214.91,863.031 1213.48,859.661 1210.88,852.985 1210.37,851.59 1207.69,843.519 1206.84,840.697 1205.37,835.448 1203.35,827.377 1202.81,824.913 1201.65,819.306 1200.22,811.236 1199.03,803.165 1198.77,801.011 1198.11,795.094 1197.43,787.023 1196.98,778.952 1196.75,770.881 1196.75,762.811 1196.98,754.74 1197.43,746.669 1198.11,738.598 1198.77,732.681 1199.03,730.527 1200.22,722.456 1201.65,714.386 1202.81,708.779 1203.35,706.315 1205.37,698.244 1206.84,692.995 1207.69,690.173 1210.37,682.102 1210.88,680.707 1213.48,674.031 1214.91,670.661 1217.06,665.961 1218.95,662.124 1221.2,657.89 1222.98,654.773 1226.06,649.819 1227.02,648.37 1231.06,642.803 1231.9,641.748 1235.09,637.992 1239.13,633.722 1239.17,633.677 1243.16,630.147 1247.2,627.021 1249.33,625.606 1251.23,624.412 1255.27,622.304 1259.3,620.617 1263.34,619.351 1267.37,618.508 1271.41,618.086 1275.44,618.086 1279.48,618.508 1283.52,619.351 1287.55,620.617 1291.59,622.304 1295.62,624.412 1297.53,625.606 1299.66,627.021 1303.69,630.147 1307.68,633.677 1307.73,633.722 1311.76,637.992 1314.96,641.748 1315.8,642.803 1319.83,648.37 1320.8,649.819 1323.87,654.773 1325.65,657.89 1327.91,662.124 1329.8,665.961 1331.94,670.661 1333.37,674.031 1335.98,680.707 1336.49,682.102 1339.17,690.173 1340.01,692.995 1341.49,698.244 1343.51,706.315 1344.05,708.779 1345.21,714.386 1346.64,722.456 1347.83,730.527 1348.08,732.681 1348.74,738.598 1349.42,746.669 1349.87,754.74 1350.1,762.811 1350.1,770.881 1349.87,778.952 1349.42,787.023 1348.74,795.094 1348.08,801.011 1347.83,803.165 1346.64,811.236 1345.21,819.306 1344.05,824.913 1343.51,827.377 \"/>\n",
       "<polyline clip-path=\"url(#clip102)\" style=\"stroke:#da2121; stroke-linecap:round; stroke-linejoin:round; stroke-width:4; stroke-opacity:1; fill:none\" points=\"1343.51,827.377 1341.49,835.448 1340.01,840.697 1339.17,843.519 1336.49,851.59 1335.98,852.985 1333.37,859.661 1331.94,863.031 1329.8,867.731 1327.91,871.568 1325.65,875.802 1323.87,878.919 1320.8,883.873 1319.83,885.322 1315.8,890.889 1314.96,891.944 1311.76,895.7 1307.73,899.97 1307.68,900.015 1303.69,903.545 1299.66,906.671 1297.53,908.086 1295.62,909.28 1291.59,911.388 1287.55,913.075 1283.52,914.341 1279.48,915.184 1275.44,915.606 1271.41,915.606 1267.37,915.184 1263.34,914.341 1259.3,913.075 1255.27,911.388 1251.23,909.28 1249.33,908.086 1247.2,906.671 1243.16,903.545 1239.17,900.015 1239.13,899.97 1235.09,895.7 1231.9,891.944 1231.06,890.889 1227.02,885.322 1226.06,883.873 1222.98,878.919 1221.2,875.802 1218.95,871.568 1217.06,867.731 1214.91,863.031 1213.48,859.661 1210.88,852.985 1210.37,851.59 1207.69,843.519 1206.84,840.697 1205.37,835.448 1203.35,827.377 1202.81,824.913 1201.65,819.306 1200.22,811.236 1199.03,803.165 1198.77,801.011 1198.11,795.094 1197.43,787.023 1196.98,778.952 1196.75,770.881 1196.75,762.811 1196.98,754.74 1197.43,746.669 1198.11,738.598 1198.77,732.681 1199.03,730.527 1200.22,722.456 1201.65,714.386 1202.81,708.779 1203.35,706.315 1205.37,698.244 1206.84,692.995 1207.69,690.173 1210.37,682.102 1210.88,680.707 1213.48,674.031 1214.91,670.661 1217.06,665.961 1218.95,662.124 1221.2,657.89 1222.98,654.773 1226.06,649.819 1227.02,648.37 1231.06,642.803 1231.9,641.748 1235.09,637.992 1239.13,633.722 1239.17,633.677 1243.16,630.147 1247.2,627.021 1249.33,625.606 1251.23,624.412 1255.27,622.304 1259.3,620.617 1263.34,619.351 1267.37,618.508 1271.41,618.086 1275.44,618.086 1279.48,618.508 1283.52,619.351 1287.55,620.617 1291.59,622.304 1295.62,624.412 1297.53,625.606 1299.66,627.021 1303.69,630.147 1307.68,633.677 1307.73,633.722 1311.76,637.992 1314.96,641.748 1315.8,642.803 1319.83,648.37 1320.8,649.819 1323.87,654.773 1325.65,657.89 1327.91,662.124 1329.8,665.961 1331.94,670.661 1333.37,674.031 1335.98,680.707 1336.49,682.102 1339.17,690.173 1340.01,692.995 1341.49,698.244 1343.51,706.315 1344.05,708.779 1345.21,714.386 1346.64,722.456 1347.83,730.527 1348.08,732.681 1348.74,738.598 1349.42,746.669 1349.87,754.74 1350.1,762.811 1350.1,770.881 1349.87,778.952 1349.42,787.023 1348.74,795.094 1348.08,801.011 1347.83,803.165 1346.64,811.236 1345.21,819.306 1344.05,824.913 1343.51,827.377 \"/>\n",
       "<path clip-path=\"url(#clip100)\" d=\"M625.78 302.578 L900.072 302.578 L900.072 95.2176 L625.78 95.2176  Z\" fill=\"#ffffff\" fill-rule=\"evenodd\" fill-opacity=\"1\"/>\n",
       "<polyline clip-path=\"url(#clip100)\" style=\"stroke:#000000; stroke-linecap:round; stroke-linejoin:round; stroke-width:4; stroke-opacity:1; fill:none\" points=\"625.78,302.578 900.072,302.578 900.072,95.2176 625.78,95.2176 625.78,302.578 \"/>\n",
       "<polyline clip-path=\"url(#clip100)\" style=\"stroke:#781b86; stroke-linecap:round; stroke-linejoin:round; stroke-width:4; stroke-opacity:1; fill:none\" points=\"649.765,147.058 793.676,147.058 \"/>\n",
       "<path clip-path=\"url(#clip100)\" d=\"M830.855 164.338 L817.661 129.778 L822.545 129.778 L833.494 158.875 L844.466 129.778 L849.328 129.778 L836.156 164.338 L830.855 164.338 Z\" fill=\"#000000\" fill-rule=\"nonzero\" fill-opacity=\"1\" /><path clip-path=\"url(#clip100)\" d=\"M855.601 160.402 L863.24 160.402 L863.24 134.037 L854.929 135.703 L854.929 131.444 L863.193 129.778 L867.869 129.778 L867.869 160.402 L875.508 160.402 L875.508 164.338 L855.601 164.338 L855.601 160.402 Z\" fill=\"#000000\" fill-rule=\"nonzero\" fill-opacity=\"1\" /><polyline clip-path=\"url(#clip100)\" style=\"stroke:#82ba70; stroke-linecap:round; stroke-linejoin:round; stroke-width:4; stroke-opacity:1; fill:none\" points=\"649.765,198.898 793.676,198.898 \"/>\n",
       "<path clip-path=\"url(#clip100)\" d=\"M830.855 216.178 L817.661 181.618 L822.545 181.618 L833.494 210.715 L844.466 181.618 L849.328 181.618 L836.156 216.178 L830.855 216.178 Z\" fill=\"#000000\" fill-rule=\"nonzero\" fill-opacity=\"1\" /><path clip-path=\"url(#clip100)\" d=\"M858.818 212.242 L875.138 212.242 L875.138 216.178 L853.193 216.178 L853.193 212.242 Q855.855 209.488 860.439 204.858 Q865.045 200.205 866.226 198.863 Q868.471 196.34 869.351 194.604 Q870.253 192.844 870.253 191.155 Q870.253 188.4 868.309 186.664 Q866.388 184.928 863.286 184.928 Q861.087 184.928 858.633 185.692 Q856.203 186.455 853.425 188.006 L853.425 183.284 Q856.249 182.15 858.702 181.571 Q861.156 180.993 863.193 180.993 Q868.564 180.993 871.758 183.678 Q874.952 186.363 874.952 190.854 Q874.952 192.983 874.142 194.905 Q873.355 196.803 871.249 199.395 Q870.67 200.067 867.568 203.284 Q864.466 206.479 858.818 212.242 Z\" fill=\"#000000\" fill-rule=\"nonzero\" fill-opacity=\"1\" /><polyline clip-path=\"url(#clip100)\" style=\"stroke:#da2121; stroke-linecap:round; stroke-linejoin:round; stroke-width:4; stroke-opacity:1; fill:none\" points=\"649.765,250.738 793.676,250.738 \"/>\n",
       "<path clip-path=\"url(#clip100)\" d=\"M830.855 268.018 L817.661 233.458 L822.545 233.458 L833.494 262.555 L844.466 233.458 L849.328 233.458 L836.156 268.018 L830.855 268.018 Z\" fill=\"#000000\" fill-rule=\"nonzero\" fill-opacity=\"1\" /><path clip-path=\"url(#clip100)\" d=\"M868.957 249.383 Q872.314 250.101 874.189 252.369 Q876.087 254.638 876.087 257.971 Q876.087 263.087 872.568 265.888 Q869.05 268.689 862.568 268.689 Q860.392 268.689 858.077 268.249 Q855.786 267.832 853.332 266.976 L853.332 262.462 Q855.277 263.596 857.591 264.175 Q859.906 264.754 862.429 264.754 Q866.827 264.754 869.119 263.018 Q871.434 261.281 871.434 257.971 Q871.434 254.916 869.281 253.203 Q867.152 251.467 863.332 251.467 L859.304 251.467 L859.304 247.624 L863.517 247.624 Q866.966 247.624 868.795 246.258 Q870.624 244.87 870.624 242.277 Q870.624 239.615 868.726 238.203 Q866.851 236.768 863.332 236.768 Q861.411 236.768 859.212 237.184 Q857.013 237.601 854.374 238.481 L854.374 234.314 Q857.036 233.573 859.351 233.203 Q861.689 232.833 863.749 232.833 Q869.073 232.833 872.175 235.263 Q875.276 237.67 875.276 241.791 Q875.276 244.661 873.633 246.652 Q871.989 248.62 868.957 249.383 Z\" fill=\"#000000\" fill-rule=\"nonzero\" fill-opacity=\"1\" /></svg>\n"
      ],
      "image/svg+xml": [
       "<?xml version=\"1.0\" encoding=\"utf-8\"?>\n",
       "<svg xmlns=\"http://www.w3.org/2000/svg\" xmlns:xlink=\"http://www.w3.org/1999/xlink\" width=\"600\" height=\"400\" viewBox=\"0 0 2400 1600\">\n",
       "<defs>\n",
       "  <clipPath id=\"clip070\">\n",
       "    <rect x=\"0\" y=\"0\" width=\"2400\" height=\"1600\"/>\n",
       "  </clipPath>\n",
       "</defs>\n",
       "<path clip-path=\"url(#clip070)\" d=\"M0 1600 L2400 1600 L2400 0 L0 0  Z\" fill=\"#ffffff\" fill-rule=\"evenodd\" fill-opacity=\"1\"/>\n",
       "<defs>\n",
       "  <clipPath id=\"clip071\">\n",
       "    <rect x=\"480\" y=\"0\" width=\"1681\" height=\"1600\"/>\n",
       "  </clipPath>\n",
       "</defs>\n",
       "<path clip-path=\"url(#clip070)\" d=\"M553.825 1486.45 L1993.03 1486.45 L1993.03 47.2441 L553.825 47.2441  Z\" fill=\"#ffffff\" fill-rule=\"evenodd\" fill-opacity=\"1\"/>\n",
       "<defs>\n",
       "  <clipPath id=\"clip072\">\n",
       "    <rect x=\"553\" y=\"47\" width=\"1440\" height=\"1440\"/>\n",
       "  </clipPath>\n",
       "</defs>\n",
       "<polyline clip-path=\"url(#clip072)\" style=\"stroke:#000000; stroke-linecap:round; stroke-linejoin:round; stroke-width:2; stroke-opacity:0.1; fill:none\" points=\"668.719,1486.45 668.719,47.2441 \"/>\n",
       "<polyline clip-path=\"url(#clip072)\" style=\"stroke:#000000; stroke-linecap:round; stroke-linejoin:round; stroke-width:2; stroke-opacity:0.1; fill:none\" points=\"870.289,1486.45 870.289,47.2441 \"/>\n",
       "<polyline clip-path=\"url(#clip072)\" style=\"stroke:#000000; stroke-linecap:round; stroke-linejoin:round; stroke-width:2; stroke-opacity:0.1; fill:none\" points=\"1071.86,1486.45 1071.86,47.2441 \"/>\n",
       "<polyline clip-path=\"url(#clip072)\" style=\"stroke:#000000; stroke-linecap:round; stroke-linejoin:round; stroke-width:2; stroke-opacity:0.1; fill:none\" points=\"1273.43,1486.45 1273.43,47.2441 \"/>\n",
       "<polyline clip-path=\"url(#clip072)\" style=\"stroke:#000000; stroke-linecap:round; stroke-linejoin:round; stroke-width:2; stroke-opacity:0.1; fill:none\" points=\"1475,1486.45 1475,47.2441 \"/>\n",
       "<polyline clip-path=\"url(#clip072)\" style=\"stroke:#000000; stroke-linecap:round; stroke-linejoin:round; stroke-width:2; stroke-opacity:0.1; fill:none\" points=\"1676.57,1486.45 1676.57,47.2441 \"/>\n",
       "<polyline clip-path=\"url(#clip072)\" style=\"stroke:#000000; stroke-linecap:round; stroke-linejoin:round; stroke-width:2; stroke-opacity:0.1; fill:none\" points=\"1878.13,1486.45 1878.13,47.2441 \"/>\n",
       "<polyline clip-path=\"url(#clip070)\" style=\"stroke:#000000; stroke-linecap:round; stroke-linejoin:round; stroke-width:4; stroke-opacity:1; fill:none\" points=\"553.825,1486.45 1993.03,1486.45 \"/>\n",
       "<polyline clip-path=\"url(#clip070)\" style=\"stroke:#000000; stroke-linecap:round; stroke-linejoin:round; stroke-width:4; stroke-opacity:1; fill:none\" points=\"668.719,1486.45 668.719,1467.55 \"/>\n",
       "<polyline clip-path=\"url(#clip070)\" style=\"stroke:#000000; stroke-linecap:round; stroke-linejoin:round; stroke-width:4; stroke-opacity:1; fill:none\" points=\"870.289,1486.45 870.289,1467.55 \"/>\n",
       "<polyline clip-path=\"url(#clip070)\" style=\"stroke:#000000; stroke-linecap:round; stroke-linejoin:round; stroke-width:4; stroke-opacity:1; fill:none\" points=\"1071.86,1486.45 1071.86,1467.55 \"/>\n",
       "<polyline clip-path=\"url(#clip070)\" style=\"stroke:#000000; stroke-linecap:round; stroke-linejoin:round; stroke-width:4; stroke-opacity:1; fill:none\" points=\"1273.43,1486.45 1273.43,1467.55 \"/>\n",
       "<polyline clip-path=\"url(#clip070)\" style=\"stroke:#000000; stroke-linecap:round; stroke-linejoin:round; stroke-width:4; stroke-opacity:1; fill:none\" points=\"1475,1486.45 1475,1467.55 \"/>\n",
       "<polyline clip-path=\"url(#clip070)\" style=\"stroke:#000000; stroke-linecap:round; stroke-linejoin:round; stroke-width:4; stroke-opacity:1; fill:none\" points=\"1676.57,1486.45 1676.57,1467.55 \"/>\n",
       "<polyline clip-path=\"url(#clip070)\" style=\"stroke:#000000; stroke-linecap:round; stroke-linejoin:round; stroke-width:4; stroke-opacity:1; fill:none\" points=\"1878.13,1486.45 1878.13,1467.55 \"/>\n",
       "<path clip-path=\"url(#clip070)\" d=\"M615.745 1532.02 L645.421 1532.02 L645.421 1535.95 L615.745 1535.95 L615.745 1532.02 Z\" fill=\"#000000\" fill-rule=\"nonzero\" fill-opacity=\"1\" /><path clip-path=\"url(#clip070)\" d=\"M656.324 1544.91 L663.963 1544.91 L663.963 1518.55 L655.652 1520.21 L655.652 1515.95 L663.916 1514.29 L668.592 1514.29 L668.592 1544.91 L676.231 1544.91 L676.231 1548.85 L656.324 1548.85 L656.324 1544.91 Z\" fill=\"#000000\" fill-rule=\"nonzero\" fill-opacity=\"1\" /><path clip-path=\"url(#clip070)\" d=\"M685.675 1542.97 L690.56 1542.97 L690.56 1548.85 L685.675 1548.85 L685.675 1542.97 Z\" fill=\"#000000\" fill-rule=\"nonzero\" fill-opacity=\"1\" /><path clip-path=\"url(#clip070)\" d=\"M700.791 1514.29 L719.147 1514.29 L719.147 1518.22 L705.073 1518.22 L705.073 1526.7 Q706.092 1526.35 707.11 1526.19 Q708.129 1526 709.148 1526 Q714.935 1526 718.314 1529.17 Q721.694 1532.34 721.694 1537.76 Q721.694 1543.34 718.222 1546.44 Q714.749 1549.52 708.43 1549.52 Q706.254 1549.52 703.986 1549.15 Q701.74 1548.78 699.333 1548.04 L699.333 1543.34 Q701.416 1544.47 703.638 1545.03 Q705.861 1545.58 708.337 1545.58 Q712.342 1545.58 714.68 1543.48 Q717.018 1541.37 717.018 1537.76 Q717.018 1534.15 714.68 1532.04 Q712.342 1529.94 708.337 1529.94 Q706.462 1529.94 704.587 1530.35 Q702.736 1530.77 700.791 1531.65 L700.791 1514.29 Z\" fill=\"#000000\" fill-rule=\"nonzero\" fill-opacity=\"1\" /><path clip-path=\"url(#clip070)\" d=\"M816.817 1532.02 L846.492 1532.02 L846.492 1535.95 L816.817 1535.95 L816.817 1532.02 Z\" fill=\"#000000\" fill-rule=\"nonzero\" fill-opacity=\"1\" /><path clip-path=\"url(#clip070)\" d=\"M857.395 1544.91 L865.034 1544.91 L865.034 1518.55 L856.724 1520.21 L856.724 1515.95 L864.988 1514.29 L869.664 1514.29 L869.664 1544.91 L877.303 1544.91 L877.303 1548.85 L857.395 1548.85 L857.395 1544.91 Z\" fill=\"#000000\" fill-rule=\"nonzero\" fill-opacity=\"1\" /><path clip-path=\"url(#clip070)\" d=\"M886.747 1542.97 L891.631 1542.97 L891.631 1548.85 L886.747 1548.85 L886.747 1542.97 Z\" fill=\"#000000\" fill-rule=\"nonzero\" fill-opacity=\"1\" /><path clip-path=\"url(#clip070)\" d=\"M911.816 1517.37 Q908.205 1517.37 906.376 1520.93 Q904.571 1524.47 904.571 1531.6 Q904.571 1538.71 906.376 1542.27 Q908.205 1545.82 911.816 1545.82 Q915.45 1545.82 917.256 1542.27 Q919.085 1538.71 919.085 1531.6 Q919.085 1524.47 917.256 1520.93 Q915.45 1517.37 911.816 1517.37 M911.816 1513.66 Q917.626 1513.66 920.682 1518.27 Q923.761 1522.85 923.761 1531.6 Q923.761 1540.33 920.682 1544.94 Q917.626 1549.52 911.816 1549.52 Q906.006 1549.52 902.927 1544.94 Q899.872 1540.33 899.872 1531.6 Q899.872 1522.85 902.927 1518.27 Q906.006 1513.66 911.816 1513.66 Z\" fill=\"#000000\" fill-rule=\"nonzero\" fill-opacity=\"1\" /><path clip-path=\"url(#clip070)\" d=\"M1018.88 1532.02 L1048.56 1532.02 L1048.56 1535.95 L1018.88 1535.95 L1018.88 1532.02 Z\" fill=\"#000000\" fill-rule=\"nonzero\" fill-opacity=\"1\" /><path clip-path=\"url(#clip070)\" d=\"M1068.65 1517.37 Q1065.04 1517.37 1063.21 1520.93 Q1061.41 1524.47 1061.41 1531.6 Q1061.41 1538.71 1063.21 1542.27 Q1065.04 1545.82 1068.65 1545.82 Q1072.29 1545.82 1074.09 1542.27 Q1075.92 1538.71 1075.92 1531.6 Q1075.92 1524.47 1074.09 1520.93 Q1072.29 1517.37 1068.65 1517.37 M1068.65 1513.66 Q1074.46 1513.66 1077.52 1518.27 Q1080.6 1522.85 1080.6 1531.6 Q1080.6 1540.33 1077.52 1544.94 Q1074.46 1549.52 1068.65 1549.52 Q1062.84 1549.52 1059.76 1544.94 Q1056.71 1540.33 1056.71 1531.6 Q1056.71 1522.85 1059.76 1518.27 Q1062.84 1513.66 1068.65 1513.66 Z\" fill=\"#000000\" fill-rule=\"nonzero\" fill-opacity=\"1\" /><path clip-path=\"url(#clip070)\" d=\"M1088.81 1542.97 L1093.7 1542.97 L1093.7 1548.85 L1088.81 1548.85 L1088.81 1542.97 Z\" fill=\"#000000\" fill-rule=\"nonzero\" fill-opacity=\"1\" /><path clip-path=\"url(#clip070)\" d=\"M1103.93 1514.29 L1122.29 1514.29 L1122.29 1518.22 L1108.21 1518.22 L1108.21 1526.7 Q1109.23 1526.35 1110.25 1526.19 Q1111.27 1526 1112.29 1526 Q1118.07 1526 1121.45 1529.17 Q1124.83 1532.34 1124.83 1537.76 Q1124.83 1543.34 1121.36 1546.44 Q1117.89 1549.52 1111.57 1549.52 Q1109.39 1549.52 1107.12 1549.15 Q1104.88 1548.78 1102.47 1548.04 L1102.47 1543.34 Q1104.55 1544.47 1106.78 1545.03 Q1109 1545.58 1111.48 1545.58 Q1115.48 1545.58 1117.82 1543.48 Q1120.16 1541.37 1120.16 1537.76 Q1120.16 1534.15 1117.82 1532.04 Q1115.48 1529.94 1111.48 1529.94 Q1109.6 1529.94 1107.73 1530.35 Q1105.87 1530.77 1103.93 1531.65 L1103.93 1514.29 Z\" fill=\"#000000\" fill-rule=\"nonzero\" fill-opacity=\"1\" /><path clip-path=\"url(#clip070)\" d=\"M1250.81 1517.37 Q1247.2 1517.37 1245.37 1520.93 Q1243.57 1524.47 1243.57 1531.6 Q1243.57 1538.71 1245.37 1542.27 Q1247.2 1545.82 1250.81 1545.82 Q1254.45 1545.82 1256.25 1542.27 Q1258.08 1538.71 1258.08 1531.6 Q1258.08 1524.47 1256.25 1520.93 Q1254.45 1517.37 1250.81 1517.37 M1250.81 1513.66 Q1256.62 1513.66 1259.68 1518.27 Q1262.76 1522.85 1262.76 1531.6 Q1262.76 1540.33 1259.68 1544.94 Q1256.62 1549.52 1250.81 1549.52 Q1245 1549.52 1241.92 1544.94 Q1238.87 1540.33 1238.87 1531.6 Q1238.87 1522.85 1241.92 1518.27 Q1245 1513.66 1250.81 1513.66 Z\" fill=\"#000000\" fill-rule=\"nonzero\" fill-opacity=\"1\" /><path clip-path=\"url(#clip070)\" d=\"M1270.97 1542.97 L1275.86 1542.97 L1275.86 1548.85 L1270.97 1548.85 L1270.97 1542.97 Z\" fill=\"#000000\" fill-rule=\"nonzero\" fill-opacity=\"1\" /><path clip-path=\"url(#clip070)\" d=\"M1296.04 1517.37 Q1292.43 1517.37 1290.6 1520.93 Q1288.8 1524.47 1288.8 1531.6 Q1288.8 1538.71 1290.6 1542.27 Q1292.43 1545.82 1296.04 1545.82 Q1299.68 1545.82 1301.48 1542.27 Q1303.31 1538.71 1303.31 1531.6 Q1303.31 1524.47 1301.48 1520.93 Q1299.68 1517.37 1296.04 1517.37 M1296.04 1513.66 Q1301.85 1513.66 1304.91 1518.27 Q1307.99 1522.85 1307.99 1531.6 Q1307.99 1540.33 1304.91 1544.94 Q1301.85 1549.52 1296.04 1549.52 Q1290.23 1549.52 1287.15 1544.94 Q1284.1 1540.33 1284.1 1531.6 Q1284.1 1522.85 1287.15 1518.27 Q1290.23 1513.66 1296.04 1513.66 Z\" fill=\"#000000\" fill-rule=\"nonzero\" fill-opacity=\"1\" /><path clip-path=\"url(#clip070)\" d=\"M1452.88 1517.37 Q1449.27 1517.37 1447.44 1520.93 Q1445.63 1524.47 1445.63 1531.6 Q1445.63 1538.71 1447.44 1542.27 Q1449.27 1545.82 1452.88 1545.82 Q1456.51 1545.82 1458.32 1542.27 Q1460.15 1538.71 1460.15 1531.6 Q1460.15 1524.47 1458.32 1520.93 Q1456.51 1517.37 1452.88 1517.37 M1452.88 1513.66 Q1458.69 1513.66 1461.74 1518.27 Q1464.82 1522.85 1464.82 1531.6 Q1464.82 1540.33 1461.74 1544.94 Q1458.69 1549.52 1452.88 1549.52 Q1447.07 1549.52 1443.99 1544.94 Q1440.93 1540.33 1440.93 1531.6 Q1440.93 1522.85 1443.99 1518.27 Q1447.07 1513.66 1452.88 1513.66 Z\" fill=\"#000000\" fill-rule=\"nonzero\" fill-opacity=\"1\" /><path clip-path=\"url(#clip070)\" d=\"M1473.04 1542.97 L1477.92 1542.97 L1477.92 1548.85 L1473.04 1548.85 L1473.04 1542.97 Z\" fill=\"#000000\" fill-rule=\"nonzero\" fill-opacity=\"1\" /><path clip-path=\"url(#clip070)\" d=\"M1488.16 1514.29 L1506.51 1514.29 L1506.51 1518.22 L1492.44 1518.22 L1492.44 1526.7 Q1493.46 1526.35 1494.48 1526.19 Q1495.49 1526 1496.51 1526 Q1502.3 1526 1505.68 1529.17 Q1509.06 1532.34 1509.06 1537.76 Q1509.06 1543.34 1505.59 1546.44 Q1502.11 1549.52 1495.79 1549.52 Q1493.62 1549.52 1491.35 1549.15 Q1489.1 1548.78 1486.7 1548.04 L1486.7 1543.34 Q1488.78 1544.47 1491 1545.03 Q1493.23 1545.58 1495.7 1545.58 Q1499.71 1545.58 1502.04 1543.48 Q1504.38 1541.37 1504.38 1537.76 Q1504.38 1534.15 1502.04 1532.04 Q1499.71 1529.94 1495.7 1529.94 Q1493.83 1529.94 1491.95 1530.35 Q1490.1 1530.77 1488.16 1531.65 L1488.16 1514.29 Z\" fill=\"#000000\" fill-rule=\"nonzero\" fill-opacity=\"1\" /><path clip-path=\"url(#clip070)\" d=\"M1643.72 1544.91 L1651.36 1544.91 L1651.36 1518.55 L1643.05 1520.21 L1643.05 1515.95 L1651.31 1514.29 L1655.99 1514.29 L1655.99 1544.91 L1663.63 1544.91 L1663.63 1548.85 L1643.72 1548.85 L1643.72 1544.91 Z\" fill=\"#000000\" fill-rule=\"nonzero\" fill-opacity=\"1\" /><path clip-path=\"url(#clip070)\" d=\"M1673.07 1542.97 L1677.95 1542.97 L1677.95 1548.85 L1673.07 1548.85 L1673.07 1542.97 Z\" fill=\"#000000\" fill-rule=\"nonzero\" fill-opacity=\"1\" /><path clip-path=\"url(#clip070)\" d=\"M1698.14 1517.37 Q1694.53 1517.37 1692.7 1520.93 Q1690.89 1524.47 1690.89 1531.6 Q1690.89 1538.71 1692.7 1542.27 Q1694.53 1545.82 1698.14 1545.82 Q1701.77 1545.82 1703.58 1542.27 Q1705.41 1538.71 1705.41 1531.6 Q1705.41 1524.47 1703.58 1520.93 Q1701.77 1517.37 1698.14 1517.37 M1698.14 1513.66 Q1703.95 1513.66 1707 1518.27 Q1710.08 1522.85 1710.08 1531.6 Q1710.08 1540.33 1707 1544.94 Q1703.95 1549.52 1698.14 1549.52 Q1692.33 1549.52 1689.25 1544.94 Q1686.19 1540.33 1686.19 1531.6 Q1686.19 1522.85 1689.25 1518.27 Q1692.33 1513.66 1698.14 1513.66 Z\" fill=\"#000000\" fill-rule=\"nonzero\" fill-opacity=\"1\" /><path clip-path=\"url(#clip070)\" d=\"M1845.79 1544.91 L1853.42 1544.91 L1853.42 1518.55 L1845.11 1520.21 L1845.11 1515.95 L1853.38 1514.29 L1858.05 1514.29 L1858.05 1544.91 L1865.69 1544.91 L1865.69 1548.85 L1845.79 1548.85 L1845.79 1544.91 Z\" fill=\"#000000\" fill-rule=\"nonzero\" fill-opacity=\"1\" /><path clip-path=\"url(#clip070)\" d=\"M1875.14 1542.97 L1880.02 1542.97 L1880.02 1548.85 L1875.14 1548.85 L1875.14 1542.97 Z\" fill=\"#000000\" fill-rule=\"nonzero\" fill-opacity=\"1\" /><path clip-path=\"url(#clip070)\" d=\"M1890.25 1514.29 L1908.61 1514.29 L1908.61 1518.22 L1894.53 1518.22 L1894.53 1526.7 Q1895.55 1526.35 1896.57 1526.19 Q1897.59 1526 1898.61 1526 Q1904.4 1526 1907.78 1529.17 Q1911.16 1532.34 1911.16 1537.76 Q1911.16 1543.34 1907.68 1546.44 Q1904.21 1549.52 1897.89 1549.52 Q1895.72 1549.52 1893.45 1549.15 Q1891.2 1548.78 1888.79 1548.04 L1888.79 1543.34 Q1890.88 1544.47 1893.1 1545.03 Q1895.32 1545.58 1897.8 1545.58 Q1901.8 1545.58 1904.14 1543.48 Q1906.48 1541.37 1906.48 1537.76 Q1906.48 1534.15 1904.14 1532.04 Q1901.8 1529.94 1897.8 1529.94 Q1895.92 1529.94 1894.05 1530.35 Q1892.2 1530.77 1890.25 1531.65 L1890.25 1514.29 Z\" fill=\"#000000\" fill-rule=\"nonzero\" fill-opacity=\"1\" /><polyline clip-path=\"url(#clip072)\" style=\"stroke:#000000; stroke-linecap:round; stroke-linejoin:round; stroke-width:2; stroke-opacity:0.1; fill:none\" points=\"553.825,1250.61 1993.03,1250.61 \"/>\n",
       "<polyline clip-path=\"url(#clip072)\" style=\"stroke:#000000; stroke-linecap:round; stroke-linejoin:round; stroke-width:2; stroke-opacity:0.1; fill:none\" points=\"553.825,1008.73 1993.03,1008.73 \"/>\n",
       "<polyline clip-path=\"url(#clip072)\" style=\"stroke:#000000; stroke-linecap:round; stroke-linejoin:round; stroke-width:2; stroke-opacity:0.1; fill:none\" points=\"553.825,766.846 1993.03,766.846 \"/>\n",
       "<polyline clip-path=\"url(#clip072)\" style=\"stroke:#000000; stroke-linecap:round; stroke-linejoin:round; stroke-width:2; stroke-opacity:0.1; fill:none\" points=\"553.825,524.963 1993.03,524.963 \"/>\n",
       "<polyline clip-path=\"url(#clip072)\" style=\"stroke:#000000; stroke-linecap:round; stroke-linejoin:round; stroke-width:2; stroke-opacity:0.1; fill:none\" points=\"553.825,283.08 1993.03,283.08 \"/>\n",
       "<polyline clip-path=\"url(#clip070)\" style=\"stroke:#000000; stroke-linecap:round; stroke-linejoin:round; stroke-width:4; stroke-opacity:1; fill:none\" points=\"553.825,1486.45 553.825,47.2441 \"/>\n",
       "<polyline clip-path=\"url(#clip070)\" style=\"stroke:#000000; stroke-linecap:round; stroke-linejoin:round; stroke-width:4; stroke-opacity:1; fill:none\" points=\"553.825,1250.61 566.424,1250.61 \"/>\n",
       "<polyline clip-path=\"url(#clip070)\" style=\"stroke:#000000; stroke-linecap:round; stroke-linejoin:round; stroke-width:4; stroke-opacity:1; fill:none\" points=\"553.825,1008.73 566.424,1008.73 \"/>\n",
       "<polyline clip-path=\"url(#clip070)\" style=\"stroke:#000000; stroke-linecap:round; stroke-linejoin:round; stroke-width:4; stroke-opacity:1; fill:none\" points=\"553.825,766.846 566.424,766.846 \"/>\n",
       "<polyline clip-path=\"url(#clip070)\" style=\"stroke:#000000; stroke-linecap:round; stroke-linejoin:round; stroke-width:4; stroke-opacity:1; fill:none\" points=\"553.825,524.963 566.424,524.963 \"/>\n",
       "<polyline clip-path=\"url(#clip070)\" style=\"stroke:#000000; stroke-linecap:round; stroke-linejoin:round; stroke-width:4; stroke-opacity:1; fill:none\" points=\"553.825,283.08 566.424,283.08 \"/>\n",
       "<path clip-path=\"url(#clip070)\" d=\"M410.719 1251.06 L440.395 1251.06 L440.395 1255 L410.719 1255 L410.719 1251.06 Z\" fill=\"#000000\" fill-rule=\"nonzero\" fill-opacity=\"1\" /><path clip-path=\"url(#clip070)\" d=\"M460.487 1236.41 Q456.876 1236.41 455.048 1239.98 Q453.242 1243.52 453.242 1250.65 Q453.242 1257.75 455.048 1261.32 Q456.876 1264.86 460.487 1264.86 Q464.122 1264.86 465.927 1261.32 Q467.756 1257.75 467.756 1250.65 Q467.756 1243.52 465.927 1239.98 Q464.122 1236.41 460.487 1236.41 M460.487 1232.71 Q466.298 1232.71 469.353 1237.31 Q472.432 1241.9 472.432 1250.65 Q472.432 1259.37 469.353 1263.98 Q466.298 1268.56 460.487 1268.56 Q454.677 1268.56 451.599 1263.98 Q448.543 1259.37 448.543 1250.65 Q448.543 1241.9 451.599 1237.31 Q454.677 1232.71 460.487 1232.71 Z\" fill=\"#000000\" fill-rule=\"nonzero\" fill-opacity=\"1\" /><path clip-path=\"url(#clip070)\" d=\"M480.649 1262.01 L485.534 1262.01 L485.534 1267.89 L480.649 1267.89 L480.649 1262.01 Z\" fill=\"#000000\" fill-rule=\"nonzero\" fill-opacity=\"1\" /><path clip-path=\"url(#clip070)\" d=\"M506.297 1248.75 Q503.149 1248.75 501.297 1250.9 Q499.469 1253.05 499.469 1256.8 Q499.469 1260.53 501.297 1262.71 Q503.149 1264.86 506.297 1264.86 Q509.445 1264.86 511.274 1262.71 Q513.126 1260.53 513.126 1256.8 Q513.126 1253.05 511.274 1250.9 Q509.445 1248.75 506.297 1248.75 M515.58 1234.1 L515.58 1238.36 Q513.82 1237.52 512.015 1237.08 Q510.233 1236.64 508.473 1236.64 Q503.844 1236.64 501.39 1239.77 Q498.959 1242.89 498.612 1249.21 Q499.978 1247.2 502.038 1246.13 Q504.098 1245.04 506.575 1245.04 Q511.783 1245.04 514.793 1248.22 Q517.825 1251.36 517.825 1256.8 Q517.825 1262.13 514.677 1265.35 Q511.529 1268.56 506.297 1268.56 Q500.302 1268.56 497.131 1263.98 Q493.959 1259.37 493.959 1250.65 Q493.959 1242.45 497.848 1237.59 Q501.737 1232.71 508.288 1232.71 Q510.047 1232.71 511.83 1233.05 Q513.635 1233.4 515.58 1234.1 Z\" fill=\"#000000\" fill-rule=\"nonzero\" fill-opacity=\"1\" /><path clip-path=\"url(#clip070)\" d=\"M411.529 1009.18 L441.205 1009.18 L441.205 1013.12 L411.529 1013.12 L411.529 1009.18 Z\" fill=\"#000000\" fill-rule=\"nonzero\" fill-opacity=\"1\" /><path clip-path=\"url(#clip070)\" d=\"M461.298 994.528 Q457.687 994.528 455.858 998.092 Q454.052 1001.63 454.052 1008.76 Q454.052 1015.87 455.858 1019.43 Q457.687 1022.98 461.298 1022.98 Q464.932 1022.98 466.737 1019.43 Q468.566 1015.87 468.566 1008.76 Q468.566 1001.63 466.737 998.092 Q464.932 994.528 461.298 994.528 M461.298 990.824 Q467.108 990.824 470.163 995.43 Q473.242 1000.01 473.242 1008.76 Q473.242 1017.49 470.163 1022.1 Q467.108 1026.68 461.298 1026.68 Q455.487 1026.68 452.409 1022.1 Q449.353 1017.49 449.353 1008.76 Q449.353 1000.01 452.409 995.43 Q455.487 990.824 461.298 990.824 Z\" fill=\"#000000\" fill-rule=\"nonzero\" fill-opacity=\"1\" /><path clip-path=\"url(#clip070)\" d=\"M481.46 1020.13 L486.344 1020.13 L486.344 1026.01 L481.46 1026.01 L481.46 1020.13 Z\" fill=\"#000000\" fill-rule=\"nonzero\" fill-opacity=\"1\" /><path clip-path=\"url(#clip070)\" d=\"M510.695 1007.37 Q514.052 1008.09 515.927 1010.36 Q517.825 1012.63 517.825 1015.96 Q517.825 1021.08 514.307 1023.88 Q510.788 1026.68 504.307 1026.68 Q502.131 1026.68 499.816 1026.24 Q497.524 1025.82 495.071 1024.97 L495.071 1020.45 Q497.015 1021.59 499.33 1022.17 Q501.645 1022.75 504.168 1022.75 Q508.566 1022.75 510.858 1021.01 Q513.172 1019.27 513.172 1015.96 Q513.172 1012.91 511.02 1011.19 Q508.89 1009.46 505.071 1009.46 L501.043 1009.46 L501.043 1005.62 L505.256 1005.62 Q508.705 1005.62 510.533 1004.25 Q512.362 1002.86 512.362 1000.27 Q512.362 997.606 510.464 996.194 Q508.589 994.759 505.071 994.759 Q503.149 994.759 500.95 995.176 Q498.751 995.592 496.112 996.472 L496.112 992.305 Q498.774 991.565 501.089 991.194 Q503.427 990.824 505.487 990.824 Q510.811 990.824 513.913 993.255 Q517.015 995.662 517.015 999.782 Q517.015 1002.65 515.371 1004.64 Q513.728 1006.61 510.695 1007.37 Z\" fill=\"#000000\" fill-rule=\"nonzero\" fill-opacity=\"1\" /><path clip-path=\"url(#clip070)\" d=\"M460.649 752.645 Q457.038 752.645 455.21 756.209 Q453.404 759.751 453.404 766.881 Q453.404 773.987 455.21 777.552 Q457.038 781.094 460.649 781.094 Q464.284 781.094 466.089 777.552 Q467.918 773.987 467.918 766.881 Q467.918 759.751 466.089 756.209 Q464.284 752.645 460.649 752.645 M460.649 748.941 Q466.46 748.941 469.515 753.547 Q472.594 758.131 472.594 766.881 Q472.594 775.608 469.515 780.214 Q466.46 784.797 460.649 784.797 Q454.839 784.797 451.761 780.214 Q448.705 775.608 448.705 766.881 Q448.705 758.131 451.761 753.547 Q454.839 748.941 460.649 748.941 Z\" fill=\"#000000\" fill-rule=\"nonzero\" fill-opacity=\"1\" /><path clip-path=\"url(#clip070)\" d=\"M480.811 778.246 L485.696 778.246 L485.696 784.126 L480.811 784.126 L480.811 778.246 Z\" fill=\"#000000\" fill-rule=\"nonzero\" fill-opacity=\"1\" /><path clip-path=\"url(#clip070)\" d=\"M505.881 752.645 Q502.27 752.645 500.441 756.209 Q498.635 759.751 498.635 766.881 Q498.635 773.987 500.441 777.552 Q502.27 781.094 505.881 781.094 Q509.515 781.094 511.32 777.552 Q513.149 773.987 513.149 766.881 Q513.149 759.751 511.32 756.209 Q509.515 752.645 505.881 752.645 M505.881 748.941 Q511.691 748.941 514.746 753.547 Q517.825 758.131 517.825 766.881 Q517.825 775.608 514.746 780.214 Q511.691 784.797 505.881 784.797 Q500.071 784.797 496.992 780.214 Q493.936 775.608 493.936 766.881 Q493.936 758.131 496.992 753.547 Q500.071 748.941 505.881 748.941 Z\" fill=\"#000000\" fill-rule=\"nonzero\" fill-opacity=\"1\" /><path clip-path=\"url(#clip070)\" d=\"M461.298 510.762 Q457.687 510.762 455.858 514.326 Q454.052 517.868 454.052 524.998 Q454.052 532.104 455.858 535.669 Q457.687 539.211 461.298 539.211 Q464.932 539.211 466.737 535.669 Q468.566 532.104 468.566 524.998 Q468.566 517.868 466.737 514.326 Q464.932 510.762 461.298 510.762 M461.298 507.058 Q467.108 507.058 470.163 511.664 Q473.242 516.248 473.242 524.998 Q473.242 533.725 470.163 538.331 Q467.108 542.914 461.298 542.914 Q455.487 542.914 452.409 538.331 Q449.353 533.725 449.353 524.998 Q449.353 516.248 452.409 511.664 Q455.487 507.058 461.298 507.058 Z\" fill=\"#000000\" fill-rule=\"nonzero\" fill-opacity=\"1\" /><path clip-path=\"url(#clip070)\" d=\"M481.46 536.363 L486.344 536.363 L486.344 542.243 L481.46 542.243 L481.46 536.363 Z\" fill=\"#000000\" fill-rule=\"nonzero\" fill-opacity=\"1\" /><path clip-path=\"url(#clip070)\" d=\"M510.695 523.609 Q514.052 524.326 515.927 526.595 Q517.825 528.863 517.825 532.197 Q517.825 537.312 514.307 540.113 Q510.788 542.914 504.307 542.914 Q502.131 542.914 499.816 542.474 Q497.524 542.058 495.071 541.201 L495.071 536.687 Q497.015 537.822 499.33 538.4 Q501.645 538.979 504.168 538.979 Q508.566 538.979 510.858 537.243 Q513.172 535.507 513.172 532.197 Q513.172 529.141 511.02 527.428 Q508.89 525.692 505.071 525.692 L501.043 525.692 L501.043 521.85 L505.256 521.85 Q508.705 521.85 510.533 520.484 Q512.362 519.095 512.362 516.502 Q512.362 513.84 510.464 512.428 Q508.589 510.993 505.071 510.993 Q503.149 510.993 500.95 511.41 Q498.751 511.826 496.112 512.706 L496.112 508.539 Q498.774 507.799 501.089 507.428 Q503.427 507.058 505.487 507.058 Q510.811 507.058 513.913 509.489 Q517.015 511.896 517.015 516.016 Q517.015 518.887 515.371 520.877 Q513.728 522.845 510.695 523.609 Z\" fill=\"#000000\" fill-rule=\"nonzero\" fill-opacity=\"1\" /><path clip-path=\"url(#clip070)\" d=\"M460.487 268.879 Q456.876 268.879 455.048 272.443 Q453.242 275.985 453.242 283.115 Q453.242 290.221 455.048 293.786 Q456.876 297.328 460.487 297.328 Q464.122 297.328 465.927 293.786 Q467.756 290.221 467.756 283.115 Q467.756 275.985 465.927 272.443 Q464.122 268.879 460.487 268.879 M460.487 265.175 Q466.298 265.175 469.353 269.781 Q472.432 274.365 472.432 283.115 Q472.432 291.842 469.353 296.448 Q466.298 301.031 460.487 301.031 Q454.677 301.031 451.599 296.448 Q448.543 291.842 448.543 283.115 Q448.543 274.365 451.599 269.781 Q454.677 265.175 460.487 265.175 Z\" fill=\"#000000\" fill-rule=\"nonzero\" fill-opacity=\"1\" /><path clip-path=\"url(#clip070)\" d=\"M480.649 294.48 L485.534 294.48 L485.534 300.36 L480.649 300.36 L480.649 294.48 Z\" fill=\"#000000\" fill-rule=\"nonzero\" fill-opacity=\"1\" /><path clip-path=\"url(#clip070)\" d=\"M506.297 281.217 Q503.149 281.217 501.297 283.369 Q499.469 285.522 499.469 289.272 Q499.469 292.999 501.297 295.175 Q503.149 297.328 506.297 297.328 Q509.445 297.328 511.274 295.175 Q513.126 292.999 513.126 289.272 Q513.126 285.522 511.274 283.369 Q509.445 281.217 506.297 281.217 M515.58 266.564 L515.58 270.823 Q513.82 269.99 512.015 269.55 Q510.233 269.11 508.473 269.11 Q503.844 269.11 501.39 272.235 Q498.959 275.36 498.612 281.68 Q499.978 279.666 502.038 278.601 Q504.098 277.513 506.575 277.513 Q511.783 277.513 514.793 280.684 Q517.825 283.832 517.825 289.272 Q517.825 294.596 514.677 297.814 Q511.529 301.031 506.297 301.031 Q500.302 301.031 497.131 296.448 Q493.959 291.842 493.959 283.115 Q493.959 274.92 497.848 270.059 Q501.737 265.175 508.288 265.175 Q510.047 265.175 511.83 265.522 Q513.635 265.869 515.58 266.564 Z\" fill=\"#000000\" fill-rule=\"nonzero\" fill-opacity=\"1\" /><polyline clip-path=\"url(#clip072)\" style=\"stroke:#000000; stroke-linecap:round; stroke-linejoin:round; stroke-width:4; stroke-opacity:1; fill:none\" points=\"1958.76,81.5109 588.092,81.5109 588.092,1452.18 1958.76,1452.18 1958.76,81.5109 \"/>\n",
       "<polyline clip-path=\"url(#clip072)\" style=\"stroke:#781b86; stroke-linecap:round; stroke-linejoin:round; stroke-width:4; stroke-opacity:1; fill:none\" points=\"1225.05,851.59 1227.02,854.121 1231.06,858.88 1231.78,859.661 1235.09,862.911 1239.13,866.48 1240.72,867.731 1243.16,869.505 1247.2,872.068 1251.23,874.265 1254.62,875.802 1255.27,876.074 1259.3,877.434 1263.34,878.454 1267.37,879.134 1271.41,879.474 1275.44,879.474 1279.48,879.134 1283.52,878.454 1287.55,877.434 1291.59,876.074 1292.23,875.802 1295.62,874.265 1299.66,872.068 1303.69,869.505 1306.14,867.731 1307.73,866.48 1311.76,862.911 1315.07,859.661 1315.8,858.88 1319.83,854.121 1321.8,851.59 1323.87,848.663 1327.22,843.519 1327.91,842.36 1331.67,835.448 1331.94,834.895 1335.34,827.377 1335.98,825.771 1338.37,819.306 1340.01,814.158 1340.89,811.236 1342.9,803.165 1344.05,797.41 1344.48,795.094 1345.62,787.023 1346.38,778.952 1346.76,770.881 1346.76,762.811 1346.38,754.74 1345.62,746.669 1344.48,738.598 1344.05,736.282 1342.9,730.527 1340.89,722.456 1340.01,719.534 1338.37,714.386 1335.98,707.921 1335.34,706.315 1331.94,698.796 1331.67,698.244 1327.91,691.332 1327.22,690.173 1323.87,685.029 1321.8,682.102 1319.83,679.571 1315.8,674.812 1315.07,674.031 1311.76,670.781 1307.73,667.212 1306.14,665.961 1303.69,664.187 1299.66,661.624 1295.62,659.427 1292.23,657.89 1291.59,657.618 1287.55,656.258 1283.52,655.238 1279.48,654.558 1275.44,654.218 1271.41,654.218 1267.37,654.558 1263.34,655.238 1259.3,656.258 1255.27,657.618 1254.62,657.89 1251.23,659.427 1247.2,661.624 1243.16,664.187 1240.72,665.961 1239.13,667.212 1235.09,670.781 1231.78,674.031 1231.06,674.812 1227.02,679.571 1225.05,682.102 1222.98,685.029 1219.63,690.173 1218.95,691.332 1215.18,698.244 1214.91,698.796 1211.51,706.315 1210.88,707.921 1208.48,714.386 1206.84,719.534 1205.97,722.456 1203.96,730.527 1202.81,736.282 1202.37,738.598 1201.23,746.669 1200.47,754.74 1200.09,762.811 1200.09,770.881 1200.47,778.952 1201.23,787.023 1202.37,795.094 1202.81,797.41 1203.96,803.165 1205.97,811.236 1206.84,814.158 1208.48,819.306 1210.88,825.771 1211.51,827.377 1214.91,834.895 1215.18,835.448 1218.95,842.36 1219.63,843.519 1222.98,848.663 1225.05,851.59 \"/>\n",
       "<polyline clip-path=\"url(#clip072)\" style=\"stroke:#82ba70; stroke-linecap:round; stroke-linejoin:round; stroke-width:4; stroke-opacity:1; fill:none\" points=\"1343.51,827.377 1341.49,835.448 1340.01,840.697 1339.17,843.519 1336.49,851.59 1335.98,852.985 1333.37,859.661 1331.94,863.031 1329.8,867.731 1327.91,871.568 1325.65,875.802 1323.87,878.919 1320.8,883.873 1319.83,885.322 1315.8,890.889 1314.96,891.944 1311.76,895.7 1307.73,899.97 1307.68,900.015 1303.69,903.545 1299.66,906.671 1297.53,908.086 1295.62,909.28 1291.59,911.388 1287.55,913.075 1283.52,914.341 1279.48,915.184 1275.44,915.606 1271.41,915.606 1267.37,915.184 1263.34,914.341 1259.3,913.075 1255.27,911.388 1251.23,909.28 1249.33,908.086 1247.2,906.671 1243.16,903.545 1239.17,900.015 1239.13,899.97 1235.09,895.7 1231.9,891.944 1231.06,890.889 1227.02,885.322 1226.06,883.873 1222.98,878.919 1221.2,875.802 1218.95,871.568 1217.06,867.731 1214.91,863.031 1213.48,859.661 1210.88,852.985 1210.37,851.59 1207.69,843.519 1206.84,840.697 1205.37,835.448 1203.35,827.377 1202.81,824.913 1201.65,819.306 1200.22,811.236 1199.03,803.165 1198.77,801.011 1198.11,795.094 1197.43,787.023 1196.98,778.952 1196.75,770.881 1196.75,762.811 1196.98,754.74 1197.43,746.669 1198.11,738.598 1198.77,732.681 1199.03,730.527 1200.22,722.456 1201.65,714.386 1202.81,708.779 1203.35,706.315 1205.37,698.244 1206.84,692.995 1207.69,690.173 1210.37,682.102 1210.88,680.707 1213.48,674.031 1214.91,670.661 1217.06,665.961 1218.95,662.124 1221.2,657.89 1222.98,654.773 1226.06,649.819 1227.02,648.37 1231.06,642.803 1231.9,641.748 1235.09,637.992 1239.13,633.722 1239.17,633.677 1243.16,630.147 1247.2,627.021 1249.33,625.606 1251.23,624.412 1255.27,622.304 1259.3,620.617 1263.34,619.351 1267.37,618.508 1271.41,618.086 1275.44,618.086 1279.48,618.508 1283.52,619.351 1287.55,620.617 1291.59,622.304 1295.62,624.412 1297.53,625.606 1299.66,627.021 1303.69,630.147 1307.68,633.677 1307.73,633.722 1311.76,637.992 1314.96,641.748 1315.8,642.803 1319.83,648.37 1320.8,649.819 1323.87,654.773 1325.65,657.89 1327.91,662.124 1329.8,665.961 1331.94,670.661 1333.37,674.031 1335.98,680.707 1336.49,682.102 1339.17,690.173 1340.01,692.995 1341.49,698.244 1343.51,706.315 1344.05,708.779 1345.21,714.386 1346.64,722.456 1347.83,730.527 1348.08,732.681 1348.74,738.598 1349.42,746.669 1349.87,754.74 1350.1,762.811 1350.1,770.881 1349.87,778.952 1349.42,787.023 1348.74,795.094 1348.08,801.011 1347.83,803.165 1346.64,811.236 1345.21,819.306 1344.05,824.913 1343.51,827.377 \"/>\n",
       "<polyline clip-path=\"url(#clip072)\" style=\"stroke:#da2121; stroke-linecap:round; stroke-linejoin:round; stroke-width:4; stroke-opacity:1; fill:none\" points=\"1343.51,827.377 1341.49,835.448 1340.01,840.697 1339.17,843.519 1336.49,851.59 1335.98,852.985 1333.37,859.661 1331.94,863.031 1329.8,867.731 1327.91,871.568 1325.65,875.802 1323.87,878.919 1320.8,883.873 1319.83,885.322 1315.8,890.889 1314.96,891.944 1311.76,895.7 1307.73,899.97 1307.68,900.015 1303.69,903.545 1299.66,906.671 1297.53,908.086 1295.62,909.28 1291.59,911.388 1287.55,913.075 1283.52,914.341 1279.48,915.184 1275.44,915.606 1271.41,915.606 1267.37,915.184 1263.34,914.341 1259.3,913.075 1255.27,911.388 1251.23,909.28 1249.33,908.086 1247.2,906.671 1243.16,903.545 1239.17,900.015 1239.13,899.97 1235.09,895.7 1231.9,891.944 1231.06,890.889 1227.02,885.322 1226.06,883.873 1222.98,878.919 1221.2,875.802 1218.95,871.568 1217.06,867.731 1214.91,863.031 1213.48,859.661 1210.88,852.985 1210.37,851.59 1207.69,843.519 1206.84,840.697 1205.37,835.448 1203.35,827.377 1202.81,824.913 1201.65,819.306 1200.22,811.236 1199.03,803.165 1198.77,801.011 1198.11,795.094 1197.43,787.023 1196.98,778.952 1196.75,770.881 1196.75,762.811 1196.98,754.74 1197.43,746.669 1198.11,738.598 1198.77,732.681 1199.03,730.527 1200.22,722.456 1201.65,714.386 1202.81,708.779 1203.35,706.315 1205.37,698.244 1206.84,692.995 1207.69,690.173 1210.37,682.102 1210.88,680.707 1213.48,674.031 1214.91,670.661 1217.06,665.961 1218.95,662.124 1221.2,657.89 1222.98,654.773 1226.06,649.819 1227.02,648.37 1231.06,642.803 1231.9,641.748 1235.09,637.992 1239.13,633.722 1239.17,633.677 1243.16,630.147 1247.2,627.021 1249.33,625.606 1251.23,624.412 1255.27,622.304 1259.3,620.617 1263.34,619.351 1267.37,618.508 1271.41,618.086 1275.44,618.086 1279.48,618.508 1283.52,619.351 1287.55,620.617 1291.59,622.304 1295.62,624.412 1297.53,625.606 1299.66,627.021 1303.69,630.147 1307.68,633.677 1307.73,633.722 1311.76,637.992 1314.96,641.748 1315.8,642.803 1319.83,648.37 1320.8,649.819 1323.87,654.773 1325.65,657.89 1327.91,662.124 1329.8,665.961 1331.94,670.661 1333.37,674.031 1335.98,680.707 1336.49,682.102 1339.17,690.173 1340.01,692.995 1341.49,698.244 1343.51,706.315 1344.05,708.779 1345.21,714.386 1346.64,722.456 1347.83,730.527 1348.08,732.681 1348.74,738.598 1349.42,746.669 1349.87,754.74 1350.1,762.811 1350.1,770.881 1349.87,778.952 1349.42,787.023 1348.74,795.094 1348.08,801.011 1347.83,803.165 1346.64,811.236 1345.21,819.306 1344.05,824.913 1343.51,827.377 \"/>\n",
       "<path clip-path=\"url(#clip070)\" d=\"M625.78 302.578 L900.072 302.578 L900.072 95.2176 L625.78 95.2176  Z\" fill=\"#ffffff\" fill-rule=\"evenodd\" fill-opacity=\"1\"/>\n",
       "<polyline clip-path=\"url(#clip070)\" style=\"stroke:#000000; stroke-linecap:round; stroke-linejoin:round; stroke-width:4; stroke-opacity:1; fill:none\" points=\"625.78,302.578 900.072,302.578 900.072,95.2176 625.78,95.2176 625.78,302.578 \"/>\n",
       "<polyline clip-path=\"url(#clip070)\" style=\"stroke:#781b86; stroke-linecap:round; stroke-linejoin:round; stroke-width:4; stroke-opacity:1; fill:none\" points=\"649.765,147.058 793.676,147.058 \"/>\n",
       "<path clip-path=\"url(#clip070)\" d=\"M830.855 164.338 L817.661 129.778 L822.545 129.778 L833.494 158.875 L844.466 129.778 L849.328 129.778 L836.156 164.338 L830.855 164.338 Z\" fill=\"#000000\" fill-rule=\"nonzero\" fill-opacity=\"1\" /><path clip-path=\"url(#clip070)\" d=\"M855.601 160.402 L863.24 160.402 L863.24 134.037 L854.929 135.703 L854.929 131.444 L863.193 129.778 L867.869 129.778 L867.869 160.402 L875.508 160.402 L875.508 164.338 L855.601 164.338 L855.601 160.402 Z\" fill=\"#000000\" fill-rule=\"nonzero\" fill-opacity=\"1\" /><polyline clip-path=\"url(#clip070)\" style=\"stroke:#82ba70; stroke-linecap:round; stroke-linejoin:round; stroke-width:4; stroke-opacity:1; fill:none\" points=\"649.765,198.898 793.676,198.898 \"/>\n",
       "<path clip-path=\"url(#clip070)\" d=\"M830.855 216.178 L817.661 181.618 L822.545 181.618 L833.494 210.715 L844.466 181.618 L849.328 181.618 L836.156 216.178 L830.855 216.178 Z\" fill=\"#000000\" fill-rule=\"nonzero\" fill-opacity=\"1\" /><path clip-path=\"url(#clip070)\" d=\"M858.818 212.242 L875.138 212.242 L875.138 216.178 L853.193 216.178 L853.193 212.242 Q855.855 209.488 860.439 204.858 Q865.045 200.205 866.226 198.863 Q868.471 196.34 869.351 194.604 Q870.253 192.844 870.253 191.155 Q870.253 188.4 868.309 186.664 Q866.388 184.928 863.286 184.928 Q861.087 184.928 858.633 185.692 Q856.203 186.455 853.425 188.006 L853.425 183.284 Q856.249 182.15 858.702 181.571 Q861.156 180.993 863.193 180.993 Q868.564 180.993 871.758 183.678 Q874.952 186.363 874.952 190.854 Q874.952 192.983 874.142 194.905 Q873.355 196.803 871.249 199.395 Q870.67 200.067 867.568 203.284 Q864.466 206.479 858.818 212.242 Z\" fill=\"#000000\" fill-rule=\"nonzero\" fill-opacity=\"1\" /><polyline clip-path=\"url(#clip070)\" style=\"stroke:#da2121; stroke-linecap:round; stroke-linejoin:round; stroke-width:4; stroke-opacity:1; fill:none\" points=\"649.765,250.738 793.676,250.738 \"/>\n",
       "<path clip-path=\"url(#clip070)\" d=\"M830.855 268.018 L817.661 233.458 L822.545 233.458 L833.494 262.555 L844.466 233.458 L849.328 233.458 L836.156 268.018 L830.855 268.018 Z\" fill=\"#000000\" fill-rule=\"nonzero\" fill-opacity=\"1\" /><path clip-path=\"url(#clip070)\" d=\"M868.957 249.383 Q872.314 250.101 874.189 252.369 Q876.087 254.638 876.087 257.971 Q876.087 263.087 872.568 265.888 Q869.05 268.689 862.568 268.689 Q860.392 268.689 858.077 268.249 Q855.786 267.832 853.332 266.976 L853.332 262.462 Q855.277 263.596 857.591 264.175 Q859.906 264.754 862.429 264.754 Q866.827 264.754 869.119 263.018 Q871.434 261.281 871.434 257.971 Q871.434 254.916 869.281 253.203 Q867.152 251.467 863.332 251.467 L859.304 251.467 L859.304 247.624 L863.517 247.624 Q866.966 247.624 868.795 246.258 Q870.624 244.87 870.624 242.277 Q870.624 239.615 868.726 238.203 Q866.851 236.768 863.332 236.768 Q861.411 236.768 859.212 237.184 Q857.013 237.601 854.374 238.481 L854.374 234.314 Q857.036 233.573 859.351 233.203 Q861.689 232.833 863.749 232.833 Q869.073 232.833 872.175 235.263 Q875.276 237.67 875.276 241.791 Q875.276 244.661 873.633 246.652 Q871.989 248.62 868.957 249.383 Z\" fill=\"#000000\" fill-rule=\"nonzero\" fill-opacity=\"1\" /></svg>\n"
      ]
     },
     "metadata": {},
     "execution_count": 20
    }
   ],
   "cell_type": "code",
   "source": [
    "push!(Vs, V2 - γ2)\n",
    "plot_lyapunovs(Vs, [1, 2])"
   ],
   "metadata": {},
   "execution_count": 20
  },
  {
   "cell_type": "markdown",
   "source": [
    "## Different starting point"
   ],
   "metadata": {}
  },
  {
   "cell_type": "markdown",
   "source": [
    "The LQR regulator we computed as starting point does not take the\n",
    "the constraints `X` into account.\n",
    "To take the constraint into account,\n",
    "we compute an ellipsoidal control invariant set using [LJ21, Corollary 9]\n",
    "For this, we first compute the descriptor system described in [LJ21, Proposition 5].\n",
    "\n",
    "[LJ21] Legat, Benoît, and Jungers, Raphaël M.\n",
    "*Geometric control of algebraic systems.*\n",
    "IFAC-PapersOnLine 54.5 (2021): 79-84."
   ],
   "metadata": {}
  },
  {
   "outputs": [
    {
     "output_type": "execute_result",
     "data": {
      "text/plain": "6×8 Matrix{Float64}:\n 0.0  0.0  1.0  0.0    0.0     0.0  0.0        0.0\n 0.0  0.0  0.0  1.0    0.0     0.0  0.0        0.0\n 0.0  0.0  0.0  0.0    9.81    0.0  0.0        0.0\n 0.0  0.0  0.0  0.0   -0.0     0.0  0.635714   0.0\n 0.0  0.0  0.0  0.0    0.0     1.0  0.0        0.0\n 0.0  0.0  0.0  0.0  -70.0   -17.0  0.0       55.0"
     },
     "metadata": {},
     "execution_count": 21
    }
   ],
   "cell_type": "code",
   "source": [
    "nD = n_x + n_u\n",
    "E = sparse(1:n_x, 1:n_x, ones(n_x), n_x, nD)\n",
    "C = [A B]"
   ],
   "metadata": {},
   "execution_count": 21
  },
  {
   "cell_type": "markdown",
   "source": [
    "We know solve [LJ21, (13)]"
   ],
   "metadata": {}
  },
  {
   "outputs": [
    {
     "output_type": "execute_result",
     "data": {
      "text/plain": "* Solver : CSDP\n\n* Status\n  Result count       : 1\n  Termination status : OPTIMAL\n  Message from the solver:\n  \"Problem solved to optimality.\"\n\n* Candidate solution (result #1)\n  Primal status      : FEASIBLE_POINT\n  Dual status        : FEASIBLE_POINT\n  Objective value    : 5.78738e-01\n  Dual objective value : 5.78738e-01\n\n* Work counters\n  Solve time (sec)   : 3.41403e-01\n"
     },
     "metadata": {},
     "execution_count": 22
    }
   ],
   "cell_type": "code",
   "source": [
    "using LinearAlgebra\n",
    "model = Model(solver)\n",
    "@variable(model, Q[1:nD, 1:nD] in PSDCone())\n",
    "cref = @constraint(model, Symmetric(-C * Q * E' - E * Q * C') in PSDCone())\n",
    "@constraint(model, rect_ref[i in 1:nD], Q[i, i] <= rectangle[i]^2)\n",
    "@variable(model, volume)\n",
    "q = [Q[i, j] for j in 1:nD for i in 1:j]\n",
    "@constraint(model, [volume; q] in MOI.RootDetConeTriangle(nD))\n",
    "@objective(model, Max, volume)\n",
    "optimize!(model)\n",
    "solution_summary(model)"
   ],
   "metadata": {},
   "execution_count": 22
  },
  {
   "cell_type": "markdown",
   "source": [
    "We now have the control-Lyapunov function `V(x, u) = [x, u]' inv(Q) [x, u]`.\n",
    "In other words, The 1-sublevel set of `V(x, u)` is an invariant subset of `rectangle`\n",
    "with any state-feedback `κ(x)` such that `V(x, κ(x)) ≤ 1` for any `x` such that\n",
    "`min_u V(x, u) ≤ 1`.\n",
    "Such candidate `κ(x)` can therefore be chosen as `argmin_u V(x, u)`.\n",
    "Let `inv(Q) = U' * U` where `U = [Ux Uu]`. We have `V(x, u) = ||Ux * x + Uu * u||_2`.\n",
    "`κ(x)` is therefore the least-square solution of `Uu * κ(x) = -Ux * x`.\n",
    "This we find the linear state-feedback `κ(x) = K * x` where `K = -Uu \\ Ux`."
   ],
   "metadata": {}
  },
  {
   "outputs": [
    {
     "output_type": "execute_result",
     "data": {
      "text/plain": "2×6 Matrix{Float64}:\n  0.0        -0.882353   0.0        -0.833058   0.0        0.0\n -0.0222194   0.0       -0.0694124   0.0       -0.129141  -0.00421917"
     },
     "metadata": {},
     "execution_count": 23
    }
   ],
   "cell_type": "code",
   "source": [
    "P = inv(Symmetric(value.(Q)))\n",
    "using LinearAlgebra\n",
    "F = cholesky(P)\n",
    "K = -F.U[:, (n_x + 1):(nD)] \\ F.U[:, 1:n_x] # That gives the following state feedback in polynomial form:"
   ],
   "metadata": {},
   "execution_count": 23
  },
  {
   "cell_type": "markdown",
   "source": [
    "The corresponding polynomial form is given by:"
   ],
   "metadata": {}
  },
  {
   "outputs": [
    {
     "output_type": "execute_result",
     "data": {
      "text/plain": "2-element Vector{DynamicPolynomials.Polynomial{true, Float64}}:\n -0.882352735630361x₂ - 0.83305782987962x₄\n -0.022219408717766776x₁ - 0.06941238949828189x₃ - 0.12914146540936053x₅ - 0.004219173792328508x₆"
     },
     "metadata": {},
     "execution_count": 24
    }
   ],
   "cell_type": "code",
   "source": [
    "κ0 = K * x"
   ],
   "metadata": {},
   "execution_count": 24
  },
  {
   "cell_type": "markdown",
   "source": [
    "We now have two equivalent ways to obtain the Lyapunov function.\n",
    "Because `{V(x) ≤ 1} = {min_u V(x, u) ≤ 1}`,\n",
    "see the left-hand side as the projection of the ellipsoid on `x, u`.\n",
    "As the projection on the polar becomes simply cutting with the hyperplane `u = 0`,\n",
    "the polar of the projection is simply `Q[1:6, 1:6]` ! So"
   ],
   "metadata": {}
  },
  {
   "outputs": [
    {
     "output_type": "execute_result",
     "data": {
      "text/plain": "6×6 LinearAlgebra.Symmetric{Float64, Matrix{Float64}}:\n 0.353394   0.0       0.0534157  0.0        0.351086  0.0166669\n 0.0        1.55709   0.0        0.490034   0.0       0.0\n 0.0534157  0.0       1.87417    0.0        1.84556   0.295246\n 0.0        0.490034  0.0        1.38797    0.0       0.0\n 0.351086   0.0       1.84556    0.0       17.0444    0.697153\n 0.0166669  0.0       0.295246   0.0        0.697153  0.462644"
     },
     "metadata": {},
     "execution_count": 25
    }
   ],
   "cell_type": "code",
   "source": [
    "Px = inv(Symmetric(value.(Q[1:n_x, 1:n_x])))"
   ],
   "metadata": {},
   "execution_count": 25
  },
  {
   "cell_type": "markdown",
   "source": [
    "An alternative way is to use our linear state feedback.\n",
    "We know that `min_u V(x, u) = V(x, Kx)` so"
   ],
   "metadata": {}
  },
  {
   "outputs": [
    {
     "output_type": "execute_result",
     "data": {
      "text/plain": "6×6 Matrix{Float64}:\n 0.353394   0.0       0.0534157  0.0        0.351086  0.0166669\n 0.0        1.55709   0.0        0.490034   0.0       0.0\n 0.0534157  0.0       1.87417    0.0        1.84556   0.295246\n 0.0        0.490034  0.0        1.38797    0.0       0.0\n 0.351086   0.0       1.84556    0.0       17.0444    0.697153\n 0.0166669  0.0       0.295246   0.0        0.697153  0.462644"
     },
     "metadata": {},
     "execution_count": 26
    }
   ],
   "cell_type": "code",
   "source": [
    "Px = [I; K]' * P * [I; K]"
   ],
   "metadata": {},
   "execution_count": 26
  },
  {
   "cell_type": "markdown",
   "source": [
    "We can double check that this matrix is negative definite:"
   ],
   "metadata": {}
  },
  {
   "outputs": [
    {
     "output_type": "execute_result",
     "data": {
      "text/plain": "6-element Vector{Float64}:\n -83.44264967502772\n  -4.59071600130032\n  -1.0397781704180302\n  -6.822088606976983e-9\n  -1.3081766843554856e-9\n  -1.0129560642136006e-9"
     },
     "metadata": {},
     "execution_count": 27
    }
   ],
   "cell_type": "code",
   "source": [
    "eigen(Symmetric(Px * (A + B * K) + (A + B * K)' * Px)).values"
   ],
   "metadata": {},
   "execution_count": 27
  },
  {
   "cell_type": "markdown",
   "source": [
    "Let's use the `support_` prefix to differentiate since we obtained it\n",
    "with the support function.\n",
    "The corresponding Lyapunov is:"
   ],
   "metadata": {}
  },
  {
   "outputs": [
    {
     "output_type": "execute_result",
     "data": {
      "text/plain": "0.35339440227767954x₁² + 0.10683141910803211x₁x₃ + 0.7021723219158447x₁x₅ + 0.033333840285734204x₁x₆ + 1.557093407343589x₂² + 0.980068157454626x₂x₄ + 1.8741658275022288x₃² + 3.6911284527569457x₃x₅ + 0.5904925002177625x₃x₆ + 1.3879711934338639x₄² + 17.044390822542333x₅² + 1.3943053465004982x₅x₆ + 0.4626437564254304x₆²",
      "text/latex": "$$ 0.35339440227767954x_{1}^{2} + 0.10683141910803211x_{1}x_{3} + 0.7021723219158447x_{1}x_{5} + 0.033333840285734204x_{1}x_{6} + 1.557093407343589x_{2}^{2} + 0.980068157454626x_{2}x_{4} + 1.8741658275022288x_{3}^{2} + 3.6911284527569457x_{3}x_{5} + 0.5904925002177625x_{3}x_{6} + 1.3879711934338639x_{4}^{2} + 17.044390822542333x_{5}^{2} + 1.3943053465004982x_{5}x_{6} + 0.4626437564254304x_{6}^{2} $$"
     },
     "metadata": {},
     "execution_count": 28
    }
   ],
   "cell_type": "code",
   "source": [
    "support_V0 = x' * Px * x"
   ],
   "metadata": {},
   "execution_count": 28
  },
  {
   "cell_type": "markdown",
   "source": [
    "We can see that `support_V0` shares the same monomial with almost zero coefficient\n",
    "with `V0`."
   ],
   "metadata": {}
  },
  {
   "outputs": [
    {
     "output_type": "execute_result",
     "data": {
      "text/plain": "DynamicPolynomials.Monomial{true}[]"
     },
     "metadata": {},
     "execution_count": 29
    }
   ],
   "cell_type": "code",
   "source": [
    "[monomial(t) for t in terms(support_V0) if abs(DynamicPolynomials.coefficient(t)) < 1e-8]"
   ],
   "metadata": {},
   "execution_count": 29
  },
  {
   "cell_type": "markdown",
   "source": [
    "Let's drop them for `support_V0` as well:"
   ],
   "metadata": {}
  },
  {
   "outputs": [
    {
     "output_type": "execute_result",
     "data": {
      "text/plain": "0.35339440227767954x₁² + 0.10683141910803211x₁x₃ + 0.7021723219158447x₁x₅ + 0.033333840285734204x₁x₆ + 1.557093407343589x₂² + 0.980068157454626x₂x₄ + 1.8741658275022288x₃² + 3.6911284527569457x₃x₅ + 0.5904925002177625x₃x₆ + 1.3879711934338639x₄² + 17.044390822542333x₅² + 1.3943053465004982x₅x₆ + 0.4626437564254304x₆²",
      "text/latex": "$$ 0.35339440227767954x_{1}^{2} + 0.10683141910803211x_{1}x_{3} + 0.7021723219158447x_{1}x_{5} + 0.033333840285734204x_{1}x_{6} + 1.557093407343589x_{2}^{2} + 0.980068157454626x_{2}x_{4} + 1.8741658275022288x_{3}^{2} + 3.6911284527569457x_{3}x_{5} + 0.5904925002177625x_{3}x_{6} + 1.3879711934338639x_{4}^{2} + 17.044390822542333x_{5}^{2} + 1.3943053465004982x_{5}x_{6} + 0.4626437564254304x_{6}^{2} $$"
     },
     "metadata": {},
     "execution_count": 30
    }
   ],
   "cell_type": "code",
   "source": [
    "support_V0 = mapcoefficients(c -> (abs(c) < 1e-8 ? 0.0 : c), support_V0)"
   ],
   "metadata": {},
   "execution_count": 30
  },
  {
   "cell_type": "markdown",
   "source": [
    "`support_V0 - 1` is a controlled invariant set for the linearized system\n",
    "but not for the nonlinear one. We can plot it to visualize but\n",
    "it is not comparable to the ones found before which were\n",
    "controlled invariant to the nonlinear system."
   ],
   "metadata": {}
  },
  {
   "outputs": [
    {
     "name": "stdout",
     "output_type": "stream",
     "text": [
      "[ Info: Iteration 1/10 : Solving with CSDP for `γ = 1.0`\n",
      "[ Info: After 5.179563999176025 seconds, terminated with INFEASIBLE (Problem is primal infeasible.)\n",
      "[ Info: Infeasibility certificate found : dual is INFEASIBILITY_CERTIFICATE\n",
      "[ Info: Refined interval : `γ ∈ [0.0, 1.0[`\n",
      "[ Info: Iteration 2/10 : Solving with CSDP for `γ = 0.5`\n",
      "[ Info: After 5.768848180770874 seconds, terminated with INFEASIBLE (Problem is primal infeasible.)\n",
      "[ Info: Infeasibility certificate found : dual is INFEASIBILITY_CERTIFICATE\n",
      "[ Info: Refined interval : `γ ∈ [0.0, 0.5[`\n",
      "[ Info: Iteration 3/10 : Solving with CSDP for `γ = 0.25`\n",
      "[ Info: After 5.565197944641113 seconds, terminated with INFEASIBLE (Problem is primal infeasible.)\n",
      "[ Info: Infeasibility certificate found : dual is INFEASIBILITY_CERTIFICATE\n",
      "[ Info: Refined interval : `γ ∈ [0.0, 0.25[`\n",
      "[ Info: Iteration 4/10 : Solving with CSDP for `γ = 0.125`\n",
      "[ Info: After 6.688314914703369 seconds, terminated with INFEASIBLE (Problem is primal infeasible.)\n",
      "[ Info: Infeasibility certificate found : dual is INFEASIBILITY_CERTIFICATE\n",
      "[ Info: Refined interval : `γ ∈ [0.0, 0.125[`\n",
      "[ Info: Iteration 5/10 : Solving with CSDP for `γ = 0.0625`\n",
      "[ Info: After 6.242577075958252 seconds, terminated with INFEASIBLE (Problem is primal infeasible.)\n",
      "[ Info: Infeasibility certificate found : dual is INFEASIBILITY_CERTIFICATE\n",
      "[ Info: Refined interval : `γ ∈ [0.0, 0.0625[`\n",
      "[ Info: Bisection finished without a feasible controller, let's find one\n",
      "[ Info: Iteration 6/10 : Solving with CSDP for `γ = 0.0`\n",
      "[ Info: After 0.9290211200714111 seconds, terminated with OPTIMAL (Problem solved to optimality.)\n",
      "[ Info: Feasible solution found : primal is FEASIBLE_POINT\n"
     ]
    },
    {
     "output_type": "execute_result",
     "data": {
      "text/plain": "(0.0, DynamicPolynomials.Polynomial{true, Float64}[3.6634328684326576x₁² + 0.03855324936446891x₁x₃ - 0.19264060364434954x₁x₅ - 0.050673807412010774x₁x₆ + 2.137524837484577x₂² - 0.8020104474119663x₂x₄ + 3.0384312576747945x₃² + 0.340111184337367x₃x₅ - 0.4362077845329324x₃x₆ + 2.2344314147914517x₄² + 2.842170943040401e-14x₄x₆ - 1.347423513642994x₅² - 0.4313854734051077x₅x₆ + 2.3561100186279305x₆² - 1.4210854715202004e-14x₁ + 4.967945920073092x₂ - 10.848853207705211x₄ + 15.43146067415745, 0.0005234958340878393x₁x₂ + 0.002894836622147068x₁x₄ + 7.105427357601002e-15x₁x₆ - 0.06743908823044364x₂x₃ - 7.105427357601002e-15x₂x₄ - 0.03719459828977989x₂x₅ - 0.0038765491433494503x₂x₆ + 0.07969308901426331x₃x₄ + 1.4210854715202004e-14x₃x₅ + 7.105427357601002e-15x₄² + 0.5054118521266631x₄x₅ - 0.15241134533741985x₄x₆ + 7.105427357601002e-15x₅² + 1.4210854715202004e-14x₅x₆ + 1.1080799655456772x₁ - 0.41111946560260293x₃ + 56.37065204403887x₅ - 20.98632711878451x₆], GramMatrix{Float64, MonomialBasis{DynamicPolynomials.Monomial{true}, DynamicPolynomials.MonomialVector{true}}, Float64, SymMatrix{Float64}}([245.49359966629703 -8.568373374680769e-18 … 2.5583890059492615e-15 50.05630614520367; -8.568373374680769e-18 208.72147230495818 … 0.00020701697696797502 3.653559885999349e-17; … ; 2.5583890059492615e-15 0.00020701697696797502 … 198.99663781001956 6.347258471512711e-14; 50.05630614520367 3.653559885999349e-17 … 6.347258471512711e-14 407.04929715302916], MonomialBasis{DynamicPolynomials.Monomial{true}, DynamicPolynomials.MonomialVector{true}}(DynamicPolynomials.Monomial{true}[x₁², x₁x₂, x₁x₃, x₁x₄, x₁x₅, x₁x₆, x₂², x₂x₃, x₂x₄, x₂x₅  …  x₅², x₅x₆, x₆², x₁, x₂, x₃, x₄, x₅, x₆, 1])))"
     },
     "metadata": {},
     "execution_count": 31
    }
   ],
   "cell_type": "code",
   "source": [
    "support_Vs = [support_V0 - 1]\n",
    "plot_lyapunovs(support_Vs, [1, 2])\n",
    "\n",
    "support_γ1, support_κ1, support_s3_1 = γ_step(solver, support_V0, 0.0, [2, 2], 2)"
   ],
   "metadata": {},
   "execution_count": 31
  },
  {
   "cell_type": "markdown",
   "source": [
    "We do not find it for any positive `γ` so the controlled invariant set is an empty set."
   ],
   "metadata": {}
  },
  {
   "cell_type": "markdown",
   "source": [
    "---\n",
    "\n",
    "*This notebook was generated using [Literate.jl](https://github.com/fredrikekre/Literate.jl).*"
   ],
   "metadata": {}
  }
 ],
 "nbformat_minor": 3,
 "metadata": {
  "language_info": {
   "file_extension": ".jl",
   "mimetype": "application/julia",
   "name": "julia",
   "version": "1.8.5"
  },
  "kernelspec": {
   "name": "julia-1.8",
   "display_name": "Julia 1.8.5",
   "language": "julia"
  }
 },
 "nbformat": 4
}

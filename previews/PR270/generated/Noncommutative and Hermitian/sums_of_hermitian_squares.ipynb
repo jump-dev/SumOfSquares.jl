{
 "cells": [
  {
   "cell_type": "markdown",
   "source": [
    "# Sums of Hermitian squares"
   ],
   "metadata": {}
  },
  {
   "cell_type": "markdown",
   "source": [
    "**Contributed by**: Benoît Legat"
   ],
   "metadata": {}
  },
  {
   "outputs": [
    {
     "name": "stdout",
     "output_type": "stream",
     "text": [
      "Lack of progress.  Giving up!\n",
      "Partial Success: SDP solved with reduced accuracy\n",
      "Primal objective value: -4.3120321e-02 \n",
      "Dual objective value: -4.5818580e-02 \n",
      "Relative primal infeasibility: 3.91e-07 \n",
      "Relative dual infeasibility: 1.53e-08 \n",
      "Real Relative Gap: -2.48e-03 \n",
      "XZ Relative Gap: 7.36e-07 \n",
      "DIMACS error measures: 5.98e-07 0.00e+00 3.82e-08 0.00e+00 -2.48e-03 7.36e-07\n",
      "CSDP 6.2.0\n",
      "This is a pure primal feasibility problem.\n",
      "Iter:  0 Ap: 0.00e+00 Pobj:  0.0000000e+00 Ad: 0.00e+00 Dobj:  0.0000000e+00 \n",
      "Iter:  1 Ap: 9.00e-01 Pobj:  0.0000000e+00 Ad: 1.00e+00 Dobj:  2.8800000e+01 \n",
      "Iter:  2 Ap: 9.00e-01 Pobj:  0.0000000e+00 Ad: 1.00e+00 Dobj:  5.2897959e+00 \n",
      "Iter:  3 Ap: 1.00e+00 Pobj:  0.0000000e+00 Ad: 1.00e+00 Dobj:  1.0563942e-01 \n"
     ]
    },
    {
     "output_type": "execute_result",
     "data": {
      "text/plain": "((-1.0000000000000002 - 0.0im)*x + (0.0 + 1.0im)*y)^2"
     },
     "metadata": {},
     "execution_count": 1
    }
   ],
   "cell_type": "code",
   "source": [
    "using SumOfSquares\n",
    "\n",
    "using DynamicPolynomials\n",
    "@ncpolyvar x y\n",
    "p = (x + 1.0im * y) * (x - im * y)\n",
    "\n",
    "import CSDP\n",
    "model = Model(CSDP.Optimizer)\n",
    "add_bridge(model, SumOfSquares.COI.Bridges.Variable.HermitianToSymmetricPSDBridge)\n",
    "add_bridge(model, SumOfSquares.COI.Bridges.Constraint.SplitZeroBridge)\n",
    "MOI.Bridges.add_bridge(backend(model).optimizer, PolyJuMP.ZeroPolynomialBridge{Complex{Float64}})\n",
    "MOI.Bridges.add_bridge(backend(model).optimizer, SumOfSquares.Bridges.Constraint.SOSPolynomialBridge{Complex{Float64}})\n",
    "cone = NonnegPolyInnerCone{SumOfSquares.COI.HermitianPositiveSemidefiniteConeTriangle}()\n",
    "con_ref = @constraint(model, p in cone)\n",
    "optimize!(model)\n",
    "sos_decomposition(con_ref, 1e-6)"
   ],
   "metadata": {},
   "execution_count": 1
  },
  {
   "cell_type": "markdown",
   "source": [
    "---\n",
    "\n",
    "*This notebook was generated using [Literate.jl](https://github.com/fredrikekre/Literate.jl).*"
   ],
   "metadata": {}
  }
 ],
 "nbformat_minor": 3,
 "metadata": {
  "language_info": {
   "file_extension": ".jl",
   "mimetype": "application/julia",
   "name": "julia",
   "version": "1.8.5"
  },
  "kernelspec": {
   "name": "julia-1.8",
   "display_name": "Julia 1.8.5",
   "language": "julia"
  }
 },
 "nbformat": 4
}

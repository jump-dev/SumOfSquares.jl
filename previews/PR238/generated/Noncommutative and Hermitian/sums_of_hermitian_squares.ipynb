{
 "cells": [
  {
   "cell_type": "markdown",
   "source": [
    "# Sums of Hermitian squares"
   ],
   "metadata": {}
  },
  {
   "cell_type": "markdown",
   "source": [
    "**Contributed by**: Benoît Legat"
   ],
   "metadata": {}
  },
  {
   "outputs": [
    {
     "name": "stdout",
     "output_type": "stream",
     "text": [
      "CSDP 6.2.0\n",
      "This is a pure primal feasibility problem.\n",
      "Iter:  0 Ap: 0.00e+00 Pobj:  0.0000000e+00 Ad: 0.00e+00 Dobj:  0.0000000e+00 \n",
      "Iter:  1 Ap: 9.00e-01 Pobj:  0.0000000e+00 Ad: 1.00e+00 Dobj:  2.7733333e+01 \n",
      "Iter:  2 Ap: 1.00e+00 Pobj:  0.0000000e+00 Ad: 1.00e+00 Dobj:  4.1505669e+00 \n"
     ]
    },
    {
     "output_type": "execute_result",
     "data": {
      "text/plain": "((-0.9999999999999998 - 0.0im)*x + (0.0 + 0.9999999999999998im)*y)^2"
     },
     "metadata": {},
     "execution_count": 1
    }
   ],
   "cell_type": "code",
   "source": [
    "using SumOfSquares\n",
    "\n",
    "using DynamicPolynomials\n",
    "@ncpolyvar x y\n",
    "p = (x + 1.0im * y) * (x - im * y)\n",
    "\n",
    "import CSDP\n",
    "model = Model(CSDP.Optimizer)\n",
    "add_bridge(model, SumOfSquares.Bridges.Constraint.EmptyBridge)\n",
    "add_bridge(model, SumOfSquares.Bridges.Constraint.PositiveSemidefinite2x2Bridge)\n",
    "add_bridge(model, SumOfSquares.COI.Bridges.Variable.HermitianToSymmetricPSDBridge)\n",
    "add_bridge(model, SumOfSquares.COI.Bridges.Constraint.SplitZeroBridge)\n",
    "MOI.Bridges.add_bridge(backend(model).optimizer, PolyJuMP.ZeroPolynomialBridge{Complex{Float64}})\n",
    "MOI.Bridges.add_bridge(backend(model).optimizer, SumOfSquares.Bridges.Constraint.SOSPolynomialBridge{Complex{Float64}})\n",
    "cone = NonnegPolyInnerCone{SumOfSquares.COI.HermitianPositiveSemidefiniteConeTriangle}()\n",
    "certificate = SumOfSquares.Certificate.MaxDegree(cone, MonomialBasis, 2)\n",
    "c = SumOfSquares.add_constraint(model, p, cone, ideal_certificate = certificate)\n",
    "optimize!(model)\n",
    "sos_decomposition(c, 1e-6)"
   ],
   "metadata": {},
   "execution_count": 1
  },
  {
   "cell_type": "markdown",
   "source": [
    "---\n",
    "\n",
    "*This notebook was generated using [Literate.jl](https://github.com/fredrikekre/Literate.jl).*"
   ],
   "metadata": {}
  }
 ],
 "nbformat_minor": 3,
 "metadata": {
  "language_info": {
   "file_extension": ".jl",
   "mimetype": "application/julia",
   "name": "julia",
   "version": "1.7.2"
  },
  "kernelspec": {
   "name": "julia-1.7",
   "display_name": "Julia 1.7.2",
   "language": "julia"
  }
 },
 "nbformat": 4
}

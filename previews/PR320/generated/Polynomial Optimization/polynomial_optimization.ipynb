{
 "cells": [
  {
   "cell_type": "markdown",
   "source": [
    "# Polynomial Optimization"
   ],
   "metadata": {}
  },
  {
   "cell_type": "markdown",
   "source": [
    "**Contributed by**: Benoît Legat"
   ],
   "metadata": {}
  },
  {
   "cell_type": "markdown",
   "source": [
    "## Introduction"
   ],
   "metadata": {}
  },
  {
   "cell_type": "markdown",
   "source": [
    "Consider the polynomial optimization problem [L09, Example 2.2] of\n",
    "minimizing the polynomial $x^3 - x^2 + 2xy - y^2 + y^3$\n",
    "over the polyhedron defined by the inequalities $x \\ge 0, y \\ge 0$ and $x + y \\geq 1$."
   ],
   "metadata": {}
  },
  {
   "cell_type": "markdown",
   "source": [
    "[L09] Lasserre, J. B.\n",
    "*Moments, positive polynomials and their applications*.\n",
    "World Scientific, **2009**."
   ],
   "metadata": {}
  },
  {
   "outputs": [
    {
     "output_type": "execute_result",
     "data": {
      "text/plain": "(0, 1//4, 0)"
     },
     "metadata": {},
     "execution_count": 1
    }
   ],
   "cell_type": "code",
   "source": [
    "using DynamicPolynomials\n",
    "@polyvar x y\n",
    "p = x^3 - x^2 + 2x*y -y^2 + y^3\n",
    "using SumOfSquares\n",
    "S = @set x >= 0 && y >= 0 && x + y >= 1\n",
    "p(x=>1, y=>0), p(x=>1//2, y=>1//2), p(x=>0, y=>1)"
   ],
   "metadata": {},
   "execution_count": 1
  },
  {
   "cell_type": "markdown",
   "source": [
    "## Local search"
   ],
   "metadata": {}
  },
  {
   "cell_type": "markdown",
   "source": [
    "A local solver only uses the **local** information given by the the value, gradient and hessian\n",
    "of the objective function and constraints at a given solution. When it converges, it therefore only\n",
    "guarantees that the found solution is a **local** minimum.\n",
    "In this example, the optimal solutions are $(x, y) = (1, 0)$ and $(x, y) = (0, 1)$ with objective value $0$ but\n",
    "[Ipopt](https://github.com/jump-dev/Ipopt.jl/) only finds the local minimum $(1/2, 1/2)$ with objective value $1/4$."
   ],
   "metadata": {}
  },
  {
   "outputs": [
    {
     "name": "stdout",
     "output_type": "stream",
     "text": [
      "Iter: 12 Ap: 9.00e-01 Pobj: -6.0000000e+00 Ad: 1.00e+00 Dobj: -6.0000000e+00 \n",
      "Success: SDP solved\n",
      "Primal objective value: -6.0000000e+00 \n",
      "Dual objective value: -6.0000000e+00 \n",
      "Relative primal infeasibility: 4.61e-11 \n",
      "Relative dual infeasibility: 3.44e-11 \n",
      "Real Relative Gap: 5.36e-10 \n",
      "XZ Relative Gap: 7.07e-10 \n",
      "DIMACS error measures: 5.03e-11 0.00e+00 5.84e-11 0.00e+00 5.36e-10 7.07e-10\n",
      "\n",
      "******************************************************************************\n",
      "This program contains Ipopt, a library for large-scale nonlinear optimization.\n",
      " Ipopt is released as open source code under the Eclipse Public License (EPL).\n",
      "         For more information visit https://github.com/coin-or/Ipopt\n",
      "******************************************************************************\n",
      "\n",
      "This is Ipopt version 3.14.13, running with linear solver MUMPS 5.6.1.\n",
      "\n",
      "Number of nonzeros in equality constraint Jacobian...:        0\n",
      "Number of nonzeros in inequality constraint Jacobian.:        2\n",
      "Number of nonzeros in Lagrangian Hessian.............:        3\n",
      "\n",
      "Total number of variables............................:        2\n",
      "                     variables with only lower bounds:        2\n",
      "                variables with lower and upper bounds:        0\n",
      "                     variables with only upper bounds:        0\n",
      "Total number of equality constraints.................:        0\n",
      "Total number of inequality constraints...............:        1\n",
      "        inequality constraints with only lower bounds:        1\n",
      "   inequality constraints with lower and upper bounds:        0\n",
      "        inequality constraints with only upper bounds:        0\n",
      "\n",
      "iter    objective    inf_pr   inf_du lg(mu)  ||d||  lg(rg) alpha_du alpha_pr  ls\n",
      "   0  1.9999940e-06 9.80e-01 1.33e+00  -1.0 0.00e+00    -  0.00e+00 0.00e+00   0\n",
      "   1  5.3716721e-05 9.40e-01 1.18e+00  -1.0 3.97e-01    -  3.23e-02 5.03e-02h  1\n",
      "   2  2.8887051e-01 0.00e+00 4.87e+01  -1.0 4.95e-01   2.0 1.00e+00 1.00e+00f  1\n",
      "   3  2.8997185e-01 0.00e+00 1.00e-06  -1.0 1.33e-03    -  1.00e+00 1.00e+00f  1\n",
      "   4  2.8022658e-01 0.00e+00 3.97e-01  -2.5 1.19e-02   1.5 1.00e+00 1.00e+00f  1\n",
      "   5  2.5585775e-01 0.00e+00 3.45e-01  -2.5 3.10e-02   1.0 1.00e+00 1.00e+00f  1\n",
      "   6  2.5292585e-01 0.00e+00 1.16e-01  -2.5 1.03e-02   0.6 1.00e+00 3.73e-01f  2\n",
      "   7  2.5283150e-01 0.00e+00 1.54e-04  -2.5 1.25e-04   0.1 1.00e+00 1.00e+00f  1\n",
      "   8  2.5021392e-01 0.00e+00 1.14e-02  -3.8 3.48e-03   0.5 1.00e+00 1.00e+00f  1\n",
      "   9  2.5014901e-01 0.00e+00 9.49e-05  -3.8 8.65e-05   0.0 1.00e+00 1.00e+00f  1\n",
      "iter    objective    inf_pr   inf_du lg(mu)  ||d||  lg(rg) alpha_du alpha_pr  ls\n",
      "  10  2.5000198e-01 0.00e+00 5.74e-04  -5.7 1.96e-04   0.5 1.00e+00 1.00e+00f  1\n",
      "  11  2.5000184e-01 0.00e+00 1.48e-06  -5.7 1.90e-07   0.9 1.00e+00 1.00e+00f  1\n",
      "  12  2.5000000e-01 0.00e+00 6.39e-06  -8.6 2.46e-06   0.4 1.00e+00 1.00e+00f  1\n",
      "  13  2.5000000e-01 0.00e+00 1.67e-10  -8.6 2.41e-11   0.8 1.00e+00 1.00e+00f  1\n",
      "\n",
      "Number of Iterations....: 13\n",
      "\n",
      "                                   (scaled)                 (unscaled)\n",
      "Objective...............:   2.4999999500590336e-01    2.4999999500590336e-01\n",
      "Dual infeasibility......:   1.6744738928764491e-10    1.6744738928764491e-10\n",
      "Constraint violation....:   0.0000000000000000e+00    0.0000000000000000e+00\n",
      "Variable bound violation:   0.0000000000000000e+00    0.0000000000000000e+00\n",
      "Complementarity.........:   2.5059035596801710e-09    2.5059035596801710e-09\n",
      "Overall NLP error.......:   2.5059035596801710e-09    2.5059035596801710e-09\n",
      "\n",
      "\n",
      "Number of objective function evaluations             = 15\n",
      "Number of objective gradient evaluations             = 14\n",
      "Number of equality constraint evaluations            = 0\n",
      "Number of inequality constraint evaluations          = 15\n",
      "Number of equality constraint Jacobian evaluations   = 0\n",
      "Number of inequality constraint Jacobian evaluations = 1\n",
      "Number of Lagrangian Hessian evaluations             = 13\n",
      "Total seconds in IPOPT                               = 1.740\n",
      "\n",
      "EXIT: Optimal Solution Found.\n"
     ]
    }
   ],
   "cell_type": "code",
   "source": [
    "import Ipopt\n",
    "model = Model(Ipopt.Optimizer)\n",
    "@variable(model, a >= 0)\n",
    "@variable(model, b >= 0)\n",
    "@constraint(model, a + b >= 1)\n",
    "@NLobjective(model, Min, a^3 - a^2 + 2a*b - b^2 + b^3)\n",
    "optimize!(model)"
   ],
   "metadata": {},
   "execution_count": 2
  },
  {
   "cell_type": "markdown",
   "source": [
    "As we can see below, the termination status is `LOCALLY_SOLVED` and not of `OPTIMAL`\n",
    "because Ipopt only guarantees **local** optimality."
   ],
   "metadata": {}
  },
  {
   "outputs": [
    {
     "output_type": "execute_result",
     "data": {
      "text/plain": "* Solver : Ipopt\n\n* Status\n  Result count       : 1\n  Termination status : LOCALLY_SOLVED\n  Message from the solver:\n  \"Solve_Succeeded\"\n\n* Candidate solution (result #1)\n  Primal status      : FEASIBLE_POINT\n  Dual status        : FEASIBLE_POINT\n  Objective value    : 2.50000e-01\n  Dual objective value : 7.50000e-01\n\n* Work counters\n  Solve time (sec)   : 1.74144e+00\n"
     },
     "metadata": {},
     "execution_count": 3
    }
   ],
   "cell_type": "code",
   "source": [
    "solution_summary(model)"
   ],
   "metadata": {},
   "execution_count": 3
  },
  {
   "cell_type": "markdown",
   "source": [
    "Indeed, the solution found is not globally optimal:"
   ],
   "metadata": {}
  },
  {
   "outputs": [
    {
     "output_type": "execute_result",
     "data": {
      "text/plain": "(0.49999999667061656, 0.4999999966705879)"
     },
     "metadata": {},
     "execution_count": 4
    }
   ],
   "cell_type": "code",
   "source": [
    "value(a), value(b)"
   ],
   "metadata": {},
   "execution_count": 4
  },
  {
   "cell_type": "markdown",
   "source": [
    "Note that the problem can be written equivalently as follows using [registered functions](https://jump.dev/JuMP.jl/stable/manual/nlp/#Register-a-function).\n",
    "The difference is that the gradient and hessian will be computed via the *Symbolic Differentiation* provided\n",
    "by MultivariatePolynomials instead of JuMP's *Automatic Differentiation*:"
   ],
   "metadata": {}
  },
  {
   "outputs": [
    {
     "name": "stdout",
     "output_type": "stream",
     "text": [
      "This is Ipopt version 3.14.13, running with linear solver MUMPS 5.6.1.\n",
      "\n",
      "Number of nonzeros in equality constraint Jacobian...:        0\n",
      "Number of nonzeros in inequality constraint Jacobian.:        2\n",
      "Number of nonzeros in Lagrangian Hessian.............:        3\n",
      "\n",
      "Total number of variables............................:        2\n",
      "                     variables with only lower bounds:        2\n",
      "                variables with lower and upper bounds:        0\n",
      "                     variables with only upper bounds:        0\n",
      "Total number of equality constraints.................:        0\n",
      "Total number of inequality constraints...............:        1\n",
      "        inequality constraints with only lower bounds:        1\n",
      "   inequality constraints with lower and upper bounds:        0\n",
      "        inequality constraints with only upper bounds:        0\n",
      "\n",
      "iter    objective    inf_pr   inf_du lg(mu)  ||d||  lg(rg) alpha_du alpha_pr  ls\n",
      "   0  1.9999940e-06 9.80e-01 1.33e+00  -1.0 0.00e+00    -  0.00e+00 0.00e+00   0\n",
      "   1  5.3716721e-05 9.40e-01 1.18e+00  -1.0 3.97e-01    -  3.23e-02 5.03e-02h  1\n",
      "   2  2.8887051e-01 0.00e+00 4.87e+01  -1.0 4.95e-01   2.0 1.00e+00 1.00e+00f  1\n",
      "   3  2.8997185e-01 0.00e+00 1.00e-06  -1.0 1.33e-03    -  1.00e+00 1.00e+00f  1\n",
      "   4  2.8022658e-01 0.00e+00 3.97e-01  -2.5 1.19e-02   1.5 1.00e+00 1.00e+00f  1\n",
      "   5  2.5585775e-01 0.00e+00 3.45e-01  -2.5 3.10e-02   1.0 1.00e+00 1.00e+00f  1\n",
      "   6  2.5292585e-01 0.00e+00 1.16e-01  -2.5 1.03e-02   0.6 1.00e+00 3.73e-01f  2\n",
      "   7  2.5283150e-01 0.00e+00 1.54e-04  -2.5 1.25e-04   0.1 1.00e+00 1.00e+00f  1\n",
      "   8  2.5021392e-01 0.00e+00 1.14e-02  -3.8 3.48e-03   0.5 1.00e+00 1.00e+00f  1\n",
      "   9  2.5014901e-01 0.00e+00 9.49e-05  -3.8 8.65e-05   0.0 1.00e+00 1.00e+00f  1\n",
      "iter    objective    inf_pr   inf_du lg(mu)  ||d||  lg(rg) alpha_du alpha_pr  ls\n",
      "  10  2.5000198e-01 0.00e+00 5.74e-04  -5.7 1.96e-04   0.5 1.00e+00 1.00e+00f  1\n",
      "  11  2.5000184e-01 0.00e+00 1.48e-06  -5.7 1.90e-07   0.9 1.00e+00 1.00e+00f  1\n",
      "  12  2.5000000e-01 0.00e+00 6.39e-06  -8.6 2.46e-06   0.4 1.00e+00 1.00e+00f  1\n",
      "  13  2.5000000e-01 0.00e+00 1.67e-10  -8.6 2.41e-11   0.8 1.00e+00 1.00e+00f  1\n",
      "\n",
      "Number of Iterations....: 13\n",
      "\n",
      "                                   (scaled)                 (unscaled)\n",
      "Objective...............:   2.4999999500590339e-01    2.4999999500590339e-01\n",
      "Dual infeasibility......:   1.6744738928764491e-10    1.6744738928764491e-10\n",
      "Constraint violation....:   0.0000000000000000e+00    0.0000000000000000e+00\n",
      "Variable bound violation:   0.0000000000000000e+00    0.0000000000000000e+00\n",
      "Complementarity.........:   2.5059035596801710e-09    2.5059035596801710e-09\n",
      "Overall NLP error.......:   2.5059035596801710e-09    2.5059035596801710e-09\n",
      "\n",
      "\n",
      "Number of objective function evaluations             = 15\n",
      "Number of objective gradient evaluations             = 14\n",
      "Number of equality constraint evaluations            = 0\n",
      "Number of inequality constraint evaluations          = 15\n",
      "Number of equality constraint Jacobian evaluations   = 0\n",
      "Number of inequality constraint Jacobian evaluations = 1\n",
      "Number of Lagrangian Hessian evaluations             = 13\n",
      "Total seconds in IPOPT                               = 0.105\n",
      "\n",
      "EXIT: Optimal Solution Found.\n"
     ]
    }
   ],
   "cell_type": "code",
   "source": [
    "f(a, b) = p(x => a, y => b)\n",
    "∇p = differentiate(p, [x, y])\n",
    "function ∇f(g, a, b)\n",
    "    for i in eachindex(g)\n",
    "        g[i] = ∇p[i](x => a, y => b)\n",
    "    end\n",
    "end\n",
    "∇²p = differentiate(∇p, [x, y])\n",
    "function ∇²f(H, a, b)\n",
    "    for j in axes(∇²p, 2)\n",
    "        for i in j:size(∇²p, 1)\n",
    "            H[i, j] = ∇²p[i, j](x => a, y => b)\n",
    "        end\n",
    "    end\n",
    "end\n",
    "using Ipopt\n",
    "gmodel = Model(Ipopt.Optimizer)\n",
    "@variable(gmodel, a >= 0)\n",
    "@variable(gmodel, b >= 0)\n",
    "@constraint(gmodel, a + b >= 1)\n",
    "register(gmodel, :f, 2, f, ∇f, ∇²f)\n",
    "@NLobjective(gmodel, Min, f(a, b))\n",
    "optimize!(gmodel)"
   ],
   "metadata": {},
   "execution_count": 5
  },
  {
   "cell_type": "markdown",
   "source": [
    "Even if we have the algebraic expressions of gradient and hessian,\n",
    "Ipopt is not using these symbolic expressions but only local information\n",
    "hence it can still only provide local guarantees:"
   ],
   "metadata": {}
  },
  {
   "outputs": [
    {
     "output_type": "execute_result",
     "data": {
      "text/plain": "* Solver : Ipopt\n\n* Status\n  Result count       : 1\n  Termination status : LOCALLY_SOLVED\n  Message from the solver:\n  \"Solve_Succeeded\"\n\n* Candidate solution (result #1)\n  Primal status      : FEASIBLE_POINT\n  Dual status        : FEASIBLE_POINT\n  Objective value    : 2.50000e-01\n  Dual objective value : 7.50000e-01\n\n* Work counters\n  Solve time (sec)   : 1.06059e-01\n"
     },
     "metadata": {},
     "execution_count": 6
    }
   ],
   "cell_type": "code",
   "source": [
    "solution_summary(gmodel)"
   ],
   "metadata": {},
   "execution_count": 6
  },
  {
   "cell_type": "markdown",
   "source": [
    "and the same solution is found:"
   ],
   "metadata": {}
  },
  {
   "outputs": [
    {
     "output_type": "execute_result",
     "data": {
      "text/plain": "(0.49999999667061656, 0.4999999966705879)"
     },
     "metadata": {},
     "execution_count": 7
    }
   ],
   "cell_type": "code",
   "source": [
    "value(a), value(b)"
   ],
   "metadata": {},
   "execution_count": 7
  },
  {
   "cell_type": "markdown",
   "source": [
    "## Sum-of-Squares approach"
   ],
   "metadata": {}
  },
  {
   "cell_type": "markdown",
   "source": [
    "We will now see how to find the optimal solution using Sum of Squares Programming.\n",
    "We first need to pick an SDP solver, see [here](https://jump.dev/JuMP.jl/v1.12/installation/#Supported-solvers) for a list of the available choices."
   ],
   "metadata": {}
  },
  {
   "outputs": [
    {
     "output_type": "execute_result",
     "data": {
      "text/plain": "#11 (generic function with 1 method)"
     },
     "metadata": {},
     "execution_count": 8
    }
   ],
   "cell_type": "code",
   "source": [
    "import SCS\n",
    "scs = SCS.Optimizer\n",
    "import Dualization\n",
    "dual_scs = Dualization.dual_optimizer(scs)"
   ],
   "metadata": {},
   "execution_count": 8
  },
  {
   "cell_type": "markdown",
   "source": [
    "A Sum-of-Squares certificate that $p \\ge \\alpha$ over the domain `S`, ensures that $\\alpha$ is a lower bound to the polynomial optimization problem.\n",
    "The following program searches for the largest lower bound and finds zero."
   ],
   "metadata": {}
  },
  {
   "outputs": [
    {
     "name": "stdout",
     "output_type": "stream",
     "text": [
      "------------------------------------------------------------------\n",
      "\t       SCS v3.2.3 - Splitting Conic Solver\n",
      "\t(c) Brendan O'Donoghue, Stanford University, 2012\n",
      "------------------------------------------------------------------\n",
      "problem:  variables n: 10, constraints m: 25\n",
      "cones: \t  z: primal zero / dual free vars: 1\n",
      "\t  s: psd vars: 24, ssize: 4\n",
      "settings: eps_abs: 1.0e-04, eps_rel: 1.0e-04, eps_infeas: 1.0e-07\n",
      "\t  alpha: 1.50, scale: 1.00e-01, adaptive_scale: 1\n",
      "\t  max_iters: 100000, normalize: 1, rho_x: 1.00e-06\n",
      "\t  acceleration_lookback: 10, acceleration_interval: 10\n",
      "lin-sys:  sparse-direct-amd-qdldl\n",
      "\t  nnz(A): 37, nnz(P): 0\n",
      "------------------------------------------------------------------\n",
      " iter | pri res | dua res |   gap   |   obj   |  scale  | time (s)\n",
      "------------------------------------------------------------------\n",
      "     0| 1.90e+01  1.01e+00  5.26e+01 -2.61e+01  1.00e-01  2.56e-03 \n",
      "   125| 4.27e-05  3.97e-05  9.70e-06  8.12e-06  8.63e-01  3.51e-03 \n",
      "------------------------------------------------------------------\n",
      "status:  solved\n",
      "timings: total: 3.51e-03s = setup: 1.55e-03s + solve: 1.96e-03s\n",
      "\t lin-sys: 7.57e-05s, cones: 1.78e-03s, accel: 8.20e-06s\n",
      "------------------------------------------------------------------\n",
      "objective = 0.000008\n",
      "------------------------------------------------------------------\n"
     ]
    }
   ],
   "cell_type": "code",
   "source": [
    "model = SOSModel(dual_scs)\n",
    "@variable(model, α)\n",
    "@objective(model, Max, α)\n",
    "@constraint(model, c3, p >= α, domain = S)\n",
    "optimize!(model)"
   ],
   "metadata": {},
   "execution_count": 9
  },
  {
   "cell_type": "markdown",
   "source": [
    "This time, the termination status is `OPTIMAL` but this does not necessarily mean that we found\n",
    "the optimal solution to the polynomial optimization problem.\n",
    "This only means that CSDP founds an optimal solution to the Sum-of-Squares relaxation."
   ],
   "metadata": {}
  },
  {
   "outputs": [
    {
     "output_type": "execute_result",
     "data": {
      "text/plain": "* Solver : Dual model with SCS attached\n\n* Status\n  Result count       : 1\n  Termination status : OPTIMAL\n  Message from the solver:\n  \"solved\"\n\n* Candidate solution (result #1)\n  Primal status      : FEASIBLE_POINT\n  Dual status        : FEASIBLE_POINT\n  Objective value    : 1.29679e-05\n  Dual objective value : 3.27176e-06\n\n* Work counters\n  Solve time (sec)   : 3.50879e-03\n"
     },
     "metadata": {},
     "execution_count": 10
    }
   ],
   "cell_type": "code",
   "source": [
    "solution_summary(model)"
   ],
   "metadata": {},
   "execution_count": 10
  },
  {
   "cell_type": "markdown",
   "source": [
    "The feasibility of the primal solution guarantees that the objective value `0` is a lower bound\n",
    "to the polynomial optimization problem.\n",
    "The optimality means that it's the best lower bound we can get (at this degree of the hierarcy).\n",
    "Using the solution $(1/2, 1/2)$ found by Ipopt of objective value $1/4$\n",
    "and this certificate of lower bound $0$ we know that the optimal objective value is in the interval $[0, 1/4]$\n",
    "but we still do not know what it is (if we consider that we did not try the solutions $(1, 0)$ and $(0, 1)$ as done in the introduction).\n",
    "If the dual of the constraint `c3` was atomic, its atoms would have given optimal solutions of objective value $0$ but that is not the case."
   ],
   "metadata": {}
  },
  {
   "outputs": [],
   "cell_type": "code",
   "source": [
    "ν3 = moment_matrix(c3)\n",
    "atomic_measure(ν3, 1e-3) # Returns nothing as the dual is not atomic"
   ],
   "metadata": {},
   "execution_count": 11
  },
  {
   "cell_type": "markdown",
   "source": [
    "Fortunately, there is a hierarchy of programs with increasingly better bounds that can be solved until we get one with atom dual variables.\n",
    "This comes from the way the Sum-of-Squares constraint with domain `S` is formulated.\n",
    "The polynomial $p - \\alpha$ is guaranteed to be nonnegative over the domain `S` if there exists Sum-of-Squares polynomials $s_0$, $s_1$, $s_2$, $s_3$ such that\n",
    "$$\n",
    "p - \\alpha = s_0 + s_1 x + s_2 y + s_3 (x + y - 1).\n",
    "$$\n",
    "Indeed, in the domain `S`, $x$, $y$ and $x + y - 1$ are nonnegative so the right-hand side is a sum of squares hence is nonnegative.\n",
    "Once the degrees of $s_1$, $s_2$ and $s_3$ have been decided, the degree needed for $s_0$ will be determined but we have a freedom in choosing the degrees of $s_1$, $s_2$ and $s_3$.\n",
    "By default, they are chosen so that the degrees of $s_1 x$, $s_2 y$ and $s_3 (x + y - 1)$ match those of $p - \\alpha$ but this can be overwritten using the `maxdegree` keyword argument."
   ],
   "metadata": {}
  },
  {
   "cell_type": "markdown",
   "source": [
    "### The maxdegree keyword argument"
   ],
   "metadata": {}
  },
  {
   "cell_type": "markdown",
   "source": [
    "The maximum total degree (i.e. maximum sum of the exponents of $x$ and $y$) of the monomials of $p$ is 3 so the constraint in the program above is equivalent to `@constraint(model, p >= α, domain = S, maxdegree = 3)`.\n",
    "That is, since $x$, $y$ and $x + y - 1$ have total degree 1, the sum of squares polynomials $s_1$, $s_2$ and $s_3$ have been chosen with maximum total degree $2$.\n",
    "Since these polynomials are sums of squares, their degree must be even so the next maximum total degree to try is 4.\n",
    "For this reason, the keywords `maxdegree = 4` and `maxdegree = 5` have the same effect in this example.\n",
    "In general, if the polynomials in the domain are not all odd or all even, each value of `maxdegree` has a different effect in the choice of the maximum total degree of some $s_i$."
   ],
   "metadata": {}
  },
  {
   "outputs": [
    {
     "name": "stdout",
     "output_type": "stream",
     "text": [
      "------------------------------------------------------------------\n",
      "\t       SCS v3.2.3 - Splitting Conic Solver\n",
      "\t(c) Brendan O'Donoghue, Stanford University, 2012\n",
      "------------------------------------------------------------------\n",
      "problem:  variables n: 10, constraints m: 25\n",
      "cones: \t  z: primal zero / dual free vars: 1\n",
      "\t  s: psd vars: 24, ssize: 4\n",
      "settings: eps_abs: 1.0e-04, eps_rel: 1.0e-04, eps_infeas: 1.0e-07\n",
      "\t  alpha: 1.50, scale: 1.00e-01, adaptive_scale: 1\n",
      "\t  max_iters: 100000, normalize: 1, rho_x: 1.00e-06\n",
      "\t  acceleration_lookback: 10, acceleration_interval: 10\n",
      "lin-sys:  sparse-direct-amd-qdldl\n",
      "\t  nnz(A): 37, nnz(P): 0\n",
      "------------------------------------------------------------------\n",
      " iter | pri res | dua res |   gap   |   obj   |  scale  | time (s)\n",
      "------------------------------------------------------------------\n",
      "     0| 1.90e+01  1.01e+00  5.26e+01 -2.61e+01  1.00e-01  1.41e-04 \n",
      "   125| 4.27e-05  3.97e-05  9.70e-06  8.12e-06  8.63e-01  1.04e-03 \n",
      "------------------------------------------------------------------\n",
      "status:  solved\n",
      "timings: total: 1.05e-03s = setup: 9.60e-05s + solve: 9.49e-04s\n",
      "\t lin-sys: 7.29e-05s, cones: 7.99e-04s, accel: 7.00e-06s\n",
      "------------------------------------------------------------------\n",
      "objective = 0.000008\n",
      "------------------------------------------------------------------\n"
     ]
    }
   ],
   "cell_type": "code",
   "source": [
    "model = SOSModel(dual_scs)\n",
    "@variable(model, α)\n",
    "@objective(model, Max, α)\n",
    "@constraint(model, c4, p >= α, domain = S, maxdegree = 4)\n",
    "optimize!(model)"
   ],
   "metadata": {},
   "execution_count": 12
  },
  {
   "cell_type": "markdown",
   "source": [
    "We can see that the basis of the moment matrix didn't increase:"
   ],
   "metadata": {}
  },
  {
   "outputs": [
    {
     "output_type": "execute_result",
     "data": {
      "text/plain": "MomentMatrix with row/column basis:\n MonomialBasis([1, y, x])\nAnd entries in a 3×3 SymMatrix{Float64}:\n 0.9999988622359877  0.4999978058971255    0.4999978058971196\n 0.4999978058971255  0.4999205453112076    7.563537032903693e-5\n 0.4999978058971196  7.563537032903693e-5  0.499920545311202"
     },
     "metadata": {},
     "execution_count": 13
    }
   ],
   "cell_type": "code",
   "source": [
    "moment_matrix(c4)"
   ],
   "metadata": {},
   "execution_count": 13
  },
  {
   "cell_type": "markdown",
   "source": [
    "This is because of the Newton polytope reduction that determined that gram matrix will\n",
    "be zero for these degrees so it reduced the problem back to the equivalent of `maxdegree` 3\n",
    "Let's turn this off with `newton_polytope = nothing`"
   ],
   "metadata": {}
  },
  {
   "outputs": [
    {
     "name": "stdout",
     "output_type": "stream",
     "text": [
      "------------------------------------------------------------------\n",
      "\t       SCS v3.2.3 - Splitting Conic Solver\n",
      "\t(c) Brendan O'Donoghue, Stanford University, 2012\n",
      "------------------------------------------------------------------\n",
      "problem:  variables n: 15, constraints m: 40\n",
      "cones: \t  z: primal zero / dual free vars: 1\n",
      "\t  s: psd vars: 39, ssize: 4\n",
      "settings: eps_abs: 1.0e-04, eps_rel: 1.0e-04, eps_infeas: 1.0e-07\n",
      "\t  alpha: 1.50, scale: 1.00e-01, adaptive_scale: 1\n",
      "\t  max_iters: 100000, normalize: 1, rho_x: 1.00e-06\n",
      "\t  acceleration_lookback: 10, acceleration_interval: 10\n",
      "lin-sys:  sparse-direct-amd-qdldl\n",
      "\t  nnz(A): 52, nnz(P): 0\n",
      "------------------------------------------------------------------\n",
      " iter | pri res | dua res |   gap   |   obj   |  scale  | time (s)\n",
      "------------------------------------------------------------------\n",
      "     0| 1.06e+01  4.30e-01  3.19e+01 -1.57e+01  1.00e-01  3.00e-04 \n",
      "   125| 2.44e-04  2.14e-05  1.20e-05 -4.90e-05  1.00e-01  2.00e-03 \n",
      "------------------------------------------------------------------\n",
      "status:  solved\n",
      "timings: total: 2.00e-03s = setup: 1.10e-04s + solve: 1.89e-03s\n",
      "\t lin-sys: 1.06e-04s, cones: 1.56e-03s, accel: 1.39e-04s\n",
      "------------------------------------------------------------------\n",
      "objective = -0.000049\n",
      "------------------------------------------------------------------\n"
     ]
    }
   ],
   "cell_type": "code",
   "source": [
    "function sos(solver, deg)\n",
    "    model = SOSModel(solver)\n",
    "    @variable(model, α)\n",
    "    @objective(model, Max, α)\n",
    "    @constraint(model, c, p >= α, domain = S, maxdegree = deg, newton_polytope = nothing)\n",
    "    optimize!(model)\n",
    "    return model\n",
    "end\n",
    "dual_model4 = sos(dual_scs, 4)\n",
    "nothing #hide"
   ],
   "metadata": {},
   "execution_count": 14
  },
  {
   "cell_type": "markdown",
   "source": [
    "We see that the lower bound is still 0:"
   ],
   "metadata": {}
  },
  {
   "outputs": [
    {
     "output_type": "execute_result",
     "data": {
      "text/plain": "* Solver : Dual model with SCS attached\n\n* Status\n  Result count       : 1\n  Termination status : OPTIMAL\n  Message from the solver:\n  \"solved\"\n\n* Candidate solution (result #1)\n  Primal status      : FEASIBLE_POINT\n  Dual status        : FEASIBLE_POINT\n  Objective value    : -4.29823e-05\n  Dual objective value : -5.49868e-05\n\n* Work counters\n  Solve time (sec)   : 2.00419e-03\n"
     },
     "metadata": {},
     "execution_count": 15
    }
   ],
   "cell_type": "code",
   "source": [
    "solution_summary(dual_model4)"
   ],
   "metadata": {},
   "execution_count": 15
  },
  {
   "cell_type": "markdown",
   "source": [
    "Let's now look at which solution we can extract from the moment matrix:"
   ],
   "metadata": {}
  },
  {
   "outputs": [
    {
     "output_type": "execute_result",
     "data": {
      "text/plain": "MomentMatrix with row/column basis:\n MonomialBasis([1, y, x, y^2, x*y, x^2])\nAnd entries in a 6×6 SymMatrix{Float64}:\n  1.0000084649794814       0.5001118271563914      …   0.500333618195221\n  0.5001118271563914       0.5003460975047997         -8.01456584878068e-5\n  0.5001118271564011      -0.00012664913633449412      0.5004463755228483\n  0.5003336181952089       0.5004463755228384          1.95291413604411\n -0.00012729223308665825  -9.194362986997219e-5       -1.8561449853462064\n  0.500333618195221       -8.01456584878068e-5     …   8.524707147814102"
     },
     "metadata": {},
     "execution_count": 16
    }
   ],
   "cell_type": "code",
   "source": [
    "dual_ν4 = moment_matrix(dual_model4[:c])"
   ],
   "metadata": {},
   "execution_count": 16
  },
  {
   "cell_type": "markdown",
   "source": [
    "Looking at the singular values, `4` seems to be a reasonable rank:"
   ],
   "metadata": {}
  },
  {
   "outputs": [
    {
     "output_type": "execute_result",
     "data": {
      "text/plain": "6-element Vector{Float64}:\n 11.292137082083745\n  6.612780281630302\n  1.5788661771503687\n  1.0597600660607904\n  0.45948547678081636\n  2.0487912969849216e-16"
     },
     "metadata": {},
     "execution_count": 17
    }
   ],
   "cell_type": "code",
   "source": [
    "using LinearAlgebra\n",
    "svdvals(Matrix(dual_ν4.Q))"
   ],
   "metadata": {},
   "execution_count": 17
  },
  {
   "cell_type": "markdown",
   "source": [
    "The solution we extract is `(0.5, 0.5)` which is the solution found by Ipopt:"
   ],
   "metadata": {}
  },
  {
   "outputs": [
    {
     "output_type": "execute_result",
     "data": {
      "text/plain": "Atomic measure on the variables x, y with 1 atoms:\n at [0.5000778765242979, 0.5001018243812632] with weight 1.6079422332660906"
     },
     "metadata": {},
     "execution_count": 18
    }
   ],
   "cell_type": "code",
   "source": [
    "atomic_measure(dual_ν4, FixedRank(4))"
   ],
   "metadata": {},
   "execution_count": 18
  },
  {
   "cell_type": "markdown",
   "source": [
    "This process is quite sensitive numerically so let's try to solve it without dualization as well:"
   ],
   "metadata": {}
  },
  {
   "outputs": [
    {
     "name": "stdout",
     "output_type": "stream",
     "text": [
      "------------------------------------------------------------------\n",
      "\t       SCS v3.2.3 - Splitting Conic Solver\n",
      "\t(c) Brendan O'Donoghue, Stanford University, 2012\n",
      "------------------------------------------------------------------\n",
      "problem:  variables n: 40, constraints m: 54\n",
      "cones: \t  z: primal zero / dual free vars: 15\n",
      "\t  s: psd vars: 39, ssize: 4\n",
      "settings: eps_abs: 1.0e-04, eps_rel: 1.0e-04, eps_infeas: 1.0e-07\n",
      "\t  alpha: 1.50, scale: 1.00e-01, adaptive_scale: 1\n",
      "\t  max_iters: 100000, normalize: 1, rho_x: 1.00e-06\n",
      "\t  acceleration_lookback: 10, acceleration_interval: 10\n",
      "lin-sys:  sparse-direct-amd-qdldl\n",
      "\t  nnz(A): 91, nnz(P): 0\n",
      "------------------------------------------------------------------\n",
      " iter | pri res | dua res |   gap   |   obj   |  scale  | time (s)\n",
      "------------------------------------------------------------------\n",
      "     0| 2.21e+01  1.35e+00  3.74e+01 -1.86e+01  1.00e-01  3.73e-04 \n",
      "   175| 7.26e-05  8.28e-06  2.10e-05 -1.57e-05  1.00e-01  2.74e-03 \n",
      "------------------------------------------------------------------\n",
      "status:  solved\n",
      "timings: total: 2.74e-03s = setup: 1.51e-04s + solve: 2.59e-03s\n",
      "\t lin-sys: 2.43e-04s, cones: 2.12e-03s, accel: 9.29e-05s\n",
      "------------------------------------------------------------------\n",
      "objective = -0.000016\n",
      "------------------------------------------------------------------\n"
     ]
    }
   ],
   "cell_type": "code",
   "source": [
    "model4 = sos(scs, 4)\n",
    "nothing #hide"
   ],
   "metadata": {},
   "execution_count": 19
  },
  {
   "cell_type": "markdown",
   "source": [
    "We see that the lower bound is again 0:"
   ],
   "metadata": {}
  },
  {
   "outputs": [
    {
     "output_type": "execute_result",
     "data": {
      "text/plain": "* Solver : SCS\n\n* Status\n  Result count       : 1\n  Termination status : OPTIMAL\n  Message from the solver:\n  \"solved\"\n\n* Candidate solution (result #1)\n  Primal status      : FEASIBLE_POINT\n  Dual status        : FEASIBLE_POINT\n  Objective value    : 2.61826e-05\n  Dual objective value : 5.20758e-06\n\n* Work counters\n  Solve time (sec)   : 2.74199e-03\n"
     },
     "metadata": {},
     "execution_count": 20
    }
   ],
   "cell_type": "code",
   "source": [
    "solution_summary(model4)"
   ],
   "metadata": {},
   "execution_count": 20
  },
  {
   "cell_type": "markdown",
   "source": [
    "The moment matrix is the following"
   ],
   "metadata": {}
  },
  {
   "outputs": [
    {
     "output_type": "execute_result",
     "data": {
      "text/plain": "MomentMatrix with row/column basis:\n MonomialBasis([1, y, x, y^2, x*y, x^2])\nAnd entries in a 6×6 SymMatrix{Float64}:\n 1.0000007181476611     0.4999993341166773     …  0.4999833790296174\n 0.4999993341166773     0.4999834837557172        8.476859131833671e-6\n 0.49999933411667985    1.4825415890134371e-5     0.4999724166510302\n 0.49998337902961515    0.49997241665102765       0.26228006757456934\n 1.5473299845360444e-5  7.3792329870374735e-6     0.2544853069696296\n 0.4999833790296174     8.476859131833671e-6   …  0.7968257005643516"
     },
     "metadata": {},
     "execution_count": 21
    }
   ],
   "cell_type": "code",
   "source": [
    "ν4 = moment_matrix(model4[:c])"
   ],
   "metadata": {},
   "execution_count": 21
  },
  {
   "cell_type": "markdown",
   "source": [
    "Looking at the singular values, `3` seems to be a reasonable rank:"
   ],
   "metadata": {}
  },
  {
   "outputs": [
    {
     "output_type": "execute_result",
     "data": {
      "text/plain": "6-element Vector{Float64}:\n 2.1989525826314282\n 1.0175199095061902\n 0.6030514893216119\n 0.019380459835785388\n 0.01699438182342016\n 1.0272412631089054e-16"
     },
     "metadata": {},
     "execution_count": 22
    }
   ],
   "cell_type": "code",
   "source": [
    "svdvals(Matrix(ν4.Q))"
   ],
   "metadata": {},
   "execution_count": 22
  },
  {
   "cell_type": "markdown",
   "source": [
    "This time, the dual variable is atomic as it is the moments of the measure\n",
    "$$0.5 \\delta(x-1, y) + 0.5 \\delta(x, y-1)$$\n",
    "where $\\delta(x, y)$ is the dirac measure centered at $(0, 0)$.\n",
    "Therefore the program provides both a certificate that $0$ is a lower bound and a certificate that it is also an upper bound since it is attained at the global minimizers $(1, 0)$ and $(0, 1)$."
   ],
   "metadata": {}
  },
  {
   "outputs": [
    {
     "output_type": "execute_result",
     "data": {
      "text/plain": "Atomic measure on the variables x, y with 2 atoms:\n at [0.9946508364409754, 0.00534612538283624] with weight 0.5511753483414487\n at [-0.011834484693154339, 1.0118314465169658] with weight 0.5285747070036433"
     },
     "metadata": {},
     "execution_count": 23
    }
   ],
   "cell_type": "code",
   "source": [
    "atomic_measure(ν4, FixedRank(3))"
   ],
   "metadata": {},
   "execution_count": 23
  },
  {
   "cell_type": "markdown",
   "source": [
    "## A deeper look into atom extraction"
   ],
   "metadata": {}
  },
  {
   "cell_type": "markdown",
   "source": [
    "The moment matrix is transformed into a system of polynomials equations whose solutions give the atoms.\n",
    "This transformation uses the SVD decomposition of the moment matrix and discards the equations corresponding to the lowest singular values.\n",
    "When this system of equation has an infinite number of solutions, `atomic_measure` concludes that the measure is not atomic.\n",
    "For instance, with `maxdegree = 3`, we obtain the system\n",
    "$$x + y = 1$$\n",
    "which contains a whole line of solution.\n",
    "This explains `atomic_measure` returned `nothing`."
   ],
   "metadata": {}
  },
  {
   "outputs": [],
   "cell_type": "code",
   "source": [
    "ν3 = moment_matrix(c3)\n",
    "SumOfSquares.MultivariateMoments.compute_support!(ν3, LeadingRelativeRankTol(1e-3))"
   ],
   "metadata": {},
   "execution_count": 24
  },
  {
   "cell_type": "markdown",
   "source": [
    "With `maxdegree = 4`, we obtain the system\n",
    "$$\n",
    "\\begin{aligned}\n",
    "  x + y & = 1\\\\\n",
    "  y^2 & = y\\\\\n",
    "  xy & = 0\\\\\n",
    "  -y + y^2 - x*y & = 0\n",
    "  y^2 - 2y + 1 & = x^2\n",
    "\\end{aligned}\n",
    "$$"
   ],
   "metadata": {}
  },
  {
   "outputs": [],
   "cell_type": "code",
   "source": [
    "ν4 = moment_matrix(model4[:c])\n",
    "SumOfSquares.MultivariateMoments.compute_support!(ν4, FixedRank(3))"
   ],
   "metadata": {},
   "execution_count": 25
  },
  {
   "cell_type": "markdown",
   "source": [
    "This system can be reduced to the equivalent system\n",
    "$$\n",
    "\\begin{aligned}\n",
    "  x + y & = 1\\\\\n",
    "  y^2 & = y\n",
    "\\end{aligned}\n",
    "$$\n",
    "which has the solutions $(0, 1)$ and $(1, 0)$."
   ],
   "metadata": {}
  },
  {
   "outputs": [
    {
     "output_type": "execute_result",
     "data": {
      "text/plain": "Algebraic Set defined by 2 equalities\n -0.9999969618238118 + 1.0000000000000002*y + x = 0\n 0.0054093777793762995 - 1.0171775718998022*y + y^2 = 0\n"
     },
     "metadata": {},
     "execution_count": 26
    }
   ],
   "cell_type": "code",
   "source": [
    "SemialgebraicSets.compute_gröbner_basis!(ideal(ν4.support))\n",
    "ν4.support"
   ],
   "metadata": {},
   "execution_count": 26
  },
  {
   "cell_type": "markdown",
   "source": [
    "The solutions of this system then give the minimizers"
   ],
   "metadata": {}
  },
  {
   "outputs": [
    {
     "output_type": "execute_result",
     "data": {
      "text/plain": "2-element Vector{Vector{Float64}}:\n [0.9946508364409757, 0.005346125382835845]\n [-0.01183448469315476, 1.0118314465169662]"
     },
     "metadata": {},
     "execution_count": 27
    }
   ],
   "cell_type": "code",
   "source": [
    "collect(ν4.support)"
   ],
   "metadata": {},
   "execution_count": 27
  },
  {
   "cell_type": "markdown",
   "source": [
    "The function `atomic_measure` then reuses the matrix of moments to find the weights $1/2$, $1/2$ corresponding to the diracs centered respectively at $(0, 1)$ and $(1, 0)$.\n",
    "This details how the function obtained the result\n",
    "$$0.5 \\delta(x-1, y) + 0.5 \\delta(x, y-1)$$\n",
    "given in the previous section."
   ],
   "metadata": {}
  },
  {
   "cell_type": "markdown",
   "source": [
    "## HomotopyContinuation"
   ],
   "metadata": {}
  },
  {
   "cell_type": "markdown",
   "source": [
    "As discussed in the previous section, the atom extraction relies on the solution\n",
    "of a system of algebraic equations. The `atomic_measure` function takes an optional\n",
    "`algebraic_solver` argument that is used to solve this system of equation.\n",
    "If no solver is provided, the default solver of SemialgebraicSets.jl is used which\n",
    "currently computes the Gröbner basis, then the multiplication matrices and\n",
    "then the Schur decomposition of a random combination of these matrices.\n",
    "As the system of equations is obtained from a numerical solution and is represented\n",
    "using floating point coefficients, homotopy continuation is recommended as it is\n",
    "more numerically robust than Gröbner basis computation.\n",
    "The following uses homotopy continuation to solve the system of equations."
   ],
   "metadata": {}
  },
  {
   "outputs": [
    {
     "name": "stdout",
     "output_type": "stream",
     "text": [
      "\rComputing mixed cells... 2    Time: 0:00:00\u001b[K\r\n",
      "  mixed_volume:  4\u001b[K\r\u001b[A\n",
      "\r\u001b[K\u001b[A\rComputing mixed cells... 2    Time: 0:00:00\u001b[K\r\n",
      "  mixed_volume:  4\u001b[K\n",
      "\rTracking 4 paths...  50%|███████████████▌               |  ETA: 0:00:19\u001b[K\r\n",
      "  # paths tracked:                  2\u001b[K\r\n",
      "  # non-singular solutions (real):  0 (0)\u001b[K\r\n",
      "  # singular endpoints (real):      0 (0)\u001b[K\r\n",
      "  # total solutions (real):         0 (0)\u001b[K\r\u001b[A\r\u001b[A\r\u001b[A\r\u001b[A\n",
      "\n",
      "\n",
      "\n",
      "\r\u001b[K\u001b[A\r\u001b[K\u001b[A\r\u001b[K\u001b[A\r\u001b[K\u001b[A\rTracking 4 paths... 100%|███████████████████████████████| Time: 0:00:19\u001b[K\r\n",
      "  # paths tracked:                  4\u001b[K\r\n",
      "  # non-singular solutions (real):  0 (0)\u001b[K\r\n",
      "  # singular endpoints (real):      0 (0)\u001b[K\r\n",
      "  # total solutions (real):         0 (0)\u001b[K\n"
     ]
    },
    {
     "output_type": "execute_result",
     "data": {
      "text/plain": "Atomic measure on the variables x, y with 2 atoms:\n at [1.013703462671378, 0.006199097611251542] with weight 0.5304017320803744\n at [0.007317793281148993, 1.0130361715599232] with weight 0.5313320768346611"
     },
     "metadata": {},
     "execution_count": 28
    }
   ],
   "cell_type": "code",
   "source": [
    "using HomotopyContinuation\n",
    "algebraic_solver = SemialgebraicSetsHCSolver(; excess_residual_tol = 1e-1, real_tol = 1e-1, compile = false)\n",
    "atomic_measure(ν4, FixedRank(3), Echelon(), algebraic_solver)"
   ],
   "metadata": {},
   "execution_count": 28
  },
  {
   "cell_type": "markdown",
   "source": [
    "As the system has 3 equations for 2 variables and the coefficients of the equations\n",
    "are to be treated with tolerance since they originate from the solution of an SDP,\n",
    "we need to set `excess_residual_tol` and `real_tol` to a high tolerance otherwise,\n",
    "HomotopyContinuation would consider that there is no solution.\n",
    "Indeed, as the system is overdetermined (it has more equations than variables)\n",
    "HomotopyContinuation expects to have excess solution hence it filters out\n",
    "excess solution among the solution found. It determines which solution are in excess\n",
    "by comparing the infinity norm of the residuals of the equations at the solution with `excess_residual_tol`.\n",
    "It also filters out solution for which the absolute value of the imaginary part of one of the entry\n",
    "is larger than `real_tol` and strips out the imaginary part.\n",
    "The raw solutions obtained by HomotopyContinuation can be obtained as follows:"
   ],
   "metadata": {}
  },
  {
   "outputs": [
    {
     "name": "stdout",
     "output_type": "stream",
     "text": [
      "\rTracking 4 paths...  50%|███████████████▌               |  ETA: 0:00:03\u001b[K\r\n",
      "  # paths tracked:                  2\u001b[K\r\n",
      "  # non-singular solutions (real):  0 (0)\u001b[K\r\n",
      "  # singular endpoints (real):      0 (0)\u001b[K\r\n",
      "  # total solutions (real):         0 (0)\u001b[K\r\u001b[A\r\u001b[A\r\u001b[A\r\u001b[A\n",
      "\n",
      "\n",
      "\n",
      "\r\u001b[K\u001b[A\r\u001b[K\u001b[A\r\u001b[K\u001b[A\r\u001b[K\u001b[A\rTracking 4 paths... 100%|███████████████████████████████| Time: 0:00:03\u001b[K\r\n",
      "  # paths tracked:                  4\u001b[K\r\n",
      "  # non-singular solutions (real):  0 (0)\u001b[K\r\n",
      "  # singular endpoints (real):      0 (0)\u001b[K\r\n",
      "  # total solutions (real):         0 (0)\u001b[K\n"
     ]
    },
    {
     "output_type": "execute_result",
     "data": {
      "text/plain": "4-element Vector{HomotopyContinuation.PathResult}:\n PathResult:\n • return_code → :excess_solution\n • solution → ComplexF64[0.3520350941188712 + 0.1438727459720398im, 0.39808373752365767 - 0.29772230033301617im]\n • accuracy → 0.51226\n • residual → 0.52826\n • condition_jacobian → 3.4911\n • steps → 34 / 0\n • extended_precision → false\n • path_number → 1\n\n PathResult:\n • return_code → :excess_solution\n • solution → ComplexF64[-0.007745883866339952 + 0.019647542972814454im, 1.0375146986833956 - 0.03419024905592798im]\n • accuracy → 0.057842\n • residual → 0.043178\n • condition_jacobian → 7.837\n • steps → 35 / 0\n • extended_precision → false\n • path_number → 2\n\n PathResult:\n • return_code → :excess_solution\n • solution → ComplexF64[1.04844485683341 + 0.0035136552972948576im, -0.01982184385126279 + 0.009294106102657797im]\n • accuracy → 0.054746\n • residual → 0.038775\n • condition_jacobian → 22.498\n • steps → 49 / 0\n • extended_precision → false\n • path_number → 3\n\n PathResult:\n • return_code → :excess_solution\n • solution → ComplexF64[-76.21161483912805 + 43.977520045880865im, -76.1888527199402 + 43.48813319406846im]\n • accuracy → 308.26\n • residual → 47.275\n • condition_jacobian → 313.2\n • steps → 45 / 0\n • extended_precision → false\n • path_number → 4\n"
     },
     "metadata": {},
     "execution_count": 29
    }
   ],
   "cell_type": "code",
   "source": [
    "F = HomotopyContinuation.System(ν4.support)\n",
    "res = HomotopyContinuation.solve(F, algebraic_solver.options...)\n",
    "path_results(res)"
   ],
   "metadata": {},
   "execution_count": 29
  },
  {
   "cell_type": "markdown",
   "source": [
    "The printed `residual` above shows why `1e-1` allows to filter how the 2 actual\n",
    "solutions from the 2 excess solutions."
   ],
   "metadata": {}
  },
  {
   "cell_type": "markdown",
   "source": [
    "---\n",
    "\n",
    "*This notebook was generated using [Literate.jl](https://github.com/fredrikekre/Literate.jl).*"
   ],
   "metadata": {}
  }
 ],
 "nbformat_minor": 3,
 "metadata": {
  "language_info": {
   "file_extension": ".jl",
   "mimetype": "application/julia",
   "name": "julia",
   "version": "1.9.3"
  },
  "kernelspec": {
   "name": "julia-1.9",
   "display_name": "Julia 1.9.3",
   "language": "julia"
  }
 },
 "nbformat": 4
}

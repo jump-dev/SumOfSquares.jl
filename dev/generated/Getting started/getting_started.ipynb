{
 "cells": [
  {
   "cell_type": "markdown",
   "source": [
    "# Getting started"
   ],
   "metadata": {}
  },
  {
   "cell_type": "markdown",
   "source": [
    "**Adapted from**: SOSTOOLS' SOSDEMO1 (See Section 4.1 of [SOSTOOLS User's Manual](http://sysos.eng.ox.ac.uk/sostools/sostools.pdf)) and Example 2.4 of [PJ08]\n",
    "\n",
    "P. Parrilo and A. Jadbabaie\n",
    "*Approximation of the joint spectral radius using sum of squares*.\n",
    "Linear Algebra and its Applications, Elsevier (2008), 428, 2385-2402"
   ],
   "metadata": {}
  },
  {
   "outputs": [
    {
     "output_type": "execute_result",
     "data": {
      "text/plain": "2x⁴ + 2x³y - x²y² + 5y⁴",
      "text/latex": "$$ 2x^{4} + 2x^{3}y - x^{2}y^{2} + 5y^{4} $$"
     },
     "metadata": {},
     "execution_count": 1
    }
   ],
   "cell_type": "code",
   "source": [
    "using DynamicPolynomials\n",
    "@polyvar x y\n",
    "p = 2*x^4 + 2*x^3*y - x^2*y^2 + 5*y^4"
   ],
   "metadata": {},
   "execution_count": 1
  },
  {
   "cell_type": "markdown",
   "source": [
    "We need to pick an SDP solver, see [here](https://jump.dev/JuMP.jl/v0.21.6/installation/#Supported-solvers) for a list of the available choices.\n",
    "We use `SOSModel` instead of `Model` to be able to use the `>=` syntax for Sum-of-Squares constraints."
   ],
   "metadata": {}
  },
  {
   "outputs": [
    {
     "output_type": "execute_result",
     "data": {
      "text/plain": "FEASIBLE_POINT::ResultStatusCode = 1"
     },
     "metadata": {},
     "execution_count": 2
    }
   ],
   "cell_type": "code",
   "source": [
    "using SumOfSquares\n",
    "import CSDP\n",
    "solver = optimizer_with_attributes(CSDP.Optimizer, MOI.Silent() => true)\n",
    "model = SOSModel(solver)\n",
    "con_ref = @constraint(model, p >= 0)\n",
    "optimize!(model)\n",
    "primal_status(model)"
   ],
   "metadata": {},
   "execution_count": 2
  },
  {
   "cell_type": "markdown",
   "source": [
    "We see above that the solver found a feasible solution.\n",
    "We now inspect this solution:"
   ],
   "metadata": {}
  },
  {
   "outputs": [
    {
     "output_type": "execute_result",
     "data": {
      "text/plain": "GramMatrix{Float64, MonomialBasis{DynamicPolynomials.Monomial{true}, DynamicPolynomials.MonomialVector{true}}, Float64, SymMatrix{Float64}}([2.0 1.0 -2.9518518518518517; 1.0 4.903703703703703 4.4408920985006264e-17; -2.9518518518518517 4.4408920985006264e-17 5.0], MonomialBasis{DynamicPolynomials.Monomial{true}, DynamicPolynomials.MonomialVector{true}}(DynamicPolynomials.Monomial{true}[x², xy, y²]))"
     },
     "metadata": {},
     "execution_count": 3
    }
   ],
   "cell_type": "code",
   "source": [
    "q = gram_matrix(con_ref)"
   ],
   "metadata": {},
   "execution_count": 3
  },
  {
   "cell_type": "markdown",
   "source": [
    "We can get the SOS decomposition from the gram matrix as follows:"
   ],
   "metadata": {}
  },
  {
   "outputs": [
    {
     "output_type": "execute_result",
     "data": {
      "text/plain": "(-1.4043287476933928*x^2 - 0.6856027338723616*x*y + 2.1236350925148195*y^2)^2 + (-0.020343251432301014*x^2 - 2.1053486943394355*x*y - 0.6931517747987993*y^2)^2 + (0.1656711215724523*x^2 - 0.034050994900062366*x*y + 0.09856272587979206*y^2)^2"
     },
     "metadata": {},
     "execution_count": 4
    }
   ],
   "cell_type": "code",
   "source": [
    "sosdec = SOSDecomposition(q)"
   ],
   "metadata": {},
   "execution_count": 4
  },
  {
   "cell_type": "markdown",
   "source": [
    "We now seek for the SOS decomposition of the following polynomial:"
   ],
   "metadata": {}
  },
  {
   "outputs": [
    {
     "output_type": "execute_result",
     "data": {
      "text/plain": "4x⁴y⁶ - xy² + x² + y²",
      "text/latex": "$$ 4x^{4}y^{6} - xy^{2} + x^{2} + y^{2} $$"
     },
     "metadata": {},
     "execution_count": 5
    }
   ],
   "cell_type": "code",
   "source": [
    "p = 4*x^4*y^6 + x^2 - x*y^2 + y^2"
   ],
   "metadata": {},
   "execution_count": 5
  },
  {
   "cell_type": "markdown",
   "source": [
    "We build the same model as previously with this new polynomial.\n",
    "Here we can use `Model` instead of `SOSModel` as we explicitly constrain\n",
    "`p` to belong to the SOS cone with `p in SOSCone()`."
   ],
   "metadata": {}
  },
  {
   "outputs": [
    {
     "output_type": "execute_result",
     "data": {
      "text/plain": "FEASIBLE_POINT::ResultStatusCode = 1"
     },
     "metadata": {},
     "execution_count": 6
    }
   ],
   "cell_type": "code",
   "source": [
    "model = Model(solver)\n",
    "con_ref = @constraint(model, p in SOSCone())\n",
    "optimize!(model)\n",
    "primal_status(model)"
   ],
   "metadata": {},
   "execution_count": 6
  },
  {
   "cell_type": "markdown",
   "source": [
    "We can query the SOS decomposition directly from the constraint reference\n",
    "as follows:"
   ],
   "metadata": {}
  },
  {
   "outputs": [
    {
     "output_type": "execute_result",
     "data": {
      "text/plain": "(-1.9748040632461137*x^2*y^3 - 0.19297758710767504*x*y - 1.2579784702938301e-18*x + 0.8633544111907671*y)^2 + (1.161454705303773e-16*x^2*y^3 + 1.7452642425911873*x*y^2 + 4.259564417901351e-16*x*y - 0.7962855107812753*x + 2.976064607337023e-16*y)^2 + (0.2579336224358902*x^2*y^3 - 1.5486392128975757*x*y - 3.3353532892872995e-17*x + 0.24383463418983606*y)^2 + (-6.7094740818866955e-18*x^2*y^3 + 0.2759982101052248*x*y^2 + 3.6909881545351916e-17*x*y + 0.6049209744419545*x - 1.7192085285603608e-17*y)^2 + (-0.1833552786361385*x^2*y^3 + 2.7126856103373498e-17*x*y^2 - 0.10009637589813153*x*y - 3.3370932165107486e-17*x - 0.44177350740730525*y)^2"
     },
     "metadata": {},
     "execution_count": 7
    }
   ],
   "cell_type": "code",
   "source": [
    "sos_decomposition(con_ref)"
   ],
   "metadata": {},
   "execution_count": 7
  },
  {
   "cell_type": "markdown",
   "source": [
    "---\n",
    "\n",
    "*This notebook was generated using [Literate.jl](https://github.com/fredrikekre/Literate.jl).*"
   ],
   "metadata": {}
  }
 ],
 "nbformat_minor": 3,
 "metadata": {
  "language_info": {
   "file_extension": ".jl",
   "mimetype": "application/julia",
   "name": "julia",
   "version": "1.8.1"
  },
  "kernelspec": {
   "name": "julia-1.8",
   "display_name": "Julia 1.8.1",
   "language": "julia"
  }
 },
 "nbformat": 4
}

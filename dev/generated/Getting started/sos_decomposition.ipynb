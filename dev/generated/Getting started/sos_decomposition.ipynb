{
 "cells": [
  {
   "cell_type": "markdown",
   "source": [
    "# A trivial SOS decomposition example"
   ],
   "metadata": {}
  },
  {
   "cell_type": "markdown",
   "source": [
    "**Contributed by**: votroto\n",
    "**Adapted from**: Examples 3.25 of [BPT12]\n",
    "\n",
    "[BPT12] Blekherman, G.; Parrilo, P. A. & Thomas, R. R.\n",
    "*Semidefinite Optimization and Convex Algebraic Geometry*.\n",
    "Society for Industrial and Applied Mathematics, **2012**."
   ],
   "metadata": {}
  },
  {
   "outputs": [],
   "cell_type": "code",
   "source": [
    "using DynamicPolynomials\n",
    "using SumOfSquares\n",
    "import CSDP"
   ],
   "metadata": {},
   "execution_count": 1
  },
  {
   "cell_type": "markdown",
   "source": [
    "The polynomial `p = x^2 - x*y^2 + y^4 + 1` is SOS.\n",
    "We can, for example, decompose it as\n",
    "`p = 3/4*(x - y^2)^2 + 1/4*(x + y)^2 + 1`,\n",
    "which clearly proves that `p` is SOS, and there are infinitely many other ways\n",
    "to decompose `p` into sums of squares."
   ],
   "metadata": {}
  },
  {
   "cell_type": "markdown",
   "source": [
    "We can use SumOfSquares.jl to find such decompositions."
   ],
   "metadata": {}
  },
  {
   "cell_type": "markdown",
   "source": [
    "First, setup the polynomial of interest."
   ],
   "metadata": {}
  },
  {
   "outputs": [
    {
     "output_type": "execute_result",
     "data": {
      "text/plain": "1 + x² - xy² + y⁴",
      "text/latex": "$$ 1 + x^{2} - xy^{2} + y^{4} $$"
     },
     "metadata": {},
     "execution_count": 2
    }
   ],
   "cell_type": "code",
   "source": [
    "@polyvar x y\n",
    "p = x^2 - x*y^2 + y^4 + 1"
   ],
   "metadata": {},
   "execution_count": 2
  },
  {
   "cell_type": "markdown",
   "source": [
    "Secondly, constrain the polynomial to be nonnegative.\n",
    "SumOfSquares.jl transparently reinterprets polyonmial nonnegativity as the\n",
    "appropriate SOS certificate for polynomials nonnegative on semialgebraic sets."
   ],
   "metadata": {}
  },
  {
   "outputs": [
    {
     "output_type": "execute_result",
     "data": {
      "text/plain": "cref : (1) + (1)x² + (-1)xy² + (1)y⁴ is SOS",
      "text/latex": "$$ (1) + (1)x^{2} + (-1)xy^{2} + (1)y^{4} \\text{ is SOS} $$"
     },
     "metadata": {},
     "execution_count": 3
    }
   ],
   "cell_type": "code",
   "source": [
    "model = SOSModel(CSDP.Optimizer)\n",
    "@constraint(model, cref, p >= 0)"
   ],
   "metadata": {},
   "execution_count": 3
  },
  {
   "cell_type": "markdown",
   "source": [
    "Thirdly, optimize the feasibility problem!"
   ],
   "metadata": {}
  },
  {
   "outputs": [
    {
     "name": "stdout",
     "output_type": "stream",
     "text": [
      "CSDP 6.2.0\n",
      "This is a pure primal feasibility problem.\n",
      "Iter:  0 Ap: 0.00e+00 Pobj:  0.0000000e+00 Ad: 0.00e+00 Dobj:  0.0000000e+00 \n",
      "Iter:  1 Ap: 9.00e-01 Pobj:  0.0000000e+00 Ad: 1.00e+00 Dobj:  2.7659722e+01 \n",
      "Iter:  2 Ap: 1.00e+00 Pobj:  0.0000000e+00 Ad: 1.00e+00 Dobj:  1.2562719e+01 \n"
     ]
    }
   ],
   "cell_type": "code",
   "source": [
    "optimize!(model)"
   ],
   "metadata": {},
   "execution_count": 4
  },
  {
   "cell_type": "markdown",
   "source": [
    "Lastly, recover a SOS decomposition.\n",
    "In general, SOS decompositions are not unique!"
   ],
   "metadata": {}
  },
  {
   "outputs": [
    {
     "output_type": "execute_result",
     "data": {
      "text/plain": "(-0.7423566403018642 - 0.5916342145954683*x + 0.9492757372229985*y^2)^2 + (-6.60921131771784e-17 + 1.1201589623631873*y - 2.4872525425116695e-16*x - 1.0534655002111817e-16*y^2)^2 + (0.6232480104529257 - 0.782024243528594*x + 5.551115123125783e-17*y^2)^2 + (-0.2459035096662894 - 1.2342687879752308e-17*y - 0.19597713808894587*x - 0.31444486753600015*y^2)^2"
     },
     "metadata": {},
     "execution_count": 5
    }
   ],
   "cell_type": "code",
   "source": [
    "sos_dec = sos_decomposition(cref, 1e-4)"
   ],
   "metadata": {},
   "execution_count": 5
  },
  {
   "cell_type": "markdown",
   "source": [
    "Converting, rounding, and simplifying - Huzza, Back where we began!"
   ],
   "metadata": {}
  },
  {
   "outputs": [
    {
     "output_type": "execute_result",
     "data": {
      "text/plain": "1.0 - 1.4199712e-16y + 7.4940054e-16x - 5.551115e-16y² - 5.5238587e-16xy + x² - 2.2824759e-16y³ - xy² + y⁴",
      "text/latex": "$$ 1.0 - 1.4199712 \\cdot 10^{-16}y + 7.4940054 \\cdot 10^{-16}x - 5.551115 \\cdot 10^{-16}y^{2} - 5.5238587 \\cdot 10^{-16}xy + x^{2} - 2.2824759 \\cdot 10^{-16}y^{3} - xy^{2} + y^{4} $$"
     },
     "metadata": {},
     "execution_count": 6
    }
   ],
   "cell_type": "code",
   "source": [
    "polynomial(sos_dec, Float32)"
   ],
   "metadata": {},
   "execution_count": 6
  },
  {
   "cell_type": "markdown",
   "source": [
    "## A deeper explanation and the unexplained `1e-4` parameter"
   ],
   "metadata": {}
  },
  {
   "cell_type": "markdown",
   "source": [
    "`p = x^2 - x*y^2 + y^4 + 1` can be represented in terms of its Gram matrix as"
   ],
   "metadata": {}
  },
  {
   "outputs": [
    {
     "output_type": "execute_result",
     "data": {
      "text/plain": "GramMatrix with row/column basis:\n MonomialBasis([1, y, x, y^2])\nAnd entries in a 4×4 SymMatrix{Float64}:\n  1.0                    0.0                 …  -0.6273780504812863\n  0.0                    1.2547561009625725      0.0\n  4.933553565678038e-17  0.0                    -0.5\n -0.6273780504812863     0.0                     1.0"
     },
     "metadata": {},
     "execution_count": 7
    }
   ],
   "cell_type": "code",
   "source": [
    "gram = gram_matrix(cref)"
   ],
   "metadata": {},
   "execution_count": 7
  },
  {
   "outputs": [
    {
     "output_type": "execute_result",
     "data": {
      "text/plain": "1.0 + 9.867107131356075e-17x + x² - xy² + y⁴",
      "text/latex": "$$ 1.0 + 9.867107131356075 \\cdot 10^{-17}x + x^{2} - xy^{2} + y^{4} $$"
     },
     "metadata": {},
     "execution_count": 8
    }
   ],
   "cell_type": "code",
   "source": [
    "gram.basis.monomials' * gram.Q * gram.basis.monomials"
   ],
   "metadata": {},
   "execution_count": 8
  },
  {
   "cell_type": "markdown",
   "source": [
    "where the matrix `gram.Q` is positive semidefinite, because `p` is SOS. If we\n",
    "could only get the decomposition `gram.Q = V' * V`, the SOS decomposition would\n",
    "simply be `||V * monomials||^2`."
   ],
   "metadata": {}
  },
  {
   "cell_type": "markdown",
   "source": [
    "Unfortunately, we can not use Cholesky decomposition, since gram `Q` is only\n",
    "semidefinite, not definite. Hence, SumOfSquares.jl uses SVD decomposition\n",
    "instead and discards small singular values (in our case `1e-4`)."
   ],
   "metadata": {}
  },
  {
   "cell_type": "markdown",
   "source": [
    "---\n",
    "\n",
    "*This notebook was generated using [Literate.jl](https://github.com/fredrikekre/Literate.jl).*"
   ],
   "metadata": {}
  }
 ],
 "nbformat_minor": 3,
 "metadata": {
  "language_info": {
   "file_extension": ".jl",
   "mimetype": "application/julia",
   "name": "julia",
   "version": "1.10.3"
  },
  "kernelspec": {
   "name": "julia-1.10",
   "display_name": "Julia 1.10.3",
   "language": "julia"
  }
 },
 "nbformat": 4
}

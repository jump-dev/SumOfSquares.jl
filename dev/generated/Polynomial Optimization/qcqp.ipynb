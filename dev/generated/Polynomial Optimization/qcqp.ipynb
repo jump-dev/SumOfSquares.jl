{
 "cells": [
  {
   "cell_type": "markdown",
   "source": [
    "# Nonconvex quadratically constrained quadratic programs"
   ],
   "metadata": {}
  },
  {
   "cell_type": "markdown",
   "source": [
    "**Adapted from**: [Hesse1973](@cite), [Floudas1999; Section 3.4](@cite), [Laurent2008; Example 6.22](@cite) and [Lasserre2009; Table 5.1](@cite)"
   ],
   "metadata": {}
  },
  {
   "cell_type": "markdown",
   "source": [
    "We consider the nonconvex Quadratically Constrained Quadratic Programs (QCQP)\n",
    "introduced in [H73].\n",
    "Consider now the polynomial optimization problem [Laurent2008; Example 6.22](@cite) of\n",
    "maximizing the convex quadratic function\n",
    "(hence nonconvex since convex programs should either maximize concave functions\n",
    "or minimize convex functions)\n",
    "$25(x_1 - 2)^2 + (x_2 - 2)^2 + (x_3 - 1)^2 + (x_4 - 4)^2 + (x_5 - 1)^2 + (x_6 - 4)^2$\n",
    "over the basic semialgebraic set defined by the nonconvex quadratic inequalities\n",
    "$(x_3 - 3)^2 + x_4 \\ge 4$,\n",
    "$(x_5 - 3)^2 + x_6 \\ge 4$,\n",
    "and linear inequalities\n",
    "$x_1 - 3x_2 \\le 2$,\n",
    "$-x_1 + x_2 \\le 2$,\n",
    "$2 \\le x_1 + x_2 \\le 6$,\n",
    "$0 \\le x_1, x_2$,\n",
    "$1 \\le x_3 \\le 5$,\n",
    "$0 \\le x_4 \\le 6$,\n",
    "$1 \\le x_5 \\le 5$,\n",
    "$0 \\le x_6 \\le 10$,\n",
    "$x_2 \\le 4x_1^4 - 32x_1^3 + 88x_1^2 - 96x_1 + 36$ and the box constraints\n",
    "$0 \\le x_1 \\le 3$ and $0 \\le x_2 \\le 4$,"
   ],
   "metadata": {}
  },
  {
   "outputs": [
    {
     "output_type": "execute_result",
     "data": {
      "text/plain": "Basic semialgebraic Set defined by no equality\n16 inequalities\n x[1] ≥ 0\n x[2] ≥ 0\n -1 + x[3] ≥ 0\n 5 - x[3] ≥ 0\n x[4] ≥ 0\n 6 - x[4] ≥ 0\n -1 + x[5] ≥ 0\n 5 - x[5] ≥ 0\n x[6] ≥ 0\n 10 - x[6] ≥ 0\n 5 + x[4] - 6*x[3] + x[3]^2 ≥ 0\n 5 + x[6] - 6*x[5] + x[5]^2 ≥ 0\n 2 + 3*x[2] - x[1] ≥ 0\n 2 - x[2] + x[1] ≥ 0\n 6 - x[2] - x[1] ≥ 0\n -2 + x[2] + x[1] ≥ 0\n"
     },
     "metadata": {},
     "execution_count": 1
    }
   ],
   "cell_type": "code",
   "source": [
    "using DynamicPolynomials\n",
    "@polyvar x[1:6]\n",
    "centers = [2, 2, 1, 4, 1, 4]\n",
    "weights = [25, 1, 1, 1, 1, 1]\n",
    "p = -weights' * (x .- centers).^2\n",
    "using SumOfSquares\n",
    "K = @set x[1] >= 0 && x[2] >= 0 &&\n",
    "    x[3] >= 1 && x[3] <= 5 &&\n",
    "    x[4] >= 0 && x[4] <= 6 &&\n",
    "    x[5] >= 1 && x[5] <= 5 &&\n",
    "    x[6] >= 0 && x[6] <= 10 &&\n",
    "    (x[3] - 3)^2 + x[4] >= 4 &&\n",
    "    (x[5] - 3)^2 + x[6] >= 4 &&\n",
    "    x[1] - 3x[2] <= 2 &&\n",
    "    -x[1] + x[2] <= 2 &&\n",
    "    x[1] + x[2] <= 6 &&\n",
    "    x[1] + x[2] >= 2"
   ],
   "metadata": {},
   "execution_count": 1
  },
  {
   "cell_type": "markdown",
   "source": [
    "We will now see how to find the optimal solution using Sum of Squares Programming.\n",
    "We first need to pick an SDP solver, see [here](https://jump.dev/JuMP.jl/v1.12/installation/#Supported-solvers) for a list of the available choices."
   ],
   "metadata": {}
  },
  {
   "outputs": [
    {
     "output_type": "execute_result",
     "data": {
      "text/plain": "Clarabel.MOIwrapper.Optimizer"
     },
     "metadata": {},
     "execution_count": 2
    }
   ],
   "cell_type": "code",
   "source": [
    "import Clarabel\n",
    "solver = Clarabel.Optimizer"
   ],
   "metadata": {},
   "execution_count": 2
  },
  {
   "cell_type": "markdown",
   "source": [
    "A Sum-of-Squares certificate that $p \\ge \\alpha$ over the domain `S`, ensures that $\\alpha$ is a lower bound to the polynomial optimization problem.\n",
    "The following function searches for the largest lower bound and finds zero using the `d`th level of the hierarchy`."
   ],
   "metadata": {}
  },
  {
   "outputs": [
    {
     "output_type": "execute_result",
     "data": {
      "text/plain": "solve (generic function with 1 method)"
     },
     "metadata": {},
     "execution_count": 3
    }
   ],
   "cell_type": "code",
   "source": [
    "function solve(d)\n",
    "    model = SOSModel(solver)\n",
    "    @variable(model, α)\n",
    "    @objective(model, Max, α)\n",
    "    @constraint(model, c, p >= α, domain = K, maxdegree = d)\n",
    "    optimize!(model)\n",
    "    println(solution_summary(model))\n",
    "    return model\n",
    "end"
   ],
   "metadata": {},
   "execution_count": 3
  },
  {
   "cell_type": "markdown",
   "source": [
    "The first level of the hierarchy cannot find any lower bound."
   ],
   "metadata": {}
  },
  {
   "outputs": [
    {
     "name": "stdout",
     "output_type": "stream",
     "text": [
      "-------------------------------------------------------------\n",
      "           Clarabel.jl v0.10.0  -  Clever Acronym              \n",
      "                   (c) Paul Goulart                          \n",
      "                University of Oxford, 2022                   \n",
      "-------------------------------------------------------------\n",
      "\n",
      "problem:\n",
      "  variables     = 45\n",
      "  constraints   = 72\n",
      "  nnz(P)        = 0\n",
      "  nnz(A)        = 109\n",
      "  cones (total) = 3\n",
      "    : Zero        = 1,  numel = 28\n",
      "    : Nonnegative = 1,  numel = 16\n",
      "    : PSDTriangle = 1,  numel = 28\n",
      "\n",
      "settings:\n",
      "  linear algebra: direct / qdldl, precision: Float64\n",
      "  max iter = 200, time limit = Inf,  max step = 0.990\n",
      "  tol_feas = 1.0e-08, tol_gap_abs = 1.0e-08, tol_gap_rel = 1.0e-08,\n",
      "  static reg : on, ϵ1 = 1.0e-08, ϵ2 = 4.9e-32\n",
      "  dynamic reg: on, ϵ = 1.0e-13, δ = 2.0e-07\n",
      "  iter refine: on, reltol = 1.0e-13, abstol = 1.0e-12, \n",
      "               max iter = 10, stop ratio = 5.0\n",
      "  equilibrate: on, min_scale = 1.0e-04, max_scale = 1.0e+04\n",
      "               max iter = 10\n",
      "\n",
      "iter    pcost        dcost       gap       pres      dres      k/t        μ       step      \n",
      "---------------------------------------------------------------------------------------------\n",
      "  0   7.6836e+01   7.6836e+01  3.70e-16  3.89e-01  1.31e-01  1.00e+00  1.04e+02   ------   \n",
      "  1   2.3712e+04   2.9567e+04  2.47e-01  2.41e-01  3.59e-02  5.92e+03  6.57e+01  9.27e-01  \n",
      "  2  -2.2453e+02   9.6600e+02  5.30e+00  2.61e-01  5.17e-02  1.19e+03  5.27e+01  5.22e-01  \n",
      "  3   1.9334e+03   7.3247e+03  2.79e+00  6.41e-02  7.49e-03  5.39e+03  1.13e+01  8.20e-01  \n",
      "  4   1.7396e+04   3.1882e+04  8.33e-01  6.95e-03  7.47e-04  1.45e+04  2.37e+00  9.55e-01  \n",
      "  5   1.2768e+05   2.1916e+05  7.16e-01  9.16e-04  9.60e-05  9.15e+04  3.33e-01  8.92e-01  \n",
      "  6   5.0101e+06   8.4176e+06  6.80e-01  2.18e-05  2.27e-06  3.41e+06  8.11e-03  9.88e-01  \n",
      "  7   4.3548e+08   7.3167e+08  6.80e-01  2.54e-07  2.63e-08  2.96e+08  9.44e-05  9.88e-01  \n",
      "  8   2.2618e+10   3.8076e+10  6.83e-01  5.07e-09  5.26e-10  1.55e+10  1.88e-06  9.80e-01  \n",
      "---------------------------------------------------------------------------------------------\n",
      "Terminated with status = primal infeasible\n",
      "solve time =  2.02s\n",
      "solution_summary(; result = 1, verbose = false)\n",
      "├ solver_name          : Clarabel\n",
      "├ Termination\n",
      "│ ├ termination_status : INFEASIBLE\n",
      "│ ├ result_count       : 1\n",
      "│ └ raw_status         : PRIMAL_INFEASIBLE\n",
      "├ Solution (result = 1)\n",
      "│ ├ primal_status        : INFEASIBLE_POINT\n",
      "│ ├ dual_status          : INFEASIBILITY_CERTIFICATE\n",
      "│ ├ objective_value      : -2.26177e+10\n",
      "│ └ dual_objective_value : -3.80764e+10\n",
      "└ Work counters\n",
      "  ├ solve_time (sec)   : 2.02110e+00\n",
      "  └ barrier_iterations : 8\n"
     ]
    }
   ],
   "cell_type": "code",
   "source": [
    "model2 = solve(2)\n",
    "nothing # hide"
   ],
   "metadata": {},
   "execution_count": 4
  },
  {
   "cell_type": "markdown",
   "source": [
    "The second level of the hierarchy finds the lower bound of `-310`."
   ],
   "metadata": {}
  },
  {
   "outputs": [
    {
     "name": "stdout",
     "output_type": "stream",
     "text": [
      "-------------------------------------------------------------\n",
      "           Clarabel.jl v0.10.0  -  Clever Acronym              \n",
      "                   (c) Paul Goulart                          \n",
      "                University of Oxford, 2022                   \n",
      "-------------------------------------------------------------\n",
      "\n",
      "problem:\n",
      "  variables     = 423\n",
      "  constraints   = 506\n",
      "  nnz(P)        = 0\n",
      "  nnz(A)        = 1243\n",
      "  cones (total) = 17\n",
      "    : Zero        = 1,  numel = 84\n",
      "    : Nonnegative = 1,  numel = 2\n",
      "    : PSDTriangle = 15,  numel = (28,28,28,28,...,28)\n",
      "\n",
      "settings:\n",
      "  linear algebra: direct / qdldl, precision: Float64\n",
      "  max iter = 200, time limit = Inf,  max step = 0.990\n",
      "  tol_feas = 1.0e-08, tol_gap_abs = 1.0e-08, tol_gap_rel = 1.0e-08,\n",
      "  static reg : on, ϵ1 = 1.0e-08, ϵ2 = 4.9e-32\n",
      "  dynamic reg: on, ϵ = 1.0e-13, δ = 2.0e-07\n",
      "  iter refine: on, reltol = 1.0e-13, abstol = 1.0e-12, \n",
      "               max iter = 10, stop ratio = 5.0\n",
      "  equilibrate: on, min_scale = 1.0e-04, max_scale = 1.0e+04\n",
      "               max iter = 10\n",
      "\n",
      "iter    pcost        dcost       gap       pres      dres      k/t        μ       step      \n",
      "---------------------------------------------------------------------------------------------\n",
      "  0   1.3550e+02   1.3550e+02  2.10e-16  1.24e-01  2.31e-01  1.00e+00  1.28e+01   ------   \n",
      "  1   1.3966e+02   1.4303e+02  2.41e-02  6.58e-02  1.20e-01  3.94e+00  4.70e+00  7.91e-01  \n",
      "  2   1.6240e+02   1.7566e+02  8.17e-02  4.50e-02  5.52e-02  1.38e+01  1.71e+00  8.78e-01  \n",
      "  3   1.5720e+02   1.6295e+02  3.65e-02  1.79e-02  1.95e-02  5.95e+00  6.72e-01  6.85e-01  \n",
      "  4   1.4675e+02   1.5215e+02  3.68e-02  1.25e-02  1.24e-02  5.53e+00  4.15e-01  6.37e-01  \n",
      "  5   1.8037e+02   1.8247e+02  1.17e-02  3.28e-03  2.76e-03  2.14e+00  9.73e-02  7.90e-01  \n",
      "  6   2.1477e+02   2.1622e+02  6.73e-03  1.98e-03  1.53e-03  1.47e+00  5.73e-02  5.20e-01  \n",
      "  7   2.5401e+02   2.5440e+02  1.55e-03  4.18e-04  2.80e-04  3.99e-01  1.15e-02  8.97e-01  \n",
      "  8   2.7007e+02   2.7034e+02  9.95e-04  1.66e-04  8.76e-05  2.71e-01  3.47e-03  8.17e-01  \n",
      "  9   2.8259e+02   2.8277e+02  6.14e-04  7.86e-05  3.41e-05  1.75e-01  1.31e-03  8.24e-01  \n",
      " 10   2.8775e+02   2.8799e+02  8.37e-04  7.38e-05  1.95e-05  2.42e-01  8.16e-04  6.61e-01  \n",
      " 11   3.0102e+02   3.0109e+02  2.34e-04  2.35e-05  5.75e-06  7.09e-02  2.48e-04  9.90e-01  \n",
      " 12   3.0953e+02   3.0953e+02  1.29e-05  1.25e-06  2.67e-07  4.01e-03  1.22e-05  9.54e-01  \n",
      " 13   3.0999e+02   3.0999e+02  2.13e-07  2.07e-08  4.41e-09  6.64e-05  2.02e-07  9.83e-01  \n",
      " 14   3.1000e+02   3.1000e+02  5.77e-09  5.60e-10  1.19e-10  1.80e-06  5.46e-09  9.73e-01  \n",
      "---------------------------------------------------------------------------------------------\n",
      "Terminated with status = solved\n",
      "solve time = 64.7ms\n",
      "solution_summary(; result = 1, verbose = false)\n",
      "├ solver_name          : Clarabel\n",
      "├ Termination\n",
      "│ ├ termination_status : OPTIMAL\n",
      "│ ├ result_count       : 1\n",
      "│ └ raw_status         : SOLVED\n",
      "├ Solution (result = 1)\n",
      "│ ├ primal_status        : FEASIBLE_POINT\n",
      "│ ├ dual_status          : FEASIBLE_POINT\n",
      "│ ├ objective_value      : -3.10000e+02\n",
      "│ └ dual_objective_value : -3.10000e+02\n",
      "└ Work counters\n",
      "  ├ solve_time (sec)   : 6.47119e-02\n",
      "  └ barrier_iterations : 14\n"
     ]
    }
   ],
   "cell_type": "code",
   "source": [
    "model3 = solve(4)\n",
    "nothing # hide"
   ],
   "metadata": {},
   "execution_count": 5
  },
  {
   "cell_type": "markdown",
   "source": [
    "---\n",
    "\n",
    "*This notebook was generated using [Literate.jl](https://github.com/fredrikekre/Literate.jl).*"
   ],
   "metadata": {}
  }
 ],
 "nbformat_minor": 3,
 "metadata": {
  "language_info": {
   "file_extension": ".jl",
   "mimetype": "application/julia",
   "name": "julia",
   "version": "1.11.5"
  },
  "kernelspec": {
   "name": "julia-1.11",
   "display_name": "Julia 1.11.5",
   "language": "julia"
  }
 },
 "nbformat": 4
}

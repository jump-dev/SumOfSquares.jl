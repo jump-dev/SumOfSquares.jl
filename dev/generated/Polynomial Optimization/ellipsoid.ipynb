{
 "cells": [
  {
   "cell_type": "markdown",
   "source": [
    "# Exterior of ellipsoid"
   ],
   "metadata": {}
  },
  {
   "cell_type": "markdown",
   "source": [
    "**Adapted from**: [Floudas1999; Section 3.5](@cite) and [Lasserre2009; Table 5.1](@cite)"
   ],
   "metadata": {}
  },
  {
   "cell_type": "markdown",
   "source": [
    "## Introduction"
   ],
   "metadata": {}
  },
  {
   "cell_type": "markdown",
   "source": [
    "Consider the polynomial optimization problem from [Floudas1999; Section 3.5](@cite)"
   ],
   "metadata": {}
  },
  {
   "outputs": [
    {
     "output_type": "execute_result",
     "data": {
      "text/plain": "Basic semialgebraic Set defined by no equality\n8 inequalities\n 4.0 - x[3] - x[2] - x[1] ≥ 0\n 6.0 - x[3] - 3.0*x[2] ≥ 0\n 24.0 - 13.0*x[3] + 9.0*x[2] - 20.0*x[1] + 2.0*x[3]^2 - 2.0*x[2]*x[3] + 2.0*x[2]^2 + 4.0*x[1]*x[3] - 4.0*x[1]*x[2] + 4.0*x[1]^2 ≥ 0\n x[1] ≥ 0\n 2.0 - x[1] ≥ 0\n x[2] ≥ 0\n x[3] ≥ 0\n 3.0 - x[3] ≥ 0\n"
     },
     "metadata": {},
     "execution_count": 1
    }
   ],
   "cell_type": "code",
   "source": [
    "A = [\n",
    "     0  0  1\n",
    "     0 -1  0\n",
    "    -2  1 -1\n",
    "]\n",
    "bz = [3, 0, -4] - [0, -1, -6]\n",
    "y = [1.5, -0.5, -5]\n",
    "\n",
    "using DynamicPolynomials\n",
    "@polyvar x[1:3]\n",
    "p = -2x[1] + x[2] - x[3]\n",
    "using SumOfSquares\n",
    "e = A * x - y\n",
    "f = e'e - bz'bz / 4\n",
    "K = @set sum(x) <= 4 && 3x[2] + x[3] <= 6 && f >= 0 && 0 <= x[1] && x[1] <= 2 && 0 <= x[2] && 0 <= x[3] && x[3] <= 3"
   ],
   "metadata": {},
   "execution_count": 1
  },
  {
   "cell_type": "markdown",
   "source": [
    "We will now see how to find the optimal solution using Sum of Squares Programming.\n",
    "We first need to pick an SDP solver, see [here](https://jump.dev/JuMP.jl/v1.12/installation/#Supported-solvers) for a list of the available choices."
   ],
   "metadata": {}
  },
  {
   "outputs": [
    {
     "output_type": "execute_result",
     "data": {
      "text/plain": "Clarabel.MOIwrapper.Optimizer"
     },
     "metadata": {},
     "execution_count": 2
    }
   ],
   "cell_type": "code",
   "source": [
    "import Clarabel\n",
    "solver = Clarabel.Optimizer"
   ],
   "metadata": {},
   "execution_count": 2
  },
  {
   "cell_type": "markdown",
   "source": [
    "A Sum-of-Squares certificate that $p \\ge \\alpha$ over the domain `S`, ensures that $\\alpha$ is a lower bound to the polynomial optimization problem.\n",
    "The following function searches for the largest lower bound and finds zero using the `d`th level of the hierarchy`."
   ],
   "metadata": {}
  },
  {
   "outputs": [
    {
     "output_type": "execute_result",
     "data": {
      "text/plain": "solve (generic function with 1 method)"
     },
     "metadata": {},
     "execution_count": 3
    }
   ],
   "cell_type": "code",
   "source": [
    "function solve(d)\n",
    "    model = SOSModel(solver)\n",
    "    @variable(model, α)\n",
    "    @objective(model, Max, α)\n",
    "    @constraint(model, c, p >= α, domain = K, maxdegree = d)\n",
    "    optimize!(model)\n",
    "    println(solution_summary(model))\n",
    "    return model\n",
    "end"
   ],
   "metadata": {},
   "execution_count": 3
  },
  {
   "cell_type": "markdown",
   "source": [
    "The first level of the hierarchy gives a lower bound of `-7``"
   ],
   "metadata": {}
  },
  {
   "outputs": [
    {
     "name": "stdout",
     "output_type": "stream",
     "text": [
      "-------------------------------------------------------------\n",
      "           Clarabel.jl v0.9.0  -  Clever Acronym              \n",
      "                   (c) Paul Goulart                          \n",
      "                University of Oxford, 2022                   \n",
      "-------------------------------------------------------------\n",
      "\n",
      "problem:\n",
      "  variables     = 9\n",
      "  constraints   = 12\n",
      "  nnz(P)        = 0\n",
      "  nnz(A)        = 24\n",
      "  cones (total) = 2\n",
      "    : Zero        = 1,  numel = 4\n",
      "    : Nonnegative = 1,  numel = 8\n",
      "\n",
      "settings:\n",
      "  linear algebra: direct / qdldl, precision: Float64\n",
      "  max iter = 200, time limit = Inf,  max step = 0.990\n",
      "  tol_feas = 1.0e-08, tol_gap_abs = 1.0e-08, tol_gap_rel = 1.0e-08,\n",
      "  static reg : on, ϵ1 = 1.0e-08, ϵ2 = 4.9e-32\n",
      "  dynamic reg: on, ϵ = 1.0e-13, δ = 2.0e-07\n",
      "  iter refine: on, reltol = 1.0e-13, abstol = 1.0e-12, \n",
      "               max iter = 10, stop ratio = 5.0\n",
      "  equilibrate: on, min_scale = 1.0e-04, max_scale = 1.0e+04\n",
      "               max iter = 10\n",
      "\n",
      "iter    pcost        dcost       gap       pres      dres      k/t        μ       step      \n",
      "---------------------------------------------------------------------------------------------\n",
      "  0   2.2646e+00   2.2646e+00  0.00e+00  5.04e-01  2.23e-01  1.00e+00  2.84e+00   ------   \n",
      "  1   4.8146e+00   4.8773e+00  1.30e-02  1.11e-01  3.74e-02  2.33e-01  6.39e-01  8.00e-01  \n",
      "  2   5.8894e+00   5.8986e+00  1.56e-03  1.43e-02  4.91e-03  3.33e-02  9.41e-02  8.57e-01  \n",
      "  3   5.9970e+00   5.9972e+00  3.18e-05  2.67e-04  9.33e-05  6.56e-04  1.82e-03  9.81e-01  \n",
      "  4   6.0000e+00   6.0000e+00  3.18e-07  2.67e-06  9.32e-07  6.56e-06  1.82e-05  9.90e-01  \n",
      "  5   6.0000e+00   6.0000e+00  3.18e-09  2.67e-08  9.32e-09  6.56e-08  1.82e-07  9.90e-01  \n",
      "  6   6.0000e+00   6.0000e+00  3.18e-11  2.67e-10  9.32e-11  6.56e-10  1.82e-09  9.90e-01  \n",
      "---------------------------------------------------------------------------------------------\n",
      "Terminated with status = solved\n",
      "solve time = 3.26ms\n",
      "* Solver : Clarabel\n",
      "\n",
      "* Status\n",
      "  Result count       : 1\n",
      "  Termination status : OPTIMAL\n",
      "  Message from the solver:\n",
      "  \"SOLVED\"\n",
      "\n",
      "* Candidate solution (result #1)\n",
      "  Primal status      : FEASIBLE_POINT\n",
      "  Dual status        : FEASIBLE_POINT\n",
      "  Objective value    : -6.00000e+00\n",
      "  Dual objective value : -6.00000e+00\n",
      "\n",
      "* Work counters\n",
      "  Solve time (sec)   : 3.25582e-03\n",
      "  Barrier iterations : 6\n",
      "\n"
     ]
    }
   ],
   "cell_type": "code",
   "source": [
    "model2 = solve(2)\n",
    "nothing # hide"
   ],
   "metadata": {},
   "execution_count": 4
  },
  {
   "cell_type": "markdown",
   "source": [
    "The second level improves the lower bound"
   ],
   "metadata": {}
  },
  {
   "outputs": [
    {
     "name": "stdout",
     "output_type": "stream",
     "text": [
      "-------------------------------------------------------------\n",
      "           Clarabel.jl v0.9.0  -  Clever Acronym              \n",
      "                   (c) Paul Goulart                          \n",
      "                University of Oxford, 2022                   \n",
      "-------------------------------------------------------------\n",
      "\n",
      "problem:\n",
      "  variables     = 82\n",
      "  constraints   = 101\n",
      "  nnz(P)        = 0\n",
      "  nnz(A)        = 242\n",
      "  cones (total) = 10\n",
      "    : Zero        = 1,  numel = 20\n",
      "    : Nonnegative = 1,  numel = 1\n",
      "    : PSDTriangle = 8,  numel = (10,10,10,10,...,10)\n",
      "\n",
      "settings:\n",
      "  linear algebra: direct / qdldl, precision: Float64\n",
      "  max iter = 200, time limit = Inf,  max step = 0.990\n",
      "  tol_feas = 1.0e-08, tol_gap_abs = 1.0e-08, tol_gap_rel = 1.0e-08,\n",
      "  static reg : on, ϵ1 = 1.0e-08, ϵ2 = 4.9e-32\n",
      "  dynamic reg: on, ϵ = 1.0e-13, δ = 2.0e-07\n",
      "  iter refine: on, reltol = 1.0e-13, abstol = 1.0e-12, \n",
      "               max iter = 10, stop ratio = 5.0\n",
      "  equilibrate: on, min_scale = 1.0e-04, max_scale = 1.0e+04\n",
      "               max iter = 10\n",
      "\n",
      "iter    pcost        dcost       gap       pres      dres      k/t        μ       step      \n",
      "---------------------------------------------------------------------------------------------\n",
      "  0   9.7795e-01   9.7795e-01  1.11e-16  6.53e-01  4.62e-01  1.00e+00  2.05e+00   ------   \n",
      "  1   1.2254e+00   1.2350e+00  7.85e-03  1.33e-01  7.13e-02  1.75e-01  4.77e-01  7.96e-01  \n",
      "  2   2.6674e+00   2.7439e+00  2.87e-02  6.88e-02  2.81e-02  1.71e-01  2.05e-01  7.36e-01  \n",
      "  3   4.3661e+00   4.4172e+00  1.17e-02  1.60e-02  5.48e-03  7.83e-02  4.58e-02  8.30e-01  \n",
      "  4   5.1102e+00   5.1418e+00  6.18e-03  7.99e-03  2.62e-03  4.73e-02  2.38e-02  5.82e-01  \n",
      "  5   5.5386e+00   5.5472e+00  1.54e-03  2.33e-03  7.37e-04  1.33e-02  7.23e-03  7.49e-01  \n",
      "  6   5.6457e+00   5.6476e+00  3.40e-04  5.12e-04  1.62e-04  3.00e-03  1.66e-03  8.07e-01  \n",
      "  7   5.6906e+00   5.6907e+00  1.34e-05  1.98e-05  6.26e-06  1.19e-04  6.47e-05  9.72e-01  \n",
      "  8   5.6922e+00   5.6922e+00  8.64e-07  1.27e-06  4.02e-07  7.63e-06  4.16e-06  9.40e-01  \n",
      "  9   5.6923e+00   5.6923e+00  1.21e-08  1.76e-08  5.58e-09  1.06e-07  5.77e-08  9.87e-01  \n",
      " 10   5.6923e+00   5.6923e+00  2.66e-10  3.80e-10  1.21e-10  2.33e-09  1.25e-09  9.78e-01  \n",
      "---------------------------------------------------------------------------------------------\n",
      "Terminated with status = solved\n",
      "solve time = 65.4ms\n",
      "* Solver : Clarabel\n",
      "\n",
      "* Status\n",
      "  Result count       : 1\n",
      "  Termination status : OPTIMAL\n",
      "  Message from the solver:\n",
      "  \"SOLVED\"\n",
      "\n",
      "* Candidate solution (result #1)\n",
      "  Primal status      : FEASIBLE_POINT\n",
      "  Dual status        : FEASIBLE_POINT\n",
      "  Objective value    : -5.69231e+00\n",
      "  Dual objective value : -5.69231e+00\n",
      "\n",
      "* Work counters\n",
      "  Solve time (sec)   : 6.54246e-02\n",
      "  Barrier iterations : 10\n",
      "\n"
     ]
    }
   ],
   "cell_type": "code",
   "source": [
    "model4 = solve(4)\n",
    "nothing # hide"
   ],
   "metadata": {},
   "execution_count": 5
  },
  {
   "cell_type": "markdown",
   "source": [
    "The third level improves it even further"
   ],
   "metadata": {}
  },
  {
   "outputs": [
    {
     "name": "stdout",
     "output_type": "stream",
     "text": [
      "-------------------------------------------------------------\n",
      "           Clarabel.jl v0.9.0  -  Clever Acronym              \n",
      "                   (c) Paul Goulart                          \n",
      "                University of Oxford, 2022                   \n",
      "-------------------------------------------------------------\n",
      "\n",
      "problem:\n",
      "  variables     = 451\n",
      "  constraints   = 506\n",
      "  nnz(P)        = 0\n",
      "  nnz(A)        = 1376\n",
      "  cones (total) = 10\n",
      "    : Zero        = 1,  numel = 56\n",
      "    : PSDTriangle = 9,  numel = (55,55,10,55,...,55)\n",
      "\n",
      "settings:\n",
      "  linear algebra: direct / qdldl, precision: Float64\n",
      "  max iter = 200, time limit = Inf,  max step = 0.990\n",
      "  tol_feas = 1.0e-08, tol_gap_abs = 1.0e-08, tol_gap_rel = 1.0e-08,\n",
      "  static reg : on, ϵ1 = 1.0e-08, ϵ2 = 4.9e-32\n",
      "  dynamic reg: on, ϵ = 1.0e-13, δ = 2.0e-07\n",
      "  iter refine: on, reltol = 1.0e-13, abstol = 1.0e-12, \n",
      "               max iter = 10, stop ratio = 5.0\n",
      "  equilibrate: on, min_scale = 1.0e-04, max_scale = 1.0e+04\n",
      "               max iter = 10\n",
      "\n",
      "iter    pcost        dcost       gap       pres      dres      k/t        μ       step      \n",
      "---------------------------------------------------------------------------------------------\n",
      "  0   6.2703e-01   6.2703e-01  0.00e+00  7.56e-01  5.36e-01  1.00e+00  1.48e+00   ------   \n",
      "  1   7.4953e-01   7.6135e-01  1.18e-02  1.58e-01  9.97e-02  2.39e-01  4.26e-01  8.06e-01  \n",
      "  2   1.2333e+00   1.3121e+00  6.39e-02  4.31e-02  2.64e-02  1.73e-01  1.70e-01  8.68e-01  \n",
      "  3   1.9671e+00   2.0062e+00  1.99e-02  1.22e-02  4.68e-03  6.32e-02  3.87e-02  8.18e-01  \n",
      "  4   2.7047e+00   2.7536e+00  1.81e-02  8.45e-03  2.26e-03  6.99e-02  1.94e-02  7.43e-01  \n",
      "  5   3.0495e+00   3.0614e+00  3.90e-03  3.75e-03  9.47e-04  2.13e-02  8.43e-03  9.22e-01  \n",
      "  6   3.4706e+00   3.4774e+00  1.96e-03  9.59e-04  2.24e-04  9.63e-03  1.95e-03  8.04e-01  \n",
      "  7   3.7081e+00   3.7129e+00  1.30e-03  4.91e-04  1.15e-04  6.51e-03  9.26e-04  6.34e-01  \n",
      "  8   3.9158e+00   3.9173e+00  3.71e-04  1.29e-04  3.04e-05  1.93e-03  2.38e-04  8.24e-01  \n",
      "  9   3.9469e+00   3.9488e+00  4.92e-04  8.66e-05  1.55e-05  2.34e-03  1.30e-04  6.86e-01  \n",
      " 10   4.0073e+00   4.0086e+00  3.31e-04  3.98e-05  5.09e-06  1.52e-03  4.86e-05  7.76e-01  \n",
      " 11   4.0267e+00   4.0275e+00  1.76e-04  1.93e-05  2.66e-06  8.15e-04  2.55e-05  7.35e-01  \n",
      " 12   4.0582e+00   4.0584e+00  3.91e-05  3.52e-06  4.53e-07  1.79e-04  4.47e-06  9.70e-01  \n",
      " 13   4.0660e+00   4.0660e+00  1.14e-05  9.59e-07  1.23e-07  5.20e-05  1.22e-06  8.03e-01  \n",
      " 14   4.0671e+00   4.0671e+00  6.05e-06  4.79e-07  6.23e-08  2.75e-05  6.16e-07  6.69e-01  \n",
      " 15   4.0683e+00   4.0683e+00  7.91e-07  6.17e-08  8.06e-09  3.60e-06  7.98e-08  8.78e-01  \n",
      " 16   4.0684e+00   4.0684e+00  3.27e-07  2.44e-08  3.20e-09  1.48e-06  3.17e-08  7.67e-01  \n",
      " 17   4.0685e+00   4.0685e+00  6.90e-09  5.15e-10  6.74e-11  3.13e-08  6.67e-10  9.80e-01  \n",
      "---------------------------------------------------------------------------------------------\n",
      "Terminated with status = solved\n",
      "solve time = 49.0ms\n",
      "* Solver : Clarabel\n",
      "\n",
      "* Status\n",
      "  Result count       : 1\n",
      "  Termination status : OPTIMAL\n",
      "  Message from the solver:\n",
      "  \"SOLVED\"\n",
      "\n",
      "* Candidate solution (result #1)\n",
      "  Primal status      : FEASIBLE_POINT\n",
      "  Dual status        : FEASIBLE_POINT\n",
      "  Objective value    : -4.06848e+00\n",
      "  Dual objective value : -4.06848e+00\n",
      "\n",
      "* Work counters\n",
      "  Solve time (sec)   : 4.90179e-02\n",
      "  Barrier iterations : 17\n",
      "\n"
     ]
    }
   ],
   "cell_type": "code",
   "source": [
    "model6 = solve(6)\n",
    "nothing # hide"
   ],
   "metadata": {},
   "execution_count": 6
  },
  {
   "cell_type": "markdown",
   "source": [
    "The fourth level finds the optimal objective value as lower bound."
   ],
   "metadata": {}
  },
  {
   "outputs": [
    {
     "name": "stdout",
     "output_type": "stream",
     "text": [
      "-------------------------------------------------------------\n",
      "           Clarabel.jl v0.9.0  -  Clever Acronym              \n",
      "                   (c) Paul Goulart                          \n",
      "                University of Oxford, 2022                   \n",
      "-------------------------------------------------------------\n",
      "\n",
      "problem:\n",
      "  variables     = 1736\n",
      "  constraints   = 1855\n",
      "  nnz(P)        = 0\n",
      "  nnz(A)        = 5436\n",
      "  cones (total) = 10\n",
      "    : Zero        = 1,  numel = 120\n",
      "    : PSDTriangle = 9,  numel = (210,210,55,210,...,210)\n",
      "\n",
      "settings:\n",
      "  linear algebra: direct / qdldl, precision: Float64\n",
      "  max iter = 200, time limit = Inf,  max step = 0.990\n",
      "  tol_feas = 1.0e-08, tol_gap_abs = 1.0e-08, tol_gap_rel = 1.0e-08,\n",
      "  static reg : on, ϵ1 = 1.0e-08, ϵ2 = 4.9e-32\n",
      "  dynamic reg: on, ϵ = 1.0e-13, δ = 2.0e-07\n",
      "  iter refine: on, reltol = 1.0e-13, abstol = 1.0e-12, \n",
      "               max iter = 10, stop ratio = 5.0\n",
      "  equilibrate: on, min_scale = 1.0e-04, max_scale = 1.0e+04\n",
      "               max iter = 10\n",
      "\n",
      "iter    pcost        dcost       gap       pres      dres      k/t        μ       step      \n",
      "---------------------------------------------------------------------------------------------\n",
      "  0   5.8462e-01   5.8462e-01  1.44e-15  8.13e-01  7.18e-01  1.00e+00  1.32e+00   ------   \n",
      "  1   6.6260e-01   6.6529e-01  2.69e-03  1.59e-01  1.35e-01  2.55e-01  4.10e-01  7.95e-01  \n",
      "  2   8.8639e-01   9.8255e-01  9.62e-02  6.01e-02  5.16e-02  2.42e-01  2.31e-01  7.79e-01  \n",
      "  3   1.3550e+00   1.3811e+00  1.92e-02  1.27e-02  8.09e-03  5.46e-02  4.98e-02  8.09e-01  \n",
      "  4   1.9495e+00   1.9837e+00  1.75e-02  7.32e-03  3.23e-03  5.63e-02  2.40e-02  7.05e-01  \n",
      "  5   2.2256e+00   2.2451e+00  8.77e-03  5.18e-03  1.94e-03  3.46e-02  1.55e-02  5.32e-01  \n",
      "  6   2.7604e+00   2.7709e+00  3.82e-03  1.60e-03  4.53e-04  1.56e-02  4.09e-03  7.86e-01  \n",
      "  7   2.9706e+00   2.9778e+00  2.42e-03  1.04e-03  2.68e-04  1.07e-02  2.53e-03  4.62e-01  \n",
      "  8   3.2375e+00   3.2402e+00  8.29e-04  3.42e-04  7.86e-05  3.90e-03  7.88e-04  8.75e-01  \n",
      "  9   3.2912e+00   3.2953e+00  1.26e-03  2.64e-04  5.95e-05  5.47e-03  5.55e-04  5.46e-01  \n",
      " 10   3.3766e+00   3.3796e+00  8.92e-04  2.04e-04  4.59e-05  4.08e-03  4.36e-04  4.69e-01  \n",
      " 11   3.6119e+00   3.6139e+00  5.40e-04  7.41e-05  1.50e-05  2.43e-03  1.46e-04  7.14e-01  \n",
      " 12   3.7063e+00   3.7081e+00  4.86e-04  5.04e-05  9.82e-06  2.18e-03  9.52e-05  6.34e-01  \n",
      " 13   3.9300e+00   3.9304e+00  1.02e-04  1.12e-05  2.03e-06  4.89e-04  2.08e-05  8.27e-01  \n",
      " 14   3.9879e+00   3.9880e+00  1.64e-05  1.86e-06  3.26e-07  8.02e-05  3.48e-06  8.64e-01  \n",
      " 15   3.9979e+00   3.9979e+00  3.11e-06  3.04e-07  5.23e-08  1.48e-05  5.72e-07  9.11e-01  \n",
      " 16   3.9996e+00   3.9996e+00  7.01e-07  6.20e-08  1.07e-08  3.29e-06  1.18e-07  8.93e-01  \n",
      " 17   3.9999e+00   3.9999e+00  1.22e-07  1.07e-08  1.83e-09  5.71e-07  2.03e-08  8.38e-01  \n",
      " 18   4.0000e+00   4.0000e+00  2.04e-08  1.38e-08  2.95e-10  9.50e-08  3.25e-09  9.18e-01  \n",
      " 19   4.0000e+00   4.0000e+00  3.69e-09  2.46e-09  5.31e-11  1.72e-08  5.87e-10  8.30e-01  \n",
      "---------------------------------------------------------------------------------------------\n",
      "Terminated with status = solved\n",
      "solve time =  779ms\n",
      "* Solver : Clarabel\n",
      "\n",
      "* Status\n",
      "  Result count       : 1\n",
      "  Termination status : OPTIMAL\n",
      "  Message from the solver:\n",
      "  \"SOLVED\"\n",
      "\n",
      "* Candidate solution (result #1)\n",
      "  Primal status      : FEASIBLE_POINT\n",
      "  Dual status        : FEASIBLE_POINT\n",
      "  Objective value    : -4.00000e+00\n",
      "  Dual objective value : -4.00000e+00\n",
      "\n",
      "* Work counters\n",
      "  Solve time (sec)   : 7.78832e-01\n",
      "  Barrier iterations : 19\n",
      "\n"
     ]
    }
   ],
   "cell_type": "code",
   "source": [
    "model8 = solve(8)\n",
    "nothing # hide"
   ],
   "metadata": {},
   "execution_count": 7
  },
  {
   "cell_type": "markdown",
   "source": [
    "---\n",
    "\n",
    "*This notebook was generated using [Literate.jl](https://github.com/fredrikekre/Literate.jl).*"
   ],
   "metadata": {}
  }
 ],
 "nbformat_minor": 3,
 "metadata": {
  "language_info": {
   "file_extension": ".jl",
   "mimetype": "application/julia",
   "name": "julia",
   "version": "1.10.4"
  },
  "kernelspec": {
   "name": "julia-1.10",
   "display_name": "Julia 1.10.4",
   "language": "julia"
  }
 },
 "nbformat": 4
}

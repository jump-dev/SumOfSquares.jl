{
 "cells": [
  {
   "cell_type": "markdown",
   "source": [
    "# Goldstein-price function"
   ],
   "metadata": {}
  },
  {
   "cell_type": "markdown",
   "source": [
    "**Contributed by**: Benoît Legat"
   ],
   "metadata": {}
  },
  {
   "cell_type": "markdown",
   "source": [
    "In this example, we consider the minimization of the [Goldstein-price function](https://en.wikipedia.org/wiki/Test_functions_for_optimization)."
   ],
   "metadata": {}
  },
  {
   "outputs": [],
   "cell_type": "code",
   "source": [
    "using SumOfSquares\n",
    "using DynamicPolynomials"
   ],
   "metadata": {},
   "execution_count": 1
  },
  {
   "cell_type": "markdown",
   "source": [
    "Create *symbolic* variables (not JuMP *decision* variables)"
   ],
   "metadata": {}
  },
  {
   "outputs": [
    {
     "output_type": "execute_result",
     "data": {
      "text/plain": "(DynamicPolynomials.Variable{DynamicPolynomials.Commutative{DynamicPolynomials.CreationOrder}, MultivariatePolynomials.Graded{MultivariatePolynomials.LexOrder}}[x₁, x₂],)"
     },
     "metadata": {},
     "execution_count": 2
    }
   ],
   "cell_type": "code",
   "source": [
    "@polyvar x[1:2]"
   ],
   "metadata": {},
   "execution_count": 2
  },
  {
   "cell_type": "markdown",
   "source": [
    "To use Sum-of-Squares Programming, we first need to pick an SDP solver,\n",
    "see [here](https://jump.dev/JuMP.jl/v1.12/installation/#Supported-solvers) for a list of the available choices."
   ],
   "metadata": {}
  },
  {
   "outputs": [
    {
     "output_type": "execute_result",
     "data": {
      "text/plain": "A JuMP Model\n├ solver: Dual model with Clarabel attached\n├ objective_sense: FEASIBILITY_SENSE\n├ num_variables: 0\n├ num_constraints: 0\n└ Names registered in the model: none"
     },
     "metadata": {},
     "execution_count": 3
    }
   ],
   "cell_type": "code",
   "source": [
    "import Clarabel\n",
    "using Dualization\n",
    "model = SOSModel(dual_optimizer(Clarabel.Optimizer))"
   ],
   "metadata": {},
   "execution_count": 3
  },
  {
   "cell_type": "markdown",
   "source": [
    "Create a JuMP decision variable for the lower bound"
   ],
   "metadata": {}
  },
  {
   "outputs": [
    {
     "output_type": "execute_result",
     "data": {
      "text/plain": "γ",
      "text/latex": "$ γ $"
     },
     "metadata": {},
     "execution_count": 4
    }
   ],
   "cell_type": "code",
   "source": [
    "@variable(model, γ)"
   ],
   "metadata": {},
   "execution_count": 4
  },
  {
   "cell_type": "markdown",
   "source": [
    "`f(x)` is the Goldstein-Price function"
   ],
   "metadata": {}
  },
  {
   "outputs": [
    {
     "output_type": "execute_result",
     "data": {
      "text/plain": "600 + 720x₂ + 720x₁ + 3060x₂² - 4680x₁x₂ + 1260x₁² + 12288x₂³ - 19296x₁x₂² + 7344x₁²x₂ - 1072x₁³ + 14346x₂⁴ - 23616x₁x₂³ + 7776x₁²x₂² + 5784x₁³x₂ - 2454x₁⁴ + 1944x₂⁵ - 11880x₁x₂⁴ + 5040x₁²x₂³ + 9840x₁³x₂² - 7680x₁⁴x₂ + 1344x₁⁵ - 4428x₂⁶ - 1188x₁x₂⁵ + 8730x₁²x₂⁴ + 1240x₁³x₂³ - 5370x₁⁴x₂² - 168x₁⁵x₂ + 952x₁⁶ - 648x₂⁷ + 1944x₁x₂⁶ + 3672x₁²x₂⁵ - 3480x₁³x₂⁴ - 4080x₁⁴x₂³ + 2592x₁⁵x₂² + 1344x₁⁶x₂ - 768x₁⁷ + 729x₂⁸ + 972x₁x₂⁷ - 1458x₁²x₂⁶ - 1836x₁³x₂⁵ + 1305x₁⁴x₂⁴ + 1224x₁⁵x₂³ - 648x₁⁶x₂² - 288x₁⁷x₂ + 144x₁⁸",
      "text/latex": "$$ 600 + 720x_{2} + 720x_{1} + 3060x_{2}^{2} - 4680x_{1}x_{2} + 1260x_{1}^{2} + 12288x_{2}^{3} - 19296x_{1}x_{2}^{2} + 7344x_{1}^{2}x_{2} - 1072x_{1}^{3} + 14346x_{2}^{4} - 23616x_{1}x_{2}^{3} + 7776x_{1}^{2}x_{2}^{2} + 5784x_{1}^{3}x_{2} - 2454x_{1}^{4} + 1944x_{2}^{5} - 11880x_{1}x_{2}^{4} + 5040x_{1}^{2}x_{2}^{3} + 9840x_{1}^{3}x_{2}^{2} - 7680x_{1}^{4}x_{2} + 1344x_{1}^{5} - 4428x_{2}^{6} - 1188x_{1}x_{2}^{5} + 8730x_{1}^{2}x_{2}^{4} + 1240x_{1}^{3}x_{2}^{3} - 5370x_{1}^{4}x_{2}^{2} - 168x_{1}^{5}x_{2} + 952x_{1}^{6} - 648x_{2}^{7} + 1944x_{1}x_{2}^{6} + 3672x_{1}^{2}x_{2}^{5} - 3480x_{1}^{3}x_{2}^{4} - 4080x_{1}^{4}x_{2}^{3} + 2592x_{1}^{5}x_{2}^{2} + 1344x_{1}^{6}x_{2} - 768x_{1}^{7} + 729x_{2}^{8} + 972x_{1}x_{2}^{7} - 1458x_{1}^{2}x_{2}^{6} - 1836x_{1}^{3}x_{2}^{5} + 1305x_{1}^{4}x_{2}^{4} + 1224x_{1}^{5}x_{2}^{3} - 648x_{1}^{6}x_{2}^{2} - 288x_{1}^{7}x_{2} + 144x_{1}^{8} $$"
     },
     "metadata": {},
     "execution_count": 5
    }
   ],
   "cell_type": "code",
   "source": [
    "f1 = x[1] + x[2] + 1\n",
    "f2 = 19 - 14*x[1] + 3*x[1]^2 - 14*x[2] + 6*x[1]*x[2] + 3*x[2]^2\n",
    "f3 = 2*x[1] - 3*x[2]\n",
    "f4 = 18 - 32*x[1] + 12*x[1]^2 + 48*x[2] - 36*x[1]*x[2] + 27*x[2]^2\n",
    "f = (1 + f1^2*f2) * (30 + f3^2*f4)"
   ],
   "metadata": {},
   "execution_count": 5
  },
  {
   "cell_type": "markdown",
   "source": [
    "Constraints `f(x) - γ` to be a sum of squares"
   ],
   "metadata": {}
  },
  {
   "outputs": [
    {
     "name": "stdout",
     "output_type": "stream",
     "text": [
      "-------------------------------------------------------------\n",
      "           Clarabel.jl v0.10.0  -  Clever Acronym              \n",
      "                   (c) Paul Goulart                          \n",
      "                University of Oxford, 2022                   \n",
      "-------------------------------------------------------------\n",
      "\n",
      "problem:\n",
      "  variables     = 45\n",
      "  constraints   = 121\n",
      "  nnz(P)        = 0\n",
      "  nnz(A)        = 121\n",
      "  cones (total) = 2\n",
      "    : Zero        = 1,  numel = 1\n",
      "    : PSDTriangle = 1,  numel = 120\n",
      "\n",
      "settings:\n",
      "  linear algebra: direct / qdldl, precision: Float64\n",
      "  max iter = 200, time limit = Inf,  max step = 0.990\n",
      "  tol_feas = 1.0e-08, tol_gap_abs = 1.0e-08, tol_gap_rel = 1.0e-08,\n",
      "  static reg : on, ϵ1 = 1.0e-08, ϵ2 = 4.9e-32\n",
      "  dynamic reg: on, ϵ = 1.0e-13, δ = 2.0e-07\n",
      "  iter refine: on, reltol = 1.0e-13, abstol = 1.0e-12, \n",
      "               max iter = 10, stop ratio = 5.0\n",
      "  equilibrate: on, min_scale = 1.0e-04, max_scale = 1.0e+04\n",
      "               max iter = 10\n",
      "\n",
      "iter    pcost        dcost       gap       pres      dres      k/t        μ       step      \n",
      "---------------------------------------------------------------------------------------------\n",
      "  0   6.0000e+02   6.0000e+02  0.00e+00  6.51e-01  5.40e-01  1.00e+00  1.02e+04   ------   \n",
      "  1  -3.0355e+03  -2.4055e+03  2.62e-01  1.75e-01  1.55e-01  6.30e+02  2.58e+03  8.06e-01  \n",
      "  2  -4.5486e+02  -2.1780e+02  1.09e+00  2.46e-02  2.77e-02  2.37e+02  5.36e+02  8.67e-01  \n",
      "  3   3.2891e+01   7.6205e+01  1.32e+00  3.76e-03  4.03e-03  4.33e+01  9.46e+01  8.76e-01  \n",
      "  4   2.7894e+01   3.5220e+01  2.63e-01  7.00e-04  7.23e-04  7.33e+00  1.84e+01  8.59e-01  \n",
      "  5   1.2781e+01   1.9102e+01  4.95e-01  3.82e-04  5.33e-04  6.32e+00  1.16e+01  5.36e-01  \n",
      "  6   5.6656e+00   6.5505e+00  1.56e-01  5.83e-05  8.23e-05  8.85e-01  1.88e+00  8.72e-01  \n",
      "  7   4.1810e+00   4.5446e+00  8.70e-02  2.06e-05  3.12e-05  3.64e-01  6.80e-01  8.09e-01  \n",
      "  8   3.4404e+00   3.5519e+00  3.24e-02  7.01e-06  1.03e-05  1.12e-01  2.39e-01  7.54e-01  \n",
      "  9   3.0921e+00   3.1107e+00  6.02e-03  1.35e-06  1.90e-06  1.86e-02  4.73e-02  9.05e-01  \n",
      " 10   3.0441e+00   3.0570e+00  4.23e-03  1.18e-06  1.04e-06  1.29e-02  2.52e-02  7.05e-01  \n",
      " 11   3.0055e+00   3.0080e+00  8.18e-04  2.38e-07  1.55e-07  2.46e-03  4.69e-03  8.73e-01  \n",
      " 12   3.0054e+00   3.0084e+00  1.01e-03  3.99e-06  1.72e-07  3.04e-03  4.06e-03  6.25e-02  \n",
      " 13   3.0024e+00   3.0037e+00  4.15e-04  1.57e-06  7.26e-08  1.25e-03  1.60e-03  7.02e-01  \n",
      " 14   3.0020e+00   3.0031e+00  3.63e-04  2.01e-06  6.20e-08  1.09e-03  1.29e-03  1.75e-01  \n",
      " 15   3.0004e+00   3.0006e+00  6.79e-05  4.76e-07  1.14e-08  2.04e-04  2.41e-04  8.49e-01  \n",
      " 16   3.0001e+00   3.0002e+00  2.22e-05  2.69e-07  3.87e-09  6.66e-05  8.20e-05  7.49e-01  \n",
      " 17   3.0000e+00   3.0000e+00  5.29e-06  7.68e-08  9.41e-10  1.59e-05  2.03e-05  8.13e-01  \n",
      " 18   3.0000e+00   3.0000e+00  4.03e-06  2.99e-07  7.20e-10  1.21e-05  1.40e-05  2.93e-01  \n",
      " 19   3.0000e+00   3.0000e+00  7.60e-07  6.24e-08  1.41e-10  2.28e-06  2.69e-06  8.53e-01  \n",
      " 20   3.0000e+00   3.0000e+00  1.85e-07  4.53e-08  3.92e-11  5.56e-07  8.33e-07  9.90e-01  \n",
      " 21   3.0000e+00   3.0000e+00  1.85e-07  4.53e-08  3.92e-11  5.56e-07  8.33e-07  0.00e+00  \n",
      "---------------------------------------------------------------------------------------------\n",
      "Terminated with status = solved (reduced accuracy)\n",
      "solve time = 21.0ms\n"
     ]
    }
   ],
   "cell_type": "code",
   "source": [
    "con_ref = @constraint(model, f >= γ)\n",
    "@objective(model, Max, γ)\n",
    "optimize!(model)"
   ],
   "metadata": {},
   "execution_count": 6
  },
  {
   "cell_type": "markdown",
   "source": [
    "The lower bound found is 3"
   ],
   "metadata": {}
  },
  {
   "outputs": [
    {
     "output_type": "execute_result",
     "data": {
      "text/plain": "solution_summary(; result = 1, verbose = false)\n├ solver_name          : Dual model with Clarabel attached\n├ Termination\n│ ├ termination_status : ALMOST_OPTIMAL\n│ ├ result_count       : 1\n│ └ raw_status         : ALMOST_SOLVED\n├ Solution (result = 1)\n│ ├ primal_status        : NEARLY_FEASIBLE_POINT\n│ ├ dual_status          : NEARLY_FEASIBLE_POINT\n│ ├ objective_value      : 3.00000e+00\n│ └ dual_objective_value : 3.00000e+00\n└ Work counters\n  ├ solve_time (sec)   : 2.09994e-02\n  └ barrier_iterations : 21"
     },
     "metadata": {},
     "execution_count": 7
    }
   ],
   "cell_type": "code",
   "source": [
    "solution_summary(model)"
   ],
   "metadata": {},
   "execution_count": 7
  },
  {
   "cell_type": "markdown",
   "source": [
    "The moment matrix is as follows, we can already see the global minimizer\n",
    "`[0, -1]` from the entries `(2, 1)` and `(3, 1)`.\n",
    "This heuristic way to obtain solutions to the polynomial optimization problem\n",
    "is suggested in [Laurent2008; (6.15)](@cite)."
   ],
   "metadata": {}
  },
  {
   "outputs": [
    {
     "output_type": "execute_result",
     "data": {
      "text/plain": "MomentMatrix with row/column basis:\n SubBasis{Monomial}([1, x[2], x[1], x[2]^2, x[1]*x[2], x[1]^2, x[2]^3, x[1]*x[2]^2, x[1]^2*x[2], x[1]^3, x[2]^4, x[1]*x[2]^3, x[1]^2*x[2]^2, x[1]^3*x[2], x[1]^4])\nAnd entries in a 15×15 SymMatrix{Float64}:\n  0.9999999997859073     -0.9999988219054464     …   2.5166009647361593e-7\n -0.9999988219054464      0.9999976841708637         9.47676328056913e-8\n  1.1872461215867367e-6  -1.1600287259108588e-6      4.7451356029855384e-7\n  0.9999976618226798     -0.9999965064454199         4.8965215088882085e-5\n -1.1599500181679241e-6   1.1855210516213522e-6      4.618762907520152e-5\n  5.8216332622599706e-8   3.0356199948443204e-8  …   9.745535477720552e-5\n -0.999996513745934       0.9999953642434687        -0.0005565093093445481\n  1.160209683468974e-6   -1.1225671941552976e-6     -0.00032131825703568713\n  2.9745760282044875e-8   1.8377122547470757e-9     -0.0008744279872899929\n  1.1134410809885912e-7   8.327992018483806e-8      -0.0007650100609308081\n  0.9999953885900964     -0.9999942420839988     …   0.6122725920054648\n -1.0827791561456249e-6   1.1485036921654073e-6      0.014996139527614954\n  2.913694878100692e-8    2.346521794496128e-9       0.9253620565525771\n  8.928243272967077e-8    3.5488281830330126e-8      0.48570399361626404\n  2.5166009647361593e-7   9.47676328056913e-8        1.6309121889456073"
     },
     "metadata": {},
     "execution_count": 8
    }
   ],
   "cell_type": "code",
   "source": [
    "ν = moment_matrix(con_ref)"
   ],
   "metadata": {},
   "execution_count": 8
  },
  {
   "cell_type": "markdown",
   "source": [
    "Many entries of the matrix actually have the same moment.\n",
    "We can obtain the following list of these moments without duplicates\n",
    "(ignoring when difference of entries representing the same moments is below `1e-5`)"
   ],
   "metadata": {}
  },
  {
   "outputs": [
    {
     "output_type": "execute_result",
     "data": {
      "text/plain": "MomentVector{Float64, SubBasis{Monomial, DynamicPolynomials.Monomial{DynamicPolynomials.Commutative{DynamicPolynomials.CreationOrder}, MultivariatePolynomials.Graded{MultivariatePolynomials.LexOrder}}, DynamicPolynomials.MonomialVector{DynamicPolynomials.Commutative{DynamicPolynomials.CreationOrder}, MultivariatePolynomials.Graded{MultivariatePolynomials.LexOrder}}}, Vector{Float64}}([0.9999999997859073, -0.9999988219054464, 1.1872461215867367e-6, 0.9999976618226798, -1.1599500181679241e-6, 5.8216332622599706e-8, -0.999996513745934, 1.160209683468974e-6, 2.9745760282044875e-8, 1.1134410809885912e-7  …  -0.0007650100609308081, 1.412089891519067, -0.28776435809882966, 0.4734587642070385, -0.194381193968364, 0.6122725920054648, 0.014996139527614954, 0.9253620565525771, 0.48570399361626404, 1.6309121889456073], SubBasis{Monomial}([1, x₂, x₁, x₂², x₁x₂, x₁², x₂³, x₁x₂², x₁²x₂, x₁³, x₂⁴, x₁x₂³, x₁²x₂², x₁³x₂, x₁⁴, x₂⁵, x₁x₂⁴, x₁²x₂³, x₁³x₂², x₁⁴x₂, x₁⁵, x₂⁶, x₁x₂⁵, x₁²x₂⁴, x₁³x₂³, x₁⁴x₂², x₁⁵x₂, x₁⁶, x₂⁷, x₁x₂⁶, x₁²x₂⁵, x₁³x₂⁴, x₁⁴x₂³, x₁⁵x₂², x₁⁶x₂, x₁⁷, x₂⁸, x₁x₂⁷, x₁²x₂⁶, x₁³x₂⁵, x₁⁴x₂⁴, x₁⁵x₂³, x₁⁶x₂², x₁⁷x₂, x₁⁸]))"
     },
     "metadata": {},
     "execution_count": 9
    }
   ],
   "cell_type": "code",
   "source": [
    "μ = moment_vector(ν, atol = 1e-5)"
   ],
   "metadata": {},
   "execution_count": 9
  },
  {
   "cell_type": "markdown",
   "source": [
    "The truncated moment matrix can then be obtained as follows"
   ],
   "metadata": {}
  },
  {
   "outputs": [
    {
     "output_type": "execute_result",
     "data": {
      "text/plain": "MomentMatrix with row/column basis:\n SubBasis{Monomial}([1, x[2], x[1], x[2]^2, x[1]*x[2], x[1]^2, x[2]^3, x[1]*x[2]^2, x[1]^2*x[2], x[1]^3])\nAnd entries in a 10×10 SymMatrix{Float64}:\n  0.9999999997859073     -0.9999988219054464     …  1.1134410809885912e-7\n -0.9999988219054464      0.9999976618226798        8.928243272967077e-8\n  1.1872461215867367e-6  -1.1599500181679241e-6     2.5166009647361593e-7\n  0.9999976618226798     -0.999996513745934         3.5488281830330126e-8\n -1.1599500181679241e-6   1.160209683468974e-6      9.47676328056913e-8\n  5.8216332622599706e-8   2.9745760282044875e-8  …  4.7451356029855384e-7\n -0.999996513745934       0.9999953885900964        1.4340818755853253e-5\n  1.160209683468974e-6   -1.0827791561456249e-6     4.8965215088882085e-5\n  2.9745760282044875e-8   2.913694878100692e-8      4.618762907520152e-5\n  1.1134410809885912e-7   8.928243272967077e-8      9.745535477720552e-5"
     },
     "metadata": {},
     "execution_count": 10
    }
   ],
   "cell_type": "code",
   "source": [
    "ν_truncated = moment_matrix(μ, monomials(x, 0:3))"
   ],
   "metadata": {},
   "execution_count": 10
  },
  {
   "cell_type": "markdown",
   "source": [
    "Let's check if the flatness property is satisfied.\n",
    "The rank of `ν_truncated` seems to be 1:"
   ],
   "metadata": {}
  },
  {
   "outputs": [
    {
     "output_type": "execute_result",
     "data": {
      "text/plain": "10-element Vector{Float64}:\n 3.999990725389048\n 0.00014941337488010636\n 3.8463103544774386e-5\n 5.00647368410897e-7\n 9.73705614060403e-8\n 4.8867451285657545e-8\n 4.067233993284245e-8\n 3.755056514424653e-8\n 3.60552441531946e-8\n 3.139767073098475e-9"
     },
     "metadata": {},
     "execution_count": 11
    }
   ],
   "cell_type": "code",
   "source": [
    "using LinearAlgebra\n",
    "LinearAlgebra.svdvals(Matrix(ν_truncated.Q))\n",
    "LinearAlgebra.rank(Matrix(ν_truncated.Q), rtol = 1e-3)\n",
    "svdvals(Matrix(ν_truncated.Q))"
   ],
   "metadata": {},
   "execution_count": 11
  },
  {
   "cell_type": "markdown",
   "source": [
    "The rank of `ν` is clearly higher than 1, closer to 3:"
   ],
   "metadata": {}
  },
  {
   "outputs": [
    {
     "output_type": "execute_result",
     "data": {
      "text/plain": "15-element Vector{Float64}:\n 5.141887449326348\n 2.4407594264687362\n 1.4710241419307037\n 0.0004074855572430628\n 0.00013845129928262667\n 3.543119975228378e-5\n 2.1610651138115324e-5\n 5.913752227517728e-7\n 3.0867009566270523e-8\n 2.783871660796074e-8\n 4.871621314580938e-9\n 2.831448387851015e-9\n 6.916635365345059e-10\n 3.327529933099593e-10\n 1.9424275214671552e-11"
     },
     "metadata": {},
     "execution_count": 12
    }
   ],
   "cell_type": "code",
   "source": [
    "svdvals(Matrix(ν.Q))"
   ],
   "metadata": {},
   "execution_count": 12
  },
  {
   "cell_type": "markdown",
   "source": [
    "Even if the flatness property is not satisfied, we can\n",
    "still try extracting the minimizer with a low rank decomposition of rank 3.\n",
    "We find the optimal solution again doing so:"
   ],
   "metadata": {}
  },
  {
   "outputs": [
    {
     "output_type": "execute_result",
     "data": {
      "text/plain": "Atomic measure on the variables x[1], x[2] with 1 atoms:\n at [1.1821785890260018e-6, -0.999998831548167] with weight 1.0274960457332836"
     },
     "metadata": {},
     "execution_count": 13
    }
   ],
   "cell_type": "code",
   "source": [
    "atomic_measure(ν, FixedRank(3))"
   ],
   "metadata": {},
   "execution_count": 13
  },
  {
   "cell_type": "markdown",
   "source": [
    "---\n",
    "\n",
    "*This notebook was generated using [Literate.jl](https://github.com/fredrikekre/Literate.jl).*"
   ],
   "metadata": {}
  }
 ],
 "nbformat_minor": 3,
 "metadata": {
  "language_info": {
   "file_extension": ".jl",
   "mimetype": "application/julia",
   "name": "julia",
   "version": "1.11.5"
  },
  "kernelspec": {
   "name": "julia-1.11",
   "display_name": "Julia 1.11.5",
   "language": "julia"
  }
 },
 "nbformat": 4
}

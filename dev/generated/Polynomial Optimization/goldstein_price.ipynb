{
 "cells": [
  {
   "cell_type": "markdown",
   "source": [
    "# Goldstein-price function"
   ],
   "metadata": {}
  },
  {
   "cell_type": "markdown",
   "source": [
    "**Contributed by**: Benoît Legat"
   ],
   "metadata": {}
  },
  {
   "cell_type": "markdown",
   "source": [
    "In this example, we consider the minimization of the [Goldstein-price function](https://en.wikipedia.org/wiki/Test_functions_for_optimization)."
   ],
   "metadata": {}
  },
  {
   "outputs": [],
   "cell_type": "code",
   "source": [
    "using SumOfSquares\n",
    "using DynamicPolynomials"
   ],
   "metadata": {},
   "execution_count": 1
  },
  {
   "cell_type": "markdown",
   "source": [
    "Create *symbolic* variables (not JuMP *decision* variables)"
   ],
   "metadata": {}
  },
  {
   "outputs": [
    {
     "output_type": "execute_result",
     "data": {
      "text/plain": "(DynamicPolynomials.Variable{DynamicPolynomials.Commutative{DynamicPolynomials.CreationOrder}, MultivariatePolynomials.Graded{MultivariatePolynomials.LexOrder}}[x₁, x₂],)"
     },
     "metadata": {},
     "execution_count": 2
    }
   ],
   "cell_type": "code",
   "source": [
    "@polyvar x[1:2]"
   ],
   "metadata": {},
   "execution_count": 2
  },
  {
   "cell_type": "markdown",
   "source": [
    "To use Sum-of-Squares Programming, we first need to pick an SDP solver,\n",
    "see [here](https://jump.dev/JuMP.jl/v1.12/installation/#Supported-solvers) for a list of the available choices."
   ],
   "metadata": {}
  },
  {
   "outputs": [
    {
     "output_type": "execute_result",
     "data": {
      "text/plain": "A JuMP Model\nFeasibility problem with:\nVariables: 0\nModel mode: AUTOMATIC\nCachingOptimizer state: EMPTY_OPTIMIZER\nSolver name: Dual model with Clarabel attached"
     },
     "metadata": {},
     "execution_count": 3
    }
   ],
   "cell_type": "code",
   "source": [
    "import Clarabel\n",
    "using Dualization\n",
    "model = SOSModel(dual_optimizer(Clarabel.Optimizer))"
   ],
   "metadata": {},
   "execution_count": 3
  },
  {
   "cell_type": "markdown",
   "source": [
    "Create a JuMP decision variable for the lower bound"
   ],
   "metadata": {}
  },
  {
   "outputs": [
    {
     "output_type": "execute_result",
     "data": {
      "text/plain": "γ",
      "text/latex": "$ γ $"
     },
     "metadata": {},
     "execution_count": 4
    }
   ],
   "cell_type": "code",
   "source": [
    "@variable(model, γ)"
   ],
   "metadata": {},
   "execution_count": 4
  },
  {
   "cell_type": "markdown",
   "source": [
    "`f(x)` is the Goldstein-Price function"
   ],
   "metadata": {}
  },
  {
   "outputs": [
    {
     "output_type": "execute_result",
     "data": {
      "text/plain": "600 + 720x₂ + 720x₁ + 3060x₂² - 4680x₁x₂ + 1260x₁² + 12288x₂³ - 19296x₁x₂² + 7344x₁²x₂ - 1072x₁³ + 14346x₂⁴ - 23616x₁x₂³ + 7776x₁²x₂² + 5784x₁³x₂ - 2454x₁⁴ + 1944x₂⁵ - 11880x₁x₂⁴ + 5040x₁²x₂³ + 9840x₁³x₂² - 7680x₁⁴x₂ + 1344x₁⁵ - 4428x₂⁶ - 1188x₁x₂⁵ + 8730x₁²x₂⁴ + 1240x₁³x₂³ - 5370x₁⁴x₂² - 168x₁⁵x₂ + 952x₁⁶ - 648x₂⁷ + 1944x₁x₂⁶ + 3672x₁²x₂⁵ - 3480x₁³x₂⁴ - 4080x₁⁴x₂³ + 2592x₁⁵x₂² + 1344x₁⁶x₂ - 768x₁⁷ + 729x₂⁸ + 972x₁x₂⁷ - 1458x₁²x₂⁶ - 1836x₁³x₂⁵ + 1305x₁⁴x₂⁴ + 1224x₁⁵x₂³ - 648x₁⁶x₂² - 288x₁⁷x₂ + 144x₁⁸",
      "text/latex": "$$ 600 + 720x_{2} + 720x_{1} + 3060x_{2}^{2} - 4680x_{1}x_{2} + 1260x_{1}^{2} + 12288x_{2}^{3} - 19296x_{1}x_{2}^{2} + 7344x_{1}^{2}x_{2} - 1072x_{1}^{3} + 14346x_{2}^{4} - 23616x_{1}x_{2}^{3} + 7776x_{1}^{2}x_{2}^{2} + 5784x_{1}^{3}x_{2} - 2454x_{1}^{4} + 1944x_{2}^{5} - 11880x_{1}x_{2}^{4} + 5040x_{1}^{2}x_{2}^{3} + 9840x_{1}^{3}x_{2}^{2} - 7680x_{1}^{4}x_{2} + 1344x_{1}^{5} - 4428x_{2}^{6} - 1188x_{1}x_{2}^{5} + 8730x_{1}^{2}x_{2}^{4} + 1240x_{1}^{3}x_{2}^{3} - 5370x_{1}^{4}x_{2}^{2} - 168x_{1}^{5}x_{2} + 952x_{1}^{6} - 648x_{2}^{7} + 1944x_{1}x_{2}^{6} + 3672x_{1}^{2}x_{2}^{5} - 3480x_{1}^{3}x_{2}^{4} - 4080x_{1}^{4}x_{2}^{3} + 2592x_{1}^{5}x_{2}^{2} + 1344x_{1}^{6}x_{2} - 768x_{1}^{7} + 729x_{2}^{8} + 972x_{1}x_{2}^{7} - 1458x_{1}^{2}x_{2}^{6} - 1836x_{1}^{3}x_{2}^{5} + 1305x_{1}^{4}x_{2}^{4} + 1224x_{1}^{5}x_{2}^{3} - 648x_{1}^{6}x_{2}^{2} - 288x_{1}^{7}x_{2} + 144x_{1}^{8} $$"
     },
     "metadata": {},
     "execution_count": 5
    }
   ],
   "cell_type": "code",
   "source": [
    "f1 = x[1] + x[2] + 1\n",
    "f2 = 19 - 14*x[1] + 3*x[1]^2 - 14*x[2] + 6*x[1]*x[2] + 3*x[2]^2\n",
    "f3 = 2*x[1] - 3*x[2]\n",
    "f4 = 18 - 32*x[1] + 12*x[1]^2 + 48*x[2] - 36*x[1]*x[2] + 27*x[2]^2\n",
    "f = (1 + f1^2*f2) * (30 + f3^2*f4)"
   ],
   "metadata": {},
   "execution_count": 5
  },
  {
   "cell_type": "markdown",
   "source": [
    "Constraints `f(x) - γ` to be a sum of squares"
   ],
   "metadata": {}
  },
  {
   "outputs": [
    {
     "name": "stdout",
     "output_type": "stream",
     "text": [
      "-------------------------------------------------------------\n",
      "           Clarabel.jl v0.5.1  -  Clever Acronym              \n",
      "                   (c) Paul Goulart                          \n",
      "                University of Oxford, 2022                   \n",
      "-------------------------------------------------------------\n",
      "\n",
      "problem:\n",
      "  variables     = 45\n",
      "  constraints   = 121\n",
      "  nnz(P)        = 0\n",
      "  nnz(A)        = 121\n",
      "  cones (total) = 2\n",
      "    : Zero        = 1,  numel = 1\n",
      "    : PSDTriangle = 1,  numel = 120\n",
      "\n",
      "settings:\n",
      "  linear algebra: direct / qdldl, precision: Float64\n",
      "  max iter = 200, time limit = Inf,  max step = 0.990\n",
      "  tol_feas = 1.0e-08, tol_gap_abs = 1.0e-08, tol_gap_rel = 1.0e-08,\n",
      "  static reg : on, ϵ1 = 1.0e-08, ϵ2 = 4.9e-32\n",
      "  dynamic reg: on, ϵ = 1.0e-13, δ = 2.0e-07\n",
      "  iter refine: on, reltol = 1.0e-13, abstol = 1.0e-12, \n",
      "               max iter = 10, stop ratio = 5.0\n",
      "  equilibrate: on, min_scale = 1.0e-04, max_scale = 1.0e+04\n",
      "               max iter = 10\n",
      "\n",
      "iter    pcost        dcost       gap       pres      dres      k/t        μ       step      \n",
      "---------------------------------------------------------------------------------------------\n",
      "  0   6.0000e+02   6.0000e+02  0.00e+00  7.94e-01  4.57e-01  1.00e+00  1.76e+04   ------   \n",
      "  1  -4.0470e+03  -2.9148e+03  3.88e-01  2.08e-01  1.44e-01  1.13e+03  4.66e+03  7.93e-01  \n",
      "  2  -1.4428e+03  -1.0955e+03  3.17e-01  2.36e-02  2.47e-02  3.47e+02  8.26e+02  8.79e-01  \n",
      "  3  -3.9672e+01   4.1596e+01  2.05e+00  5.00e-03  4.15e-03  8.13e+01  1.96e+02  8.63e-01  \n",
      "  4   1.7174e+01   2.8486e+01  6.59e-01  9.46e-04  6.91e-04  1.13e+01  3.75e+01  8.26e-01  \n",
      "  5   6.7376e+00   1.1010e+01  6.34e-01  2.57e-04  2.09e-04  4.27e+00  1.14e+01  8.19e-01  \n",
      "  6   4.3831e+00   5.0218e+00  1.46e-01  4.51e-05  3.53e-05  6.39e-01  2.05e+00  8.70e-01  \n",
      "  7   3.5210e+00   3.7988e+00  7.89e-02  1.56e-05  1.39e-05  2.78e-01  7.46e-01  8.34e-01  \n",
      "  8   3.1848e+00   3.2607e+00  2.38e-02  5.32e-06  4.31e-06  7.59e-02  2.55e-01  7.71e-01  \n",
      "  9   3.0435e+00   3.0595e+00  5.28e-03  1.21e-06  9.41e-07  1.61e-02  5.56e-02  8.50e-01  \n",
      " 10   3.0316e+00   3.0395e+00  2.62e-03  2.92e-06  5.96e-07  7.95e-03  3.70e-02  3.52e-01  \n",
      " 11   3.0126e+00   3.0157e+00  1.02e-03  1.38e-06  2.34e-07  3.07e-03  1.52e-02  8.10e-01  \n",
      " 12   3.0030e+00   3.0038e+00  2.55e-04  3.89e-07  5.76e-08  7.65e-04  3.58e-03  8.06e-01  \n",
      " 13   3.0007e+00   3.0009e+00  6.23e-05  1.35e-07  1.41e-08  1.87e-04  9.20e-04  8.78e-01  \n",
      " 14   3.0002e+00   3.0003e+00  2.25e-05  8.63e-08  5.05e-09  6.74e-05  3.22e-04  7.00e-01  \n",
      " 15   3.0001e+00   3.0001e+00  9.54e-06  3.95e-08  2.13e-09  2.86e-05  1.41e-04  7.84e-01  \n",
      " 16   3.0000e+00   3.0000e+00  2.42e-06  4.93e-08  5.37e-10  7.25e-06  3.48e-05  7.76e-01  \n",
      " 17   3.0000e+00   3.0000e+00  4.01e-07  1.16e-08  8.90e-11  1.20e-06  5.60e-06  8.55e-01  \n",
      " 18   3.0000e+00   3.0000e+00  3.42e-07  4.87e-07  7.59e-11  1.03e-06  4.05e-06  1.95e-01  \n",
      " 19   3.0000e+00   3.0000e+00  3.42e-07  4.87e-07  7.59e-11  1.03e-06  4.05e-06  0.00e+00  \n",
      "---------------------------------------------------------------------------------------------\n",
      "Terminated with status = solved (reduced accuracy)\n",
      "solve time =  405ms\n"
     ]
    }
   ],
   "cell_type": "code",
   "source": [
    "con_ref = @constraint(model, f >= γ)\n",
    "@objective(model, Max, γ)\n",
    "optimize!(model)"
   ],
   "metadata": {},
   "execution_count": 6
  },
  {
   "cell_type": "markdown",
   "source": [
    "The lower bound found is 3"
   ],
   "metadata": {}
  },
  {
   "outputs": [
    {
     "output_type": "execute_result",
     "data": {
      "text/plain": "* Solver : Dual model with Clarabel attached\n\n* Status\n  Result count       : 1\n  Termination status : ALMOST_OPTIMAL\n  Message from the solver:\n  \"ALMOST_SOLVED\"\n\n* Candidate solution (result #1)\n  Primal status      : NEARLY_FEASIBLE_POINT\n  Dual status        : NEARLY_FEASIBLE_POINT\n  Objective value    : 3.00000e+00\n  Dual objective value : 3.00000e+00\n\n* Work counters\n  Solve time (sec)   : 4.05476e-01\n  Barrier iterations : 19\n"
     },
     "metadata": {},
     "execution_count": 7
    }
   ],
   "cell_type": "code",
   "source": [
    "solution_summary(model)"
   ],
   "metadata": {},
   "execution_count": 7
  },
  {
   "cell_type": "markdown",
   "source": [
    "The moment matrix is as follows, we can already see the global minimizer\n",
    "`[0, -1]` from the entries `(2, 1)` and `(3, 1)`.\n",
    "This heuristic way to obtain solutions to the polynomial optimization problem\n",
    "is suggested in [L09, (6.15)].\n",
    "\n",
    "[L09] Laurent, Monique.\n",
    "*Sums of squares, moment matrices and optimization over polynomials.*\n",
    "Emerging applications of algebraic geometry (2009): 157-270."
   ],
   "metadata": {}
  },
  {
   "outputs": [
    {
     "output_type": "execute_result",
     "data": {
      "text/plain": "MomentMatrix with row/column basis:\n MonomialBasis([1, x[2], x[1], x[2]^2, x[1]*x[2], x[1]^2, x[2]^3, x[1]*x[2]^2, x[1]^2*x[2], x[1]^3, x[2]^4, x[1]*x[2]^3, x[1]^2*x[2]^2, x[1]^3*x[2], x[1]^4])\nAnd entries in a 15×15 SymMatrix{Float64}:\n  1.0000000037842636     -1.0000047782911436     …   1.9058344396239944e-7\n -1.0000047782911436      1.000009571383643          2.541532255451031e-7\n -3.1550056195145586e-6   3.167603764781082e-6       6.86063758087209e-7\n  1.0000095848169062     -1.0000143756218862         5.227540250858749e-5\n  3.1547525734022624e-6  -3.1479695710497564e-6      5.2563967793825295e-5\n  4.007365425383158e-8    8.230483587696018e-12  …   0.00010545597310381817\n -1.0000142970038506      1.00001918446773          -1.3533461258261501e-5\n -3.097903520871693e-6    3.092487890201229e-6       0.0007251441986790519\n -8.48239367762251e-8     2.319938184454498e-7       0.00047263045033047065\n  9.699197146534966e-8    2.24157637016163e-8        0.001482860877659785\n  1.0000192318510108     -1.000023846948281      …   0.47961501571279713\n  3.105396502408875e-6   -3.0314835005138788e-6     -0.052027943282962216\n  3.1818786158592063e-7  -4.549080969217558e-8       0.6946617317078664\n  1.4563107571374701e-8   9.456624269134494e-8       0.27099926863682305\n  1.9058344396239944e-7   2.541532255451031e-7       1.1808158676568399"
     },
     "metadata": {},
     "execution_count": 8
    }
   ],
   "cell_type": "code",
   "source": [
    "ν = moment_matrix(con_ref)"
   ],
   "metadata": {},
   "execution_count": 8
  },
  {
   "cell_type": "markdown",
   "source": [
    "Many entries of the matrix actually have the same moment.\n",
    "We can obtain the following list of these moments without duplicates\n",
    "(ignoring when difference of entries representing the same moments is below `1e-5`)"
   ],
   "metadata": {}
  },
  {
   "outputs": [
    {
     "output_type": "execute_result",
     "data": {
      "text/plain": "Measure{Float64, DynamicPolynomials.Monomial{DynamicPolynomials.Commutative{DynamicPolynomials.CreationOrder}, MultivariatePolynomials.Graded{MultivariatePolynomials.LexOrder}}, DynamicPolynomials.MonomialVector{DynamicPolynomials.Commutative{DynamicPolynomials.CreationOrder}, MultivariatePolynomials.Graded{MultivariatePolynomials.LexOrder}}}([1.0000000037842636, -1.0000047782911436, -3.1550056195145586e-6, 1.0000095848169062, 3.1547525734022624e-6, 4.007365425383158e-8, -1.0000142970038506, -3.097903520871693e-6, -8.48239367762251e-8, 9.699197146534966e-8  …  0.001482860877659785, 1.342374430106313, -0.25826238957136527, 0.384442405563846, -0.19494757233297494, 0.47961501571279713, -0.052027943282962216, 0.6946617317078664, 0.27099926863682305, 1.1808158676568399], DynamicPolynomials.Monomial{DynamicPolynomials.Commutative{DynamicPolynomials.CreationOrder}, MultivariatePolynomials.Graded{MultivariatePolynomials.LexOrder}}[1, x₂, x₁, x₂², x₁x₂, x₁², x₂³, x₁x₂², x₁²x₂, x₁³  …  x₁⁷, x₂⁸, x₁x₂⁷, x₁²x₂⁶, x₁³x₂⁵, x₁⁴x₂⁴, x₁⁵x₂³, x₁⁶x₂², x₁⁷x₂, x₁⁸])"
     },
     "metadata": {},
     "execution_count": 9
    }
   ],
   "cell_type": "code",
   "source": [
    "μ = measure(ν, atol = 1e-5)"
   ],
   "metadata": {},
   "execution_count": 9
  },
  {
   "cell_type": "markdown",
   "source": [
    "The truncated moment matrix can then be obtained as follows"
   ],
   "metadata": {}
  },
  {
   "outputs": [
    {
     "output_type": "execute_result",
     "data": {
      "text/plain": "MomentMatrix with row/column basis:\n MonomialBasis([1, x[2], x[1], x[2]^2, x[1]*x[2], x[1]^2, x[2]^3, x[1]*x[2]^2, x[1]^2*x[2], x[1]^3])\nAnd entries in a 10×10 SymMatrix{Float64}:\n  1.0000000037842636     -1.0000047782911436     …  9.699197146534966e-8\n -1.0000047782911436      1.0000095848169062        1.4563107571374701e-8\n -3.1550056195145586e-6   3.1547525734022624e-6     1.9058344396239944e-7\n  1.0000095848169062     -1.0000142970038506        9.456624269134494e-8\n  3.1547525734022624e-6  -3.097903520871693e-6      2.541532255451031e-7\n  4.007365425383158e-8   -8.48239367762251e-8    …  6.86063758087209e-7\n -1.0000142970038506      1.0000192318510108        1.745477371543284e-5\n -3.097903520871693e-6    3.105396502408875e-6      5.227540250858749e-5\n -8.48239367762251e-8     3.1818786158592063e-7     5.2563967793825295e-5\n  9.699197146534966e-8    1.4563107571374701e-8     0.00010545597310381817"
     },
     "metadata": {},
     "execution_count": 10
    }
   ],
   "cell_type": "code",
   "source": [
    "ν_truncated = moment_matrix(μ, monomials(x, 0:3))"
   ],
   "metadata": {},
   "execution_count": 10
  },
  {
   "cell_type": "markdown",
   "source": [
    "Let's check if the flatness property is satisfied.\n",
    "The rank of `ν_truncated` seems to be 1:"
   ],
   "metadata": {}
  },
  {
   "outputs": [
    {
     "output_type": "execute_result",
     "data": {
      "text/plain": "10-element Vector{Float64}:\n 4.00006203889537\n 0.00016394383941014867\n 3.655817239577864e-5\n 5.244097495812441e-7\n 3.9503234805812473e-7\n 2.3507116219028302e-7\n 1.8680049474206079e-7\n 3.6952757694002633e-8\n 3.416466221175507e-8\n 1.2004294306188961e-8"
     },
     "metadata": {},
     "execution_count": 11
    }
   ],
   "cell_type": "code",
   "source": [
    "using LinearAlgebra\n",
    "LinearAlgebra.svdvals(Matrix(ν_truncated.Q))\n",
    "LinearAlgebra.rank(Matrix(ν_truncated.Q), rtol = 1e-3)\n",
    "svdvals(Matrix(ν_truncated.Q))"
   ],
   "metadata": {},
   "execution_count": 11
  },
  {
   "cell_type": "markdown",
   "source": [
    "The rank of `ν` is clearly higher than 1, closer to 3:"
   ],
   "metadata": {}
  },
  {
   "outputs": [
    {
     "output_type": "execute_result",
     "data": {
      "text/plain": "15-element Vector{Float64}:\n 5.103068949030815\n 1.8099461582903524\n 1.1685546652319592\n 0.00041578036099193993\n 0.00012878184022232887\n 3.0373817974177292e-5\n 2.731833879947775e-5\n 4.6795295038040007e-7\n 3.749071933639144e-8\n 2.205668317259579e-8\n 4.4875761955384996e-9\n 2.4721470127377835e-9\n 5.555260481320318e-10\n 3.5532318311039704e-11\n 1.0716401015848837e-11"
     },
     "metadata": {},
     "execution_count": 12
    }
   ],
   "cell_type": "code",
   "source": [
    "svdvals(Matrix(ν.Q))"
   ],
   "metadata": {},
   "execution_count": 12
  },
  {
   "cell_type": "markdown",
   "source": [
    "Even if the flatness property is not satisfied, we can\n",
    "still try extracting the minimizer with a low rank decomposition of rank 3.\n",
    "We find the optimal solution again doing so:"
   ],
   "metadata": {}
  },
  {
   "outputs": [
    {
     "output_type": "execute_result",
     "data": {
      "text/plain": "Atomic measure on the variables x[1], x[2] with 1 atoms:\n at [-3.0872956816092415e-6, -1.0000047513625485] with weight 1.0228434412609957"
     },
     "metadata": {},
     "execution_count": 13
    }
   ],
   "cell_type": "code",
   "source": [
    "atomic_measure(ν, FixedRank(3))"
   ],
   "metadata": {},
   "execution_count": 13
  },
  {
   "cell_type": "markdown",
   "source": [
    "---\n",
    "\n",
    "*This notebook was generated using [Literate.jl](https://github.com/fredrikekre/Literate.jl).*"
   ],
   "metadata": {}
  }
 ],
 "nbformat_minor": 3,
 "metadata": {
  "language_info": {
   "file_extension": ".jl",
   "mimetype": "application/julia",
   "name": "julia",
   "version": "1.9.3"
  },
  "kernelspec": {
   "name": "julia-1.9",
   "display_name": "Julia 1.9.3",
   "language": "julia"
  }
 },
 "nbformat": 4
}

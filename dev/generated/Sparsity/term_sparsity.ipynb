{
 "cells": [
  {
   "cell_type": "markdown",
   "source": [
    "# Term sparsity"
   ],
   "metadata": {}
  },
  {
   "cell_type": "markdown",
   "source": [
    "**Adapted from**: Example 3.5 of [WML20b]\n",
    "\n",
    "[WML20a] Wang, Jie, Victor Magron, and Jean-Bernard Lasserre.\n",
    "*TSSOS: A Moment-SOS hierarchy that exploits term sparsity*.\n",
    "arXiv preprint arXiv:1912.08899 (2020).\n",
    "\n",
    "[WML20b] Wang, Jie, Victor Magron, and Jean-Bernard Lasserre.\n",
    "*Chordal-TSSOS: a moment-SOS hierarchy that exploits term sparsity with chordal extension*.\n",
    "arXiv preprint arXiv:2003.03210 (2020)."
   ],
   "metadata": {}
  },
  {
   "outputs": [
    {
     "output_type": "execute_result",
     "data": {
      "text/plain": "(DynamicPolynomials.Variable{DynamicPolynomials.Commutative{DynamicPolynomials.CreationOrder}, MultivariatePolynomials.Graded{MultivariatePolynomials.LexOrder}}[x₁, x₂, x₃],)"
     },
     "metadata": {},
     "execution_count": 1
    }
   ],
   "cell_type": "code",
   "source": [
    "using DynamicPolynomials\n",
    "@polyvar x[1:3]"
   ],
   "metadata": {},
   "execution_count": 1
  },
  {
   "cell_type": "markdown",
   "source": [
    "We would like to find the minimum value of the polynomial"
   ],
   "metadata": {}
  },
  {
   "outputs": [
    {
     "output_type": "execute_result",
     "data": {
      "text/plain": "6x₃² - 2x₂x₃ + 3x₂² - 2x₁x₂ + x₁² - 54x₂x₃² + 18x₂²x₃ - 2x₁²x₂ + 142x₂²x₃² + 2x₁²x₂²",
      "text/latex": "$$ 6x_{3}^{2} - 2x_{2}x_{3} + 3x_{2}^{2} - 2x_{1}x_{2} + x_{1}^{2} - 54x_{2}x_{3}^{2} + 18x_{2}^{2}x_{3} - 2x_{1}^{2}x_{2} + 142x_{2}^{2}x_{3}^{2} + 2x_{1}^{2}x_{2}^{2} $$"
     },
     "metadata": {},
     "execution_count": 2
    }
   ],
   "cell_type": "code",
   "source": [
    "poly = x[1]^2 - 2x[1]*x[2] + 3x[2]^2 - 2x[1]^2*x[2] + 2x[1]^2*x[2]^2 - 2x[2]*x[3] + 6x[3]^2 + 18x[2]^2*x[3] - 54x[2]*x[3]^2 + 142x[2]^2*x[3]^2"
   ],
   "metadata": {},
   "execution_count": 2
  },
  {
   "cell_type": "markdown",
   "source": [
    "The minimum value of the polynomial can be found to be zero."
   ],
   "metadata": {}
  },
  {
   "outputs": [
    {
     "name": "stdout",
     "output_type": "stream",
     "text": [
      "Success: SDP solved\n",
      "Primal objective value: 0.0000000e+00 \n",
      "Dual objective value: 0.0000000e+00 \n",
      "Relative primal infeasibility: 1.37e-16 \n",
      "Relative dual infeasibility: 5.00e-11 \n",
      "Real Relative Gap: 0.00e+00 \n",
      "XZ Relative Gap: 1.34e-10 \n",
      "DIMACS error measures: 2.22e-16 0.00e+00 8.34e-11 0.00e+00 0.00e+00 1.34e-10\n",
      "CSDP 6.2.0\n",
      "Iter:  0 Ap: 0.00e+00 Pobj:  0.0000000e+00 Ad: 0.00e+00 Dobj:  0.0000000e+00 \n",
      "Iter:  1 Ap: 9.71e-01 Pobj: -2.4909930e+02 Ad: 8.28e-01 Dobj:  7.2430886e+02 \n",
      "Iter:  2 Ap: 9.99e-01 Pobj: -1.6816542e+02 Ad: 9.32e-01 Dobj:  1.6018799e+02 \n",
      "Iter:  3 Ap: 9.96e-01 Pobj: -6.7497005e+00 Ad: 9.25e-01 Dobj:  6.1375870e+01 \n",
      "Iter:  4 Ap: 1.00e+00 Pobj: -1.4717032e+00 Ad: 9.01e-01 Dobj:  8.9499894e+00 \n",
      "Iter:  5 Ap: 1.00e+00 Pobj: -5.0539294e-01 Ad: 7.90e-01 Dobj:  2.7968305e+00 \n",
      "Iter:  6 Ap: 1.00e+00 Pobj: -1.5436020e-01 Ad: 7.76e-01 Dobj:  8.7592687e-01 \n",
      "Iter:  7 Ap: 1.00e+00 Pobj: -4.8636534e-02 Ad: 8.12e-01 Dobj:  2.4142345e-01 \n",
      "Iter:  8 Ap: 1.00e+00 Pobj: -1.2922923e-02 Ad: 8.39e-01 Dobj:  6.6305912e-02 \n",
      "Iter:  9 Ap: 1.00e+00 Pobj: -1.7072964e-03 Ad: 1.00e+00 Dobj:  1.0868170e-02 \n",
      "Iter: 10 Ap: 1.00e+00 Pobj: -2.4483767e-04 Ad: 1.00e+00 Dobj:  7.6369670e-04 \n",
      "Iter: 11 Ap: 9.96e-01 Pobj: -7.3631602e-06 Ad: 1.00e+00 Dobj: -4.5695481e-05 \n",
      "Iter: 12 Ap: 9.97e-01 Pobj: -2.2400242e-07 Ad: 1.00e+00 Dobj: -7.5981635e-05 \n",
      "Iter: 13 Ap: 1.00e+00 Pobj: -9.6675285e-09 Ad: 1.00e+00 Dobj: -5.0106670e-06 \n"
     ]
    },
    {
     "output_type": "execute_result",
     "data": {
      "text/plain": "-3.0596397637694395e-10"
     },
     "metadata": {},
     "execution_count": 3
    }
   ],
   "cell_type": "code",
   "source": [
    "import CSDP\n",
    "solver = CSDP.Optimizer\n",
    "using SumOfSquares\n",
    "function sos_min(sparsity)\n",
    "    model = Model(solver)\n",
    "    @variable(model, t)\n",
    "    @objective(model, Max, t)\n",
    "    con_ref = @constraint(model, poly - t in SOSCone(), sparsity = sparsity)\n",
    "    optimize!(model)\n",
    "    return value(t), moment_matrix(con_ref)\n",
    "end\n",
    "\n",
    "bound, ν = sos_min(Sparsity.NoPattern())\n",
    "bound"
   ],
   "metadata": {},
   "execution_count": 3
  },
  {
   "cell_type": "markdown",
   "source": [
    "We find the corresponding minimizer `(0, 0, 0)` by matching the moments\n",
    "of the moment matrix with a dirac measure centered at this minimizer."
   ],
   "metadata": {}
  },
  {
   "outputs": [
    {
     "output_type": "execute_result",
     "data": {
      "text/plain": "Atomic measure on the variables x[1], x[2], x[3] with 1 atoms:\n at [2.0746548419820583e-6, 1.2388378355883834e-6, 2.3096229027153988e-8] with weight 1.000000001500628"
     },
     "metadata": {},
     "execution_count": 4
    }
   ],
   "cell_type": "code",
   "source": [
    "atomic_measure(ν, 1e-6)"
   ],
   "metadata": {},
   "execution_count": 4
  },
  {
   "cell_type": "markdown",
   "source": [
    "We can see below that the basis contained 6 monomials hence we needed to use 6x6 PSD matrix variables."
   ],
   "metadata": {}
  },
  {
   "outputs": [
    {
     "output_type": "execute_result",
     "data": {
      "text/plain": "MonomialBasis([1, x₃, x₂, x₁, x₂x₃, x₁x₂])"
     },
     "metadata": {},
     "execution_count": 5
    }
   ],
   "cell_type": "code",
   "source": [
    "ν.basis"
   ],
   "metadata": {},
   "execution_count": 5
  },
  {
   "cell_type": "markdown",
   "source": [
    "Using the monomial/term sparsity method of [WML20a] based on cluster completion, we find the same bound."
   ],
   "metadata": {}
  },
  {
   "outputs": [
    {
     "name": "stdout",
     "output_type": "stream",
     "text": [
      "Iter: 14 Ap: 9.68e-01 Pobj: -3.0596398e-10 Ad: 9.70e-01 Dobj: -2.0389932e-07 \n",
      "Success: SDP solved\n",
      "Primal objective value: -3.0596398e-10 \n",
      "Dual objective value: -2.0389932e-07 \n",
      "Relative primal infeasibility: 6.74e-14 \n",
      "Relative dual infeasibility: 1.56e-09 \n",
      "Real Relative Gap: -2.04e-07 \n",
      "XZ Relative Gap: 2.88e-09 \n",
      "DIMACS error measures: 7.27e-14 0.00e+00 2.58e-09 0.00e+00 -2.04e-07 2.88e-09\n",
      "CSDP 6.2.0\n",
      "Iter:  0 Ap: 0.00e+00 Pobj:  0.0000000e+00 Ad: 0.00e+00 Dobj:  0.0000000e+00 \n",
      "Iter:  1 Ap: 9.71e-01 Pobj: -2.4909930e+02 Ad: 8.28e-01 Dobj:  7.2430886e+02 \n",
      "Iter:  2 Ap: 9.99e-01 Pobj: -1.6816542e+02 Ad: 9.32e-01 Dobj:  1.6018799e+02 \n",
      "Iter:  3 Ap: 9.96e-01 Pobj: -6.7497005e+00 Ad: 9.25e-01 Dobj:  6.1375870e+01 \n",
      "Iter:  4 Ap: 1.00e+00 Pobj: -1.4717032e+00 Ad: 9.01e-01 Dobj:  8.9499894e+00 \n",
      "Iter:  5 Ap: 1.00e+00 Pobj: -5.0539294e-01 Ad: 7.90e-01 Dobj:  2.7968305e+00 \n",
      "Iter:  6 Ap: 1.00e+00 Pobj: -1.5436020e-01 Ad: 7.76e-01 Dobj:  8.7592687e-01 \n",
      "Iter:  7 Ap: 1.00e+00 Pobj: -4.8636534e-02 Ad: 8.12e-01 Dobj:  2.4142345e-01 \n",
      "Iter:  8 Ap: 1.00e+00 Pobj: -1.2922923e-02 Ad: 8.39e-01 Dobj:  6.6305912e-02 \n",
      "Iter:  9 Ap: 1.00e+00 Pobj: -1.7072964e-03 Ad: 1.00e+00 Dobj:  1.0868170e-02 \n",
      "Iter: 10 Ap: 1.00e+00 Pobj: -2.4483767e-04 Ad: 1.00e+00 Dobj:  7.6369670e-04 \n",
      "Iter: 11 Ap: 9.96e-01 Pobj: -7.3631602e-06 Ad: 1.00e+00 Dobj: -4.5695481e-05 \n",
      "Iter: 12 Ap: 9.97e-01 Pobj: -2.2400242e-07 Ad: 1.00e+00 Dobj: -7.5981635e-05 \n",
      "Iter: 13 Ap: 1.00e+00 Pobj: -9.6675285e-09 Ad: 1.00e+00 Dobj: -5.0106670e-06 \n"
     ]
    },
    {
     "output_type": "execute_result",
     "data": {
      "text/plain": "-3.0596397637694395e-10"
     },
     "metadata": {},
     "execution_count": 6
    }
   ],
   "cell_type": "code",
   "source": [
    "bound, ν = sos_min(Sparsity.Monomial())\n",
    "bound"
   ],
   "metadata": {},
   "execution_count": 6
  },
  {
   "cell_type": "markdown",
   "source": [
    "Which is not suprising as no sparsity reduction could be performed."
   ],
   "metadata": {}
  },
  {
   "outputs": [
    {
     "output_type": "execute_result",
     "data": {
      "text/plain": "1-element Vector{MonomialBasis{DynamicPolynomials.Monomial{DynamicPolynomials.Commutative{DynamicPolynomials.CreationOrder}, MultivariatePolynomials.Graded{MultivariatePolynomials.LexOrder}}, DynamicPolynomials.MonomialVector{DynamicPolynomials.Commutative{DynamicPolynomials.CreationOrder}, MultivariatePolynomials.Graded{MultivariatePolynomials.LexOrder}}}}:\n MonomialBasis([1, x₃, x₂, x₁, x₂x₃, x₁x₂])"
     },
     "metadata": {},
     "execution_count": 7
    }
   ],
   "cell_type": "code",
   "source": [
    "[sub.basis for sub in ν.blocks]"
   ],
   "metadata": {},
   "execution_count": 7
  },
  {
   "cell_type": "markdown",
   "source": [
    "Using the monomial/term sparsity method of [WML20b] based on chordal completion, the lower bound is smaller than 0."
   ],
   "metadata": {}
  },
  {
   "outputs": [
    {
     "name": "stdout",
     "output_type": "stream",
     "text": [
      "Iter: 14 Ap: 9.68e-01 Pobj: -3.0596398e-10 Ad: 9.70e-01 Dobj: -2.0389932e-07 \n",
      "Success: SDP solved\n",
      "Primal objective value: -3.0596398e-10 \n",
      "Dual objective value: -2.0389932e-07 \n",
      "Relative primal infeasibility: 6.74e-14 \n",
      "Relative dual infeasibility: 1.56e-09 \n",
      "Real Relative Gap: -2.04e-07 \n",
      "XZ Relative Gap: 2.88e-09 \n",
      "DIMACS error measures: 7.27e-14 0.00e+00 2.58e-09 0.00e+00 -2.04e-07 2.88e-09\n",
      "CSDP 6.2.0\n",
      "Iter:  0 Ap: 0.00e+00 Pobj:  0.0000000e+00 Ad: 0.00e+00 Dobj:  0.0000000e+00 \n",
      "Iter:  1 Ap: 9.27e-01 Pobj: -1.4689079e+02 Ad: 8.89e-01 Dobj:  9.8435236e+02 \n",
      "Iter:  2 Ap: 7.48e-01 Pobj: -1.1657123e+02 Ad: 8.75e-01 Dobj:  2.5250977e+02 \n",
      "Iter:  3 Ap: 9.36e-01 Pobj: -3.9438731e+01 Ad: 6.27e-01 Dobj:  1.9098284e+02 \n",
      "Iter:  4 Ap: 1.00e+00 Pobj: -5.2243839e+00 Ad: 8.90e-01 Dobj:  5.7737377e+01 \n",
      "Iter:  5 Ap: 1.00e+00 Pobj: -1.9667022e+00 Ad: 9.46e-01 Dobj:  9.3864604e+00 \n",
      "Iter:  6 Ap: 1.00e+00 Pobj: -6.0952393e-01 Ad: 8.98e-01 Dobj:  2.7249453e+00 \n",
      "Iter:  7 Ap: 1.00e+00 Pobj: -1.8828026e-01 Ad: 7.05e-01 Dobj:  1.1095449e+00 \n",
      "Iter:  8 Ap: 1.00e+00 Pobj: -8.2145391e-02 Ad: 7.76e-01 Dobj:  3.4962777e-01 \n",
      "Iter:  9 Ap: 1.00e+00 Pobj: -3.5569922e-02 Ad: 9.13e-01 Dobj:  6.3372767e-02 \n",
      "Iter: 10 Ap: 1.00e+00 Pobj: -1.3602383e-02 Ad: 1.00e+00 Dobj:  9.0938016e-03 \n",
      "Iter: 11 Ap: 1.00e+00 Pobj: -7.2782376e-03 Ad: 1.00e+00 Dobj:  7.3762428e-04 \n",
      "Iter: 12 Ap: 1.00e+00 Pobj: -4.9359857e-03 Ad: 1.00e+00 Dobj: -2.5754966e-03 \n",
      "Iter: 13 Ap: 1.00e+00 Pobj: -3.8914064e-03 Ad: 1.00e+00 Dobj: -3.3743286e-03 \n",
      "Iter: 14 Ap: 1.00e+00 Pobj: -3.6046296e-03 Ad: 1.00e+00 Dobj: -3.5789356e-03 \n",
      "Iter: 15 Ap: 1.00e+00 Pobj: -3.5547289e-03 Ad: 1.00e+00 Dobj: -3.6075822e-03 \n",
      "Iter: 16 Ap: 1.00e+00 Pobj: -3.5514644e-03 Ad: 1.00e+00 Dobj: -3.5795009e-03 \n",
      "Iter: 17 Ap: 1.00e+00 Pobj: -3.5512133e-03 Ad: 9.80e-01 Dobj: -3.5523286e-03 \n"
     ]
    },
    {
     "output_type": "execute_result",
     "data": {
      "text/plain": "-0.0035511999768404467"
     },
     "metadata": {},
     "execution_count": 8
    }
   ],
   "cell_type": "code",
   "source": [
    "bound, ν = sos_min(Sparsity.Monomial(ChordalCompletion()))\n",
    "bound"
   ],
   "metadata": {},
   "execution_count": 8
  },
  {
   "cell_type": "markdown",
   "source": [
    "However, this bound was obtained with an SDP with 4 matrices of size 3x3."
   ],
   "metadata": {}
  },
  {
   "outputs": [
    {
     "output_type": "execute_result",
     "data": {
      "text/plain": "4-element Vector{MonomialBasis{DynamicPolynomials.Monomial{DynamicPolynomials.Commutative{DynamicPolynomials.CreationOrder}, MultivariatePolynomials.Graded{MultivariatePolynomials.LexOrder}}, DynamicPolynomials.MonomialVector{DynamicPolynomials.Commutative{DynamicPolynomials.CreationOrder}, MultivariatePolynomials.Graded{MultivariatePolynomials.LexOrder}}}}:\n MonomialBasis([x₂, x₁, x₁x₂])\n MonomialBasis([x₂, x₂x₃, x₁x₂])\n MonomialBasis([x₃, x₂, x₂x₃])\n MonomialBasis([1, x₂x₃, x₁x₂])"
     },
     "metadata": {},
     "execution_count": 9
    }
   ],
   "cell_type": "code",
   "source": [
    "[sub.basis for sub in ν.blocks]"
   ],
   "metadata": {},
   "execution_count": 9
  },
  {
   "cell_type": "markdown",
   "source": [
    "---\n",
    "\n",
    "*This notebook was generated using [Literate.jl](https://github.com/fredrikekre/Literate.jl).*"
   ],
   "metadata": {}
  }
 ],
 "nbformat_minor": 3,
 "metadata": {
  "language_info": {
   "file_extension": ".jl",
   "mimetype": "application/julia",
   "name": "julia",
   "version": "1.9.4"
  },
  "kernelspec": {
   "name": "julia-1.9",
   "display_name": "Julia 1.9.4",
   "language": "julia"
  }
 },
 "nbformat": 4
}

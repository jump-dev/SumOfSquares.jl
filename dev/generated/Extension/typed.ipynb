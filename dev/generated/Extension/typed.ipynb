{
 "cells": [
  {
   "cell_type": "markdown",
   "source": [
    "# Multivariate polynomials implementations"
   ],
   "metadata": {}
  },
  {
   "cell_type": "markdown",
   "source": [
    "**Contributed by**: Benoît Legat"
   ],
   "metadata": {}
  },
  {
   "cell_type": "markdown",
   "source": [
    "The SumOfSquares package is built on top of the [MultivariatePolynomials](https://github.com/JuliaAlgebra/MultivariatePolynomials.jl)\n",
    "abstract interface. [DynamicPolynomials](https://github.com/JuliaAlgebra/DynamicPolynomials.jl/)\n",
    "is an implementation of this abstract interface so it can be used with\n",
    "SumOfSquares. Moreover, any other implementation can be used as well. To\n",
    "illustrate, we solve of [Blekherman2012; Examples 3.38](@cite) with\n",
    "[TypedPolynomials](https://github.com/JuliaAlgebra/TypedPolynomials.jl),\n",
    "another implementation of [MultivariatePolynomials](https://github.com/JuliaAlgebra/MultivariatePolynomials.jl)."
   ],
   "metadata": {}
  },
  {
   "outputs": [
    {
     "name": "stdout",
     "output_type": "stream",
     "text": [
      "CSDP 6.2.0\n",
      "This is a pure primal feasibility problem.\n",
      "Iter:  0 Ap: 0.00e+00 Pobj:  0.0000000e+00 Ad: 0.00e+00 Dobj:  0.0000000e+00 \n",
      "Iter:  1 Ap: 7.39e-01 Pobj:  0.0000000e+00 Ad: 1.00e+00 Dobj:  9.2771541e+01 \n",
      "Iter:  2 Ap: 1.00e+00 Pobj:  0.0000000e+00 Ad: 1.00e+00 Dobj:  5.3405053e+01 \n"
     ]
    },
    {
     "output_type": "execute_result",
     "data": {
      "text/plain": "* Solver : CSDP\n\n* Status\n  Result count       : 1\n  Termination status : OPTIMAL\n  Message from the solver:\n  \"Problem solved to optimality.\"\n\n* Candidate solution (result #1)\n  Primal status      : FEASIBLE_POINT\n  Dual status        : FEASIBLE_POINT\n  Objective value    : 0.00000e+00\n  Dual objective value : 0.00000e+00\n\n* Work counters\n  Solve time (sec)   : 4.30107e-04\n"
     },
     "metadata": {},
     "execution_count": 1
    }
   ],
   "cell_type": "code",
   "source": [
    "import TypedPolynomials\n",
    "TypedPolynomials.@polyvar x y\n",
    "using SumOfSquares\n",
    "import CSDP\n",
    "model = SOSModel(CSDP.Optimizer)\n",
    "con_ref = @constraint(model, 2x^4 + 5y^4 - x^2*y^2 >= -2(x^3*y + x + 1))\n",
    "optimize!(model)\n",
    "solution_summary(model)"
   ],
   "metadata": {},
   "execution_count": 1
  },
  {
   "cell_type": "markdown",
   "source": [
    "We see that the problem is feasible. The Sum-of-Squares decomposition can be\n",
    "obtained as follows:"
   ],
   "metadata": {}
  },
  {
   "outputs": [
    {
     "output_type": "execute_result",
     "data": {
      "text/plain": "(-0.6797543969221541·1 - 0.09754507709792246·y - 0.4175950563713448·x + 2.1931518901396174·y^2 - 0.1269606244678339·x*y - 0.8025867547845221·x^2)^2 + (0.9043573827480671·1 - 0.6455003192597278·y + 0.2742159536999832·x - 0.10770174782358159·y^2 - 1.2293138068800717·x*y - 0.9300160939847·x^2)^2 + (-0.5739168240154698·1 - 1.38535050221548·y - 0.6219655378569912·x - 0.2040924100740057·y^2 - 0.15182215880489783·x*y + 0.4443832632766482·x^2)^2 + (0.5703021360913615·1 - 0.5184093413621602·y + 0.3436728787624473·x + 0.2555950605470665·y^2 + 0.7618441294650047·x*y - 0.02090567376761348·x^2)^2 + (0.041400837217767876·1 + 0.04911040272637946·y - 0.49990658891857337·x - 0.24792145939081137·y^2 + 0.2972445689917418·x*y - 0.5054184235227418·x^2)^2 + (-0.2524531788141328·1 - 0.06336647012459033·y + 0.253942572224051·x - 0.10018744153048117·y^2 + 0.059601795985895156·x*y - 0.19381241255811912·x^2)^2"
     },
     "metadata": {},
     "execution_count": 2
    }
   ],
   "cell_type": "code",
   "source": [
    "sos_decomposition(con_ref)"
   ],
   "metadata": {},
   "execution_count": 2
  },
  {
   "cell_type": "markdown",
   "source": [
    "Why is there several implementations ?\n",
    "Depending in the use-case, one implementation may be more appropriate than\n",
    "another one. [TypedPolynomials](https://github.com/JuliaAlgebra/TypedPolynomials.jl)\n",
    "is faster than [DynamicPolynomials](https://github.com/JuliaAlgebra/DynamicPolynomials.jl/)\n",
    "but it requires new compilation whenever the list of variables changes.\n",
    "This means that [TypedPolynomials](https://github.com/JuliaAlgebra/TypedPolynomials.jl)\n",
    "is not appropriate when the number of variables is dynamic or too large.\n",
    "However, for a small number of variables, it can be faster.\n",
    "When solving Sum-of-Squares programs, the time is mostly taken by the Semidefinite programming solver.\n",
    "The time taken by SumOfSquares/JuMP/MathOptInterface are usually negligible\n",
    "or it time is taken by manipulation of JuMP or MathOptInterface functions\n",
    "therefore using TypedPolynomials over DynamicPolynomials may not make much difference in most cases."
   ],
   "metadata": {}
  },
  {
   "cell_type": "markdown",
   "source": [
    "One case for which using TypedPolynomials might be adequate is when\n",
    "using domain defined by equalities (possibly also with inequalities).\n",
    "Indeed, in that case, SumOfSquares computes the corresponding Gröbner basis which\n",
    "may take a non-negligible amount of time for large systems of equalities."
   ],
   "metadata": {}
  },
  {
   "cell_type": "markdown",
   "source": [
    "To illustrate this, consider the computation of Gröbner basis for the\n",
    "following system from [CLO05, p. 17].\n",
    "The time taken by TypedPolynomials is below:\n",
    "\n",
    "[CLO05] Cox, A. David & Little, John & O'Shea, Donal\n",
    "*Using Algebraic Geometry*.\n",
    "Graduate Texts in Mathematics, **2005**.\n",
    "https://doi.org/10.1007/b138611"
   ],
   "metadata": {}
  },
  {
   "outputs": [
    {
     "name": "stdout",
     "output_type": "stream",
     "text": [
      "  197.801 μs (5860 allocations: 1.30 MiB)\n"
     ]
    },
    {
     "output_type": "execute_result",
     "data": {
      "text/plain": "true"
     },
     "metadata": {},
     "execution_count": 3
    }
   ],
   "cell_type": "code",
   "source": [
    "using BenchmarkTools\n",
    "@btime let\n",
    "    TypedPolynomials.@polyvar x y\n",
    "    S = @set x^3 * y + x == 2x^2 * y^2 && 3x^4 == y\n",
    "    SemialgebraicSets.compute_gröbner_basis!(S.I)\n",
    "end"
   ],
   "metadata": {},
   "execution_count": 3
  },
  {
   "cell_type": "markdown",
   "source": [
    "The time taken by DynamicPolynomials is as follows:"
   ],
   "metadata": {}
  },
  {
   "outputs": [
    {
     "name": "stdout",
     "output_type": "stream",
     "text": [
      "  382.286 μs (10893 allocations: 1.22 MiB)\n"
     ]
    },
    {
     "output_type": "execute_result",
     "data": {
      "text/plain": "true"
     },
     "metadata": {},
     "execution_count": 4
    }
   ],
   "cell_type": "code",
   "source": [
    "import DynamicPolynomials\n",
    "@btime let\n",
    "    DynamicPolynomials.@polyvar x y\n",
    "    S = @set x^3 * y + x == 2x^2 * y^2 && 3x^4 == y\n",
    "    SemialgebraicSets.compute_gröbner_basis!(S.I)\n",
    "end"
   ],
   "metadata": {},
   "execution_count": 4
  },
  {
   "cell_type": "markdown",
   "source": [
    "We see that TypedPolynomials is faster.\n",
    "The time is still negligible for this small system but for larger systems, choosing TypedPolynomials may be helpful.\n",
    "We can use this system in a Sum-of-Squares constraint as follows:"
   ],
   "metadata": {}
  },
  {
   "outputs": [
    {
     "name": "stdout",
     "output_type": "stream",
     "text": [
      "Success: SDP solved\n",
      "Primal objective value: 0.0000000e+00 \n",
      "Dual objective value: 0.0000000e+00 \n",
      "Relative primal infeasibility: 2.23e-16 \n",
      "Relative dual infeasibility: 5.00e-11 \n",
      "Real Relative Gap: 0.00e+00 \n",
      "XZ Relative Gap: 3.04e-10 \n",
      "DIMACS error measures: 2.78e-16 0.00e+00 5.00e-11 0.00e+00 0.00e+00 3.04e-10\n",
      "CSDP 6.2.0\n",
      "This is a pure primal feasibility problem.\n",
      "Iter:  0 Ap: 0.00e+00 Pobj:  0.0000000e+00 Ad: 0.00e+00 Dobj:  0.0000000e+00 \n",
      "Iter:  1 Ap: 7.64e-01 Pobj:  0.0000000e+00 Ad: 8.07e-01 Dobj:  2.6104524e+00 \n",
      "Iter:  2 Ap: 7.71e-01 Pobj:  0.0000000e+00 Ad: 7.40e-01 Dobj: -5.9092654e-02 \n",
      "Iter:  3 Ap: 8.08e-01 Pobj:  0.0000000e+00 Ad: 7.65e-01 Dobj:  5.5549062e-01 \n",
      "Iter:  4 Ap: 7.56e-01 Pobj:  0.0000000e+00 Ad: 7.79e-01 Dobj:  4.8506833e-01 \n",
      "Iter:  5 Ap: 6.95e-01 Pobj:  0.0000000e+00 Ad: 6.77e-01 Dobj:  4.3029691e-01 \n",
      "Iter:  6 Ap: 6.35e-01 Pobj:  0.0000000e+00 Ad: 6.83e-01 Dobj:  2.2137596e-01 \n",
      "Iter:  7 Ap: 6.21e-01 Pobj:  0.0000000e+00 Ad: 6.43e-01 Dobj:  1.2986380e-01 \n",
      "Iter:  8 Ap: 7.42e-01 Pobj:  0.0000000e+00 Ad: 6.82e-01 Dobj:  6.1463511e-02 \n",
      "Iter:  9 Ap: 7.31e-01 Pobj:  0.0000000e+00 Ad: 7.05e-01 Dobj:  2.6276595e-02 \n",
      "Iter: 10 Ap: 6.92e-01 Pobj:  0.0000000e+00 Ad: 7.09e-01 Dobj:  1.1328519e-02 \n",
      "Iter: 11 Ap: 6.62e-01 Pobj:  0.0000000e+00 Ad: 6.68e-01 Dobj:  5.1233488e-03 \n",
      "Iter: 12 Ap: 7.09e-01 Pobj:  0.0000000e+00 Ad: 6.82e-01 Dobj:  2.3589139e-03 \n",
      "Iter: 13 Ap: 7.23e-01 Pobj:  0.0000000e+00 Ad: 6.78e-01 Dobj:  1.0697137e-03 \n",
      "Iter: 14 Ap: 7.14e-01 Pobj:  0.0000000e+00 Ad: 7.19e-01 Dobj:  4.1892452e-04 \n",
      "Iter: 15 Ap: 6.78e-01 Pobj:  0.0000000e+00 Ad: 6.29e-01 Dobj:  2.1663051e-04 \n",
      "Iter: 16 Ap: 7.27e-01 Pobj:  0.0000000e+00 Ad: 6.95e-01 Dobj:  8.2603180e-05 \n"
     ]
    },
    {
     "output_type": "execute_result",
     "data": {
      "text/plain": "* Solver : CSDP\n\n* Status\n  Result count       : 1\n  Termination status : OPTIMAL\n  Message from the solver:\n  \"Problem solved to optimality.\"\n\n* Candidate solution (result #1)\n  Primal status      : FEASIBLE_POINT\n  Dual status        : FEASIBLE_POINT\n  Objective value    : 0.00000e+00\n  Dual objective value : 0.00000e+00\n\n* Work counters\n  Solve time (sec)   : 2.37894e-03\n"
     },
     "metadata": {},
     "execution_count": 5
    }
   ],
   "cell_type": "code",
   "source": [
    "TypedPolynomials.@polyvar x y\n",
    "S = @set x^3 * y + x == 2x^2 * y^2 && 3x^4 == y\n",
    "poly = -6x - 4y^3 + 2x*y^2 + 6x^3 - 3y^4 + 13x^2 * y^2\n",
    "model = Model(CSDP.Optimizer)\n",
    "con_ref = @constraint(model, poly in SOSCone(), domain = S)\n",
    "optimize!(model)\n",
    "solution_summary(model)"
   ],
   "metadata": {},
   "execution_count": 5
  },
  {
   "cell_type": "markdown",
   "source": [
    "We obtain the following decomposition:"
   ],
   "metadata": {}
  },
  {
   "outputs": [
    {
     "output_type": "execute_result",
     "data": {
      "text/plain": "(-6.841219256090771e-5·1 + 0.0006527330340649107·y - 0.00014150321438476302·x + 7.044882232835532·y^2 - 28.229546532117844·x*y + 25.36354533708025·x^2)^2 + (-1.4193710561626973e-5·1 + 0.00042746788877302523·y + 0.0008136453704606653·x + 22.479251122164996·y^2 - 13.864839113487497·x*y - 21.675274123197855·x^2)^2 + (-3.84390450630064e-5·1 - 0.0007285126695822746·y + 0.0005524428333021625·x + 0.12018797686157888·y^2 + 0.09016527012493944·x*y + 0.06697072803793322·x^2)^2 + (-6.125336122569302e-7·1 - 0.03996370218393435·y + 0.05340324712849221·x - 0.0002606951920930786·y^2 - 0.00019563679757630243·x*y - 0.00014400703006102608·x^2)^2"
     },
     "metadata": {},
     "execution_count": 6
    }
   ],
   "cell_type": "code",
   "source": [
    "dec = sos_decomposition(con_ref, 1e-6)"
   ],
   "metadata": {},
   "execution_count": 6
  },
  {
   "cell_type": "markdown",
   "source": [
    "We can verify that it is correct as follows:"
   ],
   "metadata": {}
  },
  {
   "outputs": [
    {
     "output_type": "execute_result",
     "data": {
      "text/plain": "6.35962489327993912288384867185532522970703439568751491606235504150390625e-09 - 2.031836040539138034770952477781396624733608801668593421196326231345130675312378e-07y - 1.651283078137803036392702219577936025766225961538461538461538461538458123853356e-07x - 1.3042138486059584625274300473396493771360837854444980621337890625e-05y² - 1.9531084959490221421296585191385020152665674686431884765625e-05xy - 7.3007271062877905661698228756417705653802840970456600189208984375e-06x² - 4.626728363395689787770000596841176350911458333333333333333333333333335636311615e-08y³ - 4.979310060567361991464470823605855305989583333333333333333333333333332181844193e-08xy² - 4.16004339042067556686359253159679383315960876643657684326171875e-08x²y + 1.428514469108239819224064166729266826923076923076923076923076923076649908268473e-08y⁴",
      "text/latex": "$$ 6.35962489327993912288384867185532522970703439568751491606235504150390625 \\cdot 10^{-09} - 2.031836040539138034770952477781396624733608801668593421196326231345130675312378 \\cdot 10^{-07}y - 1.651283078137803036392702219577936025766225961538461538461538461538458123853356 \\cdot 10^{-07}x - 1.3042138486059584625274300473396493771360837854444980621337890625 \\cdot 10^{-05}y^{2} - 1.9531084959490221421296585191385020152665674686431884765625 \\cdot 10^{-05}xy - 7.3007271062877905661698228756417705653802840970456600189208984375 \\cdot 10^{-06}x^{2} - 4.626728363395689787770000596841176350911458333333333333333333333333335636311615 \\cdot 10^{-08}y^{3} - 4.979310060567361991464470823605855305989583333333333333333333333333332181844193 \\cdot 10^{-08}xy^{2} - 4.16004339042067556686359253159679383315960876643657684326171875 \\cdot 10^{-08}x^{2}y + 1.428514469108239819224064166729266826923076923076923076923076923076649908268473 \\cdot 10^{-08}y^{4} $$"
     },
     "metadata": {},
     "execution_count": 7
    }
   ],
   "cell_type": "code",
   "source": [
    "rem(dec - poly, S.I)"
   ],
   "metadata": {},
   "execution_count": 7
  },
  {
   "cell_type": "markdown",
   "source": [
    "Note that the difference between `dec` and `poly` is larger\n",
    "than between the full gram matrix because `dec` is obtained by dropping\n",
    "the lowest eigenvalues with the threshold `1e-6`; see `sos_decomposition`."
   ],
   "metadata": {}
  },
  {
   "outputs": [
    {
     "output_type": "execute_result",
     "data": {
      "text/plain": "7.413986070507335123927063571559747945372009780840016901493072509765625e-09 + 1.320663966652354727218799883014649792628985708758521538514357346754875984471248e-08y - 3.175694510778507370000275281759408804086538461538461538461538461538120077643758e-09x + 7.41404251511888767733893246258958242833614349365234375e-09y² - 4.2730576021998700753101729787886142730712890625e-14xy + 7.413996962364610698870137639460153877735137939453125e-09x² - 3.4816594052244909107685089111328125e-13y³ + 6.85229650798646616749465465545654296875e-13xy² + 3.443079155118766720988787710666656494140625e-14x²y + 1.434300254634133755014492915226862980769230769230769230769230769230496062114595e-08y⁴",
      "text/latex": "$$ 7.413986070507335123927063571559747945372009780840016901493072509765625 \\cdot 10^{-09} + 1.320663966652354727218799883014649792628985708758521538514357346754875984471248 \\cdot 10^{-08}y - 3.175694510778507370000275281759408804086538461538461538461538461538120077643758 \\cdot 10^{-09}x + 7.41404251511888767733893246258958242833614349365234375 \\cdot 10^{-09}y^{2} - 4.2730576021998700753101729787886142730712890625 \\cdot 10^{-14}xy + 7.413996962364610698870137639460153877735137939453125 \\cdot 10^{-09}x^{2} - 3.4816594052244909107685089111328125 \\cdot 10^{-13}y^{3} + 6.85229650798646616749465465545654296875 \\cdot 10^{-13}xy^{2} + 3.443079155118766720988787710666656494140625 \\cdot 10^{-14}x^{2}y + 1.434300254634133755014492915226862980769230769230769230769230769230496062114595 \\cdot 10^{-08}y^{4} $$"
     },
     "metadata": {},
     "execution_count": 8
    }
   ],
   "cell_type": "code",
   "source": [
    "rem(gram_matrix(con_ref) - poly, S.I)"
   ],
   "metadata": {},
   "execution_count": 8
  },
  {
   "cell_type": "markdown",
   "source": [
    "---\n",
    "\n",
    "*This notebook was generated using [Literate.jl](https://github.com/fredrikekre/Literate.jl).*"
   ],
   "metadata": {}
  }
 ],
 "nbformat_minor": 3,
 "metadata": {
  "language_info": {
   "file_extension": ".jl",
   "mimetype": "application/julia",
   "name": "julia",
   "version": "1.11.3"
  },
  "kernelspec": {
   "name": "julia-1.11",
   "display_name": "Julia 1.11.3",
   "language": "julia"
  }
 },
 "nbformat": 4
}

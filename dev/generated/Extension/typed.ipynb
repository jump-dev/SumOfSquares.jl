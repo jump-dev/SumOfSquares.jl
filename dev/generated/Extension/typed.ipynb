{
 "cells": [
  {
   "cell_type": "markdown",
   "source": [
    "# Multivariate polynomials implementations"
   ],
   "metadata": {}
  },
  {
   "cell_type": "markdown",
   "source": [
    "**Contributed by**: Benoît Legat"
   ],
   "metadata": {}
  },
  {
   "cell_type": "markdown",
   "source": [
    "The SumOfSquares package is built on top of the [MultivariatePolynomials](https://github.com/JuliaAlgebra/MultivariatePolynomials.jl)\n",
    "abstract interface. [DynamicPolynomials](https://github.com/JuliaAlgebra/DynamicPolynomials.jl/)\n",
    "is an implementation of this abstract interface so it can be used with\n",
    "SumOfSquares. Moreover, any other implementation can be used as well. To\n",
    "illustrate, we solve Examples 3.38 of [BPT12] with\n",
    "[TypedPolynomials](https://github.com/JuliaAlgebra/TypedPolynomials.jl),\n",
    "another implementation of [MultivariatePolynomials](https://github.com/JuliaAlgebra/MultivariatePolynomials.jl).\n",
    "\n",
    "[BPT12] Blekherman, G. & Parrilo, P. A. & Thomas, R. R.\n",
    "*Semidefinite Optimization and Convex Algebraic Geometry*.\n",
    "Society for Industrial and Applied Mathematics, **2012**."
   ],
   "metadata": {}
  },
  {
   "outputs": [
    {
     "name": "stdout",
     "output_type": "stream",
     "text": [
      "Iter: 10 Ap: 9.69e-01 Pobj: -1.0000000e+00 Ad: 9.00e-01 Dobj: -1.0000000e+00 \n",
      "Success: SDP solved\n",
      "Primal objective value: -1.0000000e+00 \n",
      "Dual objective value: -1.0000000e+00 \n",
      "Relative primal infeasibility: 8.36e-16 \n",
      "Relative dual infeasibility: 1.91e-09 \n",
      "Real Relative Gap: -1.02e-09 \n",
      "XZ Relative Gap: 3.61e-09 \n",
      "DIMACS error measures: 1.60e-15 0.00e+00 4.55e-09 0.00e+00 -1.02e-09 3.61e-09\n",
      "CSDP 6.2.0\n",
      "This is a pure primal feasibility problem.\n",
      "Iter:  0 Ap: 0.00e+00 Pobj:  0.0000000e+00 Ad: 0.00e+00 Dobj:  0.0000000e+00 \n",
      "Iter:  1 Ap: 7.39e-01 Pobj:  0.0000000e+00 Ad: 1.00e+00 Dobj:  9.2771541e+01 \n",
      "Iter:  2 Ap: 1.00e+00 Pobj:  0.0000000e+00 Ad: 1.00e+00 Dobj:  5.3401580e+01 \n"
     ]
    },
    {
     "output_type": "execute_result",
     "data": {
      "text/plain": "* Solver : CSDP\n\n* Status\n  Termination status : OPTIMAL\n  Primal status      : FEASIBLE_POINT\n  Dual status        : FEASIBLE_POINT\n  Message from the solver:\n  \"Problem solved to optimality.\"\n\n* Candidate solution\n  Objective value      : 0.00000e+00\n  Dual objective value : 0.00000e+00\n\n* Work counters\n  Solve time (sec)   : 1.53172e-01\n"
     },
     "metadata": {},
     "execution_count": 1
    }
   ],
   "cell_type": "code",
   "source": [
    "import TypedPolynomials\n",
    "TypedPolynomials.@polyvar x y\n",
    "using SumOfSquares\n",
    "import CSDP\n",
    "model = SOSModel(CSDP.Optimizer)\n",
    "con_ref = @constraint(model, 2x^4 + 5y^4 - x^2*y^2 >= -2(x^3*y + x + 1))\n",
    "optimize!(model)\n",
    "solution_summary(model)"
   ],
   "metadata": {},
   "execution_count": 1
  },
  {
   "cell_type": "markdown",
   "source": [
    "We see that the problem is feasible. The Sum-of-Squares decomposition can be\n",
    "obtained as follows:"
   ],
   "metadata": {}
  },
  {
   "outputs": [
    {
     "output_type": "execute_result",
     "data": {
      "text/plain": "(-0.8025916994817286*x^2 - 0.12696358959695084*x*y + 2.1931536335606596*y^2 - 0.4175974829737731*x - 0.09754582659048604*y - 0.6797576582812246)^2 + (-0.9300185097227984*x^2 - 1.2293230030760685*x*y - 0.10770262293143043*y^2 + 0.2742228250653725*x - 0.6455024395913431*y + 0.9043624572847019)^2 + (0.4443891157327385*x^2 - 0.15182100493580503*x*y - 0.20409230951833635*y^2 - 0.6219741186490518*x - 1.3853650445041525*y - 0.5739128592301723)^2 + (0.020943538499585947*x^2 - 0.7618732513464342*x*y - 0.2555835927433952*y^2 - 0.3436893980484675*x + 0.5184198063947206*y - 0.5702898506776771)^2 + (-0.5053890156943566*x^2 + 0.2972255843408651*x*y - 0.24791041664865918*y^2 - 0.4999809437701394*x + 0.049133727851402666*y + 0.041450896566269956)^2 + (-0.1938395220921123*x^2 + 0.0596091080771317*x*y - 0.10020512085870767*y^2 + 0.2539020228261245*x - 0.06335690502229822*y - 0.25245477072168293)^2"
     },
     "metadata": {},
     "execution_count": 2
    }
   ],
   "cell_type": "code",
   "source": [
    "sos_decomposition(con_ref)"
   ],
   "metadata": {},
   "execution_count": 2
  },
  {
   "cell_type": "markdown",
   "source": [
    "Why is there several implementations ?\n",
    "Depending in the use-case, one implementation may be more appropriate than\n",
    "another one. [TypedPolynomials](https://github.com/JuliaAlgebra/TypedPolynomials.jl)\n",
    "is faster than [DynamicPolynomials](https://github.com/JuliaAlgebra/DynamicPolynomials.jl/)\n",
    "but it requires new compilation whenever the list of variables changes.\n",
    "This means that [TypedPolynomials](https://github.com/JuliaAlgebra/TypedPolynomials.jl)\n",
    "is not appropriate when the number of variables is dynamic or too large.\n",
    "However, for a small number of variables, it can be faster.\n",
    "When solving Sum-of-Squares programs, the time is mostly taken by the Semidefinite programming solver.\n",
    "The time taken by SumOfSquares/JuMP/MathOptInterface are usually negligible\n",
    "or it time is taken by manipulation of JuMP or MathOptInterface functions\n",
    "therefore using TypedPolynomials over DynamicPolynomials may not make much difference in most cases."
   ],
   "metadata": {}
  },
  {
   "cell_type": "markdown",
   "source": [
    "One case for which using TypedPolynomials might be adequate is when\n",
    "using domain defined by equalities (possibly also with inequalities).\n",
    "Indeed, in that case, SumOfSquares computes the corresponding Gröbner basis which\n",
    "may take a non-negligible amount of time for large systems of equalities."
   ],
   "metadata": {}
  },
  {
   "cell_type": "markdown",
   "source": [
    "To illustrate this, consider the computation of Gröbner basis for the\n",
    "following system from [CLO05, p. 17].\n",
    "The time taken by TypedPolynomials is below:\n",
    "\n",
    "[CLO05] Cox, A. David & Little, John & O'Shea, Donal\n",
    "*Using Algebraic Geometry*.\n",
    "Graduate Texts in Mathematics, **2005**.\n",
    "https://doi.org/10.1007/b138611"
   ],
   "metadata": {}
  },
  {
   "outputs": [
    {
     "name": "stdout",
     "output_type": "stream",
     "text": [
      "  171.298 μs (3261 allocations: 448.44 KiB)\n"
     ]
    },
    {
     "output_type": "execute_result",
     "data": {
      "text/plain": "true"
     },
     "metadata": {},
     "execution_count": 3
    }
   ],
   "cell_type": "code",
   "source": [
    "using BenchmarkTools\n",
    "@btime let\n",
    "    TypedPolynomials.@polyvar x y\n",
    "    S = @set x^3 * y + x == 2x^2 * y^2 && 3x^4 == y\n",
    "    SemialgebraicSets.computegröbnerbasis!(S.I)\n",
    "end"
   ],
   "metadata": {},
   "execution_count": 3
  },
  {
   "cell_type": "markdown",
   "source": [
    "The time taken by DynamicPolynomials is as follows:"
   ],
   "metadata": {}
  },
  {
   "outputs": [
    {
     "name": "stdout",
     "output_type": "stream",
     "text": [
      "  527.694 μs (6381 allocations: 584.00 KiB)\n"
     ]
    },
    {
     "output_type": "execute_result",
     "data": {
      "text/plain": "true"
     },
     "metadata": {},
     "execution_count": 4
    }
   ],
   "cell_type": "code",
   "source": [
    "import DynamicPolynomials\n",
    "@btime let\n",
    "    DynamicPolynomials.@polyvar x y\n",
    "    S = @set x^3 * y + x == 2x^2 * y^2 && 3x^4 == y\n",
    "    SemialgebraicSets.computegröbnerbasis!(S.I)\n",
    "end"
   ],
   "metadata": {},
   "execution_count": 4
  },
  {
   "cell_type": "markdown",
   "source": [
    "We see that TypedPolynomials is faster.\n",
    "The time is still negligible for this small system but for larger systems, choosing TypedPolynomials may be helpful.\n",
    "We can use this system in a Sum-of-Squares constraint as follows:"
   ],
   "metadata": {}
  },
  {
   "outputs": [
    {
     "name": "stdout",
     "output_type": "stream",
     "text": [
      "Success: SDP solved\n",
      "Primal objective value: 0.0000000e+00 \n",
      "Dual objective value: 0.0000000e+00 \n",
      "Relative primal infeasibility: 1.65e-16 \n",
      "Relative dual infeasibility: 5.00e-11 \n",
      "Real Relative Gap: 0.00e+00 \n",
      "XZ Relative Gap: 3.04e-10 \n",
      "DIMACS error measures: 2.05e-16 0.00e+00 5.00e-11 0.00e+00 0.00e+00 3.04e-10\n",
      "CSDP 6.2.0\n",
      "This is a pure primal feasibility problem.\n",
      "Iter:  0 Ap: 0.00e+00 Pobj:  0.0000000e+00 Ad: 0.00e+00 Dobj:  0.0000000e+00 \n",
      "Iter:  1 Ap: 7.64e-01 Pobj:  0.0000000e+00 Ad: 8.07e-01 Dobj:  2.6104524e+00 \n",
      "Iter:  2 Ap: 7.90e-01 Pobj:  0.0000000e+00 Ad: 7.40e-01 Dobj: -5.9858991e-02 \n",
      "Iter:  3 Ap: 7.78e-01 Pobj:  0.0000000e+00 Ad: 7.55e-01 Dobj:  5.6667085e-01 \n",
      "Iter:  4 Ap: 7.59e-01 Pobj:  0.0000000e+00 Ad: 8.08e-01 Dobj:  4.9238811e-01 \n",
      "Iter:  5 Ap: 7.15e-01 Pobj:  0.0000000e+00 Ad: 6.42e-01 Dobj:  4.3470711e-01 \n",
      "Iter:  6 Ap: 6.45e-01 Pobj:  0.0000000e+00 Ad: 7.00e-01 Dobj:  2.1752403e-01 \n",
      "Iter:  7 Ap: 6.50e-01 Pobj:  0.0000000e+00 Ad: 6.29e-01 Dobj:  1.2996035e-01 \n",
      "Iter:  8 Ap: 7.47e-01 Pobj:  0.0000000e+00 Ad: 7.47e-01 Dobj:  4.7811088e-02 \n",
      "Iter:  9 Ap: 7.00e-01 Pobj:  0.0000000e+00 Ad: 5.80e-01 Dobj:  2.9509928e-02 \n",
      "Iter: 10 Ap: 8.54e-01 Pobj:  0.0000000e+00 Ad: 7.41e-01 Dobj:  8.4927536e-03 \n",
      "Iter: 11 Ap: 7.18e-01 Pobj:  0.0000000e+00 Ad: 6.72e-01 Dobj:  4.4747062e-03 \n",
      "Iter: 12 Ap: 4.53e-01 Pobj:  0.0000000e+00 Ad: 8.04e-01 Dobj:  8.6009457e-04 \n",
      "Iter: 13 Ap: 7.03e-01 Pobj:  0.0000000e+00 Ad: 5.90e-01 Dobj:  4.6300345e-04 \n",
      "Iter: 14 Ap: 7.66e-01 Pobj:  0.0000000e+00 Ad: 7.20e-01 Dobj:  1.7119372e-04 \n",
      "Iter: 15 Ap: 7.38e-01 Pobj:  0.0000000e+00 Ad: 7.95e-01 Dobj:  9.7846323e-05 \n",
      "Iter: 16 Ap: 6.35e-01 Pobj:  0.0000000e+00 Ad: 7.33e-01 Dobj:  3.3414259e-05 \n"
     ]
    },
    {
     "output_type": "execute_result",
     "data": {
      "text/plain": "* Solver : CSDP\n\n* Status\n  Termination status : OPTIMAL\n  Primal status      : FEASIBLE_POINT\n  Dual status        : FEASIBLE_POINT\n  Message from the solver:\n  \"Problem solved to optimality.\"\n\n* Candidate solution\n  Objective value      : 0.00000e+00\n  Dual objective value : 0.00000e+00\n\n* Work counters\n  Solve time (sec)   : 4.37679e-01\n"
     },
     "metadata": {},
     "execution_count": 5
    }
   ],
   "cell_type": "code",
   "source": [
    "TypedPolynomials.@polyvar x y\n",
    "S = @set x^3 * y + x == 2x^2 * y^2 && 3x^4 == y\n",
    "poly = -6x - 4y^3 + 2x*y^2 + 6x^3 - 3y^4 + 13x^2 * y^2\n",
    "model = Model(CSDP.Optimizer)\n",
    "con_ref = @constraint(model, poly in SOSCone(), domain = S)\n",
    "optimize!(model)\n",
    "solution_summary(model)"
   ],
   "metadata": {},
   "execution_count": 5
  },
  {
   "cell_type": "markdown",
   "source": [
    "We obtain the following decomposition:"
   ],
   "metadata": {}
  },
  {
   "outputs": [
    {
     "output_type": "execute_result",
     "data": {
      "text/plain": "(-24.927154511803916*x^2 + 27.80018416438058*x*y - 6.940895093277724*y^2 - 0.00025745451936590787*x + 0.0004423818427874239*y + 7.5578933517455e-5)^2 + (-21.341702974684363*x^2 - 13.612740134195253*x*y + 22.122686306231827*y^2 - 0.0006202089859727374*x - 0.0004698520241215515*y - 1.6865925877058746e-5)^2 + (-0.07015469214202973*x^2 - 0.09428679976415344*x*y - 0.1256954096544*y^2 + 0.008518353928738955*x - 0.006590600623428728*y + 4.6231622082761956e-5)^2 + (-0.0017527827109975538*x^2 - 0.0023572903711731527*x*y - 0.0031420558911174003*y^2 - 0.054529602188292184*x + 0.04182710745419117*y - 2.3524778609741738e-5)^2"
     },
     "metadata": {},
     "execution_count": 6
    }
   ],
   "cell_type": "code",
   "source": [
    "dec = sos_decomposition(con_ref, 1e-6)"
   ],
   "metadata": {},
   "execution_count": 6
  },
  {
   "cell_type": "markdown",
   "source": [
    "We can verify that it is correct as follows:"
   ],
   "metadata": {}
  },
  {
   "outputs": [
    {
     "output_type": "execute_result",
     "data": {
      "text/plain": "-7.953798625398231e-6x² - 2.0765851549731616e-5xy - 1.3525048331122e-5y² - 1.8162248153293916e-7x - 2.391663729004229e-7y + 8.687412736367007e-9",
      "text/latex": "$$ -7.953798625398231e-6x^{2} - 2.0765851549731616e-5xy - 1.3525048331122e-5y^{2} - 1.8162248153293916e-7x - 2.391663729004229e-7y + 8.687412736367007e-9 $$"
     },
     "metadata": {},
     "execution_count": 7
    }
   ],
   "cell_type": "code",
   "source": [
    "rem(dec - poly, S.I)"
   ],
   "metadata": {},
   "execution_count": 7
  },
  {
   "cell_type": "markdown",
   "source": [
    "Note that the difference between `dec` and `poly` is larger\n",
    "than between the full gram matrix because `dec` is obtained by dropping\n",
    "the lowest eigenvalues with the threshold `1e-6`; see `sos_decomposition`."
   ],
   "metadata": {}
  },
  {
   "outputs": [
    {
     "output_type": "execute_result",
     "data": {
      "text/plain": "0.0",
      "text/latex": "$$ 0.0 $$"
     },
     "metadata": {},
     "execution_count": 8
    }
   ],
   "cell_type": "code",
   "source": [
    "rem(gram_matrix(con_ref) - poly, S.I)"
   ],
   "metadata": {},
   "execution_count": 8
  },
  {
   "cell_type": "markdown",
   "source": [
    "---\n",
    "\n",
    "*This notebook was generated using [Literate.jl](https://github.com/fredrikekre/Literate.jl).*"
   ],
   "metadata": {}
  }
 ],
 "nbformat_minor": 3,
 "metadata": {
  "language_info": {
   "file_extension": ".jl",
   "mimetype": "application/julia",
   "name": "julia",
   "version": "1.7.3"
  },
  "kernelspec": {
   "name": "julia-1.7",
   "display_name": "Julia 1.7.3",
   "language": "julia"
  }
 },
 "nbformat": 4
}

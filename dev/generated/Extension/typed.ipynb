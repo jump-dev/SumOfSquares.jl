{
 "cells": [
  {
   "cell_type": "markdown",
   "source": [
    "# Multivariate polynomials implementations"
   ],
   "metadata": {}
  },
  {
   "cell_type": "markdown",
   "source": [
    "**Contributed by**: Benoît Legat"
   ],
   "metadata": {}
  },
  {
   "cell_type": "markdown",
   "source": [
    "The SumOfSquares package is built on top of the [MultivariatePolynomials](https://github.com/JuliaAlgebra/MultivariatePolynomials.jl)\n",
    "abstract interface. [DynamicPolynomials](https://github.com/JuliaAlgebra/DynamicPolynomials.jl/)\n",
    "is an implementation of this abstract interface so it can be used with\n",
    "SumOfSquares. Moreover, any other implementation can be used as well. To\n",
    "illustrate, we solve Examples 3.38 of [BPT12] with\n",
    "[TypedPolynomials](https://github.com/JuliaAlgebra/TypedPolynomials.jl),\n",
    "another implementation of [MultivariatePolynomials](https://github.com/JuliaAlgebra/MultivariatePolynomials.jl).\n",
    "\n",
    "[BPT12] Blekherman, G. & Parrilo, P. A. & Thomas, R. R.\n",
    "*Semidefinite Optimization and Convex Algebraic Geometry*.\n",
    "Society for Industrial and Applied Mathematics, **2012**."
   ],
   "metadata": {}
  },
  {
   "outputs": [
    {
     "name": "stdout",
     "output_type": "stream",
     "text": [
      "Iter: 10 Ap: 9.68e-01 Pobj: -1.0000000e+00 Ad: 9.68e-01 Dobj: -1.0000000e+00 \n",
      "Success: SDP solved\n",
      "Primal objective value: -1.0000000e+00 \n",
      "Dual objective value: -1.0000000e+00 \n",
      "Relative primal infeasibility: 2.08e-15 \n",
      "Relative dual infeasibility: 7.87e-10 \n",
      "Real Relative Gap: -6.56e-10 \n",
      "XZ Relative Gap: 1.03e-09 \n",
      "DIMACS error measures: 3.97e-15 0.00e+00 1.87e-09 0.00e+00 -6.56e-10 1.03e-09\n",
      "CSDP 6.2.0\n",
      "This is a pure primal feasibility problem.\n",
      "Iter:  0 Ap: 0.00e+00 Pobj:  0.0000000e+00 Ad: 0.00e+00 Dobj:  0.0000000e+00 \n",
      "Iter:  1 Ap: 7.39e-01 Pobj:  0.0000000e+00 Ad: 1.00e+00 Dobj:  9.2771541e+01 \n",
      "Iter:  2 Ap: 1.00e+00 Pobj:  0.0000000e+00 Ad: 1.00e+00 Dobj:  5.3401544e+01 \n"
     ]
    },
    {
     "output_type": "execute_result",
     "data": {
      "text/plain": "* Solver : CSDP\n\n* Status\n  Termination status : OPTIMAL\n  Primal status      : FEASIBLE_POINT\n  Dual status        : FEASIBLE_POINT\n  Message from the solver:\n  \"Problem solved to optimality.\"\n\n* Candidate solution\n  Objective value      : 0.00000e+00\n  Dual objective value : 0.00000e+00\n\n* Work counters\n  Solve time (sec)   : 4.28979e-02\n"
     },
     "metadata": {},
     "execution_count": 1
    }
   ],
   "cell_type": "code",
   "source": [
    "import TypedPolynomials\n",
    "TypedPolynomials.@polyvar x y\n",
    "using SumOfSquares\n",
    "import CSDP\n",
    "model = SOSModel(CSDP.Optimizer)\n",
    "con_ref = @constraint(model, 2x^4 + 5y^4 - x^2*y^2 >= -2(x^3*y + x + 1))\n",
    "optimize!(model)\n",
    "solution_summary(model)"
   ],
   "metadata": {},
   "execution_count": 1
  },
  {
   "cell_type": "markdown",
   "source": [
    "We see that the problem is feasible. The Sum-of-Squares decomposition can be\n",
    "obtained as follows:"
   ],
   "metadata": {}
  },
  {
   "outputs": [
    {
     "output_type": "execute_result",
     "data": {
      "text/plain": "(-0.8025918219908258*x^2 - 0.12696384429349364*x*y + 2.193153675722526*y^2 - 0.4175969723687504*x - 0.09754557420421368*y - 0.6797572045423704)^2 + (-0.9300194624998961*x^2 - 1.2293223495653895*x*y - 0.107702537307966*y^2 + 0.2742242305063454*x - 0.6454996724366074*y + 0.9043636674517767)^2 + (0.44438734692024634*x^2 - 0.1518231994578531*x*y - 0.2040923091350899*y^2 - 0.6219741211964985*x - 1.3853658247098444*y - 0.5739116466586851)^2 + (0.02094358532346286*x^2 - 0.7618740018659129*x*y - 0.2555836507088663*y^2 - 0.34369066581037083*x + 0.5184207196796033*y - 0.570289485543629)^2 + (-0.5053882307722652*x^2 + 0.2972258345292787*x*y - 0.24790977216150892*y^2 - 0.4999834602481285*x + 0.0491342550895953*y + 0.04145310741757451)^2 + (-0.19384054006505613*x^2 + 0.05960947731636697*x*y - 0.10020573751666935*y^2 + 0.2539007344344329*x - 0.06335659197202279*y - 0.2524548756891834)^2"
     },
     "metadata": {},
     "execution_count": 2
    }
   ],
   "cell_type": "code",
   "source": [
    "sos_decomposition(con_ref)"
   ],
   "metadata": {},
   "execution_count": 2
  },
  {
   "cell_type": "markdown",
   "source": [
    "Why is there several implementations ?\n",
    "Depending in the use-case, one implementation may be more appropriate than\n",
    "another one. [TypedPolynomials](https://github.com/JuliaAlgebra/TypedPolynomials.jl)\n",
    "is faster than [DynamicPolynomials](https://github.com/JuliaAlgebra/DynamicPolynomials.jl/)\n",
    "but it requires new compilation whenever the list of variables changes.\n",
    "This means that [TypedPolynomials](https://github.com/JuliaAlgebra/TypedPolynomials.jl)\n",
    "is not appropriate when the number of variables is dynamic or too large.\n",
    "However, for a small number of variables, it can be faster.\n",
    "When solving Sum-of-Squares programs, the time is mostly taken by the Semidefinite programming solver.\n",
    "The time taken by SumOfSquares/JuMP/MathOptInterface are usually negligible\n",
    "or it time is taken by manipulation of JuMP or MathOptInterface functions\n",
    "therefore using TypedPolynomials over DynamicPolynomials may not make much difference in most cases."
   ],
   "metadata": {}
  },
  {
   "cell_type": "markdown",
   "source": [
    "One case for which using TypedPolynomials might be adequate is when\n",
    "using domain defined by equalities (possibly also with inequalities).\n",
    "Indeed, in that case, SumOfSquares computes the corresponding Gröbner basis which\n",
    "may take a non-negligible amount of time for large systems of equalities."
   ],
   "metadata": {}
  },
  {
   "cell_type": "markdown",
   "source": [
    "To illustrate this, consider the computation of Gröbner basis for the\n",
    "following system from [CLO05, p. 17].\n",
    "The time taken by TypedPolynomials is below:\n",
    "\n",
    "[CLO05] Cox, A. David & Little, John & O'Shea, Donal\n",
    "*Using Algebraic Geometry*.\n",
    "Graduate Texts in Mathematics, **2005**.\n",
    "https://doi.org/10.1007/b138611"
   ],
   "metadata": {}
  },
  {
   "outputs": [
    {
     "name": "stdout",
     "output_type": "stream",
     "text": [
      "  244.503 μs (3305 allocations: 449.61 KiB)\n"
     ]
    },
    {
     "output_type": "execute_result",
     "data": {
      "text/plain": "true"
     },
     "metadata": {},
     "execution_count": 3
    }
   ],
   "cell_type": "code",
   "source": [
    "using BenchmarkTools\n",
    "@btime let\n",
    "    TypedPolynomials.@polyvar x y\n",
    "    S = @set x^3 * y + x == 2x^2 * y^2 && 3x^4 == y\n",
    "    SemialgebraicSets.computegröbnerbasis!(S.I)\n",
    "end"
   ],
   "metadata": {},
   "execution_count": 3
  },
  {
   "cell_type": "markdown",
   "source": [
    "The time taken by DynamicPolynomials is as follows:"
   ],
   "metadata": {}
  },
  {
   "outputs": [
    {
     "name": "stdout",
     "output_type": "stream",
     "text": [
      "  763.108 μs (6203 allocations: 574.66 KiB)\n"
     ]
    },
    {
     "output_type": "execute_result",
     "data": {
      "text/plain": "true"
     },
     "metadata": {},
     "execution_count": 4
    }
   ],
   "cell_type": "code",
   "source": [
    "import DynamicPolynomials\n",
    "@btime let\n",
    "    DynamicPolynomials.@polyvar x y\n",
    "    S = @set x^3 * y + x == 2x^2 * y^2 && 3x^4 == y\n",
    "    SemialgebraicSets.computegröbnerbasis!(S.I)\n",
    "end"
   ],
   "metadata": {},
   "execution_count": 4
  },
  {
   "cell_type": "markdown",
   "source": [
    "We see that TypedPolynomials is faster.\n",
    "The time is still negligible for this small system but for larger systems, choosing TypedPolynomials may be helpful.\n",
    "We can use this system in a Sum-of-Squares constraint as follows:"
   ],
   "metadata": {}
  },
  {
   "outputs": [
    {
     "name": "stdout",
     "output_type": "stream",
     "text": [
      "Success: SDP solved\n",
      "Primal objective value: 0.0000000e+00 \n",
      "Dual objective value: 0.0000000e+00 \n",
      "Relative primal infeasibility: 1.97e-16 \n",
      "Relative dual infeasibility: 5.00e-11 \n",
      "Real Relative Gap: 0.00e+00 \n",
      "XZ Relative Gap: 3.04e-10 \n",
      "DIMACS error measures: 2.46e-16 0.00e+00 5.00e-11 0.00e+00 0.00e+00 3.04e-10\n",
      "CSDP 6.2.0\n",
      "This is a pure primal feasibility problem.\n",
      "Iter:  0 Ap: 0.00e+00 Pobj:  0.0000000e+00 Ad: 0.00e+00 Dobj:  0.0000000e+00 \n",
      "Iter:  1 Ap: 7.64e-01 Pobj:  0.0000000e+00 Ad: 8.07e-01 Dobj:  2.6104524e+00 \n",
      "Iter:  2 Ap: 7.90e-01 Pobj:  0.0000000e+00 Ad: 7.40e-01 Dobj: -5.9858991e-02 \n",
      "Iter:  3 Ap: 7.78e-01 Pobj:  0.0000000e+00 Ad: 7.55e-01 Dobj:  5.6667126e-01 \n",
      "Iter:  4 Ap: 7.59e-01 Pobj:  0.0000000e+00 Ad: 8.08e-01 Dobj:  4.9238805e-01 \n",
      "Iter:  5 Ap: 7.15e-01 Pobj:  0.0000000e+00 Ad: 6.42e-01 Dobj:  4.3470535e-01 \n",
      "Iter:  6 Ap: 6.45e-01 Pobj:  0.0000000e+00 Ad: 7.00e-01 Dobj:  2.1752352e-01 \n",
      "Iter:  7 Ap: 6.50e-01 Pobj:  0.0000000e+00 Ad: 6.29e-01 Dobj:  1.2995658e-01 \n",
      "Iter:  8 Ap: 7.47e-01 Pobj:  0.0000000e+00 Ad: 7.48e-01 Dobj:  4.7807314e-02 \n",
      "Iter:  9 Ap: 7.00e-01 Pobj:  0.0000000e+00 Ad: 5.80e-01 Dobj:  2.9537634e-02 \n",
      "Iter: 10 Ap: 8.58e-01 Pobj:  0.0000000e+00 Ad: 7.41e-01 Dobj:  8.4987993e-03 \n",
      "Iter: 11 Ap: 7.14e-01 Pobj:  0.0000000e+00 Ad: 6.56e-01 Dobj:  4.6324428e-03 \n",
      "Iter: 12 Ap: 4.29e-01 Pobj:  0.0000000e+00 Ad: 7.45e-01 Dobj:  1.1569739e-03 \n",
      "Iter: 13 Ap: 7.22e-01 Pobj:  0.0000000e+00 Ad: 7.77e-01 Dobj:  4.8492399e-04 \n",
      "Iter: 14 Ap: 8.00e-01 Pobj:  0.0000000e+00 Ad: 6.74e-01 Dobj:  2.2883753e-04 \n",
      "Iter: 15 Ap: 8.24e-01 Pobj:  0.0000000e+00 Ad: 6.53e-01 Dobj:  1.0423676e-04 \n"
     ]
    },
    {
     "output_type": "execute_result",
     "data": {
      "text/plain": "* Solver : CSDP\n\n* Status\n  Termination status : OPTIMAL\n  Primal status      : FEASIBLE_POINT\n  Dual status        : FEASIBLE_POINT\n  Message from the solver:\n  \"Problem solved to optimality.\"\n\n* Candidate solution\n  Objective value      : 0.00000e+00\n  Dual objective value : 0.00000e+00\n\n* Work counters\n  Solve time (sec)   : 6.39430e-01\n"
     },
     "metadata": {},
     "execution_count": 5
    }
   ],
   "cell_type": "code",
   "source": [
    "TypedPolynomials.@polyvar x y\n",
    "S = @set x^3 * y + x == 2x^2 * y^2 && 3x^4 == y\n",
    "poly = -6x - 4y^3 + 2x*y^2 + 6x^3 - 3y^4 + 13x^2 * y^2\n",
    "model = Model(CSDP.Optimizer)\n",
    "con_ref = @constraint(model, poly in SOSCone(), domain = S)\n",
    "optimize!(model)\n",
    "solution_summary(model)"
   ],
   "metadata": {},
   "execution_count": 5
  },
  {
   "cell_type": "markdown",
   "source": [
    "We obtain the following decomposition:"
   ],
   "metadata": {}
  },
  {
   "outputs": [
    {
     "output_type": "execute_result",
     "data": {
      "text/plain": "(-19.455175815853472*x^2 + 21.754662829241905*x*y - 5.464314355434417*y^2 - 0.00036597435076766847*x + 0.0002666415523617743*y + 7.581243238666406e-5)^2 + (-16.72035526740944*x^2 - 10.610525738832798*x*y + 17.2883614371507*y^2 - 0.00046612893315998007*x - 0.00048049302899887803*y - 1.572847989145024e-5)^2 + (-0.07188392155263187*x^2 - 0.09664733160370975*x*y - 0.12883836375349522*y^2 - 0.004371412269782948*x + 0.0032120020714792906*y + 4.456100422298629e-5)^2 + (0.0007696846260251474*x^2 + 0.0010332353482765122*x*y + 0.001378235821338183*y^2 - 0.04902409715253756*x + 0.036877686904439134*y + 2.8952637949808214e-5)^2"
     },
     "metadata": {},
     "execution_count": 6
    }
   ],
   "cell_type": "code",
   "source": [
    "dec = sos_decomposition(con_ref, 1e-6)"
   ],
   "metadata": {},
   "execution_count": 6
  },
  {
   "cell_type": "markdown",
   "source": [
    "We can verify that it is correct as follows:"
   ],
   "metadata": {}
  },
  {
   "outputs": [
    {
     "output_type": "execute_result",
     "data": {
      "text/plain": "-7.456169418917566e-6x² - 1.9850689602379616e-5xy - 1.3185022282119919e-5y² + 1.692071406579094e-7x + 2.1583931733999258e-7y + 8.81884832569194e-9",
      "text/latex": "$$ -7.456169418917566e-6x^{2} - 1.9850689602379616e-5xy - 1.3185022282119919e-5y^{2} + 1.692071406579094e-7x + 2.1583931733999258e-7y + 8.81884832569194e-9 $$"
     },
     "metadata": {},
     "execution_count": 7
    }
   ],
   "cell_type": "code",
   "source": [
    "rem(dec - poly, S.I)"
   ],
   "metadata": {},
   "execution_count": 7
  },
  {
   "cell_type": "markdown",
   "source": [
    "Note that the difference between `dec` and `poly` is larger\n",
    "than between the full gram matrix because `dec` is obtained by dropping\n",
    "the lowest eigenvalues with the threshold `1e-6`; see `sos_decomposition`."
   ],
   "metadata": {}
  },
  {
   "outputs": [
    {
     "output_type": "execute_result",
     "data": {
      "text/plain": "0.0",
      "text/latex": "$$ 0.0 $$"
     },
     "metadata": {},
     "execution_count": 8
    }
   ],
   "cell_type": "code",
   "source": [
    "rem(gram_matrix(con_ref) - poly, S.I)"
   ],
   "metadata": {},
   "execution_count": 8
  },
  {
   "cell_type": "markdown",
   "source": [
    "---\n",
    "\n",
    "*This notebook was generated using [Literate.jl](https://github.com/fredrikekre/Literate.jl).*"
   ],
   "metadata": {}
  }
 ],
 "nbformat_minor": 3,
 "metadata": {
  "language_info": {
   "file_extension": ".jl",
   "mimetype": "application/julia",
   "name": "julia",
   "version": "1.8.1"
  },
  "kernelspec": {
   "name": "julia-1.8",
   "display_name": "Julia 1.8.1",
   "language": "julia"
  }
 },
 "nbformat": 4
}
